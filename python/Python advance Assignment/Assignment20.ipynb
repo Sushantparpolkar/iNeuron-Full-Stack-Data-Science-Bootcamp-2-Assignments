{
 "cells": [
  {
   "cell_type": "markdown",
   "id": "7197a163",
   "metadata": {},
   "source": [
    "# 1. Compare and contrast the float and Decimal classes&#39; benefits and drawbacks."
   ]
  },
  {
   "cell_type": "markdown",
   "id": "7c47f561",
   "metadata": {},
   "source": [
    "__float class__:\n",
    "float uses the hardware-supported floating-point arithmetic, making it faster for most arithmetic operations.\n",
    "float typically uses less memory compared to Decimal.\n",
    "Many math functions in the standard library (math module) work with float objects.\n",
    "However there are certain drawbacks also.\n",
    "float uses binary floating-point representation, which cannot accurately represent all decimal numbers. This can lead to rounding errors, especially in financial and decimal arithmetic.Accumulation of rounding errors during arithmetic operations can result in unexpected results.Some decimal numbers, such as 0.1, cannot be represented exactly as binary floating-point numbers, leading to small inaccuracies.Due to limited precision, direct comparisons of float values might not work as expected.\n",
    "\n",
    "__Decimal class__:\n",
    "Decimal operations are generally slower and use more memory compared to float, especially for large-scale computations.\n",
    "Some libraries and functions might not work directly with Decimal objects, as they expect standard float inputs.\n",
    "se float when performance and memory efficiency are important, and a certain level of precision and rounding errors can be tolerated. It is suitable for most general-purpose numeric computations."
   ]
  },
  {
   "cell_type": "markdown",
   "id": "fa5c40fb",
   "metadata": {},
   "source": [
    "# 2. Decimal(&#39;1.200&#39;) and Decimal(&#39;1.2&#39;) are two objects to consider. In what sense are these the same object? Are these just two ways of representing the exact same value, or do they correspond to different internal states?"
   ]
  },
  {
   "cell_type": "code",
   "execution_count": 1,
   "id": "1c6fd928",
   "metadata": {},
   "outputs": [],
   "source": [
    "from decimal import Decimal"
   ]
  },
  {
   "cell_type": "code",
   "execution_count": 8,
   "id": "1833a24b",
   "metadata": {},
   "outputs": [
    {
     "name": "stdout",
     "output_type": "stream",
     "text": [
      "True\n"
     ]
    }
   ],
   "source": [
    "a = Decimal('1.200')\n",
    "\n",
    "b= Decimal('1.2')\n",
    "print(a==b)  # same mathematical value "
   ]
  },
  {
   "cell_type": "code",
   "execution_count": 9,
   "id": "4ebe2dd0",
   "metadata": {},
   "outputs": [
    {
     "name": "stdout",
     "output_type": "stream",
     "text": [
      "False\n"
     ]
    }
   ],
   "source": [
    "print(a is b) # but different internal meomery location"
   ]
  },
  {
   "cell_type": "markdown",
   "id": "dd5e7b8e",
   "metadata": {},
   "source": [
    "In Python's decimal module, Decimal('1.200') and Decimal('1.2') are not the same object; however, they do represent the same mathematical value. they might have different internal representations depending on the context.\n",
    "i.e "
   ]
  },
  {
   "cell_type": "markdown",
   "id": "7c82912f",
   "metadata": {},
   "source": [
    "# 3. What happens if the equality of Decimal(&#39;1.200&#39;) and Decimal(&#39;1.2&#39;) is checked?"
   ]
  },
  {
   "cell_type": "code",
   "execution_count": 10,
   "id": "11b8727c",
   "metadata": {},
   "outputs": [
    {
     "name": "stdout",
     "output_type": "stream",
     "text": [
      "True\n"
     ]
    }
   ],
   "source": [
    "a = Decimal('1.200')\n",
    "\n",
    "b= Decimal('1.2')\n",
    "print(a==b)  # same mathematical value "
   ]
  },
  {
   "cell_type": "code",
   "execution_count": 11,
   "id": "e9d59a70",
   "metadata": {},
   "outputs": [
    {
     "name": "stdout",
     "output_type": "stream",
     "text": [
      "False\n"
     ]
    }
   ],
   "source": [
    "print(a is b) # but different internal meomery location"
   ]
  },
  {
   "cell_type": "markdown",
   "id": "9bac9468",
   "metadata": {},
   "source": [
    "Both values are checked to be equal , they only differ in precision."
   ]
  },
  {
   "cell_type": "markdown",
   "id": "55b0f537",
   "metadata": {},
   "source": [
    "# 4. Why is it preferable to start a Decimal object with a string rather than a floating-point value?"
   ]
  },
  {
   "cell_type": "markdown",
   "id": "b362cf32",
   "metadata": {},
   "source": [
    "Starting a Decimal object with a string, rather than a floating-point value, is preferable because it helps to avoid potential rounding errors and precision loss that can occur when using floating-point value|"
   ]
  },
  {
   "cell_type": "code",
   "execution_count": 15,
   "id": "9ac165af",
   "metadata": {},
   "outputs": [
    {
     "name": "stdout",
     "output_type": "stream",
     "text": [
      "decimal_float : 0.1000000000000000055511151231257827021181583404541015625\n",
      "decimal_str : 0.1\n"
     ]
    }
   ],
   "source": [
    "from decimal import Decimal\n",
    "\n",
    "decimal_float = Decimal(0.1)\n",
    "print(\"decimal_float :\",decimal_float)\n",
    "\n",
    "decimal_str = Decimal('0.1')\n",
    "print(\"decimal_str :\",decimal_str)"
   ]
  },
  {
   "cell_type": "markdown",
   "id": "a43d75d0",
   "metadata": {},
   "source": [
    "# 5. In an arithmetic phrase, how simple is it to combine Decimal objects with integers?"
   ]
  },
  {
   "cell_type": "markdown",
   "id": "2955231c",
   "metadata": {},
   "source": [
    "Use of Decimal module while combining decimal objects with integers it is straitforward."
   ]
  },
  {
   "cell_type": "code",
   "execution_count": 17,
   "id": "e3502a44",
   "metadata": {},
   "outputs": [
    {
     "name": "stdout",
     "output_type": "stream",
     "text": [
      "30.8\n"
     ]
    }
   ],
   "source": [
    "from decimal import Decimal\n",
    "\n",
    "decimal_obj = Decimal('10.8')\n",
    "integer = 20\n",
    "print(decimal_obj+integer)"
   ]
  },
  {
   "cell_type": "markdown",
   "id": "772e2812",
   "metadata": {},
   "source": [
    "# 6. Can Decimal objects and floating-point values be combined easily?"
   ]
  },
  {
   "cell_type": "markdown",
   "id": "28c48c81",
   "metadata": {},
   "source": [
    "Arithmetic operfations like Adding,subtracting or multiplying a Decimal object by a floating-point value is generates an error.\n",
    "To do these operations, the floating point has to be converted to a Decimal."
   ]
  },
  {
   "cell_type": "code",
   "execution_count": 23,
   "id": "116d33cd",
   "metadata": {},
   "outputs": [
    {
     "ename": "TypeError",
     "evalue": "unsupported operand type(s) for +: 'float' and 'decimal.Decimal'",
     "output_type": "error",
     "traceback": [
      "\u001b[1;31m---------------------------------------------------------------------------\u001b[0m",
      "\u001b[1;31mTypeError\u001b[0m                                 Traceback (most recent call last)",
      "Cell \u001b[1;32mIn[23], line 4\u001b[0m\n\u001b[0;32m      2\u001b[0m float_value\u001b[38;5;241m=\u001b[39m\u001b[38;5;241m0.8\u001b[39m\n\u001b[0;32m      3\u001b[0m decimal_object \u001b[38;5;241m=\u001b[39mDecimal(\u001b[38;5;124m'\u001b[39m\u001b[38;5;124m20.8\u001b[39m\u001b[38;5;124m'\u001b[39m)\n\u001b[1;32m----> 4\u001b[0m \u001b[38;5;28mprint\u001b[39m(\u001b[43mfloat_value\u001b[49m\u001b[43m \u001b[49m\u001b[38;5;241;43m+\u001b[39;49m\u001b[43m \u001b[49m\u001b[43mdecimal_object\u001b[49m)\n",
      "\u001b[1;31mTypeError\u001b[0m: unsupported operand type(s) for +: 'float' and 'decimal.Decimal'"
     ]
    }
   ],
   "source": [
    "from decimal import Decimal\n",
    "float_value=0.8\n",
    "decimal_object =Decimal('20.8')\n",
    "print(float_value + decimal_object)"
   ]
  },
  {
   "cell_type": "markdown",
   "id": "7e525142",
   "metadata": {},
   "source": [
    "# 7. Using the Fraction class but not the Decimal class, give an example of a quantity that can be expressed with absolute precision."
   ]
  },
  {
   "cell_type": "markdown",
   "id": "4d04da35",
   "metadata": {},
   "source": [
    "The Fraction class in Python's fractions module is used to represent and work with rational numbers (fractions) with exact precision. Fractions can accurately represent quantities that can be expressed as a ratio of two integers. Unlike floating-point numbers, fractions avoid rounding errors and provide absolute precision for rational values."
   ]
  },
  {
   "cell_type": "code",
   "execution_count": 25,
   "id": "929dd265",
   "metadata": {},
   "outputs": [
    {
     "name": "stdout",
     "output_type": "stream",
     "text": [
      "3/4\n",
      "1/2\n",
      "5/4\n"
     ]
    }
   ],
   "source": [
    "from fractions import Fraction\n",
    "\n",
    "fraction = Fraction(3,4)\n",
    "print(fraction)\n",
    "\n",
    "half = Fraction(1,2)\n",
    "print(half)\n",
    "\n",
    "print(fraction+half)"
   ]
  },
  {
   "cell_type": "markdown",
   "id": "cb6135fa",
   "metadata": {},
   "source": [
    "# 8. Describe a quantity that can be accurately expressed by the Decimal or Fraction classes but not by a floating-point value."
   ]
  },
  {
   "cell_type": "markdown",
   "id": "b55654c3",
   "metadata": {},
   "source": [
    "A quantity that can be accurately expressed by the Decimal or Fraction classes but not by a floating-point value is a recurring decimal or a fraction with a non-terminating binary expansion."
   ]
  },
  {
   "cell_type": "code",
   "execution_count": 32,
   "id": "95c8e05d",
   "metadata": {},
   "outputs": [
    {
     "name": "stdout",
     "output_type": "stream",
     "text": [
      "Decimal: 3.141592653589793115997963468544185161590576171875\n",
      "Fraction: 3126535/995207\n",
      "Floating-Point: 3.141592653589793\n"
     ]
    }
   ],
   "source": [
    "import math\n",
    "from decimal import Decimal\n",
    "from fractions import Fraction\n",
    "\n",
    "# Using Decimal\n",
    "decimal_pi = Decimal(math.pi)\n",
    "print(\"Decimal:\", decimal_pi)\n",
    "\n",
    "# Using Fraction (using a suitable approximation)\n",
    "fraction_pi = Fraction(math.pi).limit_denominator()\n",
    "print(\"Fraction:\", fraction_pi)\n",
    "\n",
    "# Using floating-point\n",
    "floating_point_pi = math.pi\n",
    "print(\"Floating-Point:\", floating_point_pi)\n"
   ]
  },
  {
   "cell_type": "markdown",
   "id": "8bd000b0",
   "metadata": {},
   "source": [
    "# Q9.Consider the following two fraction objects: Fraction(1, 2) and Fraction(1, 2). (5, 10). Is the internal state of these two objects the same? Why do you think that is?"
   ]
  },
  {
   "cell_type": "code",
   "execution_count": 35,
   "id": "ed148718",
   "metadata": {},
   "outputs": [
    {
     "name": "stdout",
     "output_type": "stream",
     "text": [
      "1/2\n",
      "1/2\n",
      "True\n",
      "False\n"
     ]
    }
   ],
   "source": [
    "from fractions import Fraction\n",
    "\n",
    "obj1 = Fraction(1,2)\n",
    "print(obj1)\n",
    "\n",
    "obj2 =Fraction(5,10)\n",
    "print(obj2)\n",
    "\n",
    "print(obj1==obj2) # mathematical value of both object is same\n",
    "\n",
    "print(obj1 is obj2) #The internal state of these two object is different, They represent different meomery location."
   ]
  },
  {
   "cell_type": "markdown",
   "id": "45859156",
   "metadata": {},
   "source": [
    "# Q10. How do the Fraction class and the integer type (int) relate to each other? Containment or inheritance?"
   ]
  },
  {
   "cell_type": "markdown",
   "id": "2b653352",
   "metadata": {},
   "source": [
    "The relationship between the Fraction class and the int type can be described as a composition, where the Fraction class is composed of two int values: the numerator and the denominator. This composition allows the Fraction class to accurately represent and manipulate rational numbers.Fraction class and integer type(int) are related in form of a container.It contains two ints, one the numerator and the other the denominator."
   ]
  }
 ],
 "metadata": {
  "kernelspec": {
   "display_name": "Python 3 (ipykernel)",
   "language": "python",
   "name": "python3"
  },
  "language_info": {
   "codemirror_mode": {
    "name": "ipython",
    "version": 3
   },
   "file_extension": ".py",
   "mimetype": "text/x-python",
   "name": "python",
   "nbconvert_exporter": "python",
   "pygments_lexer": "ipython3",
   "version": "3.10.9"
  }
 },
 "nbformat": 4,
 "nbformat_minor": 5
}
