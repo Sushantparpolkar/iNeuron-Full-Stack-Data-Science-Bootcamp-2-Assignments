{
 "cells": [
  {
   "cell_type": "markdown",
   "id": "2f4013a6",
   "metadata": {},
   "source": [
    "# 1. What are the new features added in Python 3.8 version?"
   ]
  },
  {
   "cell_type": "markdown",
   "id": "091db25b",
   "metadata": {},
   "source": [
    "Assignment Expressions (Walrus Operator):\n",
    "Python 3.8 introduced the \"walrus operator\" (:=), which allows you to assign a value to a variable as part of an expression. This can be used to simplify code and avoid redundant calculations.\n",
    "\n",
    "Positional-only Parameters:\n",
    "Python 3.8 introduced a syntax to specify positional-only parameters in function definitions. This allows developers to indicate that certain function parameters can only be passed positionally and not as keyword arguments.\n",
    "\n",
    "f-strings Improvements:\n",
    "Python 3.8 added support for the \"=\" specifier in f-strings, which allows you to display the value of an expression and its evaluation in an f-string.\n",
    "\n",
    "future Annotations:\n",
    "Python 3.8 introduced the ability to use __future__ annotations to enable or disable certain language features at the module level. This provides better control over how code is interpreted by future Python versions.\n",
    "\n",
    "Syntax Warnings:\n",
    "Python 3.8 introduced new syntax warnings to help identify potential code issues or deprecated features.\n",
    "\n",
    "New Syntax Features:\n",
    "Python 3.8 added various new syntax features, including the \"walrus operator,\" the \"=\" specifier in f-strings, and syntax enhancements for dictionary unpacking (**) in literals.\n",
    "\n",
    "Typing Enhancements:\n",
    "Python 3.8 improved the typing module, adding"
   ]
  },
  {
   "cell_type": "code",
   "execution_count": 6,
   "id": "edd4c40a",
   "metadata": {},
   "outputs": [
    {
     "name": "stdout",
     "output_type": "stream",
     "text": [
      "Enter a number : 5\n",
      "10\n"
     ]
    }
   ],
   "source": [
    "if (value:= input(\"Enter a number : \")).isnumeric():  # walrus operator\n",
    "    num = int(value)\n",
    "    print(num*2)\n",
    "else:\n",
    "    print(\"Not valid number\")"
   ]
  },
  {
   "cell_type": "markdown",
   "id": "e6ad509b",
   "metadata": {},
   "source": [
    "# 2. What is monkey patching in Python?"
   ]
  },
  {
   "cell_type": "markdown",
   "id": "e229a4ba",
   "metadata": {},
   "source": [
    "Monkey patching in Python refers to the practice of dynamically modifying or extending existing modules, classes, or functions at runtime. It involves altering the behavior of existing code without directly modifying the source code of the original module or class. Monkey patching is a powerful technique, but it should be used judiciously and with caution, as it can lead to unexpected behavior, compatibility issues, and maintenance challenges."
   ]
  },
  {
   "cell_type": "code",
   "execution_count": 7,
   "id": "1b4296c5",
   "metadata": {},
   "outputs": [
    {
     "name": "stdout",
     "output_type": "stream",
     "text": [
      "Adding 2 and 3: Result = 5\n"
     ]
    }
   ],
   "source": [
    "# Third-party library code (you don't have control over this)\n",
    "class MathFunctions:\n",
    "    def add(self, a, b):\n",
    "        return a + b\n",
    "\n",
    "# Monkey patching: Modify the behavior of the add method\n",
    "def modified_add(self, a, b):\n",
    "    result = self.original_add(a, b)\n",
    "    print(f\"Adding {a} and {b}: Result = {result}\")\n",
    "    return result\n",
    "\n",
    "# Save the original add method for reference\n",
    "MathFunctions.original_add = MathFunctions.add\n",
    "\n",
    "# Replace the original add method with the modified version\n",
    "MathFunctions.add = modified_add\n",
    "\n",
    "# Now let's use the monkey-patched class\n",
    "math_instance = MathFunctions()\n",
    "result = math_instance.add(2, 3)\n"
   ]
  },
  {
   "cell_type": "markdown",
   "id": "1d53c737",
   "metadata": {},
   "source": [
    "# 3. What is the difference between a shallow copy and deep copy?"
   ]
  },
  {
   "cell_type": "markdown",
   "id": "310c36a8",
   "metadata": {},
   "source": [
    "Shallow Copy:\n",
    "\n",
    "A shallow copy creates a new object, but it doesn't create copies of the nested objects within the original object. Instead, it copies references to these nested objects. As a result, changes made to nested objects in the copied object are reflected in the original object and vice versa.\n",
    "Shallow copies are created using the copy() method or the copy module's copy() function.\n",
    "Shallow copies are more memory-efficient and faster to create, as they don't duplicate the entire object hierarchy.\n",
    "\n",
    "A deep copy creates a new object and recursively duplicates all the nested objects within the original object. Changes made to nested objects in the copied object do not affect the original object and vice versa.\n",
    "Deep copies are created using the copy module's deepcopy() function.\n",
    "Deep copies are more memory-intensive and may take longer to create, especially for complex objects with many levels of nesting."
   ]
  },
  {
   "cell_type": "code",
   "execution_count": 16,
   "id": "a3e5dce2",
   "metadata": {},
   "outputs": [
    {
     "name": "stdout",
     "output_type": "stream",
     "text": [
      "[[1, 2, 3], [50, 5, 6]]\n",
      "[[1, 2, 3], [50, 5, 6]]\n"
     ]
    }
   ],
   "source": [
    "import copy\n",
    "\n",
    "original_list =[[1, 2, 3], [4, 5, 6]]\n",
    "shallow_copied_list= copy.copy(original_list)\n",
    "\n",
    "shallow_copied_list[1][0]=50\n",
    "print(original_list)\n",
    "print(shallow_copied_list)"
   ]
  },
  {
   "cell_type": "code",
   "execution_count": 13,
   "id": "e09f6374",
   "metadata": {},
   "outputs": [
    {
     "name": "stdout",
     "output_type": "stream",
     "text": [
      "[[10, 20, 30], [40, 50, 60]]\n",
      "[[10, 20, 30], [40, 50, 90]]\n"
     ]
    }
   ],
   "source": [
    "import copy\n",
    "original_list =[[10,20,30],[40,50,60]]\n",
    "deep_copied_list = copy.deepcopy(original_list)\n",
    "\n",
    "deep_copied_list[1][2]=90\n",
    "print(original_list)\n",
    "print(deep_copied_list)"
   ]
  },
  {
   "cell_type": "markdown",
   "id": "804537a2",
   "metadata": {},
   "source": [
    "# 4. What is the maximum possible length of an identifier?"
   ]
  },
  {
   "cell_type": "raw",
   "id": "67dd4b0c",
   "metadata": {},
   "source": [
    "# n Python, the highest possible length of an identifier is 79 characters. Python is a high level programming language. It’s also a complex form and a collector of waste.\n",
    "\n",
    "Python, particularly when combined with identifiers, is case-sensitive.\n",
    "When writing or using identifiers in Python, it has a maximum of 79 characters.\n",
    "Unlikely, Python gives the identifiers unlimited length.\n",
    "However, the layout of PEP-8 prevents the user from breaking the rules and includes a 79-character limit."
   ]
  },
  {
   "cell_type": "markdown",
   "id": "ee9805f8",
   "metadata": {},
   "source": [
    "# 5. What is generator comprehension?"
   ]
  },
  {
   "cell_type": "markdown",
   "id": "5919ce0a",
   "metadata": {},
   "source": [
    "Generator comprehension, also known as a generator expression, is a concise way to create a generator in programming languages that support this feature. It is similar to list comprehension but instead of creating a list, it creates a generator, which is a type of iterable that generates values on the fly, one at a time, without storing them in memory."
   ]
  },
  {
   "cell_type": "code",
   "execution_count": 18,
   "id": "c7fdb669",
   "metadata": {},
   "outputs": [
    {
     "name": "stdout",
     "output_type": "stream",
     "text": [
      "[0, 1, 4, 9, 16, 25, 36, 49, 64, 81]\n"
     ]
    }
   ],
   "source": [
    "lst = [x**2 for x in range(10)] # List comprehension\n",
    "print(lst)"
   ]
  },
  {
   "cell_type": "code",
   "execution_count": 23,
   "id": "f8e284ff",
   "metadata": {},
   "outputs": [
    {
     "name": "stdout",
     "output_type": "stream",
     "text": [
      "<generator object <genexpr> at 0x00000255C1AD07B0>\n",
      "0   1   4   9   16   25   36   49   64   81   "
     ]
    }
   ],
   "source": [
    "lst = (x**2 for x in range(10)) # generator comprehension\n",
    "print(lst)\n",
    "for ele in lst:\n",
    "    print(ele, end='   ')"
   ]
  }
 ],
 "metadata": {
  "kernelspec": {
   "display_name": "Python 3 (ipykernel)",
   "language": "python",
   "name": "python3"
  },
  "language_info": {
   "codemirror_mode": {
    "name": "ipython",
    "version": 3
   },
   "file_extension": ".py",
   "mimetype": "text/x-python",
   "name": "python",
   "nbconvert_exporter": "python",
   "pygments_lexer": "ipython3",
   "version": "3.10.9"
  }
 },
 "nbformat": 4,
 "nbformat_minor": 5
}
