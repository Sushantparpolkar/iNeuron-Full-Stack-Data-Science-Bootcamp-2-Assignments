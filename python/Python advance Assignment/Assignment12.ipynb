{
 "cells": [
  {
   "cell_type": "markdown",
   "id": "d6eeecb1",
   "metadata": {},
   "source": [
    "# Q1. Does assigning a value to a string&#39;s indexed character violate Python&#39;s string immutability?"
   ]
  },
  {
   "cell_type": "markdown",
   "id": "20d293a7",
   "metadata": {},
   "source": [
    "yes it vilotes python's string immutability.\n",
    " In Python, strings are immutable, which means once they are created, their contents cannot be changed"
   ]
  },
  {
   "cell_type": "code",
   "execution_count": 1,
   "id": "a9c51859",
   "metadata": {},
   "outputs": [
    {
     "ename": "TypeError",
     "evalue": "'str' object does not support item assignment",
     "output_type": "error",
     "traceback": [
      "\u001b[1;31m---------------------------------------------------------------------------\u001b[0m",
      "\u001b[1;31mTypeError\u001b[0m                                 Traceback (most recent call last)",
      "Cell \u001b[1;32mIn[1], line 2\u001b[0m\n\u001b[0;32m      1\u001b[0m string \u001b[38;5;241m=\u001b[39m \u001b[38;5;124m\"\u001b[39m\u001b[38;5;124mmy name is Don\u001b[39m\u001b[38;5;124m\"\u001b[39m\n\u001b[1;32m----> 2\u001b[0m string[\u001b[38;5;241m0\u001b[39m] \u001b[38;5;241m=\u001b[39m \u001b[38;5;124m'\u001b[39m\u001b[38;5;124mj\u001b[39m\u001b[38;5;124m'\u001b[39m\n\u001b[0;32m      3\u001b[0m \u001b[38;5;28mprint\u001b[39m(string)\n",
      "\u001b[1;31mTypeError\u001b[0m: 'str' object does not support item assignment"
     ]
    }
   ],
   "source": [
    "string = \"my name is Don\"\n",
    "string[0] = 'j'\n",
    "print(string)"
   ]
  },
  {
   "cell_type": "markdown",
   "id": "327f97e1",
   "metadata": {},
   "source": [
    "# Q2. Does using the += operator to concatenate strings violate Python&#39;s string immutability? Why or why not?"
   ]
  },
  {
   "cell_type": "markdown",
   "id": "badd5a7c",
   "metadata": {},
   "source": [
    "Using the += operator to concatenate strings does not violate Python's string immutability. The += operator for strings performs in-place concatenation, but it does not modify the original string in-place. Instead, it creates a new string and binds the variable to that new string."
   ]
  },
  {
   "cell_type": "code",
   "execution_count": 5,
   "id": "42e0720f",
   "metadata": {},
   "outputs": [
    {
     "name": "stdout",
     "output_type": "stream",
     "text": [
      "sushant parpolkar\n"
     ]
    }
   ],
   "source": [
    "original_string= \"sushant \"\n",
    "original_string += \"parpolkar\"\n",
    "\n",
    "print(original_string)"
   ]
  },
  {
   "cell_type": "markdown",
   "id": "e75b3bde",
   "metadata": {},
   "source": [
    "# Q3. In Python, how many different ways are there to index a character?"
   ]
  },
  {
   "cell_type": "markdown",
   "id": "621fb5dc",
   "metadata": {},
   "source": [
    "In python there are 3 different ways of indexing to character viz. positive indexing, negative indexing , slicing indexing\n",
    "\n",
    "Positive Indexing: Positive indexing starts from the beginning of the string and uses non-negative integers as indices.\n",
    "\n",
    "Negative Indexing: Negative indexing starts from the end of the string and uses negative integers as indices.\n",
    "\n",
    "Slicing: Slicing allows you to extract a portion (substring) of the string by specifying a range of indices."
   ]
  },
  {
   "cell_type": "code",
   "execution_count": 6,
   "id": "679140d3",
   "metadata": {},
   "outputs": [
    {
     "name": "stdout",
     "output_type": "stream",
     "text": [
      "y\n",
      "h\n",
      " Maharashtra\n"
     ]
    }
   ],
   "source": [
    "string = \"Jay Maharashtra\"\n",
    "print(string[2]) # positive indexing\n",
    "print(string[-4]) # negative indexing\n",
    "print(string[3:]) # slicing"
   ]
  },
  {
   "cell_type": "markdown",
   "id": "0d482deb",
   "metadata": {},
   "source": [
    "# Q4. What is the relationship between indexing and slicing?"
   ]
  },
  {
   "cell_type": "markdown",
   "id": "b253594d",
   "metadata": {},
   "source": [
    "We can access elements of sequence datatypes by using slicing and indexing. Indexing is used to obtaining individual element while slicing for sequence of elements."
   ]
  },
  {
   "cell_type": "code",
   "execution_count": 24,
   "id": "7b49fdca",
   "metadata": {},
   "outputs": [
    {
     "name": "stdout",
     "output_type": "stream",
     "text": [
      "l\n",
      "grammin\n"
     ]
    }
   ],
   "source": [
    "string = \"I love programming\"\n",
    "print(string[2])\n",
    "print(string[-8:-1])"
   ]
  },
  {
   "cell_type": "markdown",
   "id": "606f637e",
   "metadata": {},
   "source": [
    "# Q5. What is an indexed character&#39;s exact data type? What is the data form of a slicing-generated substring?"
   ]
  },
  {
   "cell_type": "markdown",
   "id": "ebb3d5cc",
   "metadata": {},
   "source": [
    " Indexed characters and sliced substrings have datatype String."
   ]
  },
  {
   "cell_type": "code",
   "execution_count": 26,
   "id": "376cc4c4",
   "metadata": {},
   "outputs": [
    {
     "name": "stdout",
     "output_type": "stream",
     "text": [
      "<class 'str'>\n",
      "<class 'str'>\n"
     ]
    }
   ],
   "source": [
    "string = \"Chatgpt will reduce workforce in I.T industry\"\n",
    "print(type(string[5]))\n",
    "print(type(string[4:]))"
   ]
  },
  {
   "cell_type": "markdown",
   "id": "6bd3c5d0",
   "metadata": {},
   "source": [
    "# Q6. What is the relationship between string and character &quot;types&quot; in Python?"
   ]
  },
  {
   "cell_type": "markdown",
   "id": "f03543c8",
   "metadata": {},
   "source": [
    "The relationship between strings and characters in Python is that a string is composed of individual characters. Each character in a string is an element of the string sequence. For example, the string \"Hello\" is composed of the characters 'H', 'e', 'l', 'l', and 'o'."
   ]
  },
  {
   "cell_type": "markdown",
   "id": "5cfdd3fc",
   "metadata": {},
   "source": [
    "# Q7. Identify at least two operators and one method that allow you to combine one or more smaller strings to create a larger string."
   ]
  },
  {
   "cell_type": "markdown",
   "id": "9b058456",
   "metadata": {},
   "source": [
    "The + operator is used for string concatenation, allowing you to combine two or more strings into a larger string.\n",
    "Operator: * (Repetition Operator)\n",
    "The * operator can be used to repeat a string multiple times, which can be helpful in combining smaller strings to form a larger one.\n",
    "Method: .join()\n",
    "The .join() method is used to join a list of strings into a single larger string. This method takes a list of strings as input and returns a new string that is the concatenation of all the elements in the list."
   ]
  },
  {
   "cell_type": "code",
   "execution_count": 29,
   "id": "751de06e",
   "metadata": {},
   "outputs": [
    {
     "data": {
      "text/plain": [
       "'Hello World'"
      ]
     },
     "execution_count": 29,
     "metadata": {},
     "output_type": "execute_result"
    }
   ],
   "source": [
    "# +  plus operator\n",
    "string1 = \"Hello\"\n",
    "string2 = \"World\"\n",
    "string = string1 + \" \" +string2\n",
    "string"
   ]
  },
  {
   "cell_type": "code",
   "execution_count": 30,
   "id": "ca7f1ae5",
   "metadata": {},
   "outputs": [
    {
     "data": {
      "text/plain": [
       "'sushant sushant sushant sushant '"
      ]
     },
     "execution_count": 30,
     "metadata": {},
     "output_type": "execute_result"
    }
   ],
   "source": [
    "# * multiplication operator\n",
    "string1 = \"sushant \"*4\n",
    "string1"
   ]
  },
  {
   "cell_type": "code",
   "execution_count": 34,
   "id": "bd19dbd8",
   "metadata": {},
   "outputs": [
    {
     "data": {
      "text/plain": [
       "'sushant parpolkar'"
      ]
     },
     "execution_count": 34,
     "metadata": {},
     "output_type": "execute_result"
    }
   ],
   "source": [
    "words = [\"sushant \" ,\"parpolkar\"]\n",
    "result = \"\".join(words)\n",
    "result"
   ]
  },
  {
   "cell_type": "markdown",
   "id": "609bf1ba",
   "metadata": {},
   "source": [
    "# Q8. What is the benefit of first checking the target string with in or not in before using the index method to find a substring?"
   ]
  },
  {
   "cell_type": "markdown",
   "id": "51247240",
   "metadata": {},
   "source": [
    "Avoiding Errors: If the substring is not present in the target string, using the index method directly would raise a ValueError. By using in or not in first, you can avoid this error and handle the absence of the substring gracefully.\n",
    "\n",
    "Efficiency: The in or not in operators are generally more efficient than the index methods when you only need to check for the presence or absence of a substring. The in operator performs a simple membership test, which is faster than actually searching for the index of the substring.\n",
    "\n",
    "Readability: Using in or not in before the index method makes the code more readable and explicit, as it clearly indicates that you are checking for the presence of a substring before attempting to extract its index."
   ]
  },
  {
   "cell_type": "code",
   "execution_count": 36,
   "id": "8e73bac5",
   "metadata": {},
   "outputs": [
    {
     "name": "stdout",
     "output_type": "stream",
     "text": [
      " string found at index 3\n"
     ]
    }
   ],
   "source": [
    "target_string = \"Hello ineuron\" # bad approach\n",
    "try:\n",
    "    index =target_string.index(\"lo\")\n",
    "    print(f\" substring found at index {index}\")\n",
    "\n",
    "except ValueError:\n",
    "    print(\"substring not found\")\n",
    "    \n",
    "    \n",
    "    "
   ]
  },
  {
   "cell_type": "code",
   "execution_count": 38,
   "id": "2d5dc0c2",
   "metadata": {},
   "outputs": [
    {
     "name": "stdout",
     "output_type": "stream",
     "text": [
      "substring found at index 3\n"
     ]
    }
   ],
   "source": [
    "target_string = \"Hello ineuron\" # good approach\n",
    "if \"lo\" in target_string:\n",
    "    index = target_string.index(\"lo\")\n",
    "    print(f\"substring found at index {index}\")\n",
    "else:\n",
    "    print(\"substring not found\")"
   ]
  },
  {
   "cell_type": "markdown",
   "id": "8ba43fb6",
   "metadata": {},
   "source": [
    "# Q9. Which operators and built-in string methods produce simple Boolean (true/false) results?"
   ]
  },
  {
   "cell_type": "markdown",
   "id": "02a8345b",
   "metadata": {},
   "source": [
    "The String Operators and built-in methods to Produce Simple Boolean (True/False) Results are:\n",
    "\n",
    "- in\n",
    "- not\n",
    "- <string>.isalpha()\n",
    "- <string>.isalnum()\n",
    "- <string>.isdecimal()\n",
    "- <string>.isdigit()\n",
    "- <string>.islower()\n",
    "- <string>.isnumeric()\n",
    "- <string>.isprintable()\n",
    "- <string>.isspace()\n",
    "- <string>.istitle()"
   ]
  }
 ],
 "metadata": {
  "kernelspec": {
   "display_name": "Python 3 (ipykernel)",
   "language": "python",
   "name": "python3"
  },
  "language_info": {
   "codemirror_mode": {
    "name": "ipython",
    "version": 3
   },
   "file_extension": ".py",
   "mimetype": "text/x-python",
   "name": "python",
   "nbconvert_exporter": "python",
   "pygments_lexer": "ipython3",
   "version": "3.10.9"
  }
 },
 "nbformat": 4,
 "nbformat_minor": 5
}
