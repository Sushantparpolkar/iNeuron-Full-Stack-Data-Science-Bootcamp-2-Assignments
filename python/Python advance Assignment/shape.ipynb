{
 "cells": [
  {
   "cell_type": "code",
   "execution_count": 1,
   "id": "c004896b",
   "metadata": {},
   "outputs": [],
   "source": [
    "class Rectangle:\n",
    "    \n",
    "    def __init__(self,width,height):\n",
    "        self.width=width\n",
    "        self.height=height\n",
    "    def rectangle_area(self):\n",
    "        return self.width*self.height\n",
    "\n",
    "class Circle:\n",
    "    \n",
    "    def __init__(self,radius):\n",
    "        self.radius=radius\n",
    "        \n",
    "    def circle_area(self):\n",
    "        return 3.142*self.radius**2"
   ]
  },
  {
   "cell_type": "code",
   "execution_count": null,
   "id": "a36de975",
   "metadata": {},
   "outputs": [],
   "source": []
  }
 ],
 "metadata": {
  "kernelspec": {
   "display_name": "Python 3 (ipykernel)",
   "language": "python",
   "name": "python3"
  },
  "language_info": {
   "codemirror_mode": {
    "name": "ipython",
    "version": 3
   },
   "file_extension": ".py",
   "mimetype": "text/x-python",
   "name": "python",
   "nbconvert_exporter": "python",
   "pygments_lexer": "ipython3",
   "version": "3.10.9"
  }
 },
 "nbformat": 4,
 "nbformat_minor": 5
}
