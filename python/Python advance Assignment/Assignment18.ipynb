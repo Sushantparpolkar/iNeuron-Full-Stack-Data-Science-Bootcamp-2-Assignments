{
 "cells": [
  {
   "cell_type": "markdown",
   "id": "e07cd5cf",
   "metadata": {},
   "source": [
    "# Q1. Describe the differences between text and binary files in a single paragraph."
   ]
  },
  {
   "cell_type": "markdown",
   "id": "d88bb285",
   "metadata": {},
   "source": [
    "__Text Files__: Text files store data as sequences of characters encoded using standard character encodings like ASCII or UTF-8, allowing easy interpretation by humans and text editors..Content written in text files is human readableIn the binary file no such character is present. Files keep track of the end of the file from the number of characters present.\n",
    "In the text file, a special character whose ASCII value is 26 inserted after the last character to mark the end of file.Text Files:In text file, text, character, numbers are stored one character per byte. The text file, the newline character is converted to carriage-return/linefeed before being written to the disk.Text files are used to store data more user friendly.While text files are easily readable and editable with plain text editors.\n",
    "     \n",
    "__binary Files__:In binary file data is stored in binary format and each data would occupy the same number of bytes on disks as it occupies in memory.In binary file, conversion of newline to carriage-return and linefeed does not take place.Binary files are used to store data more compactly.Content written in binary files is not human readable and looks like encrypted content. binary files require specialized software to interpret their content correctly."
   ]
  },
  {
   "cell_type": "markdown",
   "id": "5575f299",
   "metadata": {},
   "source": [
    "# Q2. What are some scenarios where using text files will be the better option? When would you like to use binary files instead of text files?"
   ]
  },
  {
   "cell_type": "markdown",
   "id": "a2b87f7c",
   "metadata": {},
   "source": [
    "Text files are less prone to get corrupted as any undesired change may just show up once the file is opened and then can easily be removed. Whereas Use binary files instead of text files for image data."
   ]
  },
  {
   "cell_type": "markdown",
   "id": "3cf6c7f6",
   "metadata": {},
   "source": [
    "# Q3. What are some of the issues with using binary operations to read and write a Python integer directly to disc?"
   ]
  },
  {
   "cell_type": "markdown",
   "id": "4b227044",
   "metadata": {},
   "source": [
    "Endianness: Endianness refers to the order in which bytes are stored in memory or on disk. Different systems can have different endianness (e.g., little-endian or big-endian). If you write binary data assuming one endianness and read it on a system with a different endianness, the integer value might be interpreted incorrectly.\n",
    "\n",
    "Portability: Binary representations of integers can vary across different platforms, compilers, and Python versions. This lack of portability can lead to compatibility issues when reading/writing data on different systems.\n",
    "\n",
    "Data Type and Size: Directly reading/writing binary data without proper metadata might lead to ambiguity regarding the data type and size. Different types of integers (e.g., signed vs. unsigned) and different sizes (e.g., 32-bit vs. 64-bit) can affect how the binary data is interpreted.\n",
    "\n",
    "Error Handling: Binary data operations lack built-in error handling and validation mechanisms. If data becomes corrupted or is written improperly, it might be difficult to detect and recover from errors.\n",
    "\n",
    "Human Readability and Debugging: Binary data is not human-readable, making it challenging to debug and inspect the data on disk. This can hinder troubleshooting and data analysis.\n",
    "\n",
    "Byte Order Mark (BOM) and Encoding: When dealing with text files that contain binary data, issues might arise due to byte order marks or incorrect encoding assumptions.\n",
    "\n",
    "Endian Conversion Overhead: When reading/writing binary data on systems with different endianness, additional processing might be required to convert the data to the appropriate format.\n",
    "\n",
    "Data Corruption: Writing binary data directly to disk can be more prone to data corruption if the writing process is interrupted or if there are bugs in the code. File I/O libraries often provide mechanisms to minimize these risks"
   ]
  },
  {
   "cell_type": "markdown",
   "id": "2f239ae5",
   "metadata": {},
   "source": [
    "# Q4. Describe a benefit of using the with keyword instead of explicitly opening a file."
   ]
  },
  {
   "cell_type": "markdown",
   "id": "2abf21e8",
   "metadata": {},
   "source": [
    "Using the with keyword in Python when working with files provides an important benefit in terms of resource management and exception handling. The with statement is used in conjunction with context managers, which are objects that define methods __enter__ and __exit__. When a file is opened using the with statement, it ensures that the file is properly closed after the block of code is executed, even if an exception is raised within that block. This helps avoid common issues and leads to more robust and readable code."
   ]
  },
  {
   "cell_type": "code",
   "execution_count": 7,
   "id": "5f733243",
   "metadata": {},
   "outputs": [
    {
     "name": "stdout",
     "output_type": "stream",
     "text": [
      "Hello world\n"
     ]
    }
   ],
   "source": [
    "with open('test.txt','r')as file:\n",
    "    content=file.read\n",
    "    print(content())"
   ]
  },
  {
   "cell_type": "markdown",
   "id": "f364cc90",
   "metadata": {},
   "source": [
    "# Q5. Does Python have the trailing newline while reading a line of text? Does Python append a newline when you write a line of text?"
   ]
  },
  {
   "cell_type": "markdown",
   "id": "d9797a91",
   "metadata": {},
   "source": [
    " Yes, Python have the trailing newline while reading a line of text. When we write a newline has to be provided in python  explicitly."
   ]
  },
  {
   "cell_type": "markdown",
   "id": "6a33b611",
   "metadata": {},
   "source": [
    "# Q6. What file operations enable for random-access operation?"
   ]
  },
  {
   "cell_type": "markdown",
   "id": "570fb636",
   "metadata": {},
   "source": [
    "Random-access operations refer to the ability to directly read or write data at specific positions within a file, rather than just sequentially from the beginning to the end. Certain file operations in Python enable random-access operations, allowing you to manipulate files at specific offsets."
   ]
  },
  {
   "cell_type": "markdown",
   "id": "602c612c",
   "metadata": {},
   "source": [
    "seek(offset, whence): This method sets the file's current position to the given offset. \n",
    "tell(): This method returns the current position within the file.\n",
    "read(size) and readline(size): These methods read a specified number of bytes or characters from the current position in the file.\n",
    "write(data): This method writes data to the current position in the file. If the position is set using seek(), it allows you to overwrite or insert data at specific offsets."
   ]
  },
  {
   "cell_type": "code",
   "execution_count": 31,
   "id": "db69d027",
   "metadata": {},
   "outputs": [
    {
     "name": "stdout",
     "output_type": "stream",
     "text": [
      "0\n"
     ]
    }
   ],
   "source": [
    "with open('t3.txt', 'rb') as file:\n",
    "    position = file.tell()  # Get the current position\n",
    "    print(position)"
   ]
  },
  {
   "cell_type": "code",
   "execution_count": 26,
   "id": "d143ba09",
   "metadata": {},
   "outputs": [
    {
     "name": "stdout",
     "output_type": "stream",
     "text": [
      "b'Artificial'\n"
     ]
    }
   ],
   "source": [
    "with open('t3.txt', 'rb') as file:\n",
    "    data = file.read(10)  # Read 10 bytes from the current position\n",
    "    print(data)"
   ]
  },
  {
   "cell_type": "markdown",
   "id": "28ae145f",
   "metadata": {},
   "source": [
    "# Q7. When do you think you&#39;ll use the struct package the most?"
   ]
  },
  {
   "cell_type": "markdown",
   "id": "5ee8255c",
   "metadata": {},
   "source": [
    "The struct package in Python is primarily used for working with binary data and performing conversions between Python data types and C-style data types that are commonly found in binary file formats, network protocols, and low-level data manipulation scenarios. You would typically use the struct package when you need to pack and unpack binary data in a specific format, such as integers, floating-point numbers, strings, and more."
   ]
  },
  {
   "cell_type": "markdown",
   "id": "9ed7d5a1",
   "metadata": {},
   "source": [
    "# Q8. When is pickling the best option?"
   ]
  },
  {
   "cell_type": "markdown",
   "id": "923c3965",
   "metadata": {},
   "source": [
    "ickling is a serialization technique in Python used to convert complex objects, including custom classes and data structures, into a byte stream that can be stored in a file, sent over a network, or otherwise persisted.\n",
    "Pickling is the best option in the following situations:\n",
    "i)Saving and Loading State,ii)Caching and Memoization iii)Data Persistence\n",
    "iv)Interprocess Communication\n",
    "v)Sharing Objects Between Different Python Versions:"
   ]
  },
  {
   "cell_type": "markdown",
   "id": "cf9278f3",
   "metadata": {},
   "source": [
    "# Q9. When will it be best to use the shelve package?"
   ]
  },
  {
   "cell_type": "raw",
   "id": "161f8dca",
   "metadata": {},
   "source": [
    "The shelve module in Python provides a high-level interface for persistently storing and retrieving Python objects as key-value pairs in a database-like format. It uses the dbm module under the hood, which is a simple database engine that stores data in a file. The shelve package can be a good choice in the following scenario.\n",
    "i)Storing Small to Moderate Amounts of Data\n",
    "ii)Simple Data Persistence\n",
    "iii)Quick Prototyping and Small Projects\n",
    "iv)Local Caching and Memoization\n",
    "v)Single-User Applications\n",
    "vi)Simpler Key-Value Storage"
   ]
  },
  {
   "cell_type": "code",
   "execution_count": 41,
   "id": "ede8e07a",
   "metadata": {},
   "outputs": [],
   "source": [
    "import shelve\n",
    "\n",
    "with shelve.open('test.db') as shelf:\n",
    "    shelf['name']= 'Sushant'\n",
    "    shelf['age'] = 27"
   ]
  },
  {
   "cell_type": "code",
   "execution_count": 42,
   "id": "e2dd1911",
   "metadata": {},
   "outputs": [
    {
     "name": "stdout",
     "output_type": "stream",
     "text": [
      "Sushant\n",
      "27\n"
     ]
    }
   ],
   "source": [
    "with shelve.open('test.db') as shelf:\n",
    "    print(shelf['name'])\n",
    "    print(shelf['age'])"
   ]
  },
  {
   "cell_type": "markdown",
   "id": "32add1eb",
   "metadata": {},
   "source": [
    "# Q10. What is a special restriction when using the shelve package, as opposed to using other data dictionaries?"
   ]
  },
  {
   "cell_type": "markdown",
   "id": "b795edc2",
   "metadata": {},
   "source": [
    "When using the shelve package for persistent storage of Python objects, there is a special restriction that you need to be aware of: the keys used in a shelve database must be strings. This is in contrast to other dictionary-like data structures where keys can be of various data types, including numbers, tuples, or even custom objects"
   ]
  }
 ],
 "metadata": {
  "kernelspec": {
   "display_name": "Python 3 (ipykernel)",
   "language": "python",
   "name": "python3"
  },
  "language_info": {
   "codemirror_mode": {
    "name": "ipython",
    "version": 3
   },
   "file_extension": ".py",
   "mimetype": "text/x-python",
   "name": "python",
   "nbconvert_exporter": "python",
   "pygments_lexer": "ipython3",
   "version": "3.10.9"
  }
 },
 "nbformat": 4,
 "nbformat_minor": 5
}
