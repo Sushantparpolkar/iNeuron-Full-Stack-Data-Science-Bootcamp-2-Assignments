{
 "cells": [
  {
   "cell_type": "markdown",
   "id": "bcc9d4a1",
   "metadata": {},
   "source": [
    "# Q1. What is the relationship between classes and modules?"
   ]
  },
  {
   "cell_type": "markdown",
   "id": "8c92e7f2",
   "metadata": {},
   "source": [
    "In Python, a module is a file that contains Python code, including definitions of classes, functions, variables, and other objects. A module serves as a way to organize and package related code together.\n",
    "\n",
    "On the other hand, a class is a blueprint for creating objects. It defines the structure and behavior of an object, including its attributes (variables) and methods (functions).\n",
    "\n",
    "The relationship between classes and modules is that classes can be defined within a module. A module can contain one or more class definitions along with other code. The module provides a way to group related classes and other code together, making it easier to organize and reuse code.\n",
    "\n",
    "When a module is imported, the classes defined within the module become available for use. They can be instantiated to create objects and accessed to invoke their methods or access their attributes.\n",
    "\n",
    "In summary, classes and modules are related in the sense that classes can be defined within modules. Modules provide a way to organize and package classes and other code together, allowing for modular and reusable code design."
   ]
  },
  {
   "cell_type": "code",
   "execution_count": 4,
   "id": "be168d4a",
   "metadata": {},
   "outputs": [
    {
     "name": "stdout",
     "output_type": "stream",
     "text": [
      "20\n",
      "153.958\n"
     ]
    }
   ],
   "source": [
    "# I have created shape.py file in current working directory and access shape using import \n",
    "import shape\n",
    "rect = shape.Rectangle(5,4)\n",
    "print(rect.rectangle_area())\n",
    "circ =shape.Circle(7)\n",
    "print(circ.circle_area())"
   ]
  },
  {
   "cell_type": "markdown",
   "id": "54067bae",
   "metadata": {},
   "source": [
    "# Q2. How do you make instances and classes?"
   ]
  },
  {
   "cell_type": "markdown",
   "id": "15155286",
   "metadata": {},
   "source": [
    "To make instances and classes in Python, you follow these steps:\n",
    "\n",
    "Define a class: Use the class keyword followed by the name of the class, using CamelCase naming convention. Inside the class definition, you can define attributes (data) and methods (functions) that describe the behavior of objects of that class.\n",
    "\n",
    "Create an instance: To create an instance of a class, call the class as if it were a function, passing any required arguments specified in the class's __init__ method. The instance will be assigned to a variable."
   ]
  },
  {
   "cell_type": "code",
   "execution_count": 20,
   "id": "dce610de",
   "metadata": {},
   "outputs": [
    {
     "name": "stdout",
     "output_type": "stream",
     "text": [
      "sushant\n",
      "27\n",
      " Hello my name is sushant\n"
     ]
    }
   ],
   "source": [
    "class Person:\n",
    "    def __init__(self,name,age):\n",
    "        self.name=name\n",
    "        self.age=age\n",
    "        \n",
    "    def greet(self):\n",
    "        print(f\" Hello my name is {self.name}\")\n",
    "    \n",
    "person1=Person(\"sushant\",27)\n",
    "print(person1.name)   \n",
    "print(person1.age)\n",
    "person1.greet()"
   ]
  },
  {
   "cell_type": "markdown",
   "id": "bc17d4c8",
   "metadata": {},
   "source": [
    "## Q3. Where and how should be class attributes created?"
   ]
  },
  {
   "cell_type": "markdown",
   "id": "c684d5ef",
   "metadata": {},
   "source": [
    "Class attributes in Python should be created inside the class definition, outside of any method. They are defined directly under the class header, before any methods are defined. Class attributes are shared among all instances of the class."
   ]
  },
  {
   "cell_type": "code",
   "execution_count": 27,
   "id": "7a45695f",
   "metadata": {},
   "outputs": [
    {
     "name": "stdout",
     "output_type": "stream",
     "text": [
      "3.142\n",
      "78.55\n"
     ]
    }
   ],
   "source": [
    "class Circle:\n",
    "    pi= 3.142 # class attribute\n",
    "    \n",
    "    def __init__(self,radius):\n",
    "        self.radius=radius\n",
    "        \n",
    "    def area(self):\n",
    "        return self.pi*self.radius*self.radius\n",
    "circle=Circle(5)\n",
    "print(circle.pi)\n",
    "print(circle.area())"
   ]
  },
  {
   "cell_type": "markdown",
   "id": "92cd6b13",
   "metadata": {},
   "source": [
    "# Q4. Where and how are instance attributes created?"
   ]
  },
  {
   "cell_type": "markdown",
   "id": "8a957deb",
   "metadata": {},
   "source": [
    "Instance attributes in Python are created within the __init__ method of a class. The __init__ method is a special method that gets called when an instance of the class is created. Inside the __init__ method, you can define instance attributes and assign them specific values."
   ]
  },
  {
   "cell_type": "markdown",
   "id": "0d0f25cd",
   "metadata": {},
   "source": [
    "# Q5. What does the term &quot;self&quot; in a Python class mean?"
   ]
  },
  {
   "cell_type": "markdown",
   "id": "8ee9a83f",
   "metadata": {},
   "source": [
    "In Python, self is a conventionally used parameter name that refers to the instance of the class itself. It is a reference to the current instance that allows accessing the instance's attributes and methods within the class.\n",
    "\n",
    "When defining methods in a class, the first parameter of the method is usually named self. It is a way to refer to the instance on which the method is being called. By convention, this parameter is named self, but you can use any valid variable name in its place. However, it is highly recommended to stick to the convention and use self to avoid confusion and improve code readability."
   ]
  },
  {
   "cell_type": "markdown",
   "id": "1ff4dcc5",
   "metadata": {},
   "source": [
    "# Q6. How does a Python class handle operator overloading?"
   ]
  },
  {
   "cell_type": "markdown",
   "id": "db538779",
   "metadata": {},
   "source": [
    "In Python, operator overloading allows classes to define the behavior of operators such as +, -, *, /, ==, !=, and many more. It allows objects of a class to behave like built-in types and enables the use of familiar operators on custom objects.\n",
    "\n",
    "To implement operator overloading, Python provides special methods (also called magic methods or dunder methods) that are defined within the class. These methods have special names surrounded by double underscores (__). By implementing these methods, we can define how the operators should behave when applied to instances of our class.\n",
    "\n",
    "Here are a few examples of commonly used dunder methods for operator overloading:\n",
    "\n",
    "__add__(self, other): Implements the behavior for the + operator.\n",
    "__sub__(self, other): Implements the behavior for the - operator.\n",
    "__mul__(self, other): Implements the behavior for the * operator.\n",
    "__eq__(self, other): Implements the behavior for the == operator.\n",
    "__ne__(self, other): Implements the behavior for the != operator.\n",
    "__str__(self): Implements the behavior for converting the object to a string representation."
   ]
  },
  {
   "cell_type": "code",
   "execution_count": 33,
   "id": "4b8cf12f",
   "metadata": {},
   "outputs": [
    {
     "name": "stdout",
     "output_type": "stream",
     "text": [
      "Vector(6,8)\n"
     ]
    }
   ],
   "source": [
    "class Vector:\n",
    "    \n",
    "    def __init__(self,x,y):\n",
    "        self.x=x\n",
    "        self.y=y\n",
    "        \n",
    "    def __add__(self,other):\n",
    "        return Vector(self.x+other.x ,self.y+other.y)\n",
    "    \n",
    "    def __str__(self):\n",
    "        return f\"Vector({self.x},{self.y})\"\n",
    "    \n",
    "v1=Vector(2,3)\n",
    "v2=Vector(4,5)\n",
    "\n",
    "result = v1+v2\n",
    "print(result)"
   ]
  },
  {
   "cell_type": "markdown",
   "id": "ce684289",
   "metadata": {},
   "source": [
    "# Q7. When do you consider allowing operator overloading of your classes?"
   ]
  },
  {
   "cell_type": "markdown",
   "id": "0bc64e34",
   "metadata": {},
   "source": [
    "Operator overloading is considered when you want to define custom behaviors for operators on your class objects. It allows you to make your classes work with operators such as +, -, *, ==, !=, etc., providing intuitive and meaningful operations on your objects.\n",
    "\n",
    "Here are some scenarios where allowing operator overloading can be beneficial:\n",
    "\n",
    "1. Enhanced functionality: Operator overloading can provide a more natural and expressive way to perform operations on your objects. For example, if you have a custom Vector class, you can overload the + operator to perform vector addition, making your code more readable and intuitive.\n",
    "\n",
    "2. Consistency with built-in types: By overloading operators, you can make your custom classes behave similarly to built-in types. This can improve code readability and reduce the learning curve for users of your class.\n",
    "\n",
    "3. Domain-specific operations: If your class represents a specific domain or concept, operator overloading can allow you to define operations that are specific to that domain. For example, a Matrix class can define the * operator for matrix multiplication, making matrix operations more convenient.\n",
    "\n",
    "4. Simplified syntax: Operator overloading can provide a more concise and natural syntax for performing operations. This can lead to cleaner and more readable code, especially when working with mathematical or symbolic computations.\n",
    "\n",
    "However, it's important to use operator overloading judiciously and maintain clarity in your code. Overloading operators should follow intuitive conventions and not introduce confusion or unexpected behaviors. It's also essential to document the behavior of your overloaded operators to ensure proper understanding and usage by other developers."
   ]
  },
  {
   "cell_type": "markdown",
   "id": "276cfb9c",
   "metadata": {},
   "source": [
    "# Q8. What is the most popular form of operator overloading?"
   ]
  },
  {
   "cell_type": "markdown",
   "id": "40a8cc5f",
   "metadata": {},
   "source": [
    "In Python, one of the most popular forms of operator overloading is the __add__ method, which is used to implement the behavior for the + operator. It allows objects of a class to support the addition operation and define custom behavior when two instances of the class are added together using the + operator.\n",
    "\n",
    "The __add__ method is widely used because addition is a common operation and is applicable to a wide range of classes and data types. By overloading the __add__ method, you can define how addition should be performed between objects of your class, providing flexibility and customization."
   ]
  },
  {
   "cell_type": "code",
   "execution_count": 40,
   "id": "51026769",
   "metadata": {},
   "outputs": [
    {
     "name": "stdout",
     "output_type": "stream",
     "text": [
      "volume is 50\n"
     ]
    }
   ],
   "source": [
    "class bubble:\n",
    "    \n",
    "    def __init__(self,volume):\n",
    "        self.volume=volume\n",
    "        \n",
    "    def __str__(self):\n",
    "        return \"volume is \"+ str(self.volume)\n",
    "    def __add__(self,other):\n",
    "        volume=self.volume + other.volume\n",
    "        return bubble(volume)\n",
    "    \n",
    "b1= bubble(20)\n",
    "b2= bubble(30)\n",
    "b3 =b1+b2\n",
    "print(b3)\n",
    "        "
   ]
  },
  {
   "cell_type": "markdown",
   "id": "0c1db974",
   "metadata": {},
   "source": [
    "# Q9. What are the two most important concepts to grasp in order to comprehend Python OOP code?"
   ]
  },
  {
   "cell_type": "markdown",
   "id": "3b0d176b",
   "metadata": {},
   "source": [
    "The two most important concepts to grasp in order to comprehend Python OOP code are:\n",
    "\n",
    "1. Classes and Objects: Understanding the concept of classes and objects is fundamental to OOP in Python. A class is a blueprint for creating objects, while an object is an instance of a class. Classes define the structure and behavior of objects, including attributes (data) and methods (functions). Objects are created from classes and can interact with each other to perform tasks.\n",
    "\n",
    "2. Inheritance: Inheritance is a key concept in OOP that allows classes to inherit attributes and methods from other classes. In Python, classes can be derived from other classes, forming a hierarchy of classes. The derived class (also called a subclass or child class) inherits the properties of the base class (also called a superclass or parent class) and can add its own unique attributes and methods. Inheritance promotes code reuse, modularity, and supports the principle of polymorphism.\n",
    "\n",
    "By understanding these two concepts, you can comprehend how classes and objects are structured, how they interact with each other, and how inheritance enables code reuse and customization. With these concepts in place, you can analyze and understand Python OOP code more effectively."
   ]
  }
 ],
 "metadata": {
  "kernelspec": {
   "display_name": "Python 3 (ipykernel)",
   "language": "python",
   "name": "python3"
  },
  "language_info": {
   "codemirror_mode": {
    "name": "ipython",
    "version": 3
   },
   "file_extension": ".py",
   "mimetype": "text/x-python",
   "name": "python",
   "nbconvert_exporter": "python",
   "pygments_lexer": "ipython3",
   "version": "3.10.9"
  }
 },
 "nbformat": 4,
 "nbformat_minor": 5
}
