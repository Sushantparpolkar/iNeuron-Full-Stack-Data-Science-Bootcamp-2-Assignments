{
 "cells": [
  {
   "cell_type": "markdown",
   "id": "75c1a6a4",
   "metadata": {},
   "source": [
    "# Q1. What is the concept of an abstract superclass?"
   ]
  },
  {
   "cell_type": "markdown",
   "id": "24bd18ec",
   "metadata": {},
   "source": [
    "In object-oriented programming (OOP), an abstract superclass, also known as an abstract class, is a class that cannot be instantiated on its own but serves as a blueprint for other classes. It is designed to be subclassed, meaning other classes can inherit from it, and it may contain one or more abstract methods that do not have a concrete implementation. Abstract classes provide a way to define common attributes and behaviors that should be shared among their subclasses while leaving specific implementations to those subclasses.\n",
    "\n",
    "The primary purpose of an abstract superclass is to provide a common interface and set of functionalities for its subclasses, ensuring that certain methods are always implemented in the derived classes"
   ]
  },
  {
   "cell_type": "code",
   "execution_count": 1,
   "id": "42ff2848",
   "metadata": {},
   "outputs": [
    {
     "name": "stdout",
     "output_type": "stream",
     "text": [
      "Buddy says Woof!\n",
      "Whiskers says Meow!\n",
      "Molly says Moo!\n"
     ]
    }
   ],
   "source": [
    "from abc import ABC, abstractmethod\n",
    "\n",
    "class Animal(ABC):\n",
    "    def __init__(self, name):\n",
    "        self.name = name\n",
    "    \n",
    "    @abstractmethod\n",
    "    def speak(self):\n",
    "        pass\n",
    "\n",
    "class Dog(Animal):\n",
    "    def speak(self):\n",
    "        return f\"{self.name} says Woof!\"\n",
    "\n",
    "class Cat(Animal):\n",
    "    def speak(self):\n",
    "        return f\"{self.name} says Meow!\"\n",
    "\n",
    "class Cow(Animal):\n",
    "    def speak(self):\n",
    "        return f\"{self.name} says Moo!\"\n",
    "\n",
    "# Uncommenting the following line will raise an error since you can't instantiate an abstract class\n",
    "# animal = Animal(\"Generic Animal\")\n",
    "\n",
    "dog = Dog(\"Buddy\")\n",
    "cat = Cat(\"Whiskers\")\n",
    "cow = Cow(\"Molly\")\n",
    "\n",
    "animals = [dog, cat, cow]\n",
    "\n",
    "for animal in animals:\n",
    "    print(animal.speak())\n"
   ]
  },
  {
   "cell_type": "markdown",
   "id": "c3bc3801",
   "metadata": {},
   "source": [
    "# 2. What happens when a class statement&#39;s top level contains a basic assignment statement?"
   ]
  },
  {
   "cell_type": "markdown",
   "id": "1e01689d",
   "metadata": {},
   "source": [
    "When a class statement's top level contains a basic assignment statement, it creates a class-level attribute that is shared among all instances of the class. This attribute becomes a part of the class definition itself, and any instances of that class will have access to this shared attribute."
   ]
  },
  {
   "cell_type": "code",
   "execution_count": 24,
   "id": "2b8e9122",
   "metadata": {},
   "outputs": [],
   "source": [
    "class MyClass:\n",
    "    movie = \"true_happiness\" # class attribute\n",
    "    \n",
    "    def __init__(self,realmovie):\n",
    "        self.realmovie=realmovie\n",
    "        \n",
    "obj1 =MyClass(\"The Persuit of happiness\")\n"
   ]
  },
  {
   "cell_type": "code",
   "execution_count": 25,
   "id": "506e59b9",
   "metadata": {},
   "outputs": [
    {
     "name": "stdout",
     "output_type": "stream",
     "text": [
      "true_happiness\n"
     ]
    }
   ],
   "source": [
    "print(MyClass.movie) # accessing class level attribute"
   ]
  },
  {
   "cell_type": "code",
   "execution_count": 27,
   "id": "844ca715",
   "metadata": {},
   "outputs": [
    {
     "name": "stdout",
     "output_type": "stream",
     "text": [
      "The Persuit of happiness\n"
     ]
    }
   ],
   "source": [
    "print(obj1.realmovie) # accessing instance attribute"
   ]
  },
  {
   "cell_type": "markdown",
   "id": "776d7a01",
   "metadata": {},
   "source": [
    "# 3. Why does a class need to manually call a superclass&#39;s __init__ method?"
   ]
  },
  {
   "cell_type": "markdown",
   "id": "09026689",
   "metadata": {},
   "source": [
    "Inheritance and Initialization: When a subclass inherits from a superclass, it typically needs to initialize the inherited attributes and behavior from the superclass. The __init__ method is responsible for initializing the instance variables of the class. By calling the superclass's __init__ method, the subclass ensures that the initialization code of the superclass is executed, setting up the common attributes shared by both the superclass and the subclass.\n",
    "\n",
    "Preventing Attribute Overwriting: If the subclass defines its own __init__ method without calling the superclass's __init__, it may accidentally overwrite important attributes defined in the superclass. By calling the superclass's __init__, the subclass can properly initialize both its own attributes and those inherited from the superclass, preventing any unintended attribute overwriting.\n",
    "\n",
    "Code Reusability: Calling the superclass's __init__ allows for code reuse. The superclass's __init__ method might contain complex initialization logic, and calling it from the subclass ensures that this logic is executed correctly without duplication in the subclass's __init__."
   ]
  },
  {
   "cell_type": "code",
   "execution_count": 41,
   "id": "dde5ee9d",
   "metadata": {},
   "outputs": [
    {
     "name": "stdout",
     "output_type": "stream",
     "text": [
      "{'name': 'sushant', 'gender': 'male', 'salary': 30000}\n"
     ]
    }
   ],
   "source": [
    "class Person:\n",
    "    def __init__(self,name,gender):\n",
    "        self.name=name\n",
    "        self.gender=gender\n",
    "        \n",
    "class Employee(Person):\n",
    "    def __init__(self,name,gender,salary):\n",
    "        super().__init__(name,gender)\n",
    "        self.salary=salary\n",
    "        \n",
    "emp1 = Employee('sushant','male',30000)\n",
    "print(emp1.__dict__)"
   ]
  },
  {
   "cell_type": "markdown",
   "id": "d33d7178",
   "metadata": {},
   "source": [
    "# 4. How can you augment, instead of completely replacing, an inherited method?"
   ]
  },
  {
   "cell_type": "markdown",
   "id": "aa76f268",
   "metadata": {},
   "source": [
    "To augment, instead of completely replacing, an inherited method in a subclass, you can use the super() function to call the method from the parent class and then add additional functionality to it within the subclass. This process is known as method overriding or method extension."
   ]
  },
  {
   "cell_type": "code",
   "execution_count": 44,
   "id": "f234848f",
   "metadata": {},
   "outputs": [],
   "source": [
    "class Animal:\n",
    "    def make_sound(self):\n",
    "        return \"General sound\"\n",
    "    \n",
    "class Dog(Animal):\n",
    "    def make_sound(self):\n",
    "        original_sound =super().make_sound()  # calling make sound method\n",
    "        return f\"{original_sound} wolf!\"\n",
    "    \n",
    "class Cat(Animal):\n",
    "    def make_sound(self):\n",
    "        original_sound = super().make_sound()\n",
    "        return f\"{original_sound} meow!\"\n",
    "    \n",
    "dog = Dog()\n",
    "cat = Cat()"
   ]
  },
  {
   "cell_type": "code",
   "execution_count": 46,
   "id": "ec74e778",
   "metadata": {},
   "outputs": [
    {
     "name": "stdout",
     "output_type": "stream",
     "text": [
      "General sound wolf!\n",
      "General sound meow!\n"
     ]
    }
   ],
   "source": [
    "print(dog.make_sound())\n",
    "print(cat.make_sound())"
   ]
  },
  {
   "cell_type": "markdown",
   "id": "cae87920",
   "metadata": {},
   "source": [
    "# 5. How is the local scope of a class different from that of a function?"
   ]
  },
  {
   "cell_type": "markdown",
   "id": "da3bb939",
   "metadata": {},
   "source": [
    "A Variable which is defined inside a function is local to that function. it is accesible from the point at which it is defined until the end of the function, and exists for as long as the function is existing.\n",
    "\n",
    "Similary a variable inside of a class also has a local variable scope. Variables which are defined in the class body (but outside all methods) are called as class level variables or class attributes. they can be referenced by there bare names within the same scope, but they can also be accessed from outside this scope if we use the attribute access operator (.). on a class or an instance of the class."
   ]
  },
  {
   "cell_type": "code",
   "execution_count": 47,
   "id": "142a72b5",
   "metadata": {},
   "outputs": [
    {
     "name": "stdout",
     "output_type": "stream",
     "text": [
      "Inside the function :  10\n"
     ]
    }
   ],
   "source": [
    "def function():\n",
    "    x= 10\n",
    "    print(\"Inside the function : \",x)\n",
    "function()\n"
   ]
  },
  {
   "cell_type": "code",
   "execution_count": 49,
   "id": "0c226c4a",
   "metadata": {},
   "outputs": [
    {
     "ename": "NameError",
     "evalue": "name 'x' is not defined",
     "output_type": "error",
     "traceback": [
      "\u001b[1;31m---------------------------------------------------------------------------\u001b[0m",
      "\u001b[1;31mNameError\u001b[0m                                 Traceback (most recent call last)",
      "Cell \u001b[1;32mIn[49], line 1\u001b[0m\n\u001b[1;32m----> 1\u001b[0m \u001b[38;5;28mprint\u001b[39m(\u001b[43mx\u001b[49m)\n",
      "\u001b[1;31mNameError\u001b[0m: name 'x' is not defined"
     ]
    }
   ],
   "source": [
    "print(x) # while accessing from outside function it writes x is not defined."
   ]
  },
  {
   "cell_type": "code",
   "execution_count": 50,
   "id": "c89a3072",
   "metadata": {},
   "outputs": [],
   "source": [
    "class Person:\n",
    "    name = \"sushant parpolkar\"\n",
    "    def __init__(self):\n",
    "        pass\n",
    "\n",
    "person = Person"
   ]
  },
  {
   "cell_type": "code",
   "execution_count": 52,
   "id": "73ad1141",
   "metadata": {},
   "outputs": [
    {
     "name": "stdout",
     "output_type": "stream",
     "text": [
      "sushant parpolkar\n"
     ]
    }
   ],
   "source": [
    "print(Person.name) # accessing name using class name"
   ]
  },
  {
   "cell_type": "code",
   "execution_count": 54,
   "id": "55ecd613",
   "metadata": {},
   "outputs": [
    {
     "name": "stdout",
     "output_type": "stream",
     "text": [
      "sushant parpolkar\n"
     ]
    }
   ],
   "source": [
    "print(person.name)# accessing name using instance of class"
   ]
  }
 ],
 "metadata": {
  "kernelspec": {
   "display_name": "Python 3 (ipykernel)",
   "language": "python",
   "name": "python3"
  },
  "language_info": {
   "codemirror_mode": {
    "name": "ipython",
    "version": 3
   },
   "file_extension": ".py",
   "mimetype": "text/x-python",
   "name": "python",
   "nbconvert_exporter": "python",
   "pygments_lexer": "ipython3",
   "version": "3.10.9"
  }
 },
 "nbformat": 4,
 "nbformat_minor": 5
}
