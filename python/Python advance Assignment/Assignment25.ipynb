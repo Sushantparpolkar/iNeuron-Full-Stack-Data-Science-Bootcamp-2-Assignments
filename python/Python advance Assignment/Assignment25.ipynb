{
 "cells": [
  {
   "cell_type": "markdown",
   "id": "24d994c2",
   "metadata": {},
   "source": [
    "# Q1. What is the distinction between a numpy array and a pandas data frame? Is there a way to convert between the two if there is?"
   ]
  },
  {
   "cell_type": "markdown",
   "id": "e649b903",
   "metadata": {},
   "source": [
    "Numpy array is It is the fundamental building block for numerical computations in Python.\n",
    "Pandas DataFrame:It is built on top of NumPy and provides labeled axes.\n",
    "If you're working with numerical data and require heavy numerical computations, you might prefer NumPy arrays. If you're dealing with labeled data, heterogeneous data types, or need to perform data manipulation and analysis, pandas DataFrames would be more suitable."
   ]
  },
  {
   "cell_type": "code",
   "execution_count": 4,
   "id": "f31c0aff",
   "metadata": {},
   "outputs": [
    {
     "name": "stdout",
     "output_type": "stream",
     "text": [
      "   A  B  C\n",
      "0  1  2  3\n",
      "1  4  5  6\n"
     ]
    }
   ],
   "source": [
    "import numpy as np # conversion of numpy to pandas\n",
    "import pandas as pd \n",
    "import pandas as pd\n",
    "\n",
    "np_array= np.array([[1,2,3],[4,5,6]])\n",
    "df = pd.DataFrame(np_array,columns = ['A','B','C'])\n",
    "print(df)"
   ]
  },
  {
   "cell_type": "code",
   "execution_count": 5,
   "id": "c871b6c9",
   "metadata": {},
   "outputs": [
    {
     "name": "stdout",
     "output_type": "stream",
     "text": [
      "[[1 2 3]\n",
      " [4 5 6]]\n"
     ]
    }
   ],
   "source": [
    "np_array = df.to_numpy()\n",
    "print(np_array)"
   ]
  },
  {
   "cell_type": "markdown",
   "id": "22b4a6dd",
   "metadata": {},
   "source": [
    "# Q2. What can go wrong when an user enters in a stock-ticker symbol, and how do you handle it?"
   ]
  },
  {
   "cell_type": "markdown",
   "id": "e3eb0f5a",
   "metadata": {},
   "source": [
    "When a user enters a stock ticker symbol, several things can potentially go wrong, and it's important to handle these situations gracefully to provide a good user experience and accurate information.\n",
    "handling user-entered stock ticker symbols involves a combination of validation, error handling, informative messaging, and ensuring a secure and accurate data retrieval process.   Here are some common issues that can arise and how to handle them:\n",
    "1)Invalid Ticker Symbol 2) Case Sensitivity 3) Network Errors 4)Data Unavailability 5)Data Format Changes 6)Rate Limiting\n",
    "7) Data Accuracy and Delays 8) Security and Privacy"
   ]
  },
  {
   "cell_type": "markdown",
   "id": "cdacd311",
   "metadata": {},
   "source": [
    "# Q3. Identify some of the plotting techniques that are used to produce a stock-market chart."
   ]
  },
  {
   "cell_type": "markdown",
   "id": "1998ac49",
   "metadata": {},
   "source": [
    "Various plotting techniques are used to produce stock market charts, which help visualize the price and volume movements of stocks over time. These charts provide insights into trends, patterns, and trading activity. Here are some common plotting techniques used for stock market charts:Line Chart,Candlestick Chart,OHLC Chart,Bar Chart,Volume Chart.\n"
   ]
  },
  {
   "cell_type": "markdown",
   "id": "93b28136",
   "metadata": {},
   "source": [
    "# Q4. Why is it essential to print a legend on a stock market chart?"
   ]
  },
  {
   "cell_type": "markdown",
   "id": "d63407e4",
   "metadata": {},
   "source": [
    "Printing a legend on a stock market chart is essential because it provides key information about the data being presented on the chart. A legend serves as a guide to help users interpret and understand the various elements, lines, colors, and patterns used in the chart. "
   ]
  },
  {
   "cell_type": "markdown",
   "id": "82708d09",
   "metadata": {},
   "source": [
    "# Q5. What is the best way to limit the length of a pandas data frame to less than a year?"
   ]
  },
  {
   "cell_type": "markdown",
   "id": "97eff10c",
   "metadata": {},
   "source": [
    "We can use start and end parameters for that. In start we write the date from where we are starting and at the end we write the end date. SO within this span we can restric the duration.Also we can use the parameters like periods for how much times we need the duration and we can also use the frequency parameter."
   ]
  },
  {
   "cell_type": "markdown",
   "id": "074b603f",
   "metadata": {},
   "source": [
    "# Q6. What is the definition of a 180-day moving average?"
   ]
  },
  {
   "cell_type": "markdown",
   "id": "f218a068",
   "metadata": {},
   "source": [
    "The purpose of the 180-day moving average is to provide a smoothed trend line that helps identify the overall direction of the data over a longer period, making it easier to observe long-term trends and potential shifts in market sentiment. Traders and analysts use moving averages as tools for technical analysis, helping to filter out short-term noise and focus on more significant price movements.\n"
   ]
  }
 ],
 "metadata": {
  "kernelspec": {
   "display_name": "Python 3 (ipykernel)",
   "language": "python",
   "name": "python3"
  },
  "language_info": {
   "codemirror_mode": {
    "name": "ipython",
    "version": 3
   },
   "file_extension": ".py",
   "mimetype": "text/x-python",
   "name": "python",
   "nbconvert_exporter": "python",
   "pygments_lexer": "ipython3",
   "version": "3.10.9"
  }
 },
 "nbformat": 4,
 "nbformat_minor": 5
}
