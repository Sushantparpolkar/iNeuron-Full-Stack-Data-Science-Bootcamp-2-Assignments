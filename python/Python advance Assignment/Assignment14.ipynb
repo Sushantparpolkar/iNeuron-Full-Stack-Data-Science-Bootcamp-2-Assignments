{
 "cells": [
  {
   "cell_type": "markdown",
   "id": "8f6588d0",
   "metadata": {},
   "source": [
    "# Q1. Is an assignment operator like += only for show? Is it possible that it would lead to faster results at the runtime?"
   ]
  },
  {
   "cell_type": "markdown",
   "id": "66c06ef8",
   "metadata": {},
   "source": [
    "A=A+1 evaluates to finding A, adding 1 to it. Then storing the value again in variable A. This expression makes Python to look for memory holder of a twice. But A+=1 simply means value of A is to incremented by 1. As memory address has to be identified once, += leads to faster operation."
   ]
  },
  {
   "cell_type": "markdown",
   "id": "d264b37b",
   "metadata": {},
   "source": [
    "# Q2. What is the smallest number of statements you&#39;d have to write in most programming languages to replace the Python expression a, b = a + b, a?"
   ]
  },
  {
   "cell_type": "markdown",
   "id": "87b3d1e3",
   "metadata": {},
   "source": [
    "In most programming languages, you would need three statements to replace the Python expression a, b = a + b, a. This is because most programming languages do not support tuple unpacking and simultaneous assignment in the same concise manner as Python."
   ]
  },
  {
   "cell_type": "raw",
   "id": "d9d17526",
   "metadata": {},
   "source": [
    "temp = a + b\n",
    "a = temp\n",
    "b = a"
   ]
  },
  {
   "cell_type": "markdown",
   "id": "a96230a6",
   "metadata": {},
   "source": [
    "# Q3. In Python, what is the most effective way to set a list of 100 integers to 0?"
   ]
  },
  {
   "cell_type": "code",
   "execution_count": 3,
   "id": "4693520a",
   "metadata": {},
   "outputs": [
    {
     "name": "stdout",
     "output_type": "stream",
     "text": [
      "list : [0, 0, 0, 0, 0, 0, 0, 0, 0, 0, 0, 0, 0, 0, 0, 0, 0, 0, 0, 0, 0, 0, 0, 0, 0, 0, 0, 0, 0, 0, 0, 0, 0, 0, 0, 0, 0, 0, 0, 0, 0, 0, 0, 0, 0, 0, 0, 0, 0, 0, 0, 0, 0, 0, 0, 0, 0, 0, 0, 0, 0, 0, 0, 0, 0, 0, 0, 0, 0, 0, 0, 0, 0, 0, 0, 0, 0, 0, 0, 0, 0, 0, 0, 0, 0, 0, 0, 0, 0, 0, 0, 0, 0, 0, 0, 0, 0, 0, 0, 0, 0]\n"
     ]
    }
   ],
   "source": [
    "list = [0 for x in range(101)]\n",
    "print(\"list :\",list)"
   ]
  },
  {
   "cell_type": "code",
   "execution_count": 9,
   "id": "38fb260e",
   "metadata": {},
   "outputs": [
    {
     "name": "stdout",
     "output_type": "stream",
     "text": [
      "list [0, 0, 0, 0, 0, 0, 0, 0, 0, 0, 0, 0, 0, 0, 0, 0, 0, 0, 0, 0, 0, 0, 0, 0, 0, 0, 0, 0, 0, 0, 0, 0, 0, 0, 0, 0, 0, 0, 0, 0, 0, 0, 0, 0, 0, 0, 0, 0, 0, 0, 0, 0, 0, 0, 0, 0, 0, 0, 0, 0, 0, 0, 0, 0, 0, 0, 0, 0, 0, 0, 0, 0, 0, 0, 0, 0, 0, 0, 0, 0, 0, 0, 0, 0, 0, 0, 0, 0, 0, 0, 0, 0, 0, 0, 0, 0, 0, 0, 0, 0]\n"
     ]
    }
   ],
   "source": [
    "list1 = [0] * 100\n",
    "print(\"list\",list1)"
   ]
  },
  {
   "cell_type": "markdown",
   "id": "4e0718bd",
   "metadata": {},
   "source": [
    "# Q4. What is the most effective way to initialise a list of 99 integers that repeats the sequence 1, 2, 3? S If necessary, show step-by-step instructions on how to accomplish this."
   ]
  },
  {
   "cell_type": "code",
   "execution_count": 12,
   "id": "6681ab52",
   "metadata": {},
   "outputs": [
    {
     "name": "stdout",
     "output_type": "stream",
     "text": [
      "[1, 2, 3, 1, 2, 3, 1, 2, 3, 1, 2, 3, 1, 2, 3, 1, 2, 3, 1, 2, 3, 1, 2, 3, 1, 2, 3, 1, 2, 3, 1, 2, 3, 1, 2, 3, 1, 2, 3, 1, 2, 3, 1, 2, 3, 1, 2, 3, 1, 2, 3, 1, 2, 3, 1, 2, 3, 1, 2, 3, 1, 2, 3, 1, 2, 3, 1, 2, 3, 1, 2, 3, 1, 2, 3, 1, 2, 3, 1, 2, 3, 1, 2, 3, 1, 2, 3, 1, 2, 3, 1, 2, 3, 1, 2, 3, 1, 2, 3]"
     ]
    }
   ],
   "source": [
    "my_list = [1,2,3]*33\n",
    "print(my_list,end='')"
   ]
  },
  {
   "cell_type": "markdown",
   "id": "9071b76f",
   "metadata": {},
   "source": [
    "# Q5. If you&#39;re using IDLE to run a Python application, explain how to print a multidimensional list as efficiently?"
   ]
  },
  {
   "cell_type": "code",
   "execution_count": 14,
   "id": "14414383",
   "metadata": {},
   "outputs": [
    {
     "name": "stdout",
     "output_type": "stream",
     "text": [
      "2 4 6 8 \n",
      "1 3 5 7 \n",
      "8 6 4 2 \n",
      "7 5 3 1 \n"
     ]
    }
   ],
   "source": [
    "a = [[2,4,6,8],\n",
    "    [1,3,5,7],\n",
    "    [8,6,4,2],\n",
    "    [7,5,3,1]]\n",
    "for i in range(len(a)):\n",
    "    for j in range(len(a[i])):\n",
    "        print(a[i][j],end=' ')\n",
    "    print()\n",
    "        "
   ]
  },
  {
   "cell_type": "markdown",
   "id": "37b24064",
   "metadata": {},
   "source": [
    "# Q6. Is it possible to use list comprehension with a string? If so, how can you go about doing it?"
   ]
  },
  {
   "cell_type": "code",
   "execution_count": 18,
   "id": "aa4a78c9",
   "metadata": {},
   "outputs": [
    {
     "data": {
      "text/plain": [
       "['H', 'e', 'l', 'l', 'o', ' ', 's', 'i', 'r']"
      ]
     },
     "execution_count": 18,
     "metadata": {},
     "output_type": "execute_result"
    }
   ],
   "source": [
    "string = \"Hello sir\"\n",
    "list1 = [char for char in string]\n",
    "list1"
   ]
  },
  {
   "cell_type": "markdown",
   "id": "8386506b",
   "metadata": {},
   "source": [
    "# Q7. From the command line, how do you get support with a user-written Python programme? Is this possible from inside IDLE?"
   ]
  },
  {
   "cell_type": "markdown",
   "id": "6cd3cb57",
   "metadata": {},
   "source": [
    ": Get support with a user-written Python Programme: Start a command prompt (Windows) or terminal window (Linux/Mac). If the current working directory is the same as the location in which you saved the file, you can simply specify the filename as a command-line argument to the Python interpreter.\n",
    "\n",
    "Get support with a User-written Python Program from IDLE: You can also create script files and run them in IDLE. From the Shell window menu, select File → New File. That should open an additional editing window. Type in the code to be executed. From the menu in that window, select File → Save or File → Save As… and save the file to disk. Then select Run → Run Module. The output should appear back in the interpreter"
   ]
  },
  {
   "cell_type": "markdown",
   "id": "8e3d45d5",
   "metadata": {},
   "source": [
    "# Q8. Functions are said to be “first-class objects” in Python but not in most other languages, such as C++ or Java. What can you do in Python with a function (callable object) that you can&#39;t do in C or C++?"
   ]
  },
  {
   "cell_type": "markdown",
   "id": "73306f10",
   "metadata": {},
   "source": [
    "In Python, functions are considered first-class objects, which means they have a special status that allows you to treat them like any other object, such as integers, strings, or lists. This provides several capabilities that are not available in languages like C or C++, where functions are not first-class citizens. Here are some things you can do with functions in Python that you can't do in C or C++:\n",
    "\n",
    "Pass Functions as Arguments:\n",
    "In Python, you can pass functions as arguments to other functions. This is commonly used in higher-order functions, callbacks, and event handling.\n",
    "\n",
    "Return Functions from Functions:\n",
    "Python allows functions to return other functions as results. This enables powerful patterns like closures and function factories.\n",
    "\n",
    "Assign Functions to Variables:\n",
    "Functions can be assigned to variables, making it easy to create aliases or dynamically choose which function to call.\n",
    "\n",
    "Store Functions in Data Structures:\n",
    "You can store functions in lists, dictionaries, sets, or other data structures. This is useful for managing and organizing different behaviors.\n",
    "\n",
    "Define Functions Inside Other Functions:\n",
    "Python allows you to define functions within other functions. These are called nested functions or inner functions.\n",
    "\n",
    "Use Functions as Elements of Other Objects:\n",
    "Functions can be used as elements in objects like classes, allowing you to define behavior and logic directly within objects.\n",
    "\n",
    "Apply Functions Dynamically:\n",
    "You can apply functions dynamically based on conditions or user input, making your code more flexible and adaptable.\n",
    "\n",
    "Implement Higher-Order Functions:\n",
    "Python supports higher-order functions, which are functions that take one or more functions as arguments and return a new function. This is a powerful concept for functional programming.\n",
    "\n",
    "Closures and Lexical Scoping:\n",
    "Functions in Python have access to variables in the enclosing scope, even after the outer function has finished execution. This allows you to create closures, which capture the environment in which they were created."
   ]
  },
  {
   "cell_type": "markdown",
   "id": "463a5b46",
   "metadata": {},
   "source": [
    "# Q9. How do you distinguish between a wrapper, a wrapped feature, and a decorator?"
   ]
  },
  {
   "cell_type": "markdown",
   "id": "adc3d921",
   "metadata": {},
   "source": [
    "a wrapper is a general design pattern that involves adding functionality around an existing feature. The wrapped feature is the original functionality being wrapped. A decorator is a specific type of wrapper used in Python to add behavior to functions or methods dynamically. While the concepts are related, they have distinct meanings and usages in software development."
   ]
  },
  {
   "cell_type": "code",
   "execution_count": 21,
   "id": "d25bed75",
   "metadata": {},
   "outputs": [
    {
     "name": "stdout",
     "output_type": "stream",
     "text": [
      "I'm just an ordinary function.\n",
      "modification made for parameter function.\n"
     ]
    }
   ],
   "source": [
    "def decorator_function(func):\n",
    "    def wrapper_function():\n",
    "        func()\n",
    "        print(\"modification made for parameter function.\")\n",
    "    return wrapper_function\n",
    "\n",
    "def ordinary_function():\n",
    "    print(\"I'm just an ordinary function.\")\n",
    "    \n",
    "    \n",
    "pretty = decorator_function(ordinary_function)\n",
    "pretty()"
   ]
  },
  {
   "cell_type": "markdown",
   "id": "f6292362",
   "metadata": {},
   "source": [
    "# Q10. If a function is a generator function, what does it return?"
   ]
  },
  {
   "cell_type": "markdown",
   "id": "530de9b6",
   "metadata": {},
   "source": [
    "A generator function in Python returns a generator object. Unlike regular functions that execute and return a single value, generator functions create a special type of iterable that produces a sequence of values lazily. This means that the values are generated one at a time and are not stored in memory all at once, making generators memory-efficient for dealing with large datasets or sequences"
   ]
  },
  {
   "cell_type": "code",
   "execution_count": 26,
   "id": "69981022",
   "metadata": {},
   "outputs": [
    {
     "name": "stdout",
     "output_type": "stream",
     "text": [
      "<generator object countdown at 0x00000259BED8E6C0>\n",
      "5  4  3  2  1  "
     ]
    }
   ],
   "source": [
    "def countdown (n):\n",
    "    while n>0:\n",
    "        yield n\n",
    "        n-=1\n",
    "    \n",
    "countdown_generator = countdown(5)\n",
    "print(countdown_generator)\n",
    "for value in countdown_generator:\n",
    "    print(value , end='  ')"
   ]
  },
  {
   "cell_type": "markdown",
   "id": "a90d6b9d",
   "metadata": {},
   "source": [
    "# Q11. What is the one improvement that must be made to a function in order for it to become a generator function in the Python language?"
   ]
  },
  {
   "cell_type": "markdown",
   "id": "2291d6b5",
   "metadata": {},
   "source": [
    " Generator is a written as normal function but uses yield keyword to return values instead of return keyword."
   ]
  },
  {
   "cell_type": "markdown",
   "id": "3d741cd4",
   "metadata": {},
   "source": [
    "# Q12. Identify at least one benefit of generators."
   ]
  },
  {
   "cell_type": "markdown",
   "id": "eeaf6fe4",
   "metadata": {},
   "source": [
    "Reduced Memory Consumption: Generators allow you to work with large data sets or sequences without loading everything into memory simultaneously. This is particularly beneficial when dealing with large files, datasets, or streams of data.\n",
    "\n",
    "Faster Start-Up Time: Since generators generate values lazily, they can start producing results more quickly compared to creating and storing an entire sequence before processing.\n",
    "\n",
    "Efficient Iteration: Generators are iterable, making them suitable for looping and iterating through elements. They generate values one at a time, which is often more efficient than creating a list or other data structure upfront.\n",
    "\n",
    "Lazy Evaluation: Generators provide a form of lazy evaluation, meaning they compute values only when needed. This can lead to more efficient and optimized processing, especially in scenarios where not all values are required.\n",
    "\n",
    "Infinite Sequences: Generators can represent infinite sequences, such as counting numbers or generating an infinite stream of data. Since values are produced on-the-fly, you don't need to worry about memory limitations.\n",
    "\n",
    "Chaining and Piping: Generators can be easily chained together or combined using various generator functions, allowing you to create complex data processing pipelines in a readable and efficient manner.\n",
    "\n",
    "Stateful Iteration: Generators can maintain state across iterations, making them suitable for scenarios where the order or context of elements matters."
   ]
  }
 ],
 "metadata": {
  "kernelspec": {
   "display_name": "Python 3 (ipykernel)",
   "language": "python",
   "name": "python3"
  },
  "language_info": {
   "codemirror_mode": {
    "name": "ipython",
    "version": 3
   },
   "file_extension": ".py",
   "mimetype": "text/x-python",
   "name": "python",
   "nbconvert_exporter": "python",
   "pygments_lexer": "ipython3",
   "version": "3.10.9"
  }
 },
 "nbformat": 4,
 "nbformat_minor": 5
}
