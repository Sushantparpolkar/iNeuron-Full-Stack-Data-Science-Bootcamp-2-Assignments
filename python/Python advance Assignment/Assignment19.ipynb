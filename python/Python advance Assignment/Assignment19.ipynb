{
 "cells": [
  {
   "cell_type": "markdown",
   "id": "edf44e46",
   "metadata": {},
   "source": [
    "# Q1. Define the relationship between a class and its instances. Is it a one-to-one or a one-to-many partnership, for example?"
   ]
  },
  {
   "cell_type": "markdown",
   "id": "d972cb2c",
   "metadata": {},
   "source": [
    "The relationship between a class and its instances in object-oriented programming is typically a one-to-many relationship. This means that a single class can have multiple instances created based on it. Each instance is an individual object with its own unique data and state, but they all share the same class structure and behavior defined by the class."
   ]
  },
  {
   "cell_type": "code",
   "execution_count": 2,
   "id": "3a992a74",
   "metadata": {},
   "outputs": [],
   "source": [
    "class Car:\n",
    "    def __init__(self,name,model): \n",
    "        self.name=name\n",
    "        self.model=model\n",
    "    \n",
    "    def start_engine(self):\n",
    "        print(f\"The {self.name} and {self.model} engine is running\")\n",
    "    \n",
    "car1= Car(\"toyota\",'camry')\n",
    "car2 = Car(\"ford\",\"mustang\")"
   ]
  },
  {
   "cell_type": "code",
   "execution_count": 7,
   "id": "9fd0933a",
   "metadata": {},
   "outputs": [
    {
     "name": "stdout",
     "output_type": "stream",
     "text": [
      "The toyota and camry engine is running\n",
      "None\n",
      "The ford and mustang engine is running\n",
      "None\n"
     ]
    }
   ],
   "source": [
    "print(car1.start_engine())\n",
    "print(car2.start_engine())"
   ]
  },
  {
   "cell_type": "markdown",
   "id": "5fc48009",
   "metadata": {},
   "source": [
    "# Q2. What kind of data is held only in an instance?"
   ]
  },
  {
   "cell_type": "markdown",
   "id": "d790f399",
   "metadata": {},
   "source": [
    "iInstance-specific data, which is held only in individual instances of a class, is often referred to as instance-specific state. This data is unique to each object created from the class and is stored in instance variables. Instance variables hold the data that defines the characteristics and current state of an object"
   ]
  },
  {
   "cell_type": "markdown",
   "id": "dee7ebc1",
   "metadata": {},
   "source": [
    "# Q3. What kind of knowledge is stored in a class?"
   ]
  },
  {
   "cell_type": "raw",
   "id": "2d8b0d6c",
   "metadata": {},
   "source": [
    "# A class in object-oriented programming serves as a blueprint or template for creating objects. It encapsulates both the structure (attributes or properties) and behavior (methods or functions) that objects of that class will have. The knowledge stored in a class includes:\n",
    "i)Attributes or Properties\n",
    "ii)Methods or Functions\n",
    "iii)Constructor (__init__ method)\n",
    "iv)Class Variables\n",
    "v)Inheritance Hierarchy\n",
    "vi)Documentation and Comments\n",
    "vii)Design Patterns\n",
    "viii)Abstraction and Encapsulation"
   ]
  },
  {
   "cell_type": "markdown",
   "id": "fe403864",
   "metadata": {},
   "source": [
    "# Q4. What exactly is a method, and how is it different from a regular function?"
   ]
  },
  {
   "cell_type": "markdown",
   "id": "b86cfb53",
   "metadata": {},
   "source": [
    "Scope and Association:\n",
    "\n",
    "Functions are defined globally or within a module and can be called from anywhere in the program.\n",
    "Methods are defined within a class and are associated with instances of that class. They operate on the instance's data and attributes.\n",
    "\n",
    "Invocation:\n",
    "Functions are called by their name followed by parentheses, passing arguments if needed.\n",
    "Methods are called using the instance name, followed by dot notation and the method name, again passing arguments if needed.\n",
    "\n",
    "Access to Data:\n",
    "Functions typically operate on their inputs and any data passed to them, but they do not have access to the internal state of objects unless explicitly provided as arguments.\n",
    "Methods have access to the instance's attributes and can modify its state directly."
   ]
  },
  {
   "cell_type": "markdown",
   "id": "0ac31049",
   "metadata": {},
   "source": [
    "# Q5. Is inheritance supported in Python, and if so, what is the syntax?"
   ]
  },
  {
   "cell_type": "raw",
   "id": "049cb32d",
   "metadata": {},
   "source": [
    "Yes, inheritance is a fundamental concept in object-oriented programming, and it is fully supported in Python. Inheritance allows you to create a new class that inherits attributes and methods from an existing class. The new class is called the subclass or derived class, and the existing class is called the superclass or base class.\n",
    "The Types of Inheritence Supported by Python are:\n",
    "\n",
    "Simple Inheritence\n",
    "Multiple Inheritence\n",
    "Multilevel lInheritence\n",
    "Hybrid Inheritence\n",
    "Hierracial Inheritence\n",
    "The syntax for creating a subclass and inheriting from a superclass in Python is as follows:"
   ]
  },
  {
   "cell_type": "code",
   "execution_count": null,
   "id": "8597e1d2",
   "metadata": {},
   "outputs": [],
   "source": [
    "class Superclass:\n",
    "    # Base class attributes and methods\n",
    "\n",
    "class Subclass(Superclass):\n",
    "    # Subclass attributes and methods\n"
   ]
  },
  {
   "cell_type": "code",
   "execution_count": null,
   "id": "ebc4c17a",
   "metadata": {},
   "outputs": [],
   "source": [
    "class Person:\n",
    "    def __init__(self, fname, lname):\n",
    "        self.first_name = fname\n",
    "        self.last_name = lname\n",
    "class Student(Person):\n",
    "    pass"
   ]
  },
  {
   "cell_type": "markdown",
   "id": "ade91dcf",
   "metadata": {},
   "source": [
    "# Q6. How much encapsulation (making instance or class variables private) does Python support?"
   ]
  },
  {
   "cell_type": "markdown",
   "id": "2565be04",
   "metadata": {},
   "source": [
    "In Python, encapsulation is supported to a certain extent through naming conventions and access modifiers, but it is not enforced in the same way as in some other programming languages.\n",
    "Here are the levels of encapsulation that Python supports:\n",
    "i)Public Members:By default, all members (variables and methods) of a class are considered public and can be accessed from outside the class.\n",
    "ii)Protected Members:Python uses a naming convention to indicate that a member is intended to be protected (not to be accessed from outside the class, but still accessible).\n",
    "iii)Private Members: Similar to protected members, Python uses a naming convention to indicate that a member is intended to be private (not to be accessed from outside the class)"
   ]
  },
  {
   "cell_type": "code",
   "execution_count": 19,
   "id": "bf63d602",
   "metadata": {},
   "outputs": [
    {
     "name": "stdout",
     "output_type": "stream",
     "text": [
      "I am public\n",
      "I am protected variable\n",
      "I am private variable\n"
     ]
    }
   ],
   "source": [
    "class Myclass:\n",
    "    def __init__(self):\n",
    "        self.public_var = \"I am public\"\n",
    "        self._protected_var =\"I am protected variable\"\n",
    "        self.__private_var = \"I am private variable\"\n",
    "        \n",
    "    def print_vars(self):\n",
    "        print(self.public_var)\n",
    "        print(self._protected_var)\n",
    "        print(self.__private_var)\n",
    "        \n",
    "obj = Myclass()\n",
    "\n",
    "print(obj.public_var)\n",
    "print(obj._protected_var)\n",
    "\n",
    "\n",
    "\n",
    "print(obj._Myclass__private_var)\n"
   ]
  },
  {
   "cell_type": "markdown",
   "id": "fac9e467",
   "metadata": {},
   "source": [
    "# Q7. How do you distinguish between a class variable and an instance variable?"
   ]
  },
  {
   "cell_type": "markdown",
   "id": "dd1513e5",
   "metadata": {},
   "source": [
    "Class Variable:\n",
    "\n",
    "Definition: A class variable is a variable that is defined at the class level. It is shared among all instances of the class.\n",
    "\n",
    "Access: Class variables are accessed using the class name itself or an instance of the class. When accessed through an instance, any modifications to the class variable affect all instances of the class.\n",
    "\n",
    "Usage: Class variables are often used to store data that is shared among all instances of the class. They represent attributes or characteristics that are common to all instances.\n",
    "    \n",
    "    \n",
    "Instance Variable:\n",
    "\n",
    "Definition: An instance variable is a variable that is unique to each instance of a class. It is defined within the methods of the class and is specific to the instance that is being operated on.\n",
    "\n",
    "Access: Instance variables are accessed using the instance name. Each instance has its own copy of the instance variables, and modifications to one instance do not affect others.\n",
    "\n",
    "Usage: Instance variables are used to store data that is specific to an individual object or instance. They represent the state or characteristics of each instance.    "
   ]
  },
  {
   "cell_type": "markdown",
   "id": "686d7933",
   "metadata": {},
   "source": [
    "# Q8. When, if ever, can self be included in a class&#39;s method definitions?"
   ]
  },
  {
   "cell_type": "raw",
   "id": "031555f6",
   "metadata": {},
   "source": [
    "In object-oriented programming, the self parameter is a common convention in many programming languages, including Python. It refers to the instance of the class itself and is typically the first parameter in method definitions. It allows you to access and manipulate the instance's attributes and methods from within the method."
   ]
  },
  {
   "cell_type": "markdown",
   "id": "350e3902",
   "metadata": {},
   "source": [
    "# Q9. What is the difference between the _ _add_ _ and the _ _radd_ _ methods?"
   ]
  },
  {
   "cell_type": "markdown",
   "id": "0c524197",
   "metadata": {},
   "source": [
    "__add__ Method:\n",
    "\n",
    "The __add__ method defines the behavior of the addition operation when your object is on the left-hand side of the + operator.\n",
    "It takes two arguments: self (the instance on the left side) and other (the object on the right side of the + operator).\n",
    "\n",
    "\n",
    "\n",
    "__radd__ Method:\n",
    "\n",
    "The __radd__ method stands for \"right-side add\" and is called when the left-hand side object does not support the addition operation with the right-hand side object.\n",
    "It takes two arguments: self (the instance on the right side) and other (the object on the left side of the + operator)."
   ]
  },
  {
   "cell_type": "markdown",
   "id": "790cbac4",
   "metadata": {},
   "source": [
    "# Q10. When is it necessary to use a reflection method? When do you not need it, even though you support the operation in question?"
   ]
  },
  {
   "cell_type": "markdown",
   "id": "000e2108",
   "metadata": {},
   "source": [
    " Reflection method we often encounter the requirement that a method in the executing object, or a variable in the calling object, or a field of the object should be assigned, while the method name or field name can not be determined when encoding the code, and need to be input in the form of passing strings through parameters. Reflection method we often encounter the requirement that a method in the executing object, or a variable in the calling object, or a field of the object should be assigned, while the method name or field name can not be determined when encoding the code, and need to be input in the form of passing strings through parameters."
   ]
  },
  {
   "cell_type": "markdown",
   "id": "825307a9",
   "metadata": {},
   "source": [
    "# Q11. What is the _ _iadd_ _ method called?"
   ]
  },
  {
   "cell_type": "markdown",
   "id": "ff95d145",
   "metadata": {},
   "source": [
    "The __iadd__ method is called when the += (in-place addition) operator is used with an object. It allows you to define the behavior of the in-place addition operation for instances of your class."
   ]
  },
  {
   "cell_type": "code",
   "execution_count": 15,
   "id": "8a899666",
   "metadata": {},
   "outputs": [
    {
     "name": "stdout",
     "output_type": "stream",
     "text": [
      "30\n"
     ]
    }
   ],
   "source": [
    "class Number:\n",
    "    def __init__(self,value):\n",
    "        self.value=value\n",
    "        \n",
    "    def __iadd__(self,other):\n",
    "        self.value+=other.value\n",
    "        return self\n",
    "    \n",
    "num1 =Number(10)\n",
    "num2 = Number(20)\n",
    "\n",
    "num1+=num2\n",
    "print(num1.value)"
   ]
  },
  {
   "cell_type": "markdown",
   "id": "c16e6db8",
   "metadata": {},
   "source": [
    "# Q12. Is the _ _init_ _ method inherited by subclasses? What do you do if you need to customize its behavior within a subclass?"
   ]
  },
  {
   "cell_type": "markdown",
   "id": "2a3019de",
   "metadata": {},
   "source": [
    "Yes, __init__ method will be inherited by subclasses. if we want to customize its behaviour within a subclass we can use super() method."
   ]
  }
 ],
 "metadata": {
  "kernelspec": {
   "display_name": "Python 3 (ipykernel)",
   "language": "python",
   "name": "python3"
  },
  "language_info": {
   "codemirror_mode": {
    "name": "ipython",
    "version": 3
   },
   "file_extension": ".py",
   "mimetype": "text/x-python",
   "name": "python",
   "nbconvert_exporter": "python",
   "pygments_lexer": "ipython3",
   "version": "3.10.9"
  }
 },
 "nbformat": 4,
 "nbformat_minor": 5
}
