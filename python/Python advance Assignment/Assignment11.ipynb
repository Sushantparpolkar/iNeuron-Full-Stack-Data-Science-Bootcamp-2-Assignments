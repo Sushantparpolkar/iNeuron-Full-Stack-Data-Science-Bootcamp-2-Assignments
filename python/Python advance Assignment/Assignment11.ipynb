{
 "cells": [
  {
   "cell_type": "markdown",
   "id": "a8612494",
   "metadata": {},
   "source": [
    "# Q1. What is the concept of a metaclass?"
   ]
  },
  {
   "cell_type": "markdown",
   "id": "f195bb0f",
   "metadata": {},
   "source": [
    " A metaclass is a class that defines the behavior of other classes, specifically how they are created and behave.\n",
    "\n",
    "In Python, when you create a class, it is an instance of its metaclass. The default metaclass for all new-style classes (those that inherit from object) is called type. However, you can create custom metaclasses by subclassing type.\n",
    "\n",
    "The primary purpose of metaclasses is to control the creation of classes, giving you the ability to customize class creation and behavior at a higher level."
   ]
  },
  {
   "cell_type": "markdown",
   "id": "e09eaf97",
   "metadata": {},
   "source": [
    "# Q2. What is the best way to declare a class&#39;s metaclass?"
   ]
  },
  {
   "cell_type": "code",
   "execution_count": 5,
   "id": "b6f4b409",
   "metadata": {},
   "outputs": [
    {
     "name": "stdout",
     "output_type": "stream",
     "text": [
      "10\n",
      "<class 'type'>\n",
      "<class '__main__.MetaClass'>\n"
     ]
    }
   ],
   "source": [
    "class MetaClass (type):\n",
    "    def __new__(self,name,base,dct):\n",
    "        obj = super().__new__(self,name,base,dct)\n",
    "        obj.attribute = 10\n",
    "        return obj\n",
    "\n",
    "class CustomClass(metaclass = MetaClass):\n",
    "    pass\n",
    "print(CustomeClass.attribute)\n",
    "print(type(MetaClass))\n",
    "print(type(CustomClass))"
   ]
  },
  {
   "cell_type": "markdown",
   "id": "e34f38f5",
   "metadata": {},
   "source": [
    "# Q3. How do class decorators overlap with metaclasses for handling classes?"
   ]
  },
  {
   "cell_type": "markdown",
   "id": "a3f56372",
   "metadata": {},
   "source": [
    "decorators and metaclasses are two separate concepts, they can be used together to achieve more complex functionality. For example, you can use a decorator to add a method to a class, and then use a metaclass to modify the behavior of that method."
   ]
  },
  {
   "cell_type": "code",
   "execution_count": 6,
   "id": "1bb9a77f",
   "metadata": {},
   "outputs": [
    {
     "name": "stdout",
     "output_type": "stream",
     "text": [
      "Hello, World!\n",
      "Hello, World!\n"
     ]
    },
    {
     "ename": "Exception",
     "evalue": "Call limit reached",
     "output_type": "error",
     "traceback": [
      "\u001b[1;31m---------------------------------------------------------------------------\u001b[0m",
      "\u001b[1;31mException\u001b[0m                                 Traceback (most recent call last)",
      "Cell \u001b[1;32mIn[6], line 36\u001b[0m\n\u001b[0;32m     34\u001b[0m a\u001b[38;5;241m.\u001b[39mmy_method()\n\u001b[0;32m     35\u001b[0m a\u001b[38;5;241m.\u001b[39mmy_method()\n\u001b[1;32m---> 36\u001b[0m \u001b[43ma\u001b[49m\u001b[38;5;241;43m.\u001b[39;49m\u001b[43mmy_method\u001b[49m\u001b[43m(\u001b[49m\u001b[43m)\u001b[49m\n",
      "Cell \u001b[1;32mIn[6], line 16\u001b[0m, in \u001b[0;36mCallLimited.__call__\u001b[1;34m(self, *args, **kwargs)\u001b[0m\n\u001b[0;32m     14\u001b[0m \u001b[38;5;28;01mdef\u001b[39;00m \u001b[38;5;21m__call__\u001b[39m(\u001b[38;5;28mself\u001b[39m, \u001b[38;5;241m*\u001b[39margs, \u001b[38;5;241m*\u001b[39m\u001b[38;5;241m*\u001b[39mkwargs):\n\u001b[0;32m     15\u001b[0m     \u001b[38;5;28;01mif\u001b[39;00m \u001b[38;5;28mself\u001b[39m\u001b[38;5;241m.\u001b[39mcalls \u001b[38;5;241m>\u001b[39m\u001b[38;5;241m=\u001b[39m \u001b[38;5;28mself\u001b[39m\u001b[38;5;241m.\u001b[39mlimit:\n\u001b[1;32m---> 16\u001b[0m         \u001b[38;5;28;01mraise\u001b[39;00m \u001b[38;5;167;01mException\u001b[39;00m(\u001b[38;5;124m\"\u001b[39m\u001b[38;5;124mCall limit reached\u001b[39m\u001b[38;5;124m\"\u001b[39m)\n\u001b[0;32m     17\u001b[0m     \u001b[38;5;28mself\u001b[39m\u001b[38;5;241m.\u001b[39mcalls \u001b[38;5;241m+\u001b[39m\u001b[38;5;241m=\u001b[39m \u001b[38;5;241m1\u001b[39m\n\u001b[0;32m     18\u001b[0m     \u001b[38;5;28;01mreturn\u001b[39;00m \u001b[38;5;28mself\u001b[39m\u001b[38;5;241m.\u001b[39mfunc(\u001b[38;5;241m*\u001b[39margs, \u001b[38;5;241m*\u001b[39m\u001b[38;5;241m*\u001b[39mkwargs)\n",
      "\u001b[1;31mException\u001b[0m: Call limit reached"
     ]
    }
   ],
   "source": [
    "class LimitCall(type):\n",
    "    def __init__(cls, name, bases, attrs):\n",
    "        super().__init__(name, bases, attrs)\n",
    "        for key, value in attrs.items():\n",
    "            if hasattr(value, 'call_limit'):\n",
    "                setattr(cls, key, CallLimited(value, value.call_limit))\n",
    "\n",
    "class CallLimited:\n",
    "    def __init__(self, func, limit):\n",
    "        self.func = func\n",
    "        self.limit = limit\n",
    "        self.calls = 0\n",
    "\n",
    "    def __call__(self, *args, **kwargs):\n",
    "        if self.calls >= self.limit:\n",
    "            raise Exception(\"Call limit reached\")\n",
    "        self.calls += 1\n",
    "        return self.func(*args, **kwargs)\n",
    "\n",
    "def call_limited(limit):\n",
    "    def decorator(func):\n",
    "        func.call_limit = limit\n",
    "        return func\n",
    "    return decorator\n",
    "\n",
    "\n",
    "class MyClass(metaclass=LimitCall):\n",
    "    @call_limited(2)\n",
    "    def my_method():\n",
    "        print(\"Hello, World!\")\n",
    "\n",
    "\n",
    "a = MyClass()\n",
    "a.my_method()\n",
    "a.my_method()\n",
    "a.my_method()  # raises an exception \"Call limit reached\""
   ]
  },
  {
   "cell_type": "markdown",
   "id": "5e74a305",
   "metadata": {},
   "source": [
    "# Q4. How do class decorators overlap with metaclasses for handling instances?"
   ]
  },
  {
   "cell_type": "markdown",
   "id": "a3a40585",
   "metadata": {},
   "source": [
    "Anything you can do with a class decorator, you can of course do with a custom metaclass (just apply the functionality of the \"decorator function\", i.e., the one that takes a class object and modifies it, in the course of the metaclass's __new__ or __init__ that make the class object!). class decorators and metaclasses can indirectly impact instances' behavior by modifying the class attributes and methods at the class level. The modifications are applied during class creation, and any changes made to the class are inherited by instances of that class. The key difference is that class decorators are applied externally to a class, whereas metaclasses are involved in the class's creation process."
   ]
  }
 ],
 "metadata": {
  "kernelspec": {
   "display_name": "Python 3 (ipykernel)",
   "language": "python",
   "name": "python3"
  },
  "language_info": {
   "codemirror_mode": {
    "name": "ipython",
    "version": 3
   },
   "file_extension": ".py",
   "mimetype": "text/x-python",
   "name": "python",
   "nbconvert_exporter": "python",
   "pygments_lexer": "ipython3",
   "version": "3.10.9"
  }
 },
 "nbformat": 4,
 "nbformat_minor": 5
}
