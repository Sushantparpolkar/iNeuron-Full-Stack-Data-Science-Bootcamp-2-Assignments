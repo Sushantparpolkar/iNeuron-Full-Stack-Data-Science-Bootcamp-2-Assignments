{
 "cells": [
  {
   "cell_type": "markdown",
   "id": "bab5ea4e",
   "metadata": {},
   "source": [
    "# Q1. What is the purpose of the try statement?"
   ]
  },
  {
   "cell_type": "raw",
   "id": "635c1577",
   "metadata": {},
   "source": [
    "The purpose of the try statement in Python is to define a block of code where exceptions might occur. It allows you to handle exceptions gracefully and perform error handling in a controlled manner. The try statement is an essential part of exception handling in Python, and it helps prevent your program from crashing when unexpected errors or exceptional situations arise during runtime."
   ]
  },
  {
   "cell_type": "code",
   "execution_count": 4,
   "id": "20632e99",
   "metadata": {},
   "outputs": [
    {
     "name": "stdout",
     "output_type": "stream",
     "text": [
      "Please enter a number : jhgg\n",
      "oops That was not a valid number! please try again\n",
      "Please enter a number : jkj\n",
      "oops That was not a valid number! please try again\n",
      "Please enter a number : 3\n"
     ]
    }
   ],
   "source": [
    "while True:\n",
    "    try :\n",
    "        x = int(input(\"Please enter a number : \"))\n",
    "        break\n",
    "    except ValueError:\n",
    "        print(\"oops That was not a valid number! please try again\")"
   ]
  },
  {
   "cell_type": "markdown",
   "id": "585fc686",
   "metadata": {},
   "source": [
    "# Q2. What are the two most popular try statement variations?"
   ]
  },
  {
   "cell_type": "raw",
   "id": "bdf80dde",
   "metadata": {},
   "source": [
    "The Popular try statement variations are:\n",
    "\n",
    "try,except\n",
    "try,except,finally\n",
    "try,except,else,finally\n",
    "The try block is used to check code for exceptions during runtime. ie code inside try block will execute completely when there is no error in the program. Whereas the code inside except block will execute whenever the program encounters some error in the preceeding try block.\n",
    "\n",
    "Whereas the code enters the else block if and only if the try clause does not raise and exception. The code in the finally block will execute irrespective of exception."
   ]
  },
  {
   "cell_type": "code",
   "execution_count": 12,
   "id": "82bc8aa3",
   "metadata": {},
   "outputs": [
    {
     "name": "stdout",
     "output_type": "stream",
     "text": [
      "Error : file not found\n",
      "operation has performed\n"
     ]
    }
   ],
   "source": [
    "def read_file_Contents(file_path):\n",
    "    try:\n",
    "        \n",
    "        with open(file_path,'r') as file:\n",
    "            content = file.read()\n",
    "    except FileNotFoundError as fnfe:\n",
    "        print(\"Error : file not found\")\n",
    "    else:\n",
    "        print(\"file contents\",content)\n",
    "    finally:\n",
    "        print(\"operation has performed\")\n",
    "file_path=r'H:\\datascience\\Assignment\\python advance\\text1.txt'   \n",
    "read_file_Contents(file_path)"
   ]
  },
  {
   "cell_type": "markdown",
   "id": "5cdeefda",
   "metadata": {},
   "source": [
    "# Q3. What is the purpose of the raise statement?"
   ]
  },
  {
   "cell_type": "raw",
   "id": "f2f280f3",
   "metadata": {},
   "source": [
    "The purpose of the raise statement in Python is to explicitly raise an exception during program execution. It allows you to signal that an exceptional situation has occurred or indicate a specific error condition in your code. By using the raise statement, you can create and raise your own custom exceptions or raise built-in exceptions provided by Python."
   ]
  },
  {
   "cell_type": "markdown",
   "id": "8c859d52",
   "metadata": {},
   "source": [
    "# Q4. What does the assert statement do, and what other statement is it like?"
   ]
  },
  {
   "cell_type": "raw",
   "id": "13c34d9d",
   "metadata": {},
   "source": [
    "The assert statement in Python is used to check conditions during program execution. It allows you to ensure that certain conditions must be true at specific points in your code. If the condition specified in the assert statement evaluates to False, it raises an AssertionError, indicating that an assumption in your code has failed.\n",
    "The purpose of the assert statement is primarily for debugging and testing purposes."
   ]
  },
  {
   "cell_type": "code",
   "execution_count": 17,
   "id": "d5d1ae85",
   "metadata": {},
   "outputs": [
    {
     "ename": "AssertionError",
     "evalue": "wrong interpretation",
     "output_type": "error",
     "traceback": [
      "\u001b[1;31m---------------------------------------------------------------------------\u001b[0m",
      "\u001b[1;31mAssertionError\u001b[0m                            Traceback (most recent call last)",
      "Cell \u001b[1;32mIn[17], line 3\u001b[0m\n\u001b[0;32m      1\u001b[0m x\u001b[38;5;241m=\u001b[39m\u001b[38;5;241m10\u001b[39m\n\u001b[0;32m      2\u001b[0m y\u001b[38;5;241m=\u001b[39m\u001b[38;5;241m2\u001b[39m\n\u001b[1;32m----> 3\u001b[0m \u001b[38;5;28;01massert\u001b[39;00m x\u001b[38;5;241m==\u001b[39my ,(\u001b[38;5;124m\"\u001b[39m\u001b[38;5;124mwrong interpretation\u001b[39m\u001b[38;5;124m\"\u001b[39m)\n",
      "\u001b[1;31mAssertionError\u001b[0m: wrong interpretation"
     ]
    }
   ],
   "source": [
    "x=10\n",
    "y=2\n",
    "assert x==y ,(\"wrong interpretation\")"
   ]
  },
  {
   "cell_type": "markdown",
   "id": "acd2e523",
   "metadata": {},
   "source": [
    "# Q5. What is the purpose of the with/as argument, and what other statement is it like?"
   ]
  },
  {
   "cell_type": "raw",
   "id": "693e636d",
   "metadata": {},
   "source": [
    "The with/as statement in Python is used for context management. It allows you to simplify the management of resources that need to be acquired and released properly, such as file handling, database connections, and network connections. The with/as statement ensures that the acquired resources are properly cleaned up and released, even if exceptions occur during the execution of the code within the block.\n",
    "The with statement automatically closes the file after you’ve completed writing it."
   ]
  },
  {
   "cell_type": "code",
   "execution_count": 27,
   "id": "9bac7d1d",
   "metadata": {},
   "outputs": [],
   "source": [
    "with open('test.txt',\"x\") as file:\n",
    "    file.write(\"Hello world\")"
   ]
  }
 ],
 "metadata": {
  "kernelspec": {
   "display_name": "Python 3 (ipykernel)",
   "language": "python",
   "name": "python3"
  },
  "language_info": {
   "codemirror_mode": {
    "name": "ipython",
    "version": 3
   },
   "file_extension": ".py",
   "mimetype": "text/x-python",
   "name": "python",
   "nbconvert_exporter": "python",
   "pygments_lexer": "ipython3",
   "version": "3.10.9"
  }
 },
 "nbformat": 4,
 "nbformat_minor": 5
}
