{
 "cells": [
  {
   "cell_type": "markdown",
   "id": "93777dda",
   "metadata": {},
   "source": [
    "# Q1. In Python 3.X, what are the names and functions of string object types?"
   ]
  },
  {
   "cell_type": "markdown",
   "id": "550a489e",
   "metadata": {},
   "source": [
    "In Python 3.x, strings are objects, and they have several built-in methods that allow you to manipulate and work with strings. Here are some common string methods and their functions:\n",
    "\n",
    "1. `str.capitalize()`: Returns a copy of the string with the first character capitalized and the rest in lowercase.\n",
    "\n",
    "2. `str.upper()`: Returns a copy of the string with all characters in uppercase.\n",
    "\n",
    "3. `str.lower()`: Returns a copy of the string with all characters in lowercase.\n",
    "\n",
    "4. `str.title()`: Returns a copy of the string with the first character of each word capitalized and the rest in lowercase.\n",
    "\n",
    "5. `str.strip()`: Returns a copy of the string with leading and trailing whitespace removed.\n",
    "\n",
    "6. `str.startswith(prefix)`: Returns `True` if the string starts with the specified `prefix`; otherwise, returns `False`.\n",
    "\n",
    "7. `str.endswith(suffix)`: Returns `True` if the string ends with the specified `suffix`; otherwise, returns `False`.\n",
    "\n",
    "8. `str.replace(old, new)`: Returns a copy of the string with all occurrences of `old` replaced by `new`.\n",
    "\n",
    "9. `str.split(sep=None)`: Returns a list of substrings separated by the specified `sep`. If `sep` is not provided, the string is split by whitespace.\n",
    "\n",
    "10. `str.join(iterable)`: Concatenates elements of an `iterable` (e.g., a list or tuple) into a single string using `str` as a separator.\n",
    "\n",
    "11. `str.isdigit()`: Returns `True` if all characters in the string are digits; otherwise, returns `False`.\n",
    "\n",
    "12. `str.isalpha()`: Returns `True` if all characters in the string are alphabetic; otherwise, returns `False`.\n",
    "\n",
    "13. `str.isalnum()`: Returns `True` if all characters in the string are alphanumeric; otherwise, returns `False`.\n",
    "\n",
    "14. `str.islower()`: Returns `True` if all characters in the string are lowercase; otherwise, returns `False`.\n",
    "\n",
    "15. `str.isupper()`: Returns `True` if all characters in the string are uppercase; otherwise, returns `False`.\n",
    "\n",
    "16. `str.isnumeric()`: Returns `True` if all characters in the string are numeric; otherwise, returns `False`.\n",
    "\n",
    "17. `str.find(sub)`: Returns the lowest index of the substring `sub` in the string. Returns `-1` if the substring is not found.\n",
    "\n",
    "18. `str.rfind(sub)`: Returns the highest index of the substring `sub` in the string. Returns `-1` if the substring is not found.\n",
    "\n",
    "19.str.center(width[, fillchar]): Returns a centered string with the original string padded with fillchar (default is a space) to the specified width.\n",
    "\n",
    "20.str.ljust(width[, fillchar]): Returns a left-justified string with the original string padded with fillchar (default is a space) to the specified width.\n",
    "\n",
    "21.str.rjust(width[, fillchar]): Returns a right-justified string with the original string padded with fillchar (default is a space) to the specified width.\n",
    "\n",
    "22.str.count(sub[, start[, end]]): Returns the number of non-overlapping occurrences of the substring sub in the string.\n",
    "\n",
    "23.str.encode(encoding='utf-8', errors='strict'): Returns an encoded version of the string using the specified encoding.\n",
    "\n",
    "24.str.expandtabs(tabsize=8): Returns a copy of the string with tabs replaced by spaces. The tabsize parameter specifies the number of spaces to replace each tab.\n",
    "\n",
    "25.str.isdecimal(): Returns True if all characters in the string are decimal characters; otherwise, returns False.\n",
    "\n",
    "26.str.isspace(): Returns True if all characters in the string are whitespace characters; otherwise, returns False.\n",
    "\n",
    "27.str.istitle(): Returns True if the string is in titlecase (i.e., the first character of each word is capitalized and the rest are in lowercase); otherwise, returns False.\n",
    "\n",
    "28.str.swapcase(): Returns a copy of the string with uppercase characters converted to lowercase and vice versa.\n",
    "\n",
    "29.str.zfill(width): Returns a copy of the string with '0' padded to the left until it reaches the specified width.\n",
    "\n",
    "30.str.partition(sep): Splits the string into a 3-tuple based on the first occurrence of the sep separator. The result contains the part before sep, the sep itself, and the part after sep.\n",
    "\n",
    "31.str.rpartition(sep): Splits the string into a 3-tuple based on the last occurrence of the sep separator. The result contains the part before sep, the sep itself, and the part after sep.\n",
    "\n",
    "32.str.maketrans(x[, y[, z]]): Returns a translation table to be used with str.translate(). Used for replacing specific characters in a string.\n",
    "\n",
    "33.str.translate(table): Returns a copy of the string where each character is mapped through the given translation table\n",
    "These are just a few of the many string methods available in Python. You can find more in the official Python documentation."
   ]
  },
  {
   "cell_type": "markdown",
   "id": "12cf7264",
   "metadata": {},
   "source": [
    "# Q2. How do the string forms in Python 3.X vary in terms of operations?"
   ]
  },
  {
   "cell_type": "markdown",
   "id": "9cbe55c3",
   "metadata": {},
   "source": [
    "In Python 3.X, there are three main types of string representations that are commonly used: regular strings (str), raw strings (r\"\"), and byte strings (bytes). Each of these string forms has specific characteristics and variations in terms of operations.\n",
    "\n",
    "Regular strings (str):\n",
    "Regular strings are the most common type of strings in Python. They are represented using double quotes (\"...\") or single quotes ('...'). Regular strings support various string operations and are Unicode-based, meaning they can handle characters from different languages and character sets.\n",
    "\n",
    "Raw strings (r\"\"):\n",
    "Raw strings are also represented using double quotes (r\"...\") or single quotes (r'...'). They are used to avoid escape sequences. In a raw string, backslashes are treated as literal characters and not as escape characters.\n",
    "\n",
    "byte strings are represented using a prefix b\"...\" or b'...'. They are sequences of bytes rather than characters and are used when dealing with binary data or when interfacing with systems that handle data at the byte level.Byte strings use index values representing integers from 0 to 255 to access individual bytes.\n"
   ]
  },
  {
   "cell_type": "markdown",
   "id": "353aa940",
   "metadata": {},
   "source": [
    "# Q3. In 3.X, how do you put non-ASCII Unicode characters in a string?"
   ]
  },
  {
   "cell_type": "markdown",
   "id": "1c8fc0e2",
   "metadata": {},
   "source": [
    "This approach is related to the inbuilt library unidecode. This library helps Transliterating non-ASCII characters in Python. It provides an unidecode() method that takes Unicode data and tries to represent it in ASCII.  This method automatically determines scripting language and transliterates it accordingly. It accepts unicode string values and returns a transliteration in string format.\n",
    "\n",
    "also When you read a file, Python will read bytes from disk and then decode those bytes to make them into strings.\n",
    "When you write to a file, Python will take your strings and encode those strings into bytes to write them to disk.\n",
    "It's considered a best practice to specify the character encoding that you're working with whenever you're reading or writing text from outside of your Python process, especially if you're working with non-ASCII text."
   ]
  },
  {
   "cell_type": "code",
   "execution_count": 1,
   "id": "9194a96c",
   "metadata": {},
   "outputs": [
    {
     "name": "stdout",
     "output_type": "stream",
     "text": [
      "kozuscek\n",
      "aap niice apnii bhaassaa aur inputt upkrnn cuneN aur likhnaa aarNbh kreN\n",
      "Xie Xie Ni \n",
      "arigatou. \n",
      "ulybat'sia Vladimir Putin\n"
     ]
    }
   ],
   "source": [
    "from unidecode import unidecode\n",
    "print(unidecode(u'ko\\u017eu\\u0161\\u010dek'))\n",
    "print(unidecode(\"आप नीचे अपनी भाषा और इनपुट उपकरण चुनें और लिखना आरंभ करें\"))\n",
    "print(unidecode(\"谢谢你\"))\n",
    "print(unidecode(\"ありがとう。\"))\n",
    "print(unidecode(\"улыбаться Владимир Путин\"))"
   ]
  },
  {
   "cell_type": "markdown",
   "id": "3ade7549",
   "metadata": {},
   "source": [
    "# Q4. In Python 3.X, what are the key differences between text-mode and binary-mode files?"
   ]
  },
  {
   "cell_type": "markdown",
   "id": "2dc3c717",
   "metadata": {},
   "source": [
    "Text Mode:\n",
    "\n",
    "In text mode, files are opened with the 't' character in the mode string or by default when no mode is specified.\n",
    "Text mode is used for reading and writing text-based files, such as .txt, .csv, .json, etc. In text mode, the data is treated as a sequence of Unicode characters (str objects).\n",
    "When reading from a text-mode file, Python automatically performs newline translations, meaning it will handle different newline conventions (e.g., '\\n', '\\r\\n', or '\\r') and present them as a universal newline character '\\n'.\n",
    "Text mode is the default mode for working with files in Python 3.x, and it is suitable for most text-based file formats.\n",
    "\n",
    "Binary Mode:\n",
    "\n",
    "In binary mode, files are opened with the 'b' character in the mode string.\n",
    "Binary mode is used for reading and writing binary files, such as images, audio files, or any file that contains non-text data.\n",
    "In binary mode, data is treated as raw bytes (bytes objects). This means that no newline translations are performed.\n",
    "Binary mode is essential when you want to read or write raw binary data, as it ensures that no character encoding or newline translation is applied."
   ]
  },
  {
   "cell_type": "markdown",
   "id": "9aefb315",
   "metadata": {},
   "source": [
    "# Q5. How can you interpret a Unicode text file containing text encoded in a different encoding than your platform&#39;s default?"
   ]
  },
  {
   "cell_type": "markdown",
   "id": "0ad0645d",
   "metadata": {},
   "source": [
    "When dealing with a Unicode text file encoded in a different encoding than your platform's default, you need to explicitly specify the encoding used in the file during file reading or writing operations. Python's open() function allows you to specify the desired encoding using the encoding parameter.\n",
    "\n",
    "If you know the encoding of the text file, you can directly use it in the open() function. Common encodings include 'utf-8', 'utf-16', 'latin-1' (also known as ISO-8859-1), 'cp1252', etc. If you're unsure about the encoding, you may need to find that information from the file source or consult with the data provider.\n",
    "\n",
    "also Use of encode() and decode() method can be used to you interpret a Unicode text file containing text encoded in a different encoding than your platform's default, by default encoding parameter is UTF-8"
   ]
  },
  {
   "cell_type": "markdown",
   "id": "3054ed60",
   "metadata": {},
   "source": [
    "# Q6. What is the best way to make a Unicode text file in a particular encoding format?"
   ]
  },
  {
   "cell_type": "markdown",
   "id": "be282f43",
   "metadata": {},
   "source": [
    "The best way to create a Unicode text file in a particular encoding format in Python is to use the open() function with the specified encoding mode when writing to the file. Python's open() function allows you to set the desired encoding using the encoding parameter."
   ]
  },
  {
   "cell_type": "code",
   "execution_count": 20,
   "id": "5b4cf59b",
   "metadata": {},
   "outputs": [],
   "source": [
    "with open(r'H:/datascience/Assignment/python advance/output_file.txt','w',encoding='utf-8') as file:\n",
    "    file.write(\"Hello sir\")"
   ]
  },
  {
   "cell_type": "markdown",
   "id": "c76475bc",
   "metadata": {},
   "source": [
    "# Q7. What qualifies ASCII text as a form of Unicode text?"
   ]
  },
  {
   "cell_type": "markdown",
   "id": "6982a229",
   "metadata": {},
   "source": [
    "Unicode represents most written languages in the world. ASCII has its equivalent in Unicode. The difference between ASCII and Unicode is that ASCII represents lowercase letters (a-z), uppercase letters (A-Z), digits (0–9) and symbols such as punctuation marks while Unicode represents letters of English, Arabic, Greek etc. mathematical symbols, historical scripts, emoji covering a wide range of characters than ASCII."
   ]
  },
  {
   "cell_type": "markdown",
   "id": "b3e52e8f",
   "metadata": {},
   "source": [
    "# Q8. How much of an effect does the change in string types in Python 3.X have on your code?"
   ]
  },
  {
   "cell_type": "markdown",
   "id": "43ba7ca0",
   "metadata": {},
   "source": [
    " Python 3 stores strings as Unicode by default whereas Python 2 requires you to mark a string with a u if you want to store it as Unicode. Unicode strings are more versatile than ASCII strings, which are the Python 3.X default, as they can store letters from foreign languages as well as emoji and the standard Roman letters and numerals."
   ]
  }
 ],
 "metadata": {
  "kernelspec": {
   "display_name": "Python 3 (ipykernel)",
   "language": "python",
   "name": "python3"
  },
  "language_info": {
   "codemirror_mode": {
    "name": "ipython",
    "version": 3
   },
   "file_extension": ".py",
   "mimetype": "text/x-python",
   "name": "python",
   "nbconvert_exporter": "python",
   "pygments_lexer": "ipython3",
   "version": "3.10.9"
  }
 },
 "nbformat": 4,
 "nbformat_minor": 5
}
