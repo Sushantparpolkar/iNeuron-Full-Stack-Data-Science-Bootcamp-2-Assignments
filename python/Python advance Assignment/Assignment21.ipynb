{
 "cells": [
  {
   "cell_type": "markdown",
   "id": "f921e7c6",
   "metadata": {},
   "source": [
    "# Q1. What is a probability distribution, exactly? If the values are meant to be random, how can you predict them at all?"
   ]
  },
  {
   "cell_type": "markdown",
   "id": "30856171",
   "metadata": {},
   "source": [
    "probability distribution is a mathematical function that describes the likelihood of different outcomes or events occurring in a random experiment or process. It provides a way to represent the uncertainty or randomness associated with various possible outcomes.\n",
    "While individual outcomes in a random process may be unpredictable, the overall behavior of the distribution can be described and predicted based on the underlying probabilities. Probability distributions allow us to make statistical inferences and predictions about the likelihood of certain events or ranges of values occurring. These predictions are based on the understanding of the distribution's properties and characteristics."
   ]
  },
  {
   "cell_type": "markdown",
   "id": "1a13487e",
   "metadata": {},
   "source": [
    "# Q2. Is there a distinction between true random numbers and pseudo-random numbers, if there is one? Why are the latter considered “good enough”?"
   ]
  },
  {
   "cell_type": "markdown",
   "id": "938fe36b",
   "metadata": {},
   "source": [
    "Yes, there is a distinction between true random numbers and pseudo-random numbers.\n",
    "Random Numbers are true physical values while pseudo-random numbers are generated internally by a program . Latter is considered good enough as they have sort of uniform distribution."
   ]
  },
  {
   "cell_type": "markdown",
   "id": "d8673013",
   "metadata": {},
   "source": [
    "# Q3. What are the two main factors that influence the behaviour of a &quot;normal&quot; probability distribution?"
   ]
  },
  {
   "cell_type": "markdown",
   "id": "3cb686a9",
   "metadata": {},
   "source": [
    "Normal Probability Distribution are influenced by two factors mean and the variance."
   ]
  },
  {
   "cell_type": "markdown",
   "id": "aaf76e27",
   "metadata": {},
   "source": [
    "# Q4. Provide a real-life example of a normal distribution."
   ]
  },
  {
   "cell_type": "markdown",
   "id": "352dbe0f",
   "metadata": {},
   "source": [
    "Real life example of normal distribution is height and weight of person"
   ]
  },
  {
   "cell_type": "markdown",
   "id": "f3d59a80",
   "metadata": {},
   "source": [
    "# Q5. In the short term, how can you expect a probability distribution to behave? What do you think willhappen as the number of trials grows?"
   ]
  },
  {
   "cell_type": "markdown",
   "id": "0badc450",
   "metadata": {},
   "source": [
    "In the short term, the behavior of a probability distribution can be somewhat unpredictable due to the inherent randomness of individual events.Variance will decrease with number of trials increases."
   ]
  },
  {
   "cell_type": "markdown",
   "id": "f9371781",
   "metadata": {},
   "source": [
    "# Q6. What kind of object can be shuffled by using random.shuffle?"
   ]
  },
  {
   "cell_type": "markdown",
   "id": "04685fc8",
   "metadata": {},
   "source": [
    "The random.shuffle() function in Python is used to shuffle the elements of a mutable sequence (an object that can be changed after it is created) in a random order.\n",
    "The object which can be shuffled are list, bytearrays."
   ]
  },
  {
   "cell_type": "code",
   "execution_count": 7,
   "id": "81b62977",
   "metadata": {},
   "outputs": [
    {
     "name": "stdout",
     "output_type": "stream",
     "text": [
      "[2, 3, 5, 6, 4, 1]\n",
      "------\n",
      "bytearray(b'usntahS')\n"
     ]
    }
   ],
   "source": [
    "import random\n",
    "\n",
    "lst=[1,2,3,4,5,6]\n",
    "random.shuffle(lst)\n",
    "print(lst)\n",
    "print('------')\n",
    "my_bytearray =bytearray(b'Sushant')\n",
    "random.shuffle(my_bytearray)\n",
    "print(my_bytearray)"
   ]
  },
  {
   "cell_type": "markdown",
   "id": "d595a3e1",
   "metadata": {},
   "source": [
    "# Q7. Describe the math package&#39;s general categories of functions."
   ]
  },
  {
   "cell_type": "markdown",
   "id": "5b7c8c2c",
   "metadata": {},
   "source": [
    "The Math package's general categories of functions are:\n",
    "\n",
    "1) Trigonometric functions\n",
    "2) Quadratic functions\n",
    "3) Exponential functions\n",
    "4) Hyperbolic functions\n",
    "5) Periodic functions\n",
    "6) Arithmetic functions\n",
    "7) Logarithimic functions\n",
    "8) Conversions to Integer"
   ]
  },
  {
   "cell_type": "markdown",
   "id": "fa7c6da1",
   "metadata": {},
   "source": [
    "# Q8. What is the relationship between exponentiation and logarithms?"
   ]
  },
  {
   "cell_type": "markdown",
   "id": "8183d2d8",
   "metadata": {},
   "source": [
    "exponentiation and logarithms are inverse of each other."
   ]
  },
  {
   "cell_type": "markdown",
   "id": "69b10c3c",
   "metadata": {},
   "source": [
    "# Q9. What are the three logarithmic functions that Python supports?"
   ]
  },
  {
   "cell_type": "markdown",
   "id": "c4bfb651",
   "metadata": {},
   "source": [
    "1) math.log(x, base): This function calculates the natural logarithm (base e) of a given number x, or the logarithm of x to a specified base.\n",
    "2) math.log10(x): This function calculates the base-10 logarithm of a given number x\n",
    "3) math.log2(x): This function calculates the base-2 logarithm of a given number x\n",
    "4) log1p(a) - This function is used to compute logarithm(1+a) ."
   ]
  },
  {
   "cell_type": "code",
   "execution_count": 15,
   "id": "be929a4e",
   "metadata": {},
   "outputs": [
    {
     "name": "stdout",
     "output_type": "stream",
     "text": [
      "2.302585092994046\n",
      "2.0\n",
      "2.0\n",
      "3.0\n",
      "0.0009995003330835331\n"
     ]
    }
   ],
   "source": [
    "import math\n",
    "\n",
    "result1 = math.log(10) # natural log\n",
    "print(result1)\n",
    "\n",
    "result2 = math.log(100,10) # base 10 log\n",
    "print(result2)\n",
    "\n",
    "result3 = math.log10(100) # Base-10 logarithm of 100\n",
    "print(result3)\n",
    "\n",
    "result4 = math.log2(8) # base-2 logarithm\n",
    "print(result4)\n",
    "\n",
    "result5 = math.log1p(0.001) #\n",
    "print(result5)"
   ]
  },
  {
   "cell_type": "code",
   "execution_count": null,
   "id": "36fce020",
   "metadata": {},
   "outputs": [],
   "source": []
  }
 ],
 "metadata": {
  "kernelspec": {
   "display_name": "Python 3 (ipykernel)",
   "language": "python",
   "name": "python3"
  },
  "language_info": {
   "codemirror_mode": {
    "name": "ipython",
    "version": 3
   },
   "file_extension": ".py",
   "mimetype": "text/x-python",
   "name": "python",
   "nbconvert_exporter": "python",
   "pygments_lexer": "ipython3",
   "version": "3.10.9"
  }
 },
 "nbformat": 4,
 "nbformat_minor": 5
}
