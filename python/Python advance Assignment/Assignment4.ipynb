{
 "cells": [
  {
   "cell_type": "markdown",
   "id": "20cd8184",
   "metadata": {},
   "source": [
    "# Q1. Which two operator overloading methods can you use in your classes to support iteration?"
   ]
  },
  {
   "cell_type": "raw",
   "id": "b785ef17",
   "metadata": {},
   "source": [
    "__iter__: By implementing the __iter__ method, you can define how an instance of your class behaves when used in an iteration (e.g., using a for loop or calling the iter() function). The __iter__ method should return an iterator object, which itself has a __next__ method to retrieve the next element in the iteration.\n",
    "\n",
    "__next__ (Python 2: next): By implementing the __next__ method (or next method in Python 2), you define how to get the next element in the iteration when the iterator object's __next__ method is called. This method should raise the StopIteration exception when there are no more elements to be iterated, which signals the end of the iteration."
   ]
  },
  {
   "cell_type": "code",
   "execution_count": 3,
   "id": "34a51a56",
   "metadata": {},
   "outputs": [
    {
     "name": "stdout",
     "output_type": "stream",
     "text": [
      "1 2 3 4 5 "
     ]
    }
   ],
   "source": [
    "class MyIterable:\n",
    "    def __init__(self,data):\n",
    "        self.data=data\n",
    "        self.index=0\n",
    "        \n",
    "    def __iter__(self):\n",
    "        return self\n",
    "    \n",
    "    def __next__(self):\n",
    "        if self.index<len(self.data):\n",
    "            value=self.data[self.index]\n",
    "            self.index+=1\n",
    "            return value\n",
    "        else:\n",
    "             raise StopIteration\n",
    "                \n",
    "                \n",
    "my_iterable =MyIterable([1,2,3,4,5])\n",
    "\n",
    "for i in my_iterable:\n",
    "    print(i ,end=' ')\n",
    "            \n",
    "            \n",
    "        "
   ]
  },
  {
   "cell_type": "markdown",
   "id": "7a08d485",
   "metadata": {},
   "source": [
    "# Q2. In what contexts do the two operator overloading methods manage printing?"
   ]
  },
  {
   "cell_type": "raw",
   "id": "51c318dd",
   "metadata": {},
   "source": [
    "__str__: This method is responsible for defining a string representation of an object and is used when the str() function is called on an instance of the class or when the print() function is used with the instance. The __str__ method should return a string representing the object in a human-readable format.\n",
    "\n",
    "__repr__: This method is responsible for defining an \"official\" string representation of an object and is used when the repr() function is called on an instance of the class. It should return a string that represents the object in a way that, if evaluated, would recreate the object. The output of the __repr__ method is typically more unambiguous and meant for debugging or development purposes."
   ]
  },
  {
   "cell_type": "code",
   "execution_count": 7,
   "id": "0a6fe5f1",
   "metadata": {},
   "outputs": [
    {
     "name": "stdout",
     "output_type": "stream",
     "text": [
      "This is  Myclass object with value : 40.\n",
      "This is  Myclass object with value : 40.\n",
      "MyClass (40)\n"
     ]
    }
   ],
   "source": [
    "class MyClass:\n",
    "    def __init__(self,value):\n",
    "        self.value = value\n",
    "        \n",
    "    def __str__(self):\n",
    "        return f\"This is  Myclass object with value : {self.value}.\"\n",
    "    \n",
    "    def __repr__(self):\n",
    "        return f\"MyClass ({self.value})\"\n",
    "    \n",
    "obj=MyClass(40)\n",
    "\n",
    "print(obj)  \n",
    "print(str(obj))\n",
    "\n",
    "print(repr(obj))\n",
    "        \n",
    "        "
   ]
  },
  {
   "cell_type": "markdown",
   "id": "b9826f44",
   "metadata": {},
   "source": [
    "# Q3. In a class, how do you intercept slice operations?"
   ]
  },
  {
   "cell_type": "raw",
   "id": "f9dec062",
   "metadata": {},
   "source": [
    "To intercept slice operations in a class, you can use the __getitem__ method with a slice object. The __getitem__ method allows you to define how instances of your class behave when accessed using square brackets with slice notation.\n",
    "\n",
    "The __getitem__ method takes a single argument, which is the index or slice object used to access the elements of your class. When a slice operation is performed on an instance of your class, Python calls the __getitem__ method with the slice object as the argument."
   ]
  },
  {
   "cell_type": "code",
   "execution_count": 15,
   "id": "487c5466",
   "metadata": {},
   "outputs": [
    {
     "name": "stdout",
     "output_type": "stream",
     "text": [
      "dlroW\n",
      "o\n"
     ]
    }
   ],
   "source": [
    "class CustomeString:\n",
    "    def __init__(self,value):\n",
    "        self.value=value\n",
    "    \n",
    "    def __getitem__(self,index_or_slice):\n",
    "        if isinstance(index_or_slice,slice):\n",
    "            start,stop,step =index_or_slice.indices(len(self.value))\n",
    "            reverse_substring = self.value[start:stop:step][::-1]\n",
    "            return reverse_substring\n",
    "        else:\n",
    "            return self.value[index_or_slice]\n",
    "        \n",
    "custom_str = CustomeString(\"Hello, World!\")\n",
    "reversed_substring = custom_str[7:12] # Using slice notation to get a reversed substring\n",
    "print(reversed_substring)  \n",
    "char = custom_str[4]# Accessing individual characters using index\n",
    "print(char)  "
   ]
  },
  {
   "cell_type": "markdown",
   "id": "7bf9b291",
   "metadata": {},
   "source": [
    "# Q4. In a class, how do you capture in-place addition?"
   ]
  },
  {
   "cell_type": "raw",
   "id": "a6a07219",
   "metadata": {},
   "source": [
    "In a class, you can capture in-place addition using the __iadd__ method, which is called when the += operator is used with instances of your class. This method allows you to define how the in-place addition operation should be performed for your class objects.\n",
    "\n",
    "The __iadd__ method takes two arguments: self (representing the instance of the class) and other (representing the value being added to the instance). You should implement the logic to modify the state of the instance (self) based on the value of other during the in-place addition."
   ]
  },
  {
   "cell_type": "code",
   "execution_count": 21,
   "id": "ae8295af",
   "metadata": {},
   "outputs": [
    {
     "name": "stdout",
     "output_type": "stream",
     "text": [
      "30\n",
      "40\n"
     ]
    }
   ],
   "source": [
    "class MyNumber:\n",
    "    \n",
    "    def __init__(self,value):\n",
    "        self.value=value\n",
    "        \n",
    "    def __iadd__(self,other):\n",
    "        if isinstance(other,MyNumber):\n",
    "            self.value+=other.value\n",
    "        else:\n",
    "            self.value+=other\n",
    "        return self\n",
    "    \n",
    "n1 = MyNumber(10)\n",
    "n2 =MyNumber(20)\n",
    "n1+=n2\n",
    "print(n1.value)\n",
    "\n",
    "n1 +=10\n",
    "print(n1.value)"
   ]
  },
  {
   "cell_type": "markdown",
   "id": "81ce2be5",
   "metadata": {},
   "source": [
    "# Q5. When is it appropriate to use operator overloading?"
   ]
  },
  {
   "cell_type": "markdown",
   "id": "e904918c",
   "metadata": {},
   "source": [
    " Operator overloading is used when we want to use an operator other than its normal operation to have different meaning according to the context required in user defined function."
   ]
  },
  {
   "cell_type": "code",
   "execution_count": 5,
   "id": "0c2b397d",
   "metadata": {},
   "outputs": [
    {
     "name": "stdout",
     "output_type": "stream",
     "text": [
      "14\n",
      "SushantParpolkar\n"
     ]
    }
   ],
   "source": [
    "class A:\n",
    "    def __init__(self,a):\n",
    "         self.a = a\n",
    "    \n",
    "    def __add__(self,b):\n",
    "        return self.a+ b.a\n",
    "\n",
    "obj1 = A(4)\n",
    "obj2=A(10)\n",
    "obj3 = A('Sushant')\n",
    "obj4 = A('Parpolkar')\n",
    "print(obj1+obj2)\n",
    "print(obj3+obj4)\n",
    "    "
   ]
  }
 ],
 "metadata": {
  "kernelspec": {
   "display_name": "Python 3 (ipykernel)",
   "language": "python",
   "name": "python3"
  },
  "language_info": {
   "codemirror_mode": {
    "name": "ipython",
    "version": 3
   },
   "file_extension": ".py",
   "mimetype": "text/x-python",
   "name": "python",
   "nbconvert_exporter": "python",
   "pygments_lexer": "ipython3",
   "version": "3.10.9"
  }
 },
 "nbformat": 4,
 "nbformat_minor": 5
}
