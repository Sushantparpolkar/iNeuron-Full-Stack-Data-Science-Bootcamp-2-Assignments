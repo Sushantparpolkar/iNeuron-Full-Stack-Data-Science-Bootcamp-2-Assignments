{
 "cells": [
  {
   "cell_type": "markdown",
   "id": "429d934e",
   "metadata": {},
   "source": [
    "# Q1. What is the meaning of multiple inheritance?"
   ]
  },
  {
   "cell_type": "markdown",
   "id": "184104cf",
   "metadata": {},
   "source": [
    "Multiple inheritance is a feature in object-oriented programming (OOP) languages that allows a class to inherit properties and behavior from more than one parent class. In other words, a single subclass can have multiple superclasses from which it derives attributes and methods.\n",
    "\n",
    "In traditional single inheritance, a class can only inherit from one single superclass. However, in languages that support multiple inheritance, a class can inherit from two or more superclasses. This can be useful in scenarios where a class needs to combine features from multiple sources, leading to more flexible and reusable code."
   ]
  },
  {
   "cell_type": "code",
   "execution_count": 14,
   "id": "3073e371",
   "metadata": {},
   "outputs": [
    {
     "name": "stdout",
     "output_type": "stream",
     "text": [
      "Name: Sushant\n",
      "Student ID: EFG4567\n",
      "Emp ID: ABC1234\n"
     ]
    }
   ],
   "source": [
    "class Person:\n",
    "    def __init__(self, name):\n",
    "        self.name = name\n",
    "\n",
    "    def display_info(self):\n",
    "        print(\"Name:\", self.name)\n",
    "\n",
    "\n",
    "class Employee(Person):\n",
    "    def __init__(self, name, emp_id):\n",
    "        # Call the direct parent class's __init__ method\n",
    "        Person.__init__(self, name)\n",
    "        self.emp_id = emp_id\n",
    "\n",
    "    def display_info(self):\n",
    "        super().display_info()\n",
    "        print(\"Emp ID:\", self.emp_id)\n",
    "\n",
    "\n",
    "class Student(Person):\n",
    "    def __init__(self, name, student_id):\n",
    "        # Call the direct parent class's __init__ method\n",
    "        Person.__init__(self, name)\n",
    "        self.student_id = student_id\n",
    "\n",
    "    def display_info(self):\n",
    "        super().display_info()\n",
    "        print(\"Student ID:\", self.student_id)\n",
    "\n",
    "\n",
    "class EmployeeStudent(Employee, Student):\n",
    "    def __init__(self, name, emp_id, student_id):\n",
    "        super().__init__(name, emp_id)\n",
    "        Student.__init__(self, name, student_id)\n",
    "\n",
    "# Create an instance of EmployeeStudent and demonstrate multiple inheritance\n",
    "emp_student = EmployeeStudent(\"Sushant\", \"ABC1234\", \"EFG4567\")\n",
    "emp_student.display_info()\n"
   ]
  },
  {
   "cell_type": "markdown",
   "id": "a6a1a897",
   "metadata": {},
   "source": [
    "# Q2. What is the concept of delegation?"
   ]
  },
  {
   "cell_type": "markdown",
   "id": "01c6eacb",
   "metadata": {},
   "source": [
    "The concept of delegation, in the context of object-oriented programming (OOP), refers to a design pattern where an object (delegate) forwards certain tasks or responsibilities to another object (delegatee). In this pattern, the delegate acts as an intermediary or wrapper that passes on specific functionality to the delegatee, rather than implementing it directly.\n",
    "\n",
    "\n",
    "Delegation is used to achieve code reusability, modularity, and maintainability. It allows objects to collaborate and work together by distributing tasks based on their respective strengths and responsibilities. This design pattern promotes loose coupling between objects, making it easier to change or extend the behavior of the system without affecting other components."
   ]
  },
  {
   "cell_type": "code",
   "execution_count": 7,
   "id": "1b758c13",
   "metadata": {},
   "outputs": [
    {
     "name": "stdout",
     "output_type": "stream",
     "text": [
      "Printing: Report.pdf\n"
     ]
    }
   ],
   "source": [
    "class Printer:\n",
    "    def print_document(self, document):\n",
    "        print(\"Printing:\", document)\n",
    "\n",
    "class OfficeAssistant:\n",
    "    def __init__(self):\n",
    "        self.printer = Printer()\n",
    "\n",
    "    def handle_printing(self, document):\n",
    "        self.printer.print_document(document)\n",
    "\n",
    "assistant = OfficeAssistant()\n",
    "assistant.handle_printing(\"Report.pdf\")\n"
   ]
  },
  {
   "cell_type": "markdown",
   "id": "4b33a6fe",
   "metadata": {},
   "source": [
    "# Q3. What is the concept of composition?"
   ]
  },
  {
   "cell_type": "markdown",
   "id": "3f518704",
   "metadata": {},
   "source": [
    "The concept of composition in object-oriented programming (OOP) refers to a design principle where a class contains one or more objects of other classes as its member variables. In other words, composition allows you to build complex objects by combining simpler objects together, creating a \"has-a\" relationship between the containing class (the whole) and the contained classes (the parts).Composition promotes code reuse, encapsulation, and modularity by enabling the creation of more manageable and flexible class structures."
   ]
  },
  {
   "cell_type": "code",
   "execution_count": 2,
   "id": "3c6ea9da",
   "metadata": {},
   "outputs": [
    {
     "name": "stdout",
     "output_type": "stream",
     "text": [
      "Starting the car\n",
      "Engine starting ...\n"
     ]
    }
   ],
   "source": [
    "class Engine:\n",
    "    def start(self):\n",
    "        print(\"Engine starting ...\")\n",
    "        \n",
    "class Car:\n",
    "    def __init__(self):\n",
    "        self.engine= Engine()\n",
    "        \n",
    "    def start_car(self):\n",
    "        print(\"Starting the car\")\n",
    "        self.engine.start()\n",
    "        \n",
    "        \n",
    "my_car=Car()\n",
    "my_car.start_car()"
   ]
  },
  {
   "cell_type": "markdown",
   "id": "0033657e",
   "metadata": {},
   "source": [
    "# Q4. What are bound methods and how do we use them?"
   ]
  },
  {
   "cell_type": "markdown",
   "id": "5e670d6d",
   "metadata": {},
   "source": [
    "In Python, bound methods are a type of method that is associated with an instance of a class. When you define a method inside a class and access it through an instance of that class, it becomes a bound method. Bound methods are \"bound\" to the instance they are called on, and they automatically receive the instance (i.e., self) as their first argument when invoked.\n",
    "\n",
    "Bound methods provide a way to access and manipulate the instance's attributes and behavior, making them an essential part of object-oriented programming in Python. They enable encapsulation and provide a clear way to interact with object instances by automatically handling the passing of the instance as the first argument."
   ]
  },
  {
   "cell_type": "code",
   "execution_count": 15,
   "id": "c213d3da",
   "metadata": {},
   "outputs": [
    {
     "name": "stdout",
     "output_type": "stream",
     "text": [
      "value : 10\n",
      "value : 15\n",
      "<bound method Myclass.display_value of <__main__.Myclass object at 0x0000011F66B3E8F0>>\n"
     ]
    }
   ],
   "source": [
    "class Myclass:\n",
    "    def __init__(self,value):\n",
    "        self.value = value\n",
    "        \n",
    "    def display_value(self):\n",
    "        print(\"value :\",self.value)\n",
    "        \n",
    "    def add_value(self,num):\n",
    "        self.value+=num\n",
    "        \n",
    "obj = Myclass(10)\n",
    "obj.display_value()\n",
    "obj.add_value(5)\n",
    "obj.display_value()\n",
    "print((obj.display_value))"
   ]
  },
  {
   "cell_type": "markdown",
   "id": "398092c4",
   "metadata": {},
   "source": [
    "# Q5. What is the purpose of pseudoprivate attributes?"
   ]
  },
  {
   "cell_type": "markdown",
   "id": "4ba004d6",
   "metadata": {},
   "source": [
    "In Python, pseudoprivate attributes are a naming convention used to indicate that an attribute or method is intended for internal use within a class and not intended to be accessed directly from outside the class. The convention involves adding two leading underscores (__) to the attribute or method name, but not ending the name with two underscores (__) or more.\n",
    "The purpose of pseudoprivate attributes is to provide a form of name mangling, which helps prevent accidental name clashes between attributes or methods of different classes.\n",
    "The primary purpose of pseudoprivate attributes is to prevent accidental name clashes and provide a signal to developers that these attributes or methods are intended for internal use within the class."
   ]
  },
  {
   "cell_type": "code",
   "execution_count": 32,
   "id": "5bcca22e",
   "metadata": {},
   "outputs": [
    {
     "name": "stdout",
     "output_type": "stream",
     "text": [
      "20\n",
      "Public method called\n",
      "10\n",
      "Private method called.\n"
     ]
    }
   ],
   "source": [
    "class Myclass:\n",
    "    def __init__(self):\n",
    "        \n",
    "        self.__private_attr=10\n",
    "        self._protected_attr = 20\n",
    "        \n",
    "    def public_method(self):\n",
    "        print(\"Public method called\")\n",
    "        \n",
    "    def __private_method(self):\n",
    "        print(\"Private method called.\")\n",
    "        \n",
    "        \n",
    "obj =Myclass()\n",
    "print(obj._protected_attr)\n",
    "obj.public_method()\n",
    "print(obj._Myclass__private_attr)\n",
    "obj._Myclass__private_method()"
   ]
  }
 ],
 "metadata": {
  "kernelspec": {
   "display_name": "Python 3 (ipykernel)",
   "language": "python",
   "name": "python3"
  },
  "language_info": {
   "codemirror_mode": {
    "name": "ipython",
    "version": 3
   },
   "file_extension": ".py",
   "mimetype": "text/x-python",
   "name": "python",
   "nbconvert_exporter": "python",
   "pygments_lexer": "ipython3",
   "version": "3.10.9"
  }
 },
 "nbformat": 4,
 "nbformat_minor": 5
}
