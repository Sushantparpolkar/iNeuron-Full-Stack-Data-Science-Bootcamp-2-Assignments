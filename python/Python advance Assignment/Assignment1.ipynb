{
 "cells": [
  {
   "cell_type": "markdown",
   "id": "2fc36d1a",
   "metadata": {},
   "source": [
    "# Q1. What is the purpose of Python&#39;s OOP?"
   ]
  },
  {
   "cell_type": "markdown",
   "id": "8ca011a4",
   "metadata": {},
   "source": [
    "The purpose of Python's Object-Oriented Programming (OOP) is to provide a way to structure and organize code in a more modular and reusable manner. OOP allows you to define classes, which are blueprint templates for creating objects. Objects are instances of classes, and they encapsulate data (attributes) and behavior (methods) into a single entity.\n",
    "\n",
    "The key purposes of OOP in Python are:\n",
    "\n",
    "1. Modularity: OOP allows you to break down complex systems into smaller, more manageable objects. Each object can have its own data and behavior, making it easier to understand and maintain the code.\n",
    "\n",
    "2. Reusability: With OOP, you can create reusable classes that can be instantiated to create multiple objects with similar characteristics. This promotes code reuse and avoids duplicating code.\n",
    "\n",
    "3. Encapsulation: OOP encapsulates data and methods within objects, hiding the internal implementation details. This provides abstraction and allows objects to interact with each other through well-defined interfaces.\n",
    "\n",
    "4. Inheritance: Inheritance allows you to create new classes (derived or child classes) based on existing classes (base or parent classes). This enables code reuse and promotes the concept of hierarchical relationships between classes.\n",
    "\n",
    "5. Polymorphism: Polymorphism allows objects of different classes to be treated as objects of a common base class. This promotes code flexibility and extensibility by allowing different objects to respond differently to the same method call.\n",
    "\n",
    "Overall, OOP in Python helps in organizing code, improving code reusability, promoting modularity, and making it easier to build complex systems by breaking them down into manageable components."
   ]
  },
  {
   "cell_type": "markdown",
   "id": "03743ccf",
   "metadata": {},
   "source": [
    "# Q2. How do you make instances and classes?"
   ]
  },
  {
   "cell_type": "markdown",
   "id": "ba56c029",
   "metadata": {},
   "source": [
    "In Python, when you access an attribute of an object, the inheritance search looks for the attribute in the following order:\n",
    "\n",
    "1. The instance itself: Python first checks if the attribute is present in the instance object. If found, it returns the value associated with the attribute.\n",
    "\n",
    "2. The class: If the attribute is not found in the instance object, Python looks for it in the class definition. If found, it returns the value associated with the attribute.\n",
    "\n",
    "3. Parent classes (superclasses): If the attribute is not found in the class, Python continues the search in the parent classes, following the order specified by the method resolution order (MRO). The MRO defines the order in which parent classes are traversed during attribute lookup. The MRO is determined by the C3 linearization algorithm, which ensures a consistent and predictable attribute resolution order.\n",
    "\n",
    "4. Parent class hierarchy: If the attribute is not found in the immediate parent class, the search continues in the parent class's parent class, and so on, until the attribute is found or the search reaches the topmost class in the hierarchy.\n",
    "\n",
    "5. Object class: If the attribute is not found in any of the parent classes, the search finally reaches the built-in `object` class, which is the ultimate base class for all objects in Python.\n",
    "\n",
    "If the attribute is not found in any of these locations, Python raises an `AttributeError` indicating that the attribute does not exist.\n",
    "\n",
    "Note that if an attribute is found in multiple parent classes with the same name, the attribute from the first parent class in the MRO order is returned. This is known as the \"first-in, first-out\" rule for attribute lookup."
   ]
  },
  {
   "cell_type": "code",
   "execution_count": 1,
   "id": "319e0022",
   "metadata": {},
   "outputs": [
    {
     "name": "stdout",
     "output_type": "stream",
     "text": [
      "red\n",
      "Tesla\n",
      "75\n"
     ]
    }
   ],
   "source": [
    "class Vehicle:\n",
    "    def __init__(self, color):\n",
    "        self.color = color\n",
    "\n",
    "    def get_color(self):\n",
    "        return self.color\n",
    "\n",
    "\n",
    "class Car(Vehicle):\n",
    "    def __init__(self, color, brand):\n",
    "        super().__init__(color)\n",
    "        self.brand = brand\n",
    "\n",
    "    def get_brand(self):\n",
    "        return self.brand\n",
    "\n",
    "\n",
    "class ElectricCar(Car):\n",
    "    def __init__(self, color, brand, battery_capacity):\n",
    "        super().__init__(color, brand)\n",
    "        self.battery_capacity = battery_capacity\n",
    "\n",
    "    def get_battery_capacity(self):\n",
    "        return self.battery_capacity\n",
    "\n",
    "\n",
    "my_car = ElectricCar(\"red\", \"Tesla\", 75)\n",
    "\n",
    "print(my_car.get_color())  # Output: red\n",
    "print(my_car.get_brand())  # Output: Tesla\n",
    "print(my_car.get_battery_capacity())  # Output: 75\n"
   ]
  },
  {
   "cell_type": "code",
   "execution_count": 8,
   "id": "5d180299",
   "metadata": {},
   "outputs": [
    {
     "name": "stdout",
     "output_type": "stream",
     "text": [
      "red\n",
      "mahindra\n",
      "100\n"
     ]
    }
   ],
   "source": [
    "class Vehicle:\n",
    "\n",
    "    def __init__(self,color):\n",
    "        self.color=color\n",
    "        \n",
    "    def get_color(self):\n",
    "        return self.color\n",
    "    \n",
    "class Car(Vehicle):\n",
    "    \n",
    "    def __init__(self,color,brand):\n",
    "        super().__init__(color)\n",
    "        self.brand=brand\n",
    "        \n",
    "    def get_brand(self):\n",
    "        return self.brand\n",
    "    \n",
    "class ElectricCar(Car):\n",
    "    \n",
    "    def __init__(self,color,brand,battery_capacity):\n",
    "        \n",
    "        super().__init__(color,brand)\n",
    "        self.battery_capacity=battery_capacity\n",
    "    \n",
    "    def get_battery_capacity(self):\n",
    "        return self.battery_capacity\n",
    "    \n",
    "my_car= ElectricCar(\"red\",\"mahindra\",100)\n",
    "print(my_car.get_color())\n",
    "print(my_car.get_brand())\n",
    "print(my_car.get_battery_capacity())"
   ]
  },
  {
   "cell_type": "markdown",
   "id": "be1107dd",
   "metadata": {},
   "source": [
    "# Q3. How do you distinguish between a class object and an instance object?"
   ]
  },
  {
   "cell_type": "markdown",
   "id": "f4c49058",
   "metadata": {},
   "source": [
    "In Python, a class object and an instance object are distinguished based on their roles and usage.\n",
    "\n",
    "1. Class Object:\n",
    "   - A class object is created when a class is defined. It represents the blueprint or template for creating instances of that class.\n",
    "   - Class objects have class-level attributes and methods that are shared by all instances of the class.\n",
    "   - They are used to define the behavior and structure of instances but do not hold any specific data for individual instances.\n",
    "   - Class objects are typically used to define common properties and behaviors that are shared among multiple instances.\n",
    "\n",
    "2. Instance Object:\n",
    "   - An instance object is created when a class is instantiated using the class as a constructor.\n",
    "   - Instance objects represent individual instances or objects created from a class. Each instance has its own unique set of attributes and can hold specific data.\n",
    "   - Instance objects can have instance-level attributes and methods that are specific to that particular instance.\n",
    "   - They are used to store and manipulate data specific to each instance and have their own state.\n",
    "   - Instance objects are created by calling the class as a constructor, and each instance is independent of other instances, having its own data and behavior."
   ]
  },
  {
   "cell_type": "code",
   "execution_count": 3,
   "id": "c38a6b8f",
   "metadata": {},
   "outputs": [
    {
     "name": "stdout",
     "output_type": "stream",
     "text": [
      "Toyato\n",
      "red\n",
      "orange\n"
     ]
    }
   ],
   "source": [
    "class car:\n",
    "    \n",
    "    brand= \"Toyato\" # class-attribute\n",
    "    \n",
    "    def __init__(self,color): # instance-attribute\n",
    "        self.color=color\n",
    "        \n",
    "    def get_color(self):\n",
    "        return self.color\n",
    "print(car.brand) # class object\n",
    "\n",
    "car1=car(\"red\")\n",
    "print(car1.get_color())\n",
    "car2=car(\"orange\")\n",
    "print(car2.get_color())"
   ]
  },
  {
   "cell_type": "markdown",
   "id": "394128d9",
   "metadata": {},
   "source": [
    "In the above example, `Car` is a class object that holds the class-level attribute `brand`. It defines the blueprint for creating car instances.\n",
    "\n",
    "`car1` and `car2` are instance objects that represent individual cars created from the `Car` class. They have their own instance-level attribute `color` and can call the instance method `get_color()` to retrieve their specific color.\n",
    "\n",
    "The class object `Car` is used to define common attributes and behaviors shared among all car instances, while the instance objects `car1` and `car2` store and manipulate specific data for each car instance."
   ]
  },
  {
   "cell_type": "markdown",
   "id": "80beed06",
   "metadata": {},
   "source": [
    "# Q4. What makes the first argument in a class’s method function special?"
   ]
  },
  {
   "cell_type": "markdown",
   "id": "c1444e74",
   "metadata": {},
   "source": [
    "The first argument in a class's method function is conventionally named self, although any valid identifier can be used. It represents the instance of the class itself and allows the method to access and modify the instance's attributes and call other methods within the class.\n",
    "\n",
    "The self parameter is automatically passed when a method is invoked on an instance of the class. It acts as a reference to the instance, allowing the method to operate on the specific instance's data.\n",
    "\n",
    "Here are some key aspects of the first argument (self) in a class's method:\n",
    "\n",
    "Instance Binding: When a method is called on an instance object, the instance is automatically passed as the first argument to the method. It allows the method to access the instance's attributes and perform operations specific to that instance.\n",
    "\n",
    "Attribute Access: By using self, methods can access the instance's attributes and modify them if needed. It provides a way to store and retrieve data unique to each instance.\n",
    "\n",
    "Method Invocation: The first argument (self) is used to invoke other methods within the class. It allows methods to call other methods on the same instance, enabling code reuse and modular design.\n",
    "\n",
    "Convention: Although the name self is not enforced by the Python language, it is a widely followed convention in the Python community. Using self as the first argument helps make the code more readable and understandable."
   ]
  },
  {
   "cell_type": "code",
   "execution_count": 10,
   "id": "5448afe9",
   "metadata": {},
   "outputs": [
    {
     "name": "stdout",
     "output_type": "stream",
     "text": [
      "My name is sushant Parpolkar and my education is M.sc(statistics).\n"
     ]
    }
   ],
   "source": [
    "class Person:\n",
    "    def __init__(self,name,education):\n",
    "        self.name=name\n",
    "        self.education=education\n",
    "        \n",
    "    def introduce(self):\n",
    "        return f\"My name is {self.name} and my education is {self.education}.\"\n",
    "\n",
    "person =Person(\"sushant Parpolkar\", \"M.sc(statistics)\")\n",
    "print(person.introduce())"
   ]
  },
  {
   "cell_type": "markdown",
   "id": "b501d767",
   "metadata": {},
   "source": [
    "In the above example, the introduce() method uses self to access the instance's name and age attributes and return a string introducing the person. The self parameter allows the method to refer to the specific instance (person) on which it is called."
   ]
  },
  {
   "cell_type": "markdown",
   "id": "134fb859",
   "metadata": {},
   "source": [
    "# Q5. What is the purpose of the __init__ method?"
   ]
  },
  {
   "cell_type": "markdown",
   "id": "03fa00b8",
   "metadata": {},
   "source": [
    "The __init__ method in Python is a special method used for initializing an object or instance of a class. It is also known as the constructor method. When a new instance of a class is created, the __init__ method is automatically called to perform any necessary initialization tasks.\n",
    "\n",
    "The primary purpose of the __init__ method is to define and initialize the attributes (or properties) of an object. It allows you to specify the initial state or values of the object's attributes when it is created. This method is typically used to assign values to instance variables based on the arguments passed during object creation.\n",
    "\n",
    "Key points about the __init__ method:\n",
    "\n",
    "Initialization: The __init__ method is called automatically when a new instance is created using the class. It initializes the object's attributes and sets their initial values.\n",
    "\n",
    "Attribute Assignment: Inside the __init__ method, you can assign values to instance variables by using the self keyword. These variables become unique to each instance of the class.\n",
    "\n",
    "Customization: The __init__ method allows you to customize the creation and initialization process of the object. You can define any additional parameters required during object creation and handle them within the method.\n",
    "\n",
    "Optional: The __init__ method is not required in every class. If a class does not have an __init__ method, Python will automatically use a default __init__ method inherited from the base object class."
   ]
  },
  {
   "cell_type": "code",
   "execution_count": 26,
   "id": "3a390ce9",
   "metadata": {},
   "outputs": [
    {
     "name": "stdout",
     "output_type": "stream",
     "text": [
      "20\n",
      "18\n",
      "5\n"
     ]
    }
   ],
   "source": [
    "class Rectangle:\n",
    "    def __init__(self,width,height):\n",
    "        self.width=width\n",
    "        self.height=height\n",
    "        \n",
    "    def area(self):\n",
    "        return self.width*self.height\n",
    "    \n",
    "    def perimeter(self):\n",
    "        return 2 *(self.width + self.height)\n",
    "rectangle1= Rectangle(4,5)\n",
    "print(rectangle1.area())\n",
    "print(rectangle1.perimeter())  \n",
    "print(rectangle1.height)"
   ]
  },
  {
   "cell_type": "markdown",
   "id": "d5bba4c6",
   "metadata": {},
   "source": [
    "# Q6. What is the process for creating a class instance?"
   ]
  },
  {
   "cell_type": "markdown",
   "id": "649942ec",
   "metadata": {},
   "source": [
    "The process for creating a class instance involves the following steps:\n",
    "\n",
    "Define the class: First, you need to define a class using the class keyword. This establishes the blueprint for creating instances of the class.\n",
    "\n",
    "Instantiate the class: To create an instance of a class, you use the class name followed by parentheses. This calls the class's constructor method, usually __init__, and returns a new instance of the class.\n",
    "\n",
    "Assign the instance to a variable: The instance returned by the class constructor is assigned to a variable, allowing you to access and manipulate the instance later."
   ]
  },
  {
   "cell_type": "code",
   "execution_count": 24,
   "id": "57661244",
   "metadata": {},
   "outputs": [
    {
     "name": "stdout",
     "output_type": "stream",
     "text": [
      "20\n",
      "Toyota\n",
      "2017\n"
     ]
    }
   ],
   "source": [
    "class Car:\n",
    "    def __init__(self,model, milege,year):\n",
    "        self.model=model\n",
    "        self.milege=milege\n",
    "        self.year=year\n",
    "car1= Car(\"Toyota\",20,2017)\n",
    "print(car1.milege)\n",
    "print(car1.model)\n",
    "print(car1.year)"
   ]
  },
  {
   "cell_type": "markdown",
   "id": "1c9a176c",
   "metadata": {},
   "source": [
    "# Q7. What is the process for creating a class?"
   ]
  },
  {
   "cell_type": "markdown",
   "id": "ae4fd2df",
   "metadata": {},
   "source": [
    "Use the class keyword: To create a class, you start by using the class keyword followed by the name you want to give to your class. The class name should follow the naming conventions for variables (e.g., start with a letter, no spaces or special characters).\n",
    "\n",
    "Define the class attributes: Within the class block, you can define class attributes, which are variables that are shared by all instances of the class. These attributes are typically defined directly under the class declaration and are accessible through the class itself or its instances.\n",
    "\n",
    "Define the methods: Methods are functions defined within a class that define the behavior of the class. You can define various methods to perform different actions or calculations. The most commonly used method is the __init__ method, which serves as the constructor for the class and is executed automatically when a new instance of the class is created.\n",
    "\n",
    "Instantiate the class: To create instances of the class, you call the class as if it were a function, passing any required arguments to the __init__ method. This process is called instantiation and creates a new object of the class."
   ]
  },
  {
   "cell_type": "code",
   "execution_count": 28,
   "id": "8d3e2f46",
   "metadata": {},
   "outputs": [
    {
     "name": "stdout",
     "output_type": "stream",
     "text": [
      "78.55\n"
     ]
    }
   ],
   "source": [
    "class Circle:\n",
    "    pi =3.142  # class attribute\n",
    "    \n",
    "    def __init__(self,radius):\n",
    "        self.radius=radius\n",
    "        \n",
    "    def  calculate_area(self):\n",
    "        return self.pi*self.radius*self.radius\n",
    "circle1=Circle(5)\n",
    "print(circle1.calculate_area())"
   ]
  },
  {
   "cell_type": "markdown",
   "id": "2d576dac",
   "metadata": {},
   "source": [
    "# Q8. How would you define the superclasses of a class?"
   ]
  },
  {
   "cell_type": "markdown",
   "id": "cce14dba",
   "metadata": {},
   "source": [
    "To define the superclasses of a class in Python, you need to use inheritance. Inheritance allows you to create a new class (called a subclass or derived class) that inherits attributes and methods from an existing class (called a superclass or base class).\n",
    "\n",
    "To define the superclasses of a class:\n",
    "\n",
    "Define the superclass: Create the superclass as a separate class with its attributes and methods.\n",
    "\n",
    "Define the subclass: Create the subclass and specify the superclass(es) it should inherit from by including the superclass name(s) in parentheses after the subclass name.\n",
    "\n",
    "Access superclass methods: Within the subclass, you can access the methods and attributes of the superclass using the super() function. This allows the subclass to inherit and extend the functionality of the superclass."
   ]
  },
  {
   "cell_type": "code",
   "execution_count": 29,
   "id": "f30dbfd3",
   "metadata": {},
   "outputs": [
    {
     "name": "stdout",
     "output_type": "stream",
     "text": [
      "woof\n",
      "meow\n"
     ]
    }
   ],
   "source": [
    "class Animal:\n",
    "    \n",
    "    def __init__(self,name):\n",
    "        self.name=name\n",
    "        \n",
    "    def sound(self):\n",
    "        pass\n",
    "        \n",
    "class Dog(Animal):\n",
    "    def __init__(self,name):\n",
    "        super().__init__(name)\n",
    "    \n",
    "    def sound(self):\n",
    "        return \"woof\"\n",
    "\n",
    "class Cat(Animal):\n",
    "    def __init__(self,name):\n",
    "        super().__init__(name)\n",
    "        \n",
    "    def sound(self):\n",
    "        return \"meow\"\n",
    "\n",
    "dog= Dog(\"rockey\")\n",
    "cat= Cat(\"gabru\")\n",
    "print(dog.sound())\n",
    "print(cat.sound())"
   ]
  }
 ],
 "metadata": {
  "kernelspec": {
   "display_name": "Python 3 (ipykernel)",
   "language": "python",
   "name": "python3"
  },
  "language_info": {
   "codemirror_mode": {
    "name": "ipython",
    "version": 3
   },
   "file_extension": ".py",
   "mimetype": "text/x-python",
   "name": "python",
   "nbconvert_exporter": "python",
   "pygments_lexer": "ipython3",
   "version": "3.10.9"
  }
 },
 "nbformat": 4,
 "nbformat_minor": 5
}
