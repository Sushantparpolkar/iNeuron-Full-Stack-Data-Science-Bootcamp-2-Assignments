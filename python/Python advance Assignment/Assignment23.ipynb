{
 "cells": [
  {
   "cell_type": "markdown",
   "id": "f9ae5ab8",
   "metadata": {},
   "source": [
    "# Q1. If you have any, what are your choices for increasing the comparison between different figures on the same graph?"
   ]
  },
  {
   "cell_type": "markdown",
   "id": "d6b03a22",
   "metadata": {},
   "source": [
    " Matplotlib provides a convenient method called subplots for increasing the comparison between different figures on the same graph. Subplots mean a group of smaller axes (where each axis is a plot) that can exist together within a single figure."
   ]
  },
  {
   "cell_type": "markdown",
   "id": "888c391a",
   "metadata": {},
   "source": [
    "# Q2. Can you explain the benefit of compound interest over a higher rate of interest that does not compound after reading this chapter?"
   ]
  },
  {
   "cell_type": "markdown",
   "id": "8e5946dd",
   "metadata": {},
   "source": [
    "Compound interest is a powerful concept in finance that allows your investments or savings to grow exponentially over time. It's the interest calculated not only on the initial amount (principal) but also on the accumulated interest from previous periods. This compounding effect can lead to significant differences in the final amount compared to a higher rate of interest that doesn't compound.compound interest offers the benefit of exponential growth and the potential for higher overall returns compared to a higher simple interest rate."
   ]
  },
  {
   "cell_type": "markdown",
   "id": "8580f731",
   "metadata": {},
   "source": [
    "# Q3. What is a histogram, exactly? Name a numpy method for creating such a graph."
   ]
  },
  {
   "cell_type": "markdown",
   "id": "026bbd55",
   "metadata": {},
   "source": [
    "A histogram is a graphical representation of the distribution of a dataset. It provides a visual depiction of how data is spread across different ranges or bins. The x-axis represents the range of values, divided into intervals (or bins), and the y-axis represents the frequency or count of data points falling within each bin. Histograms are commonly used to understand the underlying distribution of continuous or discrete data."
   ]
  },
  {
   "cell_type": "code",
   "execution_count": 7,
   "id": "35225a4f",
   "metadata": {},
   "outputs": [
    {
     "data": {
      "image/png": "[encoded data removed]",
      "text/plain": [
       "<Figure size 640x480 with 1 Axes>"
      ]
     },
     "metadata": {},
     "output_type": "display_data"
    }
   ],
   "source": [
    "import numpy as np\n",
    "\n",
    "import matplotlib.pyplot as plt\n",
    "\n",
    "data = np.random.randn(1000)\n",
    "\n",
    "hist_values,bin_edges = np.histogram(data ,bins=10)\n",
    "\n",
    "plt.hist(data,bins=10,alpha=0.7,color='blue',edgecolor='black')\n",
    "\n",
    "plt.xlabel('value')\n",
    "plt.ylabel('Frequency')\n",
    "plt.title(\"Histogram of random data\")\n",
    "plt.grid(True)\n",
    "plt.show()"
   ]
  },
  {
   "cell_type": "markdown",
   "id": "b9c55f4e",
   "metadata": {},
   "source": [
    "# Q4. If necessary, how do you change the aspect ratios between the X and Y axes?"
   ]
  },
  {
   "cell_type": "markdown",
   "id": "0045c313",
   "metadata": {},
   "source": [
    "We can use figure(figsize=(10,8)) function inside the matplot.pyplot library which we scale down or up the graph."
   ]
  },
  {
   "cell_type": "markdown",
   "id": "ae0a9ae7",
   "metadata": {},
   "source": [
    "# Q5. Compare and contrast the three types of array multiplication between two numpy arrays: dot product, outer product, and regular multiplication of two numpy arrays."
   ]
  },
  {
   "cell_type": "markdown",
   "id": "65609e57",
   "metadata": {},
   "source": [
    "1) Dot Product: It involves multiplying the corresponding elements of the two arrays and then summing up the results.\n",
    "2) Outer Product:It involves multiplying each element of one array by each element of the other array and placing the results in a matrix.\n",
    "3) Element-wise Multiplication (Regular Multiplication): Element-wise multiplication involves multiplying corresponding elements of two arrays. The arrays must have the same shape for element-wise multiplication.    "
   ]
  },
  {
   "cell_type": "code",
   "execution_count": 18,
   "id": "7f18a71a",
   "metadata": {},
   "outputs": [
    {
     "name": "stdout",
     "output_type": "stream",
     "text": [
      "[[19 22]\n",
      " [43 50]]\n"
     ]
    }
   ],
   "source": [
    "import numpy as np\n",
    "\n",
    "A = np.array([[1,2],\n",
    "             [3,4]])\n",
    "B = np.array([[5,6],\n",
    "             [7,8]])\n",
    "dot_product= np.dot(A,B)\n",
    "print(dot_product)\n"
   ]
  },
  {
   "cell_type": "code",
   "execution_count": 19,
   "id": "6b905cbc",
   "metadata": {},
   "outputs": [
    {
     "name": "stdout",
     "output_type": "stream",
     "text": [
      "[[ 4  5  6]\n",
      " [ 8 10 12]\n",
      " [12 15 18]]\n"
     ]
    }
   ],
   "source": [
    "import numpy as np\n",
    "\n",
    "A = np.array([1,2,3])\n",
    "B = np.array([4,5,6])\n",
    "\n",
    "outer_product = np.outer(A,B)\n",
    "print(outer_product)"
   ]
  },
  {
   "cell_type": "code",
   "execution_count": 21,
   "id": "e1781c33",
   "metadata": {},
   "outputs": [
    {
     "name": "stdout",
     "output_type": "stream",
     "text": [
      "[[ 10  40]\n",
      " [ 90 160]]\n"
     ]
    }
   ],
   "source": [
    "import numpy as np\n",
    "\n",
    "A = np.array([[1,2],\n",
    "             [3,4]])\n",
    "B = np.array([[10,20],\n",
    "             [30,40]])\n",
    "\n",
    "elment_wise_product = A*B\n",
    "print(elment_wise_product)"
   ]
  },
  {
   "cell_type": "markdown",
   "id": "9afebb19",
   "metadata": {},
   "source": [
    "# Q6. Before you buy a home, which numpy function will you use to measure your monthly mortgage payment?"
   ]
  },
  {
   "cell_type": "markdown",
   "id": "9cd07096",
   "metadata": {},
   "source": [
    "p.pmt(rate, nper, pv) function we will be using in order to calculate monthly mortgage payment before you purchase a house.\n",
    "\n",
    "1) rate = The periodic interest rate\n",
    "2) nper = The number of payment periods\n",
    "3) pv = The total value of the mortgage loan"
   ]
  },
  {
   "cell_type": "markdown",
   "id": "17947b21",
   "metadata": {},
   "source": [
    "# Q7. Can string data be stored in numpy arrays? If so, list at least one restriction that applies to this data."
   ]
  },
  {
   "cell_type": "markdown",
   "id": "de5b87ca",
   "metadata": {},
   "source": [
    "Yes, string data can be stored in NumPy arrays. NumPy provides a data type called numpy.str_ or numpy.string_ (depending on the version) for representing string data. However NumPy arrays have a fixed size, which means that all elements in the array must have the same length."
   ]
  }
 ],
 "metadata": {
  "kernelspec": {
   "display_name": "Python 3 (ipykernel)",
   "language": "python",
   "name": "python3"
  },
  "language_info": {
   "codemirror_mode": {
    "name": "ipython",
    "version": 3
   },
   "file_extension": ".py",
   "mimetype": "text/x-python",
   "name": "python",
   "nbconvert_exporter": "python",
   "pygments_lexer": "ipython3",
   "version": "3.10.9"
  }
 },
 "nbformat": 4,
 "nbformat_minor": 5
}
