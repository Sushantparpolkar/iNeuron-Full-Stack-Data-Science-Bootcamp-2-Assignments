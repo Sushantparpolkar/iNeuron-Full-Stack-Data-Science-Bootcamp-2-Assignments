{
 "cells": [
  {
   "cell_type": "markdown",
   "id": "f074c528",
   "metadata": {},
   "source": [
    "# Q1. What are the benefits of the built-in array package, if any?"
   ]
  },
  {
   "cell_type": "markdown",
   "id": "bc97fe01",
   "metadata": {},
   "source": [
    "Python does have a built-in array module which provides a low-level array data structure that is more memory-efficient than using regular Python lists for large amounts of numerical data. \n",
    "1) Memory Efficiency: The array module is designed to be memory-efficient, which can be particularly useful when dealing with large datasets. It stores data more compactly compared to lists, as it doesn't store additional information like list lengths and object references.\n",
    "2) Performance: Operations on array objects can be faster than equivalent operations on lists because arrays store data in a more contiguous memory block, allowing for better cache utilization and potentially reducing memory access overhead.\n",
    "3) Type Control: Arrays are constrained to holding elements of the same data type. This constraint ensures consistent data types and can be useful in scenarios where data type integrity is critical.\n",
    "4) Interoperability: The array module is particularly useful when interfacing with low-level code or libraries that expect data to be in a certain format, such as C or Fortran libraries.\n",
    "5) Interoperability: The array module is particularly useful when interfacing with low-level code or libraries that expect data to be in a certain format, such as C or Fortran libraries."
   ]
  },
  {
   "cell_type": "markdown",
   "id": "06affd7f",
   "metadata": {},
   "source": [
    "# Q2. What are some of the array package&#39;s limitations?"
   ]
  },
  {
   "cell_type": "markdown",
   "id": "9be2ffdb",
   "metadata": {},
   "source": [
    "The \"array package\" in Python typically refers to the array module, which provides a basic array data structure. While the array module has its benefits, it also comes with some limitations.\n",
    "rrays created using the array module can only store elements of a single data type. This restriction can be limiting when dealing with datasets that contain different data types.Arrays have a fixed size once they are created. You cannot easily add or remove elements from an array like you can with lists.The array module provides a basic set of operations."
   ]
  },
  {
   "cell_type": "markdown",
   "id": "a0c6e92f",
   "metadata": {},
   "source": [
    "# Q3. Describe the main differences between the array and numpy packages."
   ]
  },
  {
   "cell_type": "markdown",
   "id": "405b0cd3",
   "metadata": {},
   "source": [
    "__array:__ The array module offers a basic array data structure with limited functionality. It is mainly designed for storing arrays of a single data type efficiently.he array module supports a limited set of basic data types such as integers and floats.he array module has a limited set of operations, mainly focused on basic array manipulation and element access.he array module is memory-efficient compared to Python lists, but it may not be as optimized for performance as NumPy.here array module provides one-dimensional arrays only.\n",
    "\n",
    "__numpy:__ NumPy is a powerful numerical computing library that provides a multidimensional array object (numpy.ndarray). It offers a vast array of mathematical functions and operations, making it suitable for complex numerical computations, linear algebra, statistics, and more.NumPy arrays can hold a wide range of data types, including integers, floats, complex numbers, and even user-defined data types. This flexibility is crucial for scientific and numerical computing.NumPy provides a comprehensive set of mathematical functions and operations for arrays, including element-wise operations, matrix operations, linear algebra, statistical functions, and more.NumPy is heavily optimized for numerical operations, utilizing low-level libraries written in C or Fortran. This leads to significant performance improvements for large-scale computations compared to native Python or the array module.mPy supports multidimensional arrays, allowing you to work with matrices and tensors of various dimensions."
   ]
  },
  {
   "cell_type": "markdown",
   "id": "bfbcbdfe",
   "metadata": {},
   "source": [
    "# Q4. Explain the distinctions between the empty, ones, and zeros functions."
   ]
  },
  {
   "cell_type": "markdown",
   "id": "d86b7ae5",
   "metadata": {},
   "source": [
    "1) numpy.empty:\n",
    "This function creates a new array with uninitialized values. The values in the array are whatever happened to be in the memory location that was allocated for the array.\n",
    "2) numpy.ones:\n",
    "This function creates a new array with all elements initialized to 1.\n",
    "3) numpy.zeros:\n",
    "This function creates a new array with all elements initialized to 0."
   ]
  },
  {
   "cell_type": "code",
   "execution_count": 6,
   "id": "1bce8829",
   "metadata": {},
   "outputs": [
    {
     "data": {
      "text/plain": [
       "array([[0., 0., 0.],\n",
       "       [0., 0., 0.]])"
      ]
     },
     "execution_count": 6,
     "metadata": {},
     "output_type": "execute_result"
    }
   ],
   "source": [
    "import numpy as np\n",
    "empty_array = np.empty((2, 3))\n",
    "empty_array\n"
   ]
  },
  {
   "cell_type": "code",
   "execution_count": 8,
   "id": "870cc981",
   "metadata": {},
   "outputs": [
    {
     "data": {
      "text/plain": [
       "array([[1., 1., 1., 1.],\n",
       "       [1., 1., 1., 1.],\n",
       "       [1., 1., 1., 1.]])"
      ]
     },
     "execution_count": 8,
     "metadata": {},
     "output_type": "execute_result"
    }
   ],
   "source": [
    "import numpy as np\n",
    "one_array = np.ones((3,4))\n",
    "one_array"
   ]
  },
  {
   "cell_type": "code",
   "execution_count": 11,
   "id": "fa6261e7",
   "metadata": {},
   "outputs": [
    {
     "data": {
      "text/plain": [
       "array([[0., 0., 0., 0.],\n",
       "       [0., 0., 0., 0.],\n",
       "       [0., 0., 0., 0.]])"
      ]
     },
     "execution_count": 11,
     "metadata": {},
     "output_type": "execute_result"
    }
   ],
   "source": [
    "import numpy as np\n",
    "zero_array = np.zeros((3,4))\n",
    "zero_array"
   ]
  },
  {
   "cell_type": "markdown",
   "id": "c09c698e",
   "metadata": {},
   "source": [
    "# Q5. In the from function function, which is used to construct new arrays, what is the role of the callable argument?"
   ]
  },
  {
   "cell_type": "markdown",
   "id": "15dbf77f",
   "metadata": {},
   "source": [
    "The fromfunction function in NumPy is used to construct a new array by applying a given function to each coordinate of the array. The role of the callable argument in the fromfunction function is to define the function that will be applied to the array coordinates to determine the values of the array."
   ]
  },
  {
   "cell_type": "code",
   "execution_count": 12,
   "id": "6c0ec84e",
   "metadata": {},
   "outputs": [
    {
     "name": "stdout",
     "output_type": "stream",
     "text": [
      "[[0. 1. 2.]\n",
      " [1. 2. 3.]\n",
      " [2. 3. 4.]\n",
      " [3. 4. 5.]]\n"
     ]
    }
   ],
   "source": [
    "import numpy as np\n",
    "\n",
    "def coordinate_sum(x,y):\n",
    "    return x+y\n",
    "\n",
    "shape =(4,3)\n",
    "result = np.fromfunction(coordinate_sum,shape)\n",
    "print(result)"
   ]
  },
  {
   "cell_type": "markdown",
   "id": "a2335efe",
   "metadata": {},
   "source": [
    "# Q6. What happens when a numpy array is combined with a single-value operand (a scalar, such as an int or a floating-point value) through addition, as in the expression A + n?"
   ]
  },
  {
   "cell_type": "markdown",
   "id": "58e6cb3e",
   "metadata": {},
   "source": [
    "NumPy performs element-wise addition between the array A and the scalar n. This means that the scalar value n is added to each element of the array A, resulting in a new array with the same shape as A but with each element increased by n."
   ]
  },
  {
   "cell_type": "code",
   "execution_count": 14,
   "id": "a5b35a2d",
   "metadata": {},
   "outputs": [
    {
     "name": "stdout",
     "output_type": "stream",
     "text": [
      "[[11 12 13]\n",
      " [14 15 16]]\n"
     ]
    }
   ],
   "source": [
    "import numpy as np\n",
    "\n",
    "A = np.array([[1,2,3],\n",
    "            [4,5,6]])\n",
    "n=10\n",
    "result = A+n\n",
    "print(result)\n"
   ]
  },
  {
   "cell_type": "markdown",
   "id": "5e239073",
   "metadata": {},
   "source": [
    "# Q7. Can array-to-scalar operations use combined operation-assign operators (such as += or *=)? What is the outcome?"
   ]
  },
  {
   "cell_type": "code",
   "execution_count": null,
   "id": "e20b3040",
   "metadata": {},
   "outputs": [],
   "source": [
    "It performs elment-wise addition operation and element-wise multiplication operation."
   ]
  },
  {
   "cell_type": "code",
   "execution_count": 16,
   "id": "113db158",
   "metadata": {},
   "outputs": [
    {
     "name": "stdout",
     "output_type": "stream",
     "text": [
      "[[20 30 40]\n",
      " [50 60 70]]\n"
     ]
    }
   ],
   "source": [
    "import numpy as np\n",
    "\n",
    "B = np.array([[10,20,30],\n",
    "             [40,50,60]])\n",
    "\n",
    "B+=10\n",
    "print(B)"
   ]
  },
  {
   "cell_type": "code",
   "execution_count": 17,
   "id": "bc53fed3",
   "metadata": {},
   "outputs": [
    {
     "name": "stdout",
     "output_type": "stream",
     "text": [
      "[[ 48  56  72]\n",
      " [ 64  96 152]]\n"
     ]
    }
   ],
   "source": [
    "C =np.array([[12,14,18],\n",
    "            [16,24,38]])\n",
    "\n",
    "C*=4\n",
    "print(C)"
   ]
  },
  {
   "cell_type": "markdown",
   "id": "59df3a6a",
   "metadata": {},
   "source": [
    "# Q8. Does a numpy array contain fixed-length strings? What happens if you allocate a longer string to one of these arrays?"
   ]
  },
  {
   "cell_type": "markdown",
   "id": "b2f61115",
   "metadata": {},
   "source": [
    "Yes, it is possible that we can include a string of fixed length in numpy array. The dtype of any numpy array containing string values is the maximum length of any string present in the array.Once set, it will only be able to store new string having length not more than the maximum length at the time of the creation. If we try to reassign some another string value having length greater than the maximum length of the existing elements, it simply discards all the values beyond the maximum length accept upto those values which are under the limit."
   ]
  },
  {
   "cell_type": "markdown",
   "id": "d6343b29",
   "metadata": {},
   "source": [
    "# Q9. What happens when you combine two numpy arrays using an operation like addition (+) or multiplication (*)? What are the conditions for combining two numpy arrays?"
   ]
  },
  {
   "cell_type": "markdown",
   "id": "aefaa849",
   "metadata": {},
   "source": [
    "The arrays you want to combine must have compatible shapes. They should either have the same shape, or one of them should have dimensions that are broadcastable to the other array's shape. Broadcasting is a concept in NumPy that allows arrays with different shapes to be combined in certain operations.\n",
    "\n",
    "For addition and subtraction, the arrays must have the same shape or be broadcastable.\n",
    "\n",
    "For multiplication, the arrays must have the same shape, or one of the arrays can be a scalar (single value).\n",
    "\n",
    "\n",
    "It's important to note that broadcasting only works when certain conditions are met. Typically, broadcasting involves aligning the dimensions of the arrays and duplicating elements along dimensions when necessary."
   ]
  },
  {
   "cell_type": "markdown",
   "id": "631fe62e",
   "metadata": {},
   "source": [
    "# Q10. What is the best way to use a Boolean array to mask another array?"
   ]
  },
  {
   "cell_type": "markdown",
   "id": "62196b2d",
   "metadata": {},
   "source": [
    "Using a Boolean array to mask another array is a powerful technique in NumPy that allows you to select elements from one array based on the corresponding values in a Boolean mask array. This process is often referred to as boolean indexing or masking."
   ]
  },
  {
   "cell_type": "code",
   "execution_count": 20,
   "id": "4ab4e50c",
   "metadata": {},
   "outputs": [
    {
     "name": "stdout",
     "output_type": "stream",
     "text": [
      "[20 18]\n"
     ]
    }
   ],
   "source": [
    "import numpy as np\n",
    "data = np.array([15,20,13,18])\n",
    "\n",
    "mask = data > 16\n",
    "masked_data = data[mask]\n",
    "print(masked_data)"
   ]
  },
  {
   "cell_type": "markdown",
   "id": "712f1913",
   "metadata": {},
   "source": [
    "# Q11. What are three different ways to get the standard deviation of a wide collection of data using both standard Python and its packages? Sort the three of them by how quickly they execute."
   ]
  },
  {
   "cell_type": "markdown",
   "id": "2de20ad2",
   "metadata": {},
   "source": [
    "It's important to note that the NumPy and statistics approaches are generally more efficient and faster for calculating the standard deviation, especially when dealing with large datasets. "
   ]
  },
  {
   "cell_type": "code",
   "execution_count": 21,
   "id": "6bca6413",
   "metadata": {},
   "outputs": [
    {
     "name": "stdout",
     "output_type": "stream",
     "text": [
      "9.83368643433829\n"
     ]
    }
   ],
   "source": [
    "import numpy as np            # using numpy package fastest way \n",
    "data = np.array([12,15,18,20,34,38.5])\n",
    "std_dev = np.std(data)\n",
    "print(std_dev)\n"
   ]
  },
  {
   "cell_type": "code",
   "execution_count": 22,
   "id": "f4e68d48",
   "metadata": {},
   "outputs": [
    {
     "name": "stdout",
     "output_type": "stream",
     "text": [
      "10.77226376703925\n"
     ]
    }
   ],
   "source": [
    "import statistics   # using statistic module\n",
    "\n",
    "data = [12,15,18,20,34,38.5]\n",
    "std_dev = statistics.stdev(data)\n",
    "print(std_dev)"
   ]
  },
  {
   "cell_type": "code",
   "execution_count": 31,
   "id": "f63832bb",
   "metadata": {},
   "outputs": [
    {
     "data": {
      "text/plain": [
       "9.83368643433829"
      ]
     },
     "execution_count": 31,
     "metadata": {},
     "output_type": "execute_result"
    }
   ],
   "source": [
    "def std_dev(data):                       # using function method\n",
    "    mean= sum(data)/len(data)  \n",
    "    squar_difference = [(x- mean) **2 for x in data]\n",
    "    variance = sum(squar_difference)/ len(data)\n",
    "    std_dev = variance ** 0.5\n",
    "    return std_dev\n",
    "\n",
    "\n",
    "data = [12,15,18,20,34,38.5]\n",
    "std_dev(data)\n"
   ]
  },
  {
   "cell_type": "markdown",
   "id": "65e26a2e",
   "metadata": {},
   "source": [
    "# 12. What is the dimensionality of a Boolean mask-generated array?"
   ]
  },
  {
   "cell_type": "markdown",
   "id": "2bf853c8",
   "metadata": {},
   "source": [
    "The dimensionality of a Boolean mask-generated array is the same as the dimensionality of the original array for which the mask was created. In other words, if you use a Boolean mask to index or select elements from a NumPy array, the resulting masked array will have the same number of dimensions as the original array."
   ]
  }
 ],
 "metadata": {
  "kernelspec": {
   "display_name": "Python 3 (ipykernel)",
   "language": "python",
   "name": "python3"
  },
  "language_info": {
   "codemirror_mode": {
    "name": "ipython",
    "version": 3
   },
   "file_extension": ".py",
   "mimetype": "text/x-python",
   "name": "python",
   "nbconvert_exporter": "python",
   "pygments_lexer": "ipython3",
   "version": "3.10.9"
  }
 },
 "nbformat": 4,
 "nbformat_minor": 5
}
