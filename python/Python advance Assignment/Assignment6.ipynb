{
 "cells": [
  {
   "cell_type": "markdown",
   "id": "b3162c1e",
   "metadata": {},
   "source": [
    "# Q1. Describe three applications for exception processing."
   ]
  },
  {
   "cell_type": "markdown",
   "id": "8785af68",
   "metadata": {},
   "source": [
    "Exception processing is a critical aspect of programming that allows developers to handle errors and exceptional situations gracefully. Here are three common applications for exception processing:\n",
    "\n",
    "Error Handling:\n",
    "One of the primary applications of exception processing is error handling. During program execution, various unforeseen situations can occur, such as invalid input, file not found, division by zero, network errors, etc. Instead of letting these errors crash the program or produce undesirable results, exceptions allow developers to handle these cases in a controlled manner. By using try, except, else, and finally blocks, developers can catch and handle specific exceptions, display useful error messages, log relevant information, and guide the program towards a safe state or graceful termination.\n",
    "\n",
    "Input Validation:\n",
    "When dealing with user inputs or external data, it is essential to validate and ensure that the data conforms to the expected format or range. Input validation using exception handling allows developers to verify the integrity of data without resorting to complex conditional statements. For example, when reading user inputs, if the expected input format is an integer but a string is provided, an exception can be raised and caught to prompt the user for valid input. This simplifies the input validation process and provides a more user-friendly experience.\n",
    "\n",
    "Resource Management:\n",
    "Exception handling is also used for resource management, particularly when dealing with external resources like files, databases, network connections, or hardware devices. In scenarios where the program needs to access resources, exceptions help ensure that resources are properly acquired and released, even in the face of unexpected errors or exceptions during resource access. Using try and finally blocks, developers can release acquired resources and clean up after themselves, regardless of whether an exception occurs or not. This prevents resource leaks and helps maintain the stability and efficiency of the program.\n",
    "\n",
    "By leveraging exception processing in these applications, developers can enhance the reliability, maintainability, and user-friendliness of their programs, making it easier to handle various exceptional situations that may arise during program execution."
   ]
  },
  {
   "cell_type": "markdown",
   "id": "690578ce",
   "metadata": {},
   "source": [
    "# Q2. What happens if you don&#39;t do something extra to treat an exception?"
   ]
  },
  {
   "cell_type": "markdown",
   "id": "f36a6a63",
   "metadata": {},
   "source": [
    "If you don't handle an exception in your code, it will result in an unhandled exception, which can lead to the termination of your program with an error message or traceback. When an exception is raised and not caught or treated properly, the following consequences may occur.\n",
    "Program Termination: If an exception is not caught, it propagates up the call stack until it reaches the top-level of the program. \n",
    "Incomplete Processing: When an exception occurs during the execution of a function or block of code, any further processing within that function or block will be abandoned. This can lead to incomplete operations, data inconsistencies, and unexpected program behavior.\n",
    "Resource Leaks: If an exception occurs during resource acquisition (e.g., opening files or establishing network connections) and is not properly handled, resources may not be released correctly. This can lead to resource leaks, causing performance issues and potential resource exhaustion.\n",
    "Data Corruption: Unhandled exceptions may lead to data corruption or loss, especially if critical data is not properly saved or rolled back when an error occurs.\n",
    "Security Vulnerabilities: Unhandled exceptions can potentially expose sensitive information, such as error messages with stack traces, to end-users or attackers. This information may aid attackers in identifying vulnerabilities in your code or system."
   ]
  },
  {
   "cell_type": "markdown",
   "id": "4b55fd6e",
   "metadata": {},
   "source": [
    "# Q3. What are your options for recovering from an exception in your script?"
   ]
  },
  {
   "cell_type": "markdown",
   "id": "2625e580",
   "metadata": {},
   "source": [
    "Using try-except blocks:\n",
    "The most common way to handle exceptions is by using try-except blocks. Wrap the code that may raise an exception in a try block, and catch the exception in an except block. This allows you to execute alternative code or gracefully handle the error situation without terminating the program.\n",
    "addition to try-except blocks, Python allows you to use try-except-else blocks. The code in the else block will only execute if no exception occurs in the try block. It's useful for separating the exception handling logic from the normal flow of code. \n",
    "Using try-except-finally blocks:\n",
    "The try-except-finally block allows you to define code in the finally block that will always execute, regardless of whether an exception occurs or not. It is useful for releasing resources or cleaning up after an operation.\n",
    "Using custom exception classes:\n",
    "You can create your custom exception classes by inheriting from the Exception class. This allows you to define specific exception types tailored to your application's needs. Catching these custom exceptions lets you handle them differently from built-in exceptions.\n",
    "Another recovery option is logging exceptions to keep track of error occurrences. Using the logging module, you can log exception details to a file or other logging destinations for later analysis and debugging."
   ]
  },
  {
   "cell_type": "code",
   "execution_count": 29,
   "id": "69052b77",
   "metadata": {},
   "outputs": [],
   "source": [
    "def division_numbers(a,b):\n",
    "    try:\n",
    "        result = a/b\n",
    "        \n",
    "        print(result)\n",
    "    except ZeroDivisionError as e:\n",
    "        print(\"Error :\",e)"
   ]
  },
  {
   "cell_type": "code",
   "execution_count": 34,
   "id": "8f3edf8d",
   "metadata": {},
   "outputs": [
    {
     "name": "stdout",
     "output_type": "stream",
     "text": [
      "Error : division by zero\n",
      "6.25\n"
     ]
    }
   ],
   "source": [
    "division_numbers(10,0)\n",
    "division_numbers(25,4)"
   ]
  },
  {
   "cell_type": "markdown",
   "id": "149817d6",
   "metadata": {},
   "source": [
    "# Q4. Describe two methods for triggering exceptions in your script."
   ]
  },
  {
   "cell_type": "markdown",
   "id": "9d3536fc",
   "metadata": {},
   "source": [
    "Raising Built-in Exceptions:\n",
    "Python provides a variety of built-in exception types that you can raise using the raise statement. These include ZeroDivisionError, ValueError, TypeError, IndexError, KeyError, and many others. To raise a built-in exception, simply use the raise statement followed by the exception type, optionally followed by an error message. \n",
    "Raising Custom Exceptions:\n",
    "Besides using built-in exceptions, you can also create custom exception classes by inheriting from the Exception class or one of its subclasses. Custom exceptions allow you to define specific exception types tailored to your application's needs. To raise a custom exception, create an instance of the custom exception class and pass an optional error message as an argument."
   ]
  },
  {
   "cell_type": "code",
   "execution_count": 55,
   "id": "dac47052",
   "metadata": {},
   "outputs": [
    {
     "ename": "NameError",
     "evalue": "Sushant",
     "output_type": "error",
     "traceback": [
      "\u001b[1;31m---------------------------------------------------------------------------\u001b[0m",
      "\u001b[1;31mNameError\u001b[0m                                 Traceback (most recent call last)",
      "Cell \u001b[1;32mIn[55], line 1\u001b[0m\n\u001b[1;32m----> 1\u001b[0m \u001b[38;5;28;01mraise\u001b[39;00m \u001b[38;5;167;01mNameError\u001b[39;00m(\u001b[38;5;124m\"\u001b[39m\u001b[38;5;124mSushant\u001b[39m\u001b[38;5;124m\"\u001b[39m)\n",
      "\u001b[1;31mNameError\u001b[0m: Sushant"
     ]
    }
   ],
   "source": [
    "raise NameError(\"Sushant\")"
   ]
  },
  {
   "cell_type": "code",
   "execution_count": 56,
   "id": "d01184e2",
   "metadata": {},
   "outputs": [
    {
     "name": "stdout",
     "output_type": "stream",
     "text": [
      "An exception flew by!\n"
     ]
    },
    {
     "ename": "NameError",
     "evalue": "HiThere",
     "output_type": "error",
     "traceback": [
      "\u001b[1;31m---------------------------------------------------------------------------\u001b[0m",
      "\u001b[1;31mNameError\u001b[0m                                 Traceback (most recent call last)",
      "Cell \u001b[1;32mIn[56], line 2\u001b[0m\n\u001b[0;32m      1\u001b[0m \u001b[38;5;28;01mtry\u001b[39;00m:\n\u001b[1;32m----> 2\u001b[0m     \u001b[38;5;28;01mraise\u001b[39;00m \u001b[38;5;167;01mNameError\u001b[39;00m(\u001b[38;5;124m'\u001b[39m\u001b[38;5;124mHiThere\u001b[39m\u001b[38;5;124m'\u001b[39m)\n\u001b[0;32m      3\u001b[0m \u001b[38;5;28;01mexcept\u001b[39;00m \u001b[38;5;167;01mNameError\u001b[39;00m:\n\u001b[0;32m      4\u001b[0m     \u001b[38;5;28mprint\u001b[39m(\u001b[38;5;124m'\u001b[39m\u001b[38;5;124mAn exception flew by!\u001b[39m\u001b[38;5;124m'\u001b[39m)\n",
      "\u001b[1;31mNameError\u001b[0m: HiThere"
     ]
    }
   ],
   "source": [
    "try:\n",
    "    raise NameError('HiThere')\n",
    "except NameError:\n",
    "    print('An exception flew by!')\n",
    "    raise\n"
   ]
  },
  {
   "cell_type": "code",
   "execution_count": 59,
   "id": "c48a9886",
   "metadata": {},
   "outputs": [
    {
     "name": "stdout",
     "output_type": "stream",
     "text": [
      "Error  Value must not be negative\n"
     ]
    }
   ],
   "source": [
    "class CustomError(Exception):\n",
    "    pass\n",
    "\n",
    "def some_function(x):\n",
    "    if x<0:\n",
    "        raise CustomError(\"Value must not be negative\")\n",
    "        \n",
    "    return x**2\n",
    "try:\n",
    "    result= some_function(-5)\n",
    "except CustomError as ce:\n",
    "    print(\"Error \", ce)\n",
    "        \n",
    "    "
   ]
  },
  {
   "cell_type": "markdown",
   "id": "464b875b",
   "metadata": {},
   "source": [
    "# Q5. Identify two methods for specifying actions to be executed at termination time, regardless of whether or not an exception exists."
   ]
  },
  {
   "cell_type": "markdown",
   "id": "0e2dd296",
   "metadata": {},
   "source": [
    "To specify actions to be executed at termination time, regardless of whether or not an exception exists, you can use the finally clause with try-except blocks or use the atexit module. Both methods allow you to define cleanup operations or finalization code that will be executed regardless of whether an exception occurred during program execution."
   ]
  },
  {
   "cell_type": "code",
   "execution_count": 61,
   "id": "827cc11d",
   "metadata": {},
   "outputs": [
    {
     "name": "stdout",
     "output_type": "stream",
     "text": [
      "result is  2.0\n",
      "Division has done\n"
     ]
    }
   ],
   "source": [
    "def divide(x,y):\n",
    "    try:\n",
    "        \n",
    "        result = x/y\n",
    "    except ZeroDivisionError:\n",
    "        print(\"cannot divide by zero\")\n",
    "    else:\n",
    "        print(\"result is \",result)\n",
    "    finally:\n",
    "        print(\"Division has done\")\n",
    "divide(10,5)"
   ]
  }
 ],
 "metadata": {
  "kernelspec": {
   "display_name": "Python 3 (ipykernel)",
   "language": "python",
   "name": "python3"
  },
  "language_info": {
   "codemirror_mode": {
    "name": "ipython",
    "version": 3
   },
   "file_extension": ".py",
   "mimetype": "text/x-python",
   "name": "python",
   "nbconvert_exporter": "python",
   "pygments_lexer": "ipython3",
   "version": "3.10.9"
  }
 },
 "nbformat": 4,
 "nbformat_minor": 5
}
