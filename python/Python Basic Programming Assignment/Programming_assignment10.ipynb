{
 "cells": [
  {
   "cell_type": "markdown",
   "id": "ea65972d",
   "metadata": {},
   "source": [
    "# 1. Write a Python program to find sum of elements in list?"
   ]
  },
  {
   "cell_type": "code",
   "execution_count": 1,
   "id": "84da14ed",
   "metadata": {},
   "outputs": [
    {
     "name": "stdout",
     "output_type": "stream",
     "text": [
      "The sum of element in list 15\n"
     ]
    }
   ],
   "source": [
    "def sumlist(lst):\n",
    "    sum = 0\n",
    "    for i in lst:\n",
    "        sum += i\n",
    "    return sum\n",
    "lst = [1,2,3,4,5]\n",
    "result = sumlist(lst)\n",
    "print(f\"The sum of element in list\",result)"
   ]
  },
  {
   "cell_type": "markdown",
   "id": "26b09543",
   "metadata": {},
   "source": [
    "# 2. Write a Python program to Multiply all numbers in the list?"
   ]
  },
  {
   "cell_type": "code",
   "execution_count": 2,
   "id": "795b5805",
   "metadata": {},
   "outputs": [
    {
     "name": "stdout",
     "output_type": "stream",
     "text": [
      "The multiplication of list element : 24\n"
     ]
    }
   ],
   "source": [
    "def multilist(lst):\n",
    "    mul = 1\n",
    "    for i in lst:\n",
    "        mul *=i\n",
    "    return mul\n",
    "lst=[1,2,3,4]\n",
    "result = multilist(lst)\n",
    "print(\"The multiplication of list element :\",result)"
   ]
  },
  {
   "cell_type": "markdown",
   "id": "5829323a",
   "metadata": {},
   "source": [
    "# 3. Write a Python program to find smallest number in a list?"
   ]
  },
  {
   "cell_type": "code",
   "execution_count": 3,
   "id": "25d66b32",
   "metadata": {},
   "outputs": [
    {
     "name": "stdout",
     "output_type": "stream",
     "text": [
      "The smallest number in list is 4\n"
     ]
    }
   ],
   "source": [
    "def smallest_no(lst):\n",
    "    smallest = lst[0]\n",
    "    for i in lst:\n",
    "        if i<smallest:\n",
    "            smallest =i\n",
    "    return smallest\n",
    "lst = [12,10,19,4,9,16,5,25,13,17]\n",
    "result = smallest_no(lst)\n",
    "print(f\"The smallest number in list is {result}\")"
   ]
  },
  {
   "cell_type": "markdown",
   "id": "a3efc63f",
   "metadata": {},
   "source": [
    "# 4. Write a Python program to find largest number in a list?"
   ]
  },
  {
   "cell_type": "code",
   "execution_count": 4,
   "id": "90ae0a95",
   "metadata": {},
   "outputs": [
    {
     "name": "stdout",
     "output_type": "stream",
     "text": [
      "The largest number in list is 28\n"
     ]
    }
   ],
   "source": [
    "def largest_no(lst):\n",
    "    largest = lst[0]\n",
    "    for i in lst:\n",
    "        if i>largest:\n",
    "            largest=i\n",
    "    return largest\n",
    "lst = [12,10,8,14,18,22,4,28,17,13]\n",
    "result = largest_no(lst)\n",
    "print(f\"The largest number in list is {result}\")"
   ]
  },
  {
   "cell_type": "markdown",
   "id": "48d9da55",
   "metadata": {},
   "source": [
    "# 5. Write a Python program to find second largest number in a list?"
   ]
  },
  {
   "cell_type": "code",
   "execution_count": 5,
   "id": "ebc34249",
   "metadata": {},
   "outputs": [
    {
     "name": "stdout",
     "output_type": "stream",
     "text": [
      "The second largest element in list is 29\n"
     ]
    }
   ],
   "source": [
    "def second_large(lst):\n",
    "    largest =lst[0]\n",
    "    largest2= None\n",
    "    for item in lst[1:]:\n",
    "        if item>largest:\n",
    "            largest=item\n",
    "            lagrest2=item\n",
    "        elif largest2 is None or largest2<item:\n",
    "            largest2 =item\n",
    "    return largest2\n",
    "lst = [10,20,30,40,24,27,29]\n",
    "result = second_large(lst)\n",
    "print(f\"The second largest element in list is {result}\")\n"
   ]
  },
  {
   "cell_type": "markdown",
   "id": "fc46f28f",
   "metadata": {},
   "source": [
    "# 6. Write a Python program to find N largest elements from a list?"
   ]
  },
  {
   "cell_type": "code",
   "execution_count": 6,
   "id": "ab6f1584",
   "metadata": {},
   "outputs": [
    {
     "name": "stdout",
     "output_type": "stream",
     "text": [
      "Enter the number of largest elements: 3\n",
      "The 3 largest elements are [23, 28, 29]\n"
     ]
    }
   ],
   "source": [
    "def Nlargest(lst, N):\n",
    "    lst.sort()\n",
    "    return lst[-N:]\n",
    "\n",
    "l1 = [10, 20, 14, 19, 23, 28, 29, 17]\n",
    "N = int(input(\"Enter the number of largest elements: \"))\n",
    "result = Nlargest(l1, N)\n",
    "print(f\"The {N} largest elements are {result}\")\n"
   ]
  },
  {
   "cell_type": "markdown",
   "id": "6ca4d438",
   "metadata": {},
   "source": [
    "# 7. Write a Python program to print even numbers in a list?"
   ]
  },
  {
   "cell_type": "code",
   "execution_count": 7,
   "id": "6e7eb6d9",
   "metadata": {},
   "outputs": [
    {
     "name": "stdout",
     "output_type": "stream",
     "text": [
      "Even numbers in list:\n"
     ]
    },
    {
     "data": {
      "text/plain": [
       "[10, 20, 14, 38, 42]"
      ]
     },
     "execution_count": 7,
     "metadata": {},
     "output_type": "execute_result"
    }
   ],
   "source": [
    "def print_even_numbers(lst):\n",
    "    even_numbers=[]\n",
    "    for num in lst:\n",
    "        if num % 2 == 0:\n",
    "            even_numbers.append(num)\n",
    "    return even_numbers\n",
    "\n",
    "# Example usage\n",
    "lst = [10, 20, 14, 19, 38, 45, 42, 17, 47]\n",
    "print(\"Even numbers in list:\")\n",
    "print_even_numbers(lst)"
   ]
  },
  {
   "cell_type": "markdown",
   "id": "85aa8380",
   "metadata": {},
   "source": [
    "# 8. Write a Python program to print odd numbers in a List?"
   ]
  },
  {
   "cell_type": "code",
   "execution_count": 8,
   "id": "04ae7256",
   "metadata": {},
   "outputs": [
    {
     "name": "stdout",
     "output_type": "stream",
     "text": [
      "Odd numbers in list\n"
     ]
    },
    {
     "data": {
      "text/plain": [
       "[23, 31, 57, 49, 53]"
      ]
     },
     "execution_count": 8,
     "metadata": {},
     "output_type": "execute_result"
    }
   ],
   "source": [
    "def print_odd_numbers(lst):\n",
    "    odd_numbers=[]\n",
    "    for ele in lst:\n",
    "        if ele%2!=0:\n",
    "            odd_numbers.append(ele)\n",
    "    return odd_numbers\n",
    "lst=[23,28,31,34,57,96,34,49,53]\n",
    "print(\"Odd numbers in list\")\n",
    "print_odd_numbers(lst)"
   ]
  },
  {
   "cell_type": "markdown",
   "id": "d70eb14d",
   "metadata": {},
   "source": [
    "# 9. Write a Python program to Remove empty List from List?"
   ]
  },
  {
   "cell_type": "code",
   "execution_count": 9,
   "id": "252b91da",
   "metadata": {},
   "outputs": [
    {
     "name": "stdout",
     "output_type": "stream",
     "text": [
      "List after removing empty lists and empty sublists: [1, 2, [3], 4, 5, [6, 7]]\n"
     ]
    }
   ],
   "source": [
    "def remove_empty_lists(lst):\n",
    "    new_lst = []\n",
    "    for item in lst:\n",
    "        if isinstance(item, list):\n",
    "            item = remove_empty_lists(item)\n",
    "        if item:\n",
    "            new_lst.append(item)\n",
    "    return new_lst\n",
    "\n",
    "# Example usage\n",
    "lst = [1, 2, [], [3], [], 4, [], 5, [], [[]], [6, 7, []]]\n",
    "result = remove_empty_lists(lst)\n",
    "print(\"List after removing empty lists and empty sublists:\", result)\n"
   ]
  },
  {
   "cell_type": "markdown",
   "id": "dd3fc9cb",
   "metadata": {},
   "source": [
    "# 10. Write a Python program to Cloning or Copying a list?"
   ]
  },
  {
   "cell_type": "code",
   "execution_count": 10,
   "id": "614e8ed8",
   "metadata": {},
   "outputs": [
    {
     "name": "stdout",
     "output_type": "stream",
     "text": [
      "[1, 2, [3], 4, 5, [6, 7]]\n"
     ]
    }
   ],
   "source": [
    "def cloning(lst):\n",
    "    l2=lst.copy()\n",
    "    return l2\n",
    "lst = [12,19,21,13,8,10,43,12]\n",
    "l2 = cloning(lst)\n",
    "print(result)"
   ]
  },
  {
   "cell_type": "markdown",
   "id": "b1cb2590",
   "metadata": {},
   "source": [
    "# 11. Write a Python program to Count occurrences of an element in a list?"
   ]
  },
  {
   "cell_type": "code",
   "execution_count": 11,
   "id": "3efe708a",
   "metadata": {},
   "outputs": [
    {
     "name": "stdout",
     "output_type": "stream",
     "text": [
      "Enter the number of element in list: 10\n",
      "12\n",
      "15\n",
      "14\n",
      "18\n",
      "12\n",
      "32\n",
      "12\n",
      "14\n",
      "12\n",
      "15\n",
      "Enter the element 12\n",
      "The element 12 occured 4 times in list.\n"
     ]
    }
   ],
   "source": [
    "def count_element(lst,x):\n",
    "    count=0\n",
    "    for ele in lst:\n",
    "        if ele==x:\n",
    "            count=count+1\n",
    "    return count\n",
    "lst=[]\n",
    "n = int(input(\"Enter the number of element in list: \"))\n",
    "for i in range(n):\n",
    "    i=int(input())\n",
    "    lst.append(i)\n",
    "x = int(input(\"Enter the element \"))\n",
    "result = count_element(lst,x)\n",
    "print(f\"The element {x} occured {result} times in list.\")"
   ]
  }
 ],
 "metadata": {
  "kernelspec": {
   "display_name": "Python 3 (ipykernel)",
   "language": "python",
   "name": "python3"
  },
  "language_info": {
   "codemirror_mode": {
    "name": "ipython",
    "version": 3
   },
   "file_extension": ".py",
   "mimetype": "text/x-python",
   "name": "python",
   "nbconvert_exporter": "python",
   "pygments_lexer": "ipython3",
   "version": "3.10.9"
  }
 },
 "nbformat": 4,
 "nbformat_minor": 5
}
