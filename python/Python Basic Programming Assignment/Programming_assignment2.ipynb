{
 "cells": [
  {
   "cell_type": "markdown",
   "id": "5c1d3752",
   "metadata": {},
   "source": [
    "# 1. Write a Python program to convert kilometers to miles?"
   ]
  },
  {
   "cell_type": "code",
   "execution_count": 2,
   "id": "b5761794",
   "metadata": {},
   "outputs": [
    {
     "name": "stdout",
     "output_type": "stream",
     "text": [
      "Enter value of  kilometers :10.4\n",
      "Distance in miles :6.462260376\n"
     ]
    }
   ],
   "source": [
    "kilometers = float(input(\"Enter value of  kilometers :\"))\n",
    "# 1 kilometer = 0.62137119 miles\n",
    "convert_value = 0.62137119\n",
    "miles = a*convert_value\n",
    "print(f\"Distance in miles :{miles}\")"
   ]
  },
  {
   "cell_type": "markdown",
   "id": "21b17480",
   "metadata": {},
   "source": [
    "# 2. Write a Python program to convert Celsius to Fahrenheit?"
   ]
  },
  {
   "cell_type": "code",
   "execution_count": 36,
   "id": "13d4699e",
   "metadata": {},
   "outputs": [
    {
     "name": "stdout",
     "output_type": "stream",
     "text": [
      "Enter value of degree celsius (°C)  : 37\n",
      "degree Fahrenheit : 98.60000000000001\n"
     ]
    }
   ],
   "source": [
    "Celsius  = float(input(\"Enter value of degree celsius (°C)  : \"))\n",
    "formula =  Celsius  * (9/5) + 32\n",
    "print(f\"degree Fahrenheit : {formula}\")"
   ]
  },
  {
   "cell_type": "markdown",
   "id": "07b2e9bb",
   "metadata": {},
   "source": [
    "# 3. Write a Python program to display calendar?"
   ]
  },
  {
   "cell_type": "code",
   "execution_count": 51,
   "id": "7c80782d",
   "metadata": {},
   "outputs": [],
   "source": [
    "import calendar"
   ]
  },
  {
   "cell_type": "code",
   "execution_count": 54,
   "id": "0cf8069b",
   "metadata": {},
   "outputs": [
    {
     "name": "stdout",
     "output_type": "stream",
     "text": [
      "Enter current year :2023\n",
      "                                  2023\n",
      "\n",
      "      January                   February                   March\n",
      "Mo Tu We Th Fr Sa Su      Mo Tu We Th Fr Sa Su      Mo Tu We Th Fr Sa Su\n",
      "                   1             1  2  3  4  5             1  2  3  4  5\n",
      " 2  3  4  5  6  7  8       6  7  8  9 10 11 12       6  7  8  9 10 11 12\n",
      " 9 10 11 12 13 14 15      13 14 15 16 17 18 19      13 14 15 16 17 18 19\n",
      "16 17 18 19 20 21 22      20 21 22 23 24 25 26      20 21 22 23 24 25 26\n",
      "23 24 25 26 27 28 29      27 28                     27 28 29 30 31\n",
      "30 31\n",
      "\n",
      "       April                      May                       June\n",
      "Mo Tu We Th Fr Sa Su      Mo Tu We Th Fr Sa Su      Mo Tu We Th Fr Sa Su\n",
      "                1  2       1  2  3  4  5  6  7                1  2  3  4\n",
      " 3  4  5  6  7  8  9       8  9 10 11 12 13 14       5  6  7  8  9 10 11\n",
      "10 11 12 13 14 15 16      15 16 17 18 19 20 21      12 13 14 15 16 17 18\n",
      "17 18 19 20 21 22 23      22 23 24 25 26 27 28      19 20 21 22 23 24 25\n",
      "24 25 26 27 28 29 30      29 30 31                  26 27 28 29 30\n",
      "\n",
      "        July                     August                  September\n",
      "Mo Tu We Th Fr Sa Su      Mo Tu We Th Fr Sa Su      Mo Tu We Th Fr Sa Su\n",
      "                1  2          1  2  3  4  5  6                   1  2  3\n",
      " 3  4  5  6  7  8  9       7  8  9 10 11 12 13       4  5  6  7  8  9 10\n",
      "10 11 12 13 14 15 16      14 15 16 17 18 19 20      11 12 13 14 15 16 17\n",
      "17 18 19 20 21 22 23      21 22 23 24 25 26 27      18 19 20 21 22 23 24\n",
      "24 25 26 27 28 29 30      28 29 30 31               25 26 27 28 29 30\n",
      "31\n",
      "\n",
      "      October                   November                  December\n",
      "Mo Tu We Th Fr Sa Su      Mo Tu We Th Fr Sa Su      Mo Tu We Th Fr Sa Su\n",
      "                   1             1  2  3  4  5                   1  2  3\n",
      " 2  3  4  5  6  7  8       6  7  8  9 10 11 12       4  5  6  7  8  9 10\n",
      " 9 10 11 12 13 14 15      13 14 15 16 17 18 19      11 12 13 14 15 16 17\n",
      "16 17 18 19 20 21 22      20 21 22 23 24 25 26      18 19 20 21 22 23 24\n",
      "23 24 25 26 27 28 29      27 28 29 30               25 26 27 28 29 30 31\n",
      "30 31\n",
      "\n"
     ]
    }
   ],
   "source": [
    "def year_calendar():\n",
    "    year = int(input(\"Enter current year :\"))\n",
    "    print(calendar.calendar(year))\n",
    "\n",
    "year_calendar()"
   ]
  },
  {
   "cell_type": "markdown",
   "id": "8903f1df",
   "metadata": {},
   "source": [
    "# 4. Write a Python program to solve quadratic equation?"
   ]
  },
  {
   "cell_type": "code",
   "execution_count": 43,
   "id": "847d96c9",
   "metadata": {},
   "outputs": [
    {
     "name": "stdout",
     "output_type": "stream",
     "text": [
      "Enter coefficient a:6\n",
      "Enter coefficient b :11\n",
      "Enter constant c:-35\n",
      "Two distinct real roots\n",
      "r1: 1.6666666666666667\n",
      "r2: -3.5\n"
     ]
    }
   ],
   "source": [
    "import math\n",
    "a = int(input(\"Enter coefficient a:\"))\n",
    "b = int(input(\"Enter coefficient b :\"))\n",
    "c =int(input(\"Enter constant c:\"))\n",
    "\n",
    "# checking the discriminant to determine the nature of the roots\n",
    "discriminant = (b**2)-(4*a*c)\n",
    "\n",
    "if discriminant>0:\n",
    "# two distinct real roots\n",
    "    r1= (-b +math.sqrt(discriminant))/(2*a)\n",
    "    r2 = (-b - math.sqrt(discriminant))/(2*a)\n",
    "    print(\"Two distinct real roots\")\n",
    "    print(\"r1:\",r1)\n",
    "    print(\"r2:\",r2)\n",
    "elif discriminant==0:\n",
    "    #one real root repeated\n",
    "    root = (-b)/(2*a)\n",
    "    print(\"one real root\")\n",
    "    print(\"root:\",root)\n",
    "    \n",
    "else:\n",
    "    # Two complex root\n",
    "    real_part = (-b)/(2*a)\n",
    "    imaginary_part=math.sqrt(abs(discriminant))/(2*a)\n",
    "    r1=(real_part,imaginary_part)\n",
    "    r2 =(real_part,-imaginary_part)\n",
    "    print(\"two complex root\")\n",
    "    print(\"r1 :\",r1)\n",
    "    print(\"r2 :\",r2)"
   ]
  },
  {
   "cell_type": "markdown",
   "id": "85928482",
   "metadata": {},
   "source": [
    "# 5. Write a Python program to swap two variables without temp variable?"
   ]
  },
  {
   "cell_type": "code",
   "execution_count": 45,
   "id": "081e1164",
   "metadata": {},
   "outputs": [
    {
     "name": "stdout",
     "output_type": "stream",
     "text": [
      "Enter a value: 10\n",
      "Enter another value :20\n",
      "Value of a after swaping:  20\n",
      "value of b after swaping:  10\n"
     ]
    }
   ],
   "source": [
    "a = int(input(\"Enter a value: \"))\n",
    "b = int(input(\"Enter another value :\"))\n",
    "a,b=b,a # swaping variables\n",
    "print(\"Value of a after swaping: \",a)\n",
    "print(\"value of b after swaping: \",b)"
   ]
  }
 ],
 "metadata": {
  "kernelspec": {
   "display_name": "Python 3 (ipykernel)",
   "language": "python",
   "name": "python3"
  },
  "language_info": {
   "codemirror_mode": {
    "name": "ipython",
    "version": 3
   },
   "file_extension": ".py",
   "mimetype": "text/x-python",
   "name": "python",
   "nbconvert_exporter": "python",
   "pygments_lexer": "ipython3",
   "version": "3.10.9"
  }
 },
 "nbformat": 4,
 "nbformat_minor": 5
}
