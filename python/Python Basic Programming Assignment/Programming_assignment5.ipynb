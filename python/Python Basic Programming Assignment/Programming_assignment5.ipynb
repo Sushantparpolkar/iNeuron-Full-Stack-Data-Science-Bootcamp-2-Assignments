{
 "cells": [
  {
   "cell_type": "markdown",
   "id": "78919caf",
   "metadata": {},
   "source": [
    "# 1. Write a Python Program to Find LCM?"
   ]
  },
  {
   "cell_type": "code",
   "execution_count": 13,
   "id": "f8de410b",
   "metadata": {},
   "outputs": [
    {
     "data": {
      "text/plain": [
       "30"
      ]
     },
     "execution_count": 13,
     "metadata": {},
     "output_type": "execute_result"
    }
   ],
   "source": [
    "def Lcm(num1,num2):\n",
    "    \n",
    "    maxnum = max(num1,num2)\n",
    "    while(True):\n",
    "        if maxnum % num1==0 and maxnum % num2==0:\n",
    "            return maxnum\n",
    "        maxnum += 1\n",
    "Lcm(15,10)  # The lcm of the two numbers is given below"
   ]
  },
  {
   "cell_type": "markdown",
   "id": "dc190a51",
   "metadata": {},
   "source": [
    "# 2. Write a Python Program to Find HCF?"
   ]
  },
  {
   "cell_type": "code",
   "execution_count": 25,
   "id": "73c544c5",
   "metadata": {},
   "outputs": [],
   "source": [
    "def HCF(num1,num2):\n",
    "    \n",
    "    if num2>num1:\n",
    "        mn =num1\n",
    "    else:\n",
    "        mn=num2\n",
    "    for i in range(1,mn+1):\n",
    "        if num1%i == 0 and num2%i == 0:\n",
    "            hcf = i\n",
    "    return  hcf # The Hcf of given number is written below\n"
   ]
  },
  {
   "cell_type": "code",
   "execution_count": 24,
   "id": "82210e8f",
   "metadata": {},
   "outputs": [
    {
     "data": {
      "text/plain": [
       "4"
      ]
     },
     "execution_count": 24,
     "metadata": {},
     "output_type": "execute_result"
    }
   ],
   "source": [
    "HCF(4,28)"
   ]
  },
  {
   "cell_type": "markdown",
   "id": "d6931c02",
   "metadata": {},
   "source": [
    "# 3. Write a Python Program to Convert Decimal to Binary, Octal and Hexadecimal?"
   ]
  },
  {
   "cell_type": "code",
   "execution_count": 30,
   "id": "dc48acbc",
   "metadata": {},
   "outputs": [
    {
     "name": "stdout",
     "output_type": "stream",
     "text": [
      "Enter a number :85\n",
      "The conversion of decimal number 85 is:\n",
      "0b1010101 in binary\n",
      "0o125 in octal\n",
      "0x55 in hexadecimal\n"
     ]
    }
   ],
   "source": [
    "decimal = int(input(\"Enter a number :\"))\n",
    "print(\"The conversion of decimal number\",decimal,\"is:\")\n",
    "print(bin(decimal),\"in binary\")\n",
    "print(oct(decimal),\"in octal\")\n",
    "print(hex(decimal),\"in hexadecimal\")"
   ]
  },
  {
   "cell_type": "markdown",
   "id": "6a03a084",
   "metadata": {},
   "source": [
    "# 4. Write a Python Program To Find ASCII value of a character?"
   ]
  },
  {
   "cell_type": "code",
   "execution_count": 9,
   "id": "dec44cab",
   "metadata": {},
   "outputs": [
    {
     "name": "stdout",
     "output_type": "stream",
     "text": [
      "Enter a string : sushant parpolkar\n",
      "s \t 115\n",
      "u \t 117\n",
      "s \t 115\n",
      "h \t 104\n",
      "a \t 97\n",
      "n \t 110\n",
      "t \t 116\n",
      "  \t 32\n",
      "p \t 112\n",
      "a \t 97\n",
      "r \t 114\n",
      "p \t 112\n",
      "o \t 111\n",
      "l \t 108\n",
      "k \t 107\n",
      "a \t 97\n",
      "r \t 114\n"
     ]
    }
   ],
   "source": [
    "text = input(\"Enter a string : \")\n",
    "for char in text:\n",
    "    ascii = ord(char)\n",
    "    print(char,\"\\t\" , ascii)"
   ]
  },
  {
   "cell_type": "markdown",
   "id": "f4b7cf94",
   "metadata": {},
   "source": [
    "# 5. Write a Python Program to Make a Simple Calculator with 4 basic mathematical operations?"
   ]
  },
  {
   "cell_type": "code",
   "execution_count": 14,
   "id": "cd8ef83d",
   "metadata": {},
   "outputs": [],
   "source": [
    "def calculator(a,b):\n",
    "    add =a+b\n",
    "    sub =a-b\n",
    "    mul=a*b\n",
    "    div =a//b\n",
    "    return add,sub,mul,div"
   ]
  },
  {
   "cell_type": "code",
   "execution_count": 15,
   "id": "8741586c",
   "metadata": {},
   "outputs": [
    {
     "data": {
      "text/plain": [
       "(22, -2, 120, 0)"
      ]
     },
     "execution_count": 15,
     "metadata": {},
     "output_type": "execute_result"
    }
   ],
   "source": [
    "calculator(10,12)"
   ]
  }
 ],
 "metadata": {
  "kernelspec": {
   "display_name": "Python 3 (ipykernel)",
   "language": "python",
   "name": "python3"
  },
  "language_info": {
   "codemirror_mode": {
    "name": "ipython",
    "version": 3
   },
   "file_extension": ".py",
   "mimetype": "text/x-python",
   "name": "python",
   "nbconvert_exporter": "python",
   "pygments_lexer": "ipython3",
   "version": "3.10.9"
  }
 },
 "nbformat": 4,
 "nbformat_minor": 5
}
