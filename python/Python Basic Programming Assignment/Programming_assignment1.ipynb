{
 "cells": [
  {
   "cell_type": "markdown",
   "id": "c1842827",
   "metadata": {},
   "source": [
    "# 1. Write a Python program to print &quot;Hello Python&quot;?"
   ]
  },
  {
   "cell_type": "code",
   "execution_count": 1,
   "id": "45044d98",
   "metadata": {},
   "outputs": [
    {
     "name": "stdout",
     "output_type": "stream",
     "text": [
      "Hello Python\n"
     ]
    }
   ],
   "source": [
    "greet =\"Hello Python\"\n",
    "print(greet)  "
   ]
  },
  {
   "cell_type": "markdown",
   "id": "9a62a763",
   "metadata": {},
   "source": [
    "# 2. Write a Python program to do arithmetical operations addition and division.?"
   ]
  },
  {
   "cell_type": "code",
   "execution_count": 6,
   "id": "e0918b20",
   "metadata": {},
   "outputs": [
    {
     "name": "stdout",
     "output_type": "stream",
     "text": [
      "Enter a number :14\n",
      "Enter another number: 15\n",
      "addition: 29 \n"
     ]
    }
   ],
   "source": [
    "a = int(input(\"Enter a number :\"))\n",
    "b = int(input(\"Enter another number: \"))\n",
    "addition = a+b\n",
    "print(f\"addition: {addition} \")"
   ]
  },
  {
   "cell_type": "code",
   "execution_count": 19,
   "id": "8fa959f8",
   "metadata": {},
   "outputs": [
    {
     "name": "stdout",
     "output_type": "stream",
     "text": [
      "Enter a number:15\n",
      "Enter another number: 5\n",
      "division: 3\n"
     ]
    }
   ],
   "source": [
    "c= int(input(\"Enter a number:\"))\n",
    "d=int(input(\"Enter another number: \"))\n",
    "division =c//d\n",
    "print(f\"division: {division}\")"
   ]
  },
  {
   "cell_type": "markdown",
   "id": "c0d42ba5",
   "metadata": {},
   "source": [
    "# 3. Write a Python program to find the area of a triangle?"
   ]
  },
  {
   "cell_type": "code",
   "execution_count": 9,
   "id": "09862a4f",
   "metadata": {},
   "outputs": [
    {
     "name": "stdout",
     "output_type": "stream",
     "text": [
      "Enter height of traingle : 15.6\n",
      "Enter base of traingle :10.3\n",
      "Area of traingle :80.34\n"
     ]
    }
   ],
   "source": [
    " h= float(input(\"Enter height of traingle : \"))\n",
    "b = float(input(\"Enter base of traingle :\"))\n",
    "area = 0.5*h*b\n",
    "print(f\"Area of traingle :{area}\")"
   ]
  },
  {
   "cell_type": "markdown",
   "id": "8fa5ec31",
   "metadata": {},
   "source": [
    "# 4. Write a Python program to swap two variables?"
   ]
  },
  {
   "cell_type": "code",
   "execution_count": 14,
   "id": "13a03b81",
   "metadata": {},
   "outputs": [
    {
     "name": "stdout",
     "output_type": "stream",
     "text": [
      "Enter a number14\n",
      "Enter another number8\n",
      "value of a after swap: 8\n",
      "value of b after swap:14\n"
     ]
    }
   ],
   "source": [
    "a = input(\"Enter a number\")\n",
    "b= input(\"Enter another number\")\n",
    "num = a\n",
    "a=b\n",
    "b=num\n",
    "print(f\"value of a after swap: {a}\")\n",
    "print(f\"value of b after swap:{b}\")"
   ]
  },
  {
   "cell_type": "markdown",
   "id": "b087b89f",
   "metadata": {},
   "source": [
    "# 5. Write a Python program to generate a random number?"
   ]
  },
  {
   "cell_type": "code",
   "execution_count": 16,
   "id": "bbf57eec",
   "metadata": {},
   "outputs": [
    {
     "data": {
      "text/plain": [
       "38"
      ]
     },
     "execution_count": 16,
     "metadata": {},
     "output_type": "execute_result"
    }
   ],
   "source": [
    "import random\n",
    "random_number =random.randint(1,50)\n",
    "random_number"
   ]
  }
 ],
 "metadata": {
  "kernelspec": {
   "display_name": "Python 3 (ipykernel)",
   "language": "python",
   "name": "python3"
  },
  "language_info": {
   "codemirror_mode": {
    "name": "ipython",
    "version": 3
   },
   "file_extension": ".py",
   "mimetype": "text/x-python",
   "name": "python",
   "nbconvert_exporter": "python",
   "pygments_lexer": "ipython3",
   "version": "3.10.9"
  }
 },
 "nbformat": 4,
 "nbformat_minor": 5
}
