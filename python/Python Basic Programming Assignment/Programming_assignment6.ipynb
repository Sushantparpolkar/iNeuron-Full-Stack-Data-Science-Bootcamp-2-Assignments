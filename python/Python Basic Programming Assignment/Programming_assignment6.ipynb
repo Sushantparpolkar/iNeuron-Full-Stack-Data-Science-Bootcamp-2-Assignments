{
 "cells": [
  {
   "cell_type": "markdown",
   "id": "4b8f8e3a",
   "metadata": {},
   "source": [
    "# 1. Write a Python Program to Display Fibonacci Sequence Using Recursion?"
   ]
  },
  {
   "cell_type": "code",
   "execution_count": 8,
   "id": "617bbe62",
   "metadata": {},
   "outputs": [
    {
     "name": "stdout",
     "output_type": "stream",
     "text": [
      "0 1 1 2 3 5 8 13 21 34 "
     ]
    }
   ],
   "source": [
    "def fibonacci(num):\n",
    "    if num==0:\n",
    "        return 0\n",
    "    elif num==1:\n",
    "        return 1\n",
    "    else:\n",
    "        return fibonacci(num-1)+fibonacci(num-2)\n",
    "num =10\n",
    "for i in range(0,num):\n",
    "    print(fibonacci(i),end=\" \")\n",
    "    "
   ]
  },
  {
   "cell_type": "markdown",
   "id": "e668e344",
   "metadata": {},
   "source": [
    "# 2. Write a Python Program to Find Factorial of Number Using Recursion?"
   ]
  },
  {
   "cell_type": "code",
   "execution_count": 18,
   "id": "27d96119",
   "metadata": {},
   "outputs": [],
   "source": [
    "def factorial(n):\n",
    "    if n ==0:\n",
    "        return 1\n",
    "    if n==1:\n",
    "        return 1\n",
    "    else:\n",
    "        return n*factorial(n-1)"
   ]
  },
  {
   "cell_type": "code",
   "execution_count": 19,
   "id": "123d5cb7",
   "metadata": {},
   "outputs": [
    {
     "data": {
      "text/plain": [
       "720"
      ]
     },
     "execution_count": 19,
     "metadata": {},
     "output_type": "execute_result"
    }
   ],
   "source": [
    "factorial(6)"
   ]
  },
  {
   "cell_type": "markdown",
   "id": "f90f9725",
   "metadata": {},
   "source": [
    "# 3. Write a Python Program to calculate your Body Mass Index?"
   ]
  },
  {
   "cell_type": "code",
   "execution_count": 45,
   "id": "0de20398",
   "metadata": {},
   "outputs": [
    {
     "name": "stdout",
     "output_type": "stream",
     "text": [
      "Enter your body weight in kgs :67.30\n",
      "Enter your height in cms : 160\n",
      "The BMI of your body is 26.289062499999993\n"
     ]
    }
   ],
   "source": [
    "def BMI(weight,height):\n",
    "    height_meter = height/100 # converting height from centimeter to meter\n",
    "    bmi = weight/(height_meter**2)\n",
    "    return bmi\n",
    "weight = float(input(\"Enter your body weight in kgs :\"))\n",
    "height = float(input(\"Enter your height in cms : \"))\n",
    "result = BMI(weight,height)\n",
    "print(f\"The BMI of your body is {result}\")"
   ]
  },
  {
   "cell_type": "markdown",
   "id": "2a7bf814",
   "metadata": {},
   "source": [
    "# 4. Write a Python Program to calculate the natural logarithm of any number?"
   ]
  },
  {
   "cell_type": "code",
   "execution_count": 71,
   "id": "6f25f7aa",
   "metadata": {},
   "outputs": [
    {
     "name": "stdout",
     "output_type": "stream",
     "text": [
      "Enter a number :14\n",
      "The natural logarithm of 14.0 is 2.6390573296152584\n"
     ]
    }
   ],
   "source": [
    "import math\n",
    "number = float(input(\"Enter a number :\"))\n",
    "\n",
    "\n",
    "log_number =math.log(number)\n",
    "print(f\"The natural logarithm of {number} is {log_number}\")"
   ]
  },
  {
   "cell_type": "markdown",
   "id": "308aad8d",
   "metadata": {},
   "source": [
    "# 5. Write a Python Program for cube sum of first n natural numbers?"
   ]
  },
  {
   "cell_type": "code",
   "execution_count": 39,
   "id": "71c85ca7",
   "metadata": {},
   "outputs": [
    {
     "name": "stdout",
     "output_type": "stream",
     "text": [
      "Enter the number : 3\n",
      "The cube of sum of first 3 natural number  is 216\n"
     ]
    }
   ],
   "source": [
    "num = int(input(\"Enter the number : \"))\n",
    "def gencube(num):\n",
    "    sn = 0\n",
    "    for i in range(1,num+1):\n",
    "        sn += i\n",
    "    return sn**3\n",
    "result= gencube(num)\n",
    "print(f\"The cube of sum of first {num} natural number  is {result}\")"
   ]
  }
 ],
 "metadata": {
  "kernelspec": {
   "display_name": "Python 3 (ipykernel)",
   "language": "python",
   "name": "python3"
  },
  "language_info": {
   "codemirror_mode": {
    "name": "ipython",
    "version": 3
   },
   "file_extension": ".py",
   "mimetype": "text/x-python",
   "name": "python",
   "nbconvert_exporter": "python",
   "pygments_lexer": "ipython3",
   "version": "3.10.9"
  }
 },
 "nbformat": 4,
 "nbformat_minor": 5
}
