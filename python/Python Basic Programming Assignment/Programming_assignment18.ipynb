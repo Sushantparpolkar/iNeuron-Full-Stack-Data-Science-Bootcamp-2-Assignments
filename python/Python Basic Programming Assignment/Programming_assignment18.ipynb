{
 "cells": [
  {
   "cell_type": "markdown",
   "id": "71cf53f6",
   "metadata": {},
   "source": [
    "# Question 1\n",
    "#### Create a function that takes a list of non-negative integers and strings and return a new list without the strings.\n",
    "## Examples\n",
    "#### filter_list([1, 2, &quot;a&quot;, &quot;b&quot;]) ➞ [1, 2]\n",
    "#### filter_list([1, &quot;a&quot;, &quot;b&quot;, 0, 15]) ➞ [1, 0, 15]\n",
    "#### filter_list([1, 2, &quot;aasf&quot;, &quot;1&quot;, &quot;123&quot;, 123]) ➞ [1, 2, 123]"
   ]
  },
  {
   "cell_type": "code",
   "execution_count": 30,
   "id": "f3f336ba",
   "metadata": {},
   "outputs": [
    {
     "name": "stdout",
     "output_type": "stream",
     "text": [
      "filter_list([1,2,'a','b']) -> [1, 2]\n",
      "filter_list([1, 'a', 'b', 0, 15]) -> [1, 0, 15]\n",
      "filter_list([1, 2, 'aasf', '1', '123', 123]) -> [1, 2, 123]\n"
     ]
    }
   ],
   "source": [
    "def filter_list(lst):\n",
    "    filtered_list=[x for x in lst if isinstance(x,int)]\n",
    "    return filtered_list\n",
    "print(f\"filter_list([1,2,'a','b']) -> {filter_list([1,2,'a','b'])}\")\n",
    "print(f\"filter_list([1, 'a', 'b', 0, 15]) -> {filter_list([1, 'a', 'b', 0, 15])}\")\n",
    "print(f\"filter_list([1, 2, 'aasf', '1', '123', 123]) -> {filter_list([1, 2, 'aasf', '1', '123', 123])}\")"
   ]
  },
  {
   "cell_type": "markdown",
   "id": "8e3190ef",
   "metadata": {},
   "source": [
    "## Question 2\n",
    "### The &quot;Reverser&quot; takes a string as input and returns that string in reverse order, with the\n",
    "### opposite case.\n",
    "### Examples\n",
    "#### reverse(&quot;Hello World&quot;) ➞ &quot;DLROw OLLEh&quot;\n",
    "#### reverse(&quot;ReVeRsE&quot;) ➞ &quot;eSrEvEr&quot;\n",
    "#### reverse(&quot;Radar&quot;) ➞ &quot;RADAr&quot;"
   ]
  },
  {
   "cell_type": "code",
   "execution_count": 58,
   "id": "a76323e0",
   "metadata": {},
   "outputs": [
    {
     "name": "stdout",
     "output_type": "stream",
     "text": [
      "reverse('hellow World) -> DLROw OLLEh\n",
      "reverse('ReVeRsE) -> eSrEvEr\n",
      "reverse('Radar') -> RADAr\n"
     ]
    }
   ],
   "source": [
    "def reverse(string):\n",
    "    str1=string[::-1]\n",
    "    return str1.swapcase()\n",
    "\n",
    "print(f\"reverse('hellow World) -> {reverse('Hello World')}\")\n",
    "print(f\"reverse('ReVeRsE) -> {reverse('ReVeRsE')}\")\n",
    "print(f\"reverse('Radar') -> {reverse('Radar')}\")"
   ]
  },
  {
   "cell_type": "markdown",
   "id": "782e47dc",
   "metadata": {},
   "source": [
    "## Question 3\n",
    "#### You can assign variables from lists like this:"
   ]
  },
  {
   "cell_type": "raw",
   "id": "f7baf3aa",
   "metadata": {},
   "source": [
    "lst = [1, 2, 3, 4, 5, 6]\n",
    "first = lst[0]\n",
    "middle = lst[1:-1]\n",
    "last = lst[-1]\n",
    "print(first) ➞ outputs 1\n",
    "print(middle) ➞ outputs [2, 3, 4, 5]\n",
    "print(last) ➞ outputs 6\n",
    "With Python 3, you can assign variables from lists in a much more succinct way. Create\n",
    "variables first, middle and last from the given list using destructuring assignment\n",
    "(check the Resources tab for some examples), where:\n",
    "first ➞ 1\n",
    "middle ➞ [2, 3, 4, 5]\n",
    "last ➞ 6\n",
    "\n",
    "Your task is to unpack the list writeyourcodehere into three variables, being first,\n",
    "middle, and last, with middle being everything in between the first and last element. Then\n",
    "print all three variables."
   ]
  },
  {
   "cell_type": "code",
   "execution_count": 64,
   "id": "e238dbbe",
   "metadata": {},
   "outputs": [
    {
     "name": "stdout",
     "output_type": "stream",
     "text": [
      "first -> 1\n",
      "middle -> [2, 3, 4, 5]\n",
      "last  -> 6\n"
     ]
    }
   ],
   "source": [
    "first,*middle,last=[1,2,3,4,5,6]\n",
    "print(f\"first -> {first}\")\n",
    "print(f\"middle -> {middle}\")\n",
    "print(f\"last  -> {last}\")"
   ]
  },
  {
   "cell_type": "markdown",
   "id": "2c044f3c",
   "metadata": {},
   "source": [
    "# Question 4\n",
    "### Write a function that calculates the factorial of a number recursively.\n",
    "### Examples\n",
    "#### factorial(5) ➞ 120\n",
    "#### factorial(3) ➞ 6\n",
    "#### factorial(1) ➞ 1\n",
    "#### factorial(0) ➞ 1"
   ]
  },
  {
   "cell_type": "code",
   "execution_count": 3,
   "id": "313ccbb5",
   "metadata": {},
   "outputs": [
    {
     "name": "stdout",
     "output_type": "stream",
     "text": [
      "factorial(5) -> 120\n",
      "factorial(3) ->  6\n",
      "factorial(1) ->  1\n",
      "factorial(0) ->  1\n"
     ]
    }
   ],
   "source": [
    "def factorial(num):\n",
    "    if num <=1:\n",
    "        return 1\n",
    "    else:\n",
    "        return (num)*factorial(num-1)\n",
    "print(f\"factorial(5) -> {factorial(5)}\")\n",
    "print(f\"factorial(3) ->  {factorial(3)}\")\n",
    "print(f\"factorial(1) ->  {factorial(1)}\")\n",
    "print(f\"factorial(0) ->  {factorial(0)}\")"
   ]
  },
  {
   "cell_type": "markdown",
   "id": "8d6f7c18",
   "metadata": {},
   "source": [
    "## Question 5\n",
    "#### Write a function that moves all elements of one type to the end of the list.\n",
    "#### Examples\n",
    "#### move_to_end([1, 3, 2, 4, 4, 1], 1) ➞ [3, 2, 4, 4, 1, 1]\n",
    "#### Move all the 1s to the end of the array.\n",
    "#### move_to_end([7, 8, 9, 1, 2, 3, 4], 9) ➞ [7, 8, 1, 2, 3, 4, 9]\n",
    "#### move_to_end([&quot;a&quot;, &quot;a&quot;, &quot;a&quot;, &quot;b&quot;], &quot;a&quot;) ➞ [&quot;b&quot;, &quot;a&quot;, &quot;a&quot;, &quot;a&quot;]"
   ]
  },
  {
   "cell_type": "code",
   "execution_count": 16,
   "id": "cbe4b8ea",
   "metadata": {},
   "outputs": [
    {
     "name": "stdout",
     "output_type": "stream",
     "text": [
      "move_to_end([1, 3, 2, 4, 4, 1], 1) ->[3, 2, 4, 4, 1, 1]\n",
      "move_to_end([7, 8, 9, 1, 2, 3, 4], 9) -> [7, 8, 1, 2, 3, 4, 9]\n",
      "move_to_end([\"a\", \"a\", \"a\", \"b\"], \"a\") ->  ['b', 'a', 'a', 'a']\n"
     ]
    }
   ],
   "source": [
    "def move_to_end(lst,num):\n",
    "    first_end = []\n",
    "    second_end = []\n",
    "    for ele in lst:\n",
    "        if ele==num:\n",
    "            second_end.append(ele)\n",
    "        else:\n",
    "            first_end.append(ele)\n",
    "    first_end.extend(second_end)\n",
    "    return first_end\n",
    "\n",
    "    \n",
    "print(f'move_to_end([1, 3, 2, 4, 4, 1], 1) -> {move_to_end([1, 3, 2, 4, 4, 1], 1)}')\n",
    "print(f'move_to_end([7, 8, 9, 1, 2, 3, 4], 9) -> {move_to_end([7, 8, 9, 1, 2, 3, 4], 9)}')\n",
    "print(f'move_to_end([\"a\", \"a\", \"a\", \"b\"], \"a\") ->  {move_to_end([\"a\", \"a\", \"a\", \"b\"], \"a\")}')"
   ]
  }
 ],
 "metadata": {
  "kernelspec": {
   "display_name": "Python 3 (ipykernel)",
   "language": "python",
   "name": "python3"
  },
  "language_info": {
   "codemirror_mode": {
    "name": "ipython",
    "version": 3
   },
   "file_extension": ".py",
   "mimetype": "text/x-python",
   "name": "python",
   "nbconvert_exporter": "python",
   "pygments_lexer": "ipython3",
   "version": "3.10.9"
  }
 },
 "nbformat": 4,
 "nbformat_minor": 5
}
