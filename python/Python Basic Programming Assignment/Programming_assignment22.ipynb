{
 "cells": [
  {
   "cell_type": "markdown",
   "id": "79577692",
   "metadata": {},
   "source": [
    "#### Question1\n",
    "### Create a function that takes three parameters where:\n",
    "####  x is the start of the range (inclusive).\n",
    "####  y is the end of the range (inclusive).\n",
    "####  n is the divisor to be checked against.\n",
    "#### Return an ordered list with numbers in the range that are divisible by the third parameter n.\n",
    "Return an empty list if there are no numbers that are divisible by n.\n",
    "#### Examples\n",
    "#### list_operation(1, 10, 3) ➞ [3, 6, 9]\n",
    "#### list_operation(7, 9, 2) ➞ [8]\n",
    "#### list_operation(15, 20, 7) ➞ []"
   ]
  },
  {
   "cell_type": "code",
   "execution_count": 11,
   "id": "2e3370a7",
   "metadata": {},
   "outputs": [
    {
     "name": "stdout",
     "output_type": "stream",
     "text": [
      "list_operation(1,10,3) -> [3, 6, 9]\n",
      "list_operation(7,9,2) -> [8]\n",
      "list_operation(15,20,7) -> []\n"
     ]
    }
   ],
   "source": [
    "def list_operation(x,y,n):\n",
    "    lst=[]\n",
    "    for i in range(x,y+1):\n",
    "        if i%n==0:\n",
    "            lst.append(i)\n",
    "    return lst\n",
    "print(f\"list_operation(1,10,3) -> {list_operation(1,10,3)}\")\n",
    "print(f\"list_operation(7,9,2) -> {list_operation(7,9,2)}\")\n",
    "print(f\"list_operation(15,20,7) -> {list_operation(15,20,7)}\")"
   ]
  },
  {
   "cell_type": "markdown",
   "id": "5b97dfb5",
   "metadata": {},
   "source": [
    "##### Question2\n",
    "#### Create a function that takes in two lists and returns True if the second list follows the first list\n",
    "by one element, and False otherwise. In other words, determine if the second list is the first\n",
    "list shifted to the right by 1.\n",
    "#### Examples\n",
    "##### simon_says([1, 2], [5, 1]) ➞ True\n",
    "#### simon_says([1, 2], [5, 5]) ➞ False\n",
    "#### simon_says([1, 2, 3, 4, 5], [0, 1, 2, 3, 4]) ➞ True\n",
    "#### simon_says([1, 2, 3, 4, 5], [5, 5, 1, 2, 3]) ➞ False"
   ]
  },
  {
   "cell_type": "code",
   "execution_count": 27,
   "id": "e38912f5",
   "metadata": {},
   "outputs": [
    {
     "name": "stdout",
     "output_type": "stream",
     "text": [
      "simon_says([1, 2], [5, 1])-> simon_says([1, 2], [5, 1])\n",
      "simon_says([1, 2], [5, 5])-> simon_says([1, 2], [5, 5])\n",
      "simon_says([1, 2, 3, 4, 5], [0, 1, 2, 3, 4])-> simon_says([1, 2, 3, 4, 5], [0, 1, 2, 3, 4])\n",
      "simon_says([1, 2, 3, 4, 5])-> simon_says[1, 2, 3, 4, 5]\n"
     ]
    }
   ],
   "source": [
    "def simon_says(lst1,lst2):\n",
    "    if lst1[:-1]==lst2[1:]:\n",
    "        return True\n",
    "    else:\n",
    "        return False\n",
    "print(f\"simon_says([1, 2], [5, 1])-> simon_says{([1, 2], [5, 1])}\")\n",
    "print(f\"simon_says([1, 2], [5, 5])-> simon_says{([1, 2], [5, 5])}\")\n",
    "print(f\"simon_says([1, 2, 3, 4, 5], [0, 1, 2, 3, 4])-> simon_says{([1, 2, 3, 4, 5], [0, 1, 2, 3, 4])}\")\n",
    "print(f\"simon_says([1, 2, 3, 4, 5])-> simon_says{([1, 2, 3, 4, 5])}\")"
   ]
  },
  {
   "cell_type": "markdown",
   "id": "a4e4feff",
   "metadata": {},
   "source": [
    "#### Question3\n",
    "#### A group of friends have decided to start a secret society. The name will be the first letter of each of their names, sorted in alphabetical order.Create a function that takes in a list of names and returns the name of the secret society.\n",
    "\n",
    "#### Examples\n",
    "#### society_name([&quot;Adam&quot;, &quot;Sarah&quot;, &quot;Malcolm&quot;]) ➞ &quot;AMS&quot;\n",
    "#### society_name([&quot;Harry&quot;, &quot;Newt&quot;, &quot;Luna&quot;, &quot;Cho&quot;]) ➞ &quot;CHLN&quot;\n",
    "#### society_name([&quot;Phoebe&quot;, &quot;Chandler&quot;, &quot;Rachel&quot;, &quot;Ross&quot;, &quot;Monica&quot;, &quot;Joey&quot;])"
   ]
  },
  {
   "cell_type": "code",
   "execution_count": 73,
   "id": "5755aa4c",
   "metadata": {},
   "outputs": [
    {
     "name": "stdout",
     "output_type": "stream",
     "text": [
      "society_name(['Adam', 'Sarah', 'Malcolm']) -> AMS\n",
      "society_name(['Harry', 'Newt', 'Luna', 'Cho']) -> CHLN\n",
      "society_name(['Phoebe', 'Chandler', 'Rachel', 'Ross', 'Monica', 'Joey']) -> AMS\n"
     ]
    }
   ],
   "source": [
    "def society_name(lst):\n",
    "    lst=[name[0] for name in lst]\n",
    "    lst.sort()\n",
    "    return \"\".join(lst)\n",
    "\n",
    "\n",
    "print(f\"society_name(['Adam', 'Sarah', 'Malcolm']) -> {society_name(['Adam','Sarah','Malcolam'])}\")\n",
    "print(f\"society_name(['Harry', 'Newt', 'Luna', 'Cho']) -> {society_name(['Harry', 'Newt', 'Luna', 'Cho'])}\")\n",
    "print(f\"society_name(['Phoebe', 'Chandler', 'Rachel', 'Ross', 'Monica', 'Joey']) -> {society_name(['Adam','Sarah','Malcolam'])}\")"
   ]
  },
  {
   "cell_type": "markdown",
   "id": "90043056",
   "metadata": {},
   "source": [
    "#### Question4\n",
    "#### An isogram is a word that has no duplicate letters. Create a function that takes a string and returns either True or False depending on whether or not it&#39;s an &quot;isogram&quot;.\n",
    "### Examples\n",
    "#### is_isogram(&quot;Algorism&quot;) ➞ True\n",
    "#### is_isogram(&quot;PasSword&quot;) ➞ False\n",
    "#### Not case sensitive.\n",
    "#### is_isogram(&quot;Consecutive&quot;) ➞ False\n",
    "#### Notes\n",
    "###  Ignore letter case (should not be case sensitive).\n",
    "#### All test cases contain valid one word strings."
   ]
  },
  {
   "cell_type": "code",
   "execution_count": 89,
   "id": "2e1e24d6",
   "metadata": {},
   "outputs": [
    {
     "name": "stdout",
     "output_type": "stream",
     "text": [
      "is_isogram('Algorism') -> True\n",
      "is_isogram('PasSword') -> False\n",
      "is_isogram('Consecutive') -> False\n"
     ]
    }
   ],
   "source": [
    "def is_isogram(string):\n",
    "    string1= string.lower()\n",
    "    for i in string1:\n",
    "        if string1.count(i)>1:\n",
    "            return False\n",
    "    return True\n",
    "\n",
    "print(f\"is_isogram('Algorism') -> {is_isogram('Algorism')}\") \n",
    "print(f\"is_isogram('PasSword') -> {is_isogram('PasSword')}\")   \n",
    "print(f\"is_isogram('Consecutive') -> {is_isogram('Consecutive')}\")   "
   ]
  },
  {
   "cell_type": "markdown",
   "id": "add5261a",
   "metadata": {},
   "source": [
    "#### Question5\n",
    "#### Create a function that takes a string and returns True or False, depending on whether the characters are in order or not.\n",
    "#### Examples\n",
    "#### is_in_order(&quot;abc&quot;) ➞ True\n",
    "#### is_in_order(&quot;edabit&quot;) ➞ False\n",
    "#### is_in_order(&quot;123&quot;) ➞ True\n",
    "#### is_in_order(&quot;xyzz&quot;) ➞ True\n",
    "#### Notes\n",
    "You don&#39;t have to handle empty strings."
   ]
  },
  {
   "cell_type": "code",
   "execution_count": 8,
   "id": "4a5e201e",
   "metadata": {},
   "outputs": [
    {
     "name": "stdout",
     "output_type": "stream",
     "text": [
      "is_in_order('abc') -> True\n",
      "is_in_order('edabit') -> False\n",
      "is_in_order('123') -> True\n",
      "is_in_order('xyzz') -> True\n"
     ]
    }
   ],
   "source": [
    "def is_in_order(string):\n",
    "    result=''.join(sorted(string))\n",
    "    if string==result:\n",
    "        return True\n",
    "    return False\n",
    "\n",
    "print(f\"is_in_order('abc') -> {is_in_order('abc')}\")\n",
    "print(f\"is_in_order('edabit') -> {is_in_order('edabit')}\")\n",
    "print(f\"is_in_order('123') -> {is_in_order('123')}\")\n",
    "print(f\"is_in_order('xyzz') -> {is_in_order('xyzz')}\")"
   ]
  }
 ],
 "metadata": {
  "kernelspec": {
   "display_name": "Python 3 (ipykernel)",
   "language": "python",
   "name": "python3"
  },
  "language_info": {
   "codemirror_mode": {
    "name": "ipython",
    "version": 3
   },
   "file_extension": ".py",
   "mimetype": "text/x-python",
   "name": "python",
   "nbconvert_exporter": "python",
   "pygments_lexer": "ipython3",
   "version": "3.10.9"
  }
 },
 "nbformat": 4,
 "nbformat_minor": 5
}
