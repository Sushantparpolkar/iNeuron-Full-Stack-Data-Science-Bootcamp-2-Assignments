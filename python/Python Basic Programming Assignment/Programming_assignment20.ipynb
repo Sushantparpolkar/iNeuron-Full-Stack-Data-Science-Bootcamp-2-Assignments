{
 "cells": [
  {
   "cell_type": "markdown",
   "id": "233af66c",
   "metadata": {},
   "source": [
    "#### Question1\n",
    "#### Create a function that takes a list of strings and integers, and filters out the list so that it\n",
    "### returns a list of integers only.\n",
    "#### Examples\n",
    "#### filter_list([1, 2, 3, &quot;a&quot;, &quot;b&quot;, 4]) ➞ [1, 2, 3, 4]\n",
    "#### filter_list([&quot;A&quot;, 0, &quot;Edabit&quot;, 1729, &quot;Python&quot;, &quot;1729&quot;]) ➞ [0, 1729]\n",
    "#### filter_list([&quot;Nothing&quot;, &quot;here&quot;]) ➞ []"
   ]
  },
  {
   "cell_type": "code",
   "execution_count": 10,
   "id": "ea6d350a",
   "metadata": {},
   "outputs": [
    {
     "name": "stdout",
     "output_type": "stream",
     "text": [
      "filter_list([1,2,3,'a,'b,4]) -> [1, 2, 3, 4]\n",
      "filter_list(['A', 0, 'Edabit', 1729, 'Python', '1729']) -> [0, 1729]\n",
      "filter_list(['Nothing', 'here']) -> []\n"
     ]
    }
   ],
   "source": [
    "def filter_list(lst):\n",
    "    lst=[x for x in lst if isinstance(x,int)]\n",
    "    return lst\n",
    "\n",
    "\n",
    "print(f\"filter_list([1,2,3,'a,'b,4]) -> {filter_list([1,2,3,'a','b',4])}\")\n",
    "print(f\"filter_list(['A', 0, 'Edabit', 1729, 'Python', '1729']) -> {filter_list(['A', 0, 'Edabit', 1729, 'Python', '1729'])}\")\n",
    "print(f\"filter_list(['Nothing', 'here']) -> {filter_list(['Nothing', 'here'])}\")"
   ]
  },
  {
   "cell_type": "markdown",
   "id": "25646a68",
   "metadata": {},
   "source": [
    "### Question2\n",
    "#### Given a list of numbers, create a function which returns the list but with each element&#39;s\n",
    "#### index in the list added to itself. This means you add 0 to the number at index 0, add 1 to the\n",
    "#### number at index 1, etc...\n",
    "#### Examples\n",
    "#### add_indexes([0, 0, 0, 0, 0]) ➞ [0, 1, 2, 3, 4]\n",
    "#### add_indexes([1, 2, 3, 4, 5]) ➞ [1, 3, 5, 7, 9]\n",
    "#### add_indexes([5, 4, 3, 2, 1]) ➞ [5, 5, 5, 5, 5]"
   ]
  },
  {
   "cell_type": "code",
   "execution_count": 38,
   "id": "68522827",
   "metadata": {},
   "outputs": [
    {
     "name": "stdout",
     "output_type": "stream",
     "text": [
      "add_indexes([0, 0, 0, 0, 0]) ➞ [0, 1, 2, 3, 4]\n",
      "add_indexes([1, 2, 3, 4, 5]) ➞  [1, 4, 7, 10, 13]\n",
      "add_indexes([5, 4, 3, 2, 1]) ➞ [5, 6, 7, 8, 9]\n"
     ]
    }
   ],
   "source": [
    "def add_indexes(lst):\n",
    "    result=[]\n",
    "    for index,ele in enumerate(lst):\n",
    "        index=index+ele\n",
    "        result.append(index)\n",
    "    return result\n",
    "print(f\"add_indexes([0, 0, 0, 0, 0]) ➞ {add_indexes([0,0,0,0,0])}\")\n",
    "print(f\"add_indexes([1, 2, 3, 4, 5]) ➞  {add_indexes([1, 3, 5, 7, 9])}\")\n",
    "print(f\"add_indexes([5, 4, 3, 2, 1]) ➞ {add_indexes([5, 5, 5, 5, 5])}\")"
   ]
  },
  {
   "cell_type": "code",
   "execution_count": 39,
   "id": "9045360a",
   "metadata": {},
   "outputs": [
    {
     "name": "stdout",
     "output_type": "stream",
     "text": [
      "add_indexes([0, 0, 0, 0, 0]) ➞ [0, 1, 2, 3, 4]\n",
      "add_indexes([1, 2, 3, 4, 5]) ➞  [1, 4, 7, 10, 13]\n",
      "add_indexes([5, 4, 3, 2, 1]) ➞ [5, 6, 7, 8, 9]\n"
     ]
    }
   ],
   "source": [
    "def add_indexes(lst):\n",
    "    result=[i+ lst[i] for i in range(len(lst))]\n",
    "    return result\n",
    "\n",
    "print(f\"add_indexes([0, 0, 0, 0, 0]) ➞ {add_indexes([0,0,0,0,0])}\")\n",
    "print(f\"add_indexes([1, 2, 3, 4, 5]) ➞  {add_indexes([1, 3, 5, 7, 9])}\")\n",
    "print(f\"add_indexes([5, 4, 3, 2, 1]) ➞ {add_indexes([5, 5, 5, 5, 5])}\")"
   ]
  },
  {
   "cell_type": "markdown",
   "id": "a45daabb",
   "metadata": {},
   "source": [
    "#### Question3\n",
    "#### Create a function that takes the height and radius of a cone as arguments and returns the\n",
    "#### volume of the cone rounded to the nearest hundredth. See the resources tab for the formula.\n",
    "\n",
    "#### Examples\n",
    "#### cone_volume(3, 2) ➞ 12.57\n",
    "\n",
    "#### cone_volume(15, 6) ➞ 565.49\n",
    "#### cone_volume(18, 0) ➞ 0"
   ]
  },
  {
   "cell_type": "code",
   "execution_count": 58,
   "id": "388799cb",
   "metadata": {},
   "outputs": [
    {
     "name": "stdout",
     "output_type": "stream",
     "text": [
      "cone_volume(3,2) -> 12.57\n",
      "cone_volume(15,6) -> 565.49\n",
      "cone_volume(18,0) -> 0.0\n"
     ]
    }
   ],
   "source": [
    "import math\n",
    "def cone_volume(height,radius):\n",
    "    result =((1/3)*(math.pi)*radius**2*height)\n",
    "    return round(result,2)\n",
    "print(f\"cone_volume(3,2) -> {cone_volume(3,2)}\")\n",
    "print(f\"cone_volume(15,6) -> {cone_volume(15,6)}\")\n",
    "print(f\"cone_volume(18,0) -> {cone_volume(18,0)}\")"
   ]
  },
  {
   "cell_type": "markdown",
   "id": "cbdb67fb",
   "metadata": {},
   "source": [
    "#### Question4\n",
    "#### This Triangular Number Sequence is generated from a pattern of dots that form a triangle.\n",
    "The first 5 numbers of the sequence, or dots, are:\n",
    "1, 3, 6, 10, 15\n",
    "This means that the first triangle has just one dot, the second one has three dots, the third one\n",
    "has 6 dots and so on.\n",
    "Write a function that gives the number of dots with its corresponding triangle number of the\n",
    "sequence.\n",
    "#### Examples\n",
    "#### triangle(1) ➞ 1\n",
    "#### triangle(6) ➞ 21\n",
    "#### triangle(215) ➞ 23220"
   ]
  },
  {
   "cell_type": "code",
   "execution_count": 62,
   "id": "3240461f",
   "metadata": {},
   "outputs": [
    {
     "name": "stdout",
     "output_type": "stream",
     "text": [
      " traingle(1) ->  1.0\n",
      " traingle(6) ->  21.0\n",
      " traingle(215) ->  23220.0\n"
     ]
    }
   ],
   "source": [
    "def traingle(n):\n",
    "    dots = n*(n+1)/2\n",
    "    return dots\n",
    "print(f\" traingle(1) ->  {traingle(1)}\")\n",
    "print(f\" traingle(6) ->  {traingle(6)}\")\n",
    "print(f\" traingle(215) ->  {traingle(215)}\")"
   ]
  },
  {
   "cell_type": "markdown",
   "id": "84f7bbda",
   "metadata": {},
   "source": [
    "#### Question5\n",
    "#### Create a function that takes a list of numbers between 1 and 10 (excluding one number) and\n",
    "#### returns the missing number.\n",
    "#### Examples\n",
    "#### missing_num([1, 2, 3, 4, 6, 7, 8, 9, 10]) ➞ 5\n",
    "#### missing_num([7, 2, 3, 6, 5, 9, 1, 4, 8]) ➞ 10\n",
    "#### missing_num([10, 5, 1, 2, 4, 6, 8, 3, 9]) ➞ 7"
   ]
  },
  {
   "cell_type": "code",
   "execution_count": 91,
   "id": "c1e21837",
   "metadata": {},
   "outputs": [
    {
     "name": "stdout",
     "output_type": "stream",
     "text": [
      "[1, 2, 3, 4, 6, 7, 8, 9, 10] -> 5\n",
      "[7, 2, 3, 6, 5, 9, 1, 4, 8] -> 10\n",
      "[10, 5, 1, 2, 4, 6, 8, 3, 9] -> 7\n"
     ]
    }
   ],
   "source": [
    "def missing_num(lst):\n",
    "    for i in range(1,11):\n",
    "        if i not in lst:\n",
    "            print(f\"{lst} -> {i}\")\n",
    "            \n",
    "missing_num([1, 2, 3, 4, 6, 7, 8, 9, 10]) \n",
    "missing_num([7, 2, 3, 6, 5, 9, 1, 4, 8]) \n",
    "missing_num([10, 5, 1, 2, 4, 6, 8, 3, 9]) "
   ]
  }
 ],
 "metadata": {
  "kernelspec": {
   "display_name": "Python 3 (ipykernel)",
   "language": "python",
   "name": "python3"
  },
  "language_info": {
   "codemirror_mode": {
    "name": "ipython",
    "version": 3
   },
   "file_extension": ".py",
   "mimetype": "text/x-python",
   "name": "python",
   "nbconvert_exporter": "python",
   "pygments_lexer": "ipython3",
   "version": "3.10.9"
  }
 },
 "nbformat": 4,
 "nbformat_minor": 5
}
