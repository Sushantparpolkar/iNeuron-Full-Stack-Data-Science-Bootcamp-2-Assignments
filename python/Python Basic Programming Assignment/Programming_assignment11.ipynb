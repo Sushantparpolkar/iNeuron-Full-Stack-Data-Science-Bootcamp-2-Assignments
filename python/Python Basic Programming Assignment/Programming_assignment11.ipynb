{
 "cells": [
  {
   "cell_type": "markdown",
   "id": "08e899ab",
   "metadata": {},
   "source": [
    "# 1. Write a Python program to find words which are greater than given length k?"
   ]
  },
  {
   "cell_type": "code",
   "execution_count": 35,
   "id": "70612e3f",
   "metadata": {},
   "outputs": [
    {
     "name": "stdout",
     "output_type": "stream",
     "text": [
      "Enter a string: I am learning full stack data science bootcamp\n",
      "Enter the length of k: 3\n",
      "The words in the string that have a length greater than 3 are: ['learning', 'full', 'stack', 'data', 'science', 'bootcamp']\n"
     ]
    }
   ],
   "source": [
    "def greater_than_element(string, k):\n",
    "    words = string.split()\n",
    "    result = []\n",
    "    for word in words:\n",
    "        if len(word) > k:\n",
    "            result.append(word)\n",
    "    return result\n",
    "\n",
    "string = input(\"Enter a string: \")\n",
    "k = int(input(\"Enter the length of k: \"))\n",
    "result = greater_than_element(string, k)\n",
    "print(f\"The words in the string that have a length greater than {k} are: {result}\")"
   ]
  },
  {
   "cell_type": "markdown",
   "id": "aa340979",
   "metadata": {},
   "source": [
    "# 2. Write a Python program for removing i-th character from a string?"
   ]
  },
  {
   "cell_type": "code",
   "execution_count": 10,
   "id": "aa325dac",
   "metadata": {},
   "outputs": [
    {
     "name": "stdout",
     "output_type": "stream",
     "text": [
      "Pytho is highly programming language\n"
     ]
    }
   ],
   "source": [
    "def remove_character(i,string):\n",
    "    if i >len(string):\n",
    "        return string\n",
    "    for j in range(len(string)):\n",
    "        if j==i:\n",
    "            string=string.replace(string[i],'',1)\n",
    "    return string\n",
    "string = \"Python is highly programming language\"\n",
    "i=5\n",
    "result=remove_character(i,string)\n",
    "print(result)"
   ]
  },
  {
   "cell_type": "markdown",
   "id": "1b95bb14",
   "metadata": {},
   "source": [
    "# 3. Write a Python program to split and join a string?"
   ]
  },
  {
   "cell_type": "code",
   "execution_count": 18,
   "id": "02c0db26",
   "metadata": {},
   "outputs": [
    {
     "name": "stdout",
     "output_type": "stream",
     "text": [
      "Enter a string : I am learning data science\n",
      "Enter a parameter :-\n",
      "I-am-learning-data-science\n"
     ]
    }
   ],
   "source": [
    "def split_join(string,parameter):\n",
    "    string= string.split()\n",
    "    result= parameter.join(string)\n",
    "    return result\n",
    "string =input(\"Enter a string : \")\n",
    "parameter = input(\"Enter a parameter :\")\n",
    "print(split_join(string,parameter))"
   ]
  },
  {
   "cell_type": "markdown",
   "id": "8771dce9",
   "metadata": {},
   "source": [
    "# 4. Write a Python to check if a given string is binary string or not?"
   ]
  },
  {
   "cell_type": "code",
   "execution_count": 28,
   "id": "b217767a",
   "metadata": {},
   "outputs": [
    {
     "name": "stdout",
     "output_type": "stream",
     "text": [
      "string is binary\n",
      "String is not binary\n"
     ]
    }
   ],
   "source": [
    "def check(string):\n",
    "    b = set(string)\n",
    "    s={'0','1'}\n",
    "    if s==b or b=='0'or b=='1':\n",
    "        print(\"string is binary\")\n",
    "    else:\n",
    "        print(\"String is not binary\")\n",
    "string = \"010000111\"\n",
    "check(string)\n",
    "s = \"022201011111\"\n",
    "check(s)"
   ]
  },
  {
   "cell_type": "code",
   "execution_count": 5,
   "id": "fed6054b",
   "metadata": {},
   "outputs": [
    {
     "data": {
      "text/plain": [
       "True"
      ]
     },
     "execution_count": 5,
     "metadata": {},
     "output_type": "execute_result"
    }
   ],
   "source": [
    "def is_binary(string):\n",
    "    for ele in string:\n",
    "        if ele!='0'and ele!='1':\n",
    "            return False\n",
    "    return True\n",
    "s1 =\"010101010101\"\n",
    "is_binary(s1)"
   ]
  },
  {
   "cell_type": "markdown",
   "id": "7ad68d7c",
   "metadata": {},
   "source": [
    "# 5. Write a Python program to find uncommon words from two Strings?"
   ]
  },
  {
   "cell_type": "code",
   "execution_count": 19,
   "id": "6081bab3",
   "metadata": {},
   "outputs": [
    {
     "name": "stdout",
     "output_type": "stream",
     "text": [
      "{'Boy', 'Childrens', 'the', 'court', 'ground.', 'basketball'}\n"
     ]
    }
   ],
   "source": [
    "def find_uncommon_words(string1,string2):\n",
    "    word1 = string1.split()\n",
    "    word2 =string2.split()\n",
    "    uncommon_words =set(word1).symmetric_difference(set(word2))\n",
    "    return uncommon_words\n",
    "string1 = \"Childrens are playing on the ground.\"\n",
    "string2 = \"Boy are playing basketball  on basketball court\"\n",
    "print(find_uncommon_words(string1,string2))"
   ]
  },
  {
   "cell_type": "markdown",
   "id": "e4da2f0c",
   "metadata": {},
   "source": [
    "# 6. Write a Python to find all duplicate characters in string?"
   ]
  },
  {
   "cell_type": "code",
   "execution_count": 55,
   "id": "b3d1877e",
   "metadata": {},
   "outputs": [
    {
     "name": "stdout",
     "output_type": "stream",
     "text": [
      "[' ', 'a', 'n', ' ', 'n']\n"
     ]
    }
   ],
   "source": [
    "def duplicateCharacter(string):\n",
    "    duplicated_list=[]\n",
    "    non_duplicated_list=[]\n",
    "    for ch in string:\n",
    "        if ch  not in duplicated_list and ch not in non_duplicated_list:\n",
    "            non_duplicated_list.append(ch)\n",
    "        else:\n",
    "            duplicated_list.append(ch)\n",
    "    return duplicated_list\n",
    "string = \"I am learning python\"\n",
    "result = duplicateCharacter(string)  \n",
    "print(result)            "
   ]
  },
  {
   "cell_type": "markdown",
   "id": "2332ea69",
   "metadata": {},
   "source": [
    "# 7. Write a Python Program to check if a string contains any special character?"
   ]
  },
  {
   "cell_type": "code",
   "execution_count": 56,
   "id": "d565df7b",
   "metadata": {},
   "outputs": [
    {
     "name": "stdout",
     "output_type": "stream",
     "text": [
      "The string contains special characters.\n"
     ]
    }
   ],
   "source": [
    "import re\n",
    "\n",
    "def contains_special_character(string):\n",
    "    pattern = r'[!@#$%^&*(),.?\":{}|<>]'\n",
    "    match = re.search(pattern, string)\n",
    "    if match:\n",
    "        return True\n",
    "    return False\n",
    "\n",
    "input_string = \"Hello, World!\"\n",
    "contains_special = contains_special_character(input_string)\n",
    "if contains_special:\n",
    "    print(\"The string contains special characters.\")\n",
    "else:\n",
    "    print(\"The string does not contain any special characters.\")\n"
   ]
  }
 ],
 "metadata": {
  "kernelspec": {
   "display_name": "Python 3 (ipykernel)",
   "language": "python",
   "name": "python3"
  },
  "language_info": {
   "codemirror_mode": {
    "name": "ipython",
    "version": 3
   },
   "file_extension": ".py",
   "mimetype": "text/x-python",
   "name": "python",
   "nbconvert_exporter": "python",
   "pygments_lexer": "ipython3",
   "version": "3.10.9"
  }
 },
 "nbformat": 4,
 "nbformat_minor": 5
}
