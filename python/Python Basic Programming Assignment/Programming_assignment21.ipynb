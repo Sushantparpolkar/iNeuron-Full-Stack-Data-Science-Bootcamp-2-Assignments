{
 "cells": [
  {
   "cell_type": "markdown",
   "id": "6d90fe27",
   "metadata": {},
   "source": [
    "### Question1\n",
    "#### Write a function that takes a list and a number as arguments. Add the number to the end of\n",
    "#### the list, then remove the first element of the list. The function should then return the updated list.\n",
    "#### Examples\n",
    "#### next_in_line([5, 6, 7, 8, 9], 1) ➞ [6, 7, 8, 9, 1]\n",
    "#### next_in_line([7, 6, 3, 23, 17], 10) ➞ [6, 3, 23, 17, 10]\n",
    "#### next_in_line([1, 10, 20, 42 ], 6) ➞ [10, 20, 42, 6]\n",
    "#### next_in_line([], 6) ➞ &quot;No list has been selected&quot;"
   ]
  },
  {
   "cell_type": "code",
   "execution_count": 42,
   "id": "a0c33f07",
   "metadata": {},
   "outputs": [
    {
     "name": "stdout",
     "output_type": "stream",
     "text": [
      "next_in_line([5,6,7,8,9],1) -> [6, 7, 8, 9, 1]\n",
      "next_in_line([7, 6, 3, 23, 17], 10) -> [6, 3, 23, 17, 10]\n",
      "next_in_line([5,6,7,8,9],1) -> [6, 7, 8, 9, 1]\n",
      "next_in_line([1, 10, 20, 42 ], 6)) -> [10, 20, 42, 6]\n",
      "next_in_line([], 6) -> No list has been selected.\n"
     ]
    }
   ],
   "source": [
    "def next_in_line(lst,num):\n",
    "    \n",
    "    if len(lst) == 0:\n",
    "            return \"No list has been selected.\"\n",
    "    else:\n",
    "            lst1=[x for x in lst[1:] if x!=num]\n",
    "            lst1.append(num)\n",
    "            return lst1\n",
    "print(f\"next_in_line([5,6,7,8,9],1) -> {next_in_line([5, 6, 7, 8, 9],1)}\")\n",
    "print(f\"next_in_line([7, 6, 3, 23, 17], 10) -> {next_in_line([7, 6, 3, 23, 17], 10)}\")\n",
    "print(f\"next_in_line([5,6,7,8,9],1) -> {next_in_line([5, 6, 7, 8, 9],1)}\")\n",
    "print(f\"next_in_line([1, 10, 20, 42 ], 6)) -> {next_in_line([1, 10, 20, 42 ], 6)}\")\n",
    "print(f\"next_in_line([], 6) -> {next_in_line([], 6)}\")"
   ]
  },
  {
   "cell_type": "markdown",
   "id": "ab019d32",
   "metadata": {},
   "source": [
    "#### Question2\n",
    "#### Create the function that takes a list of dictionaries and returns the sum of people&#39;s budgets.\n",
    "#### Examples"
   ]
  },
  {
   "cell_type": "raw",
   "id": "09e69f07",
   "metadata": {},
   "source": [
    "get_budgets([ { \"name\": \"John\", \"age\": 21, \"budget\": 23000 },\n",
    "             { \"name\": \"Steve\", \"age\": 32, \"budget\": 40000 },\n",
    "             { \"name\": \"Martin\", \"age\": 16, \"budget\": 2700 } \n",
    "            ]) ➞ 65700 \n",
    "get_budgets([ { \"name\": \"John\", \"age\": 21, \"budget\": 29000 },\n",
    "             { \"name\": \"Steve\", \"age\": 32, \"budget\": 32000 },\n",
    "             { \"name\": \"Martin\", \"age\": 16, \"budget\": 1600 } \n",
    "            ]) ➞ 62600"
   ]
  },
  {
   "cell_type": "code",
   "execution_count": 61,
   "id": "3e917327",
   "metadata": {},
   "outputs": [
    {
     "name": "stdout",
     "output_type": "stream",
     "text": [
      "65700\n"
     ]
    }
   ],
   "source": [
    "def get_budgets(data):\n",
    "    total_budget=sum(person['budget'] for person in data)\n",
    "    return total_budget\n",
    "budget_data = [\n",
    "    {\"name\": \"John\", \"age\": 21, \"budget\": 23000},\n",
    "    {\"name\": \"Steve\", \"age\": 32, \"budget\": 40000},\n",
    "    {\"name\": \"Martin\", \"age\": 16, \"budget\": 2700}\n",
    "]\n",
    "\n",
    "print(get_budgets(budget_data))"
   ]
  },
  {
   "cell_type": "markdown",
   "id": "b2971718",
   "metadata": {},
   "source": [
    "### Question3\n",
    "#### Create a function that takes a string and returns a string with its letters in alphabetical order.\n",
    "#### Examples\n",
    "#### alphabet_soup(&quot;hello&quot;) ➞ &quot;ehllo&quot;\n",
    "#### alphabet_soup(&quot;edabit&quot;) ➞ &quot;abdeit&quot;\n",
    "####  alphabet_soup(&quot;hacker&quot;) ➞ &quot;acehkr&quot;\n",
    "#### alphabet_soup(&quot;geek&quot;) ➞ &quot;eegk&quot;\n",
    "#### alphabet_soup(&quot;javascript&quot;) ➞ &quot;aacijprstv&quot;"
   ]
  },
  {
   "cell_type": "code",
   "execution_count": 85,
   "id": "1d833ebf",
   "metadata": {},
   "outputs": [
    {
     "name": "stdout",
     "output_type": "stream",
     "text": [
      "alphabet_soup('hello')-> ehllo\n",
      "alphabet_soup('edabit')-> abdeit\n",
      "alphabet_soup('hacker')-> acehkr\n",
      "alphabet_soup('geek')-> eegk\n",
      "alphabet_soup('javascript')-> aacijprstv\n"
     ]
    }
   ],
   "source": [
    "def alphabet_soup(string):\n",
    "    result = sorted(string)\n",
    "    return \"\".join(result)\n",
    "print(f\"alphabet_soup('hello')-> {alphabet_soup('hello')}\")\n",
    "print(f\"alphabet_soup('edabit')-> {alphabet_soup('edabit')}\")\n",
    "print(f\"alphabet_soup('hacker')-> {alphabet_soup('hacker')}\")\n",
    "print(f\"alphabet_soup('geek')-> {alphabet_soup('geek')}\")\n",
    "print(f\"alphabet_soup('javascript')-> {alphabet_soup('javascript')}\")"
   ]
  },
  {
   "cell_type": "markdown",
   "id": "95e0b6c9",
   "metadata": {},
   "source": [
    "#### Question4\n",
    "#### Suppose that you invest $10,000 for 10 years at an interest rate of 6% compounded monthly.\n",
    "What will be the value of your investment at the end of the 10 year period?\n",
    " Create a function that accepts the principal p, the term in years t, the interest rate r, and the\n",
    "number of compounding periods per year n. The function returns the value at the end of term\n",
    "rounded to the nearest cent.\n",
    "For the example above:\n",
    "compound_interest(10000, 10, 0.06, 12) ➞ 18193.97\n",
    "Note that the interest rate is given as a decimal and n=12 because with monthly compounding\n",
    "there are 12 periods per year. Compounding can also be done annually, quarterly, weekly, or\n",
    "daily."
   ]
  },
  {
   "cell_type": "markdown",
   "id": "1ac415cb",
   "metadata": {},
   "source": [
    "### Examples\n",
    "### compound_interest(100, 1, 0.05, 1) ➞ 105.0\n",
    "### compound_interest(3500, 15, 0.1, 4) ➞ 15399.26\n",
    "#### compound_interest(100000, 20, 0.15, 365) ➞ 2007316.26"
   ]
  },
  {
   "cell_type": "code",
   "execution_count": 133,
   "id": "5880b4af",
   "metadata": {},
   "outputs": [
    {
     "name": "stdout",
     "output_type": "stream",
     "text": [
      "compound_interest(10000, 10, 0.06, 12) -> 18193.97\n",
      "compound_interest(100, 1, 0.05, 1) -> 105.0\n",
      "compound_interest(3500, 15, 0.1, 4) -> 15399.26\n",
      "compound_interest(100000, 20, 0.15, 365) -> 2007316.26\n"
     ]
    }
   ],
   "source": [
    "def compound_interest(p,t,r,n):  \n",
    "    result = p * (1 + (r / n)) ** (n * t)\n",
    "    return round(result,2)\n",
    "\n",
    "print(f\"compound_interest(10000, 10, 0.06, 12) -> {compound_interest(10000, 10, 0.06, 12)}\")\n",
    "print(f\"compound_interest(100, 1, 0.05, 1) -> {compound_interest(100, 1, 0.05, 1)}\")\n",
    "print(f\"compound_interest(3500, 15, 0.1, 4) -> {compound_interest(3500, 15, 0.1, 4)}\")\n",
    "print(f\"compound_interest(100000, 20, 0.15, 365) -> {compound_interest(100000, 20, 0.15, 365)}\")\n"
   ]
  },
  {
   "cell_type": "markdown",
   "id": "5a25803a",
   "metadata": {},
   "source": [
    "#### Question5\n",
    "#### Write a function that takes a list of elements and returns only the integers.\n",
    "#### Examples\n",
    "#### return_only_integer([9, 2, &quot;space&quot;, &quot;car&quot;, &quot;lion&quot;, 16]) ➞ [9, 2, 16]\n",
    "#### return_only_integer([&quot;hello&quot;, 81, &quot;basketball&quot;, 123, &quot;fox&quot;]) ➞ [81, 123]\n",
    "#### return_only_integer([10, &quot;121&quot;, 56, 20, &quot;car&quot;, 3, &quot;lion&quot;]) ➞ [10, 56, 20,3]\n",
    "#### return_only_integer([&quot;String&quot;, True, 3.3, 1]) ➞ [1]"
   ]
  },
  {
   "cell_type": "code",
   "execution_count": 142,
   "id": "86c76794",
   "metadata": {},
   "outputs": [
    {
     "name": "stdout",
     "output_type": "stream",
     "text": [
      "return_only_integer([9,2,'space','car','lion',16]) -> [9, 2, 16]\n",
      "return_only_integer(['hello', 81, 'basketball', 123, 'fox']) -> [81, 123]\n",
      "return_only_integer([10, '121', 56, 20, 'car', 3, 'lion']) -> [10, 56, 20, 3]\n",
      "return_only_integer(['String', True, 3.3, 1]) -> [True, 1]\n"
     ]
    }
   ],
   "source": [
    "def return_only_integer(lst):\n",
    "    result =[x for x in lst if isinstance(x,int)]\n",
    "    return result\n",
    "print(f\"return_only_integer([9,2,'space','car','lion',16]) -> {return_only_integer([9,2,'space','car','lion',16])}\")\n",
    "print(f\"return_only_integer(['hello', 81, 'basketball', 123, 'fox']) -> {return_only_integer(['hello', 81, 'basketball', 123, 'fox'])}\")\n",
    "print(f\"return_only_integer([10, '121', 56, 20, 'car', 3, 'lion']) -> {return_only_integer([10, '121', 56, 20, 'car', 3, 'lion'])}\")\n",
    "print(f\"return_only_integer(['String', True, 3.3, 1]) -> {return_only_integer(['String', True, 3.3, 1])}\")"
   ]
  }
 ],
 "metadata": {
  "kernelspec": {
   "display_name": "Python 3 (ipykernel)",
   "language": "python",
   "name": "python3"
  },
  "language_info": {
   "codemirror_mode": {
    "name": "ipython",
    "version": 3
   },
   "file_extension": ".py",
   "mimetype": "text/x-python",
   "name": "python",
   "nbconvert_exporter": "python",
   "pygments_lexer": "ipython3",
   "version": "3.10.9"
  }
 },
 "nbformat": 4,
 "nbformat_minor": 5
}
