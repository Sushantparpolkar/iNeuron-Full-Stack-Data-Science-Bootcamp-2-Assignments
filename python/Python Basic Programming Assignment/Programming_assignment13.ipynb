{
 "cells": [
  {
   "cell_type": "markdown",
   "id": "a673c7f0",
   "metadata": {},
   "source": [
    "## Question 1:\n",
    "## Write a program that calculates and prints the value according to the given formula:\n",
    "Q = Square root of [(2 * C * D)/H]\n",
    "Following are the fixed values of C and H:\n",
    "C is 50. H is 30.\n",
    "D is the variable whose values should be input to your program in a comma-separated\n",
    "sequence."
   ]
  },
  {
   "cell_type": "code",
   "execution_count": 56,
   "id": "fc226200",
   "metadata": {},
   "outputs": [
    {
     "name": "stdout",
     "output_type": "stream",
     "text": [
      "Enter a comma separated sequence : 3\n",
      "output: 18,22,24\n"
     ]
    }
   ],
   "source": [
    "from math import sqrt\n",
    "def caculateprogram(c=50,H=30):\n",
    "    num = input(\"Enter a comma separated sequence : \")\n",
    "    numbers =num.split(',')\n",
    "    numbers =[]\n",
    "    for i in numbers:\n",
    "        a=int(i)\n",
    "        integers.append(a)\n",
    "    result=[]\n",
    "    for ele in integers:\n",
    "        Q=str(int(sqrt((2*C*ele)/H)))\n",
    "        result.append(Q)\n",
    "    print(f\"output: {','.join(result)}\")\n",
    "caculateprogram(c,H)\n",
    "\n"
   ]
  },
  {
   "cell_type": "markdown",
   "id": "577e4585",
   "metadata": {},
   "source": [
    "## Question 2:\n",
    "## Write a program which takes 2 digits, X,Y as input and generates a 2-dimensional array. \n",
    " The element value in the i-th row and j-th column of the array should be i*j.\n",
    "Note: i=0,1.., X-1; j=0,1,¡Y-1."
   ]
  },
  {
   "cell_type": "code",
   "execution_count": 55,
   "id": "548eded7",
   "metadata": {},
   "outputs": [
    {
     "name": "stdout",
     "output_type": "stream",
     "text": [
      "Enter the value of x :3\n",
      "Enter the value of y : 5\n",
      "output : [[0, 0, 0, 0, 0], [0, 1, 2, 3, 4], [0, 2, 4, 6, 8]]\n"
     ]
    }
   ],
   "source": [
    "import numpy as np\n",
    "def arrayProgram():\n",
    "    x = int(input(\"Enter the value of x :\"))\n",
    "    y=int(input(\"Enter the value of y : \"))\n",
    "    a =[] \n",
    "    for i in range(x):\n",
    "        a.insert(i,[])\n",
    "        for j in range(y):\n",
    "            a[i].append(i*j)\n",
    "    return a\n",
    "result = arrayProgram()\n",
    "print(f\"output : {result}\")"
   ]
  },
  {
   "cell_type": "markdown",
   "id": "cb98dbf8",
   "metadata": {},
   "source": [
    "## Question 3:\n",
    "## Write a program that accepts a comma separated sequence of words as input and prints\n",
    "The words in a comma-separated sequence after sorting them alphabetically.\n",
    "Suppose the following input is supplied to the program:\n",
    "without,hello,bag,world\n",
    "Then, the output should be:\n",
    "bag,hello,without,world\n"
   ]
  },
  {
   "cell_type": "code",
   "execution_count": 65,
   "id": "ba8baa59",
   "metadata": {},
   "outputs": [
    {
     "name": "stdout",
     "output_type": "stream",
     "text": [
      "Enter a comma separated sequencewithout,hello,bag,world\n",
      "The sorted sequence is : bag,hello,without,world\n"
     ]
    }
   ],
   "source": [
    "def sorted_words(sequence):\n",
    "    words= sequence.split(',')\n",
    "    sorted_words=sorted(words)\n",
    "    sorted_sequence=(',').join(sorted_words)\n",
    "    return sorted_sequence\n",
    "sequence = input(\"Enter a comma separated sequence\")\n",
    "result = sorted_words(sequence)\n",
    "print(f\"The sorted sequence is : {result}\")\n",
    "    "
   ]
  },
  {
   "cell_type": "markdown",
   "id": "5535b354",
   "metadata": {},
   "source": [
    "## Question 4:\n",
    "## Write a program that accepts a sequence of whitespace separated words as input and prints the words after removing all duplicate words and sorting them alphanumerically.\n",
    "Suppose the following input is supplied to the program:\n",
    "hello world and practice makes perfect and hello world again\n",
    "Then, the output should be:\n",
    "again and hello makes perfect practice world."
   ]
  },
  {
   "cell_type": "code",
   "execution_count": 37,
   "id": "5092e086",
   "metadata": {},
   "outputs": [
    {
     "name": "stdout",
     "output_type": "stream",
     "text": [
      "Enter a sequence of whitespace separated words : hello world and practice makes perfect and hello world again\n",
      "output : again and hello makes perfect practice world\n"
     ]
    }
   ],
   "source": [
    "words = input(\"Enter a sequence of whitespace separated words : \")\n",
    "words_splited=words.split(' ')\n",
    "\n",
    "word_list=[]\n",
    "for i in words_splited:\n",
    "    if i not in word_list:\n",
    "        word_list.append(i)\n",
    "    else:\n",
    "        continue\n",
    "word_list.sort()\n",
    "word=((' ').join(word_list))\n",
    "print(\"output :\",word)\n"
   ]
  },
  {
   "cell_type": "markdown",
   "id": "ff23b53f",
   "metadata": {},
   "source": [
    "## Question 5:\n",
    "## Write a program that accepts a sentence and calculate the number of letters and digits.\n",
    "Suppose the following input is supplied to the program:\n",
    "hello world! 123\n",
    "Then, the output should be:\n",
    "LETTERS 10\n",
    "\n",
    "DIGITS 3"
   ]
  },
  {
   "cell_type": "code",
   "execution_count": 47,
   "id": "3a95f9bd",
   "metadata": {},
   "outputs": [
    {
     "name": "stdout",
     "output_type": "stream",
     "text": [
      "Enter a sentence : hello world! 123\n",
      "The number of letters 10 and numbr of digits 3\n"
     ]
    }
   ],
   "source": [
    "def count_letters_digits(sentence):\n",
    "    letters=0\n",
    "    digits=0\n",
    "    for ch in sentence:\n",
    "        if ch.isalpha():\n",
    "            letters +=1\n",
    "        elif ch.isdigit():\n",
    "            digits +=1\n",
    "    return letters,digits\n",
    "sentence = input(\"Enter a sentence : \")\n",
    "letters_count,digits_count = count_letters_digits(sentence)\n",
    "print(f\"The number of letters { letters_count} and numbr of digits {digits_count}\")\n",
    "            "
   ]
  },
  {
   "cell_type": "markdown",
   "id": "2e0959a1",
   "metadata": {},
   "source": [
    "## Question 6:\n",
    "## A website requires the users to input username and password to register. Write a program to check the validity of password input by users.\n",
    "Following are the criteria for checking the password:\n",
    "1. At least 1 letter between [a-z]\n",
    "2. At least 1 number between [0-9]\n",
    "1. At least 1 letter between [A-Z]\n",
    "3. At least 1 character from [$#@]\n",
    "4. Minimum length of transaction password: 6\n",
    "5. Maximum length of transaction password: 12\n",
    "Your program should accept a sequence of comma separated passwords and will check them\n",
    "according to the above criteria. Passwords that match the criteria are to be printed, each\n",
    "separated by a comma.\n",
    "Example\n",
    "If the following passwords are given as input to the program:\n",
    "ABd1234@1,a F1#,2w3E*,2We3345\n",
    "Then, the output of the program should be:\n",
    "ABd1234@1"
   ]
  },
  {
   "cell_type": "code",
   "execution_count": 50,
   "id": "042f0f1a",
   "metadata": {},
   "outputs": [
    {
     "name": "stdout",
     "output_type": "stream",
     "text": [
      "Enter a password : ABd1234@1,aF1#,2w3E*,2We3345\n",
      "ABd1234@1\n"
     ]
    }
   ],
   "source": [
    "def checkpassword():\n",
    "    password =input(\"Enter a password : \")\n",
    "    small_alphabet= \"abcdefghijklmnopqrstuvwxyz\"\n",
    "    digits= \"0123456789\"\n",
    "    capital_alphabet=\"ABCDEFGHIJKLMNOPQRSTUVWXYZ\"\n",
    "    special_character =\"$#@\"\n",
    "    for ele in password.split(','):\n",
    "        if len(ele)<=12 and len(ele)>=6:\n",
    "            if any(i.isupper()for i in ele):\n",
    "                if any(i.islower()for i in ele):\n",
    "                    if any(i for i in ele if i in special_character):\n",
    "                        print(ele)\n",
    "checkpassword()"
   ]
  }
 ],
 "metadata": {
  "kernelspec": {
   "display_name": "Python 3 (ipykernel)",
   "language": "python",
   "name": "python3"
  },
  "language_info": {
   "codemirror_mode": {
    "name": "ipython",
    "version": 3
   },
   "file_extension": ".py",
   "mimetype": "text/x-python",
   "name": "python",
   "nbconvert_exporter": "python",
   "pygments_lexer": "ipython3",
   "version": "3.10.9"
  }
 },
 "nbformat": 4,
 "nbformat_minor": 5
}
