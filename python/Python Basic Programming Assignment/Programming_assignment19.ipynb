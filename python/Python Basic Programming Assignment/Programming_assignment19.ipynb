{
 "cells": [
  {
   "cell_type": "markdown",
   "id": "c523c4eb",
   "metadata": {},
   "source": [
    "## Question1\n",
    "## Create a function that takes a string and returns a string in which each character is repeated once.\n",
    "# Examples\n",
    "#### double_char(&quot;String&quot;) ➞ &quot;SSttrriinngg&quot;\n",
    "#### double_char(&quot;Hello World!&quot;) ➞ &quot;HHeelllloo WWoorrlldd!!&quot;\n",
    "#### double_char(&quot;1234!_ &quot;) ➞ &quot;11223344!!__ &quot;"
   ]
  },
  {
   "cell_type": "code",
   "execution_count": 58,
   "id": "f081cd11",
   "metadata": {},
   "outputs": [
    {
     "name": "stdout",
     "output_type": "stream",
     "text": [
      "double_char('string') -> SSttrriinngg\n",
      "double_char('Hello World!') -> HHeelllloo  WWoorrlldd\n",
      "double_char('1234!_') -> 11223344!!__\n"
     ]
    }
   ],
   "source": [
    "def double_char(string):\n",
    "    string1 =\"\"\n",
    "    for char in string:\n",
    "        char=2*char\n",
    "        string1+=char\n",
    "    return (string1)\n",
    "print(f\"double_char('string') -> {double_char('String')}\")\n",
    "print(f\"double_char('Hello World!') -> {double_char('Hello World')}\")\n",
    "print(f\"double_char('1234!_') -> {double_char('1234!_')}\")"
   ]
  },
  {
   "cell_type": "markdown",
   "id": "1311c86c",
   "metadata": {},
   "source": [
    "## Question2\n",
    "## Create a function that reverses a boolean value and returns the string &quot;boolean expected&quot;\n",
    "## if another variable type is given.\n",
    "## Examples\n",
    "#### reverse(True) ➞ False\n",
    "#### reverse(False) ➞ True\n",
    "#### reverse(0) ➞ &quot;boolean expected&quot;\n",
    "#### reverse(None) ➞ &quot;boolean expected&quot;"
   ]
  },
  {
   "cell_type": "code",
   "execution_count": 84,
   "id": "32386fb6",
   "metadata": {},
   "outputs": [
    {
     "name": "stdout",
     "output_type": "stream",
     "text": [
      "reverse(True) -> False\n",
      "reverse(False) -> True\n",
      "reverse(0) -> boolen expected\n",
      "reverse(None)-> boolen expected\n"
     ]
    }
   ],
   "source": [
    "def reverse(value):\n",
    "    if type(value) == bool:\n",
    "        return not value\n",
    "    else:\n",
    "        return \"boolen expected\"\n",
    "print(f\"reverse(True) -> {reverse(True)}\")\n",
    "print(f\"reverse(False) -> {reverse(False)}\")\n",
    "print(f\"reverse(0) -> {reverse(0)}\")\n",
    "print(f\"reverse(None)-> {reverse(None)}\")        "
   ]
  },
  {
   "cell_type": "markdown",
   "id": "813ba9eb",
   "metadata": {},
   "source": [
    "## Question3\n",
    "## Create a function that returns the thickness (in meters) of a piece of paper after folding it n number of times. The paper starts off with a thickness of 0.5mm.\n",
    "## Examples\n",
    "#### num_layers(1) ➞ &quot;0.001m&quot;\n",
    "#### Paper folded once is 1mm (equal to 0.001m)\n",
    "#### num_layers(4) ➞ &quot;0.008m&quot;\n",
    "#### Paper folded 4 times is 8mm (equal to 0.008m)\n",
    "#### num_layers(21) ➞ &quot;1048.576m&quot;\n",
    "#### Paper folded 21 times is 1048576mm (equal to 1048.576m)"
   ]
  },
  {
   "cell_type": "code",
   "execution_count": 8,
   "id": "e97a2f99",
   "metadata": {},
   "outputs": [
    {
     "name": "stdout",
     "output_type": "stream",
     "text": [
      "num_layers(1) ->0.001\n",
      "num_layers(4) ->0.008\n",
      "num_layers(21) ->1048.576\n"
     ]
    }
   ],
   "source": [
    "def num_layers(num):\n",
    "    initial_thickness=0.5  # thickness in mm\n",
    "    for _ in range(num):\n",
    "        initial_thickness*=2\n",
    "    return initial_thickness/1000 # thickness  in mmm\n",
    "print(f\"num_layers(1) ->{num_layers(1)}\")\n",
    "print(f\"num_layers(4) ->{num_layers(4)}\")\n",
    "print(f\"num_layers(21) ->{num_layers(21)}\")"
   ]
  },
  {
   "cell_type": "markdown",
   "id": "c846488e",
   "metadata": {},
   "source": [
    "## Question4\n",
    "\n",
    "### Create a function that takes a single string as argument and returns an ordered list containing\n",
    "### the indices of all capital letters in the string.\n",
    "### Examples\n",
    "##### index_of_caps(&quot;eDaBiT&quot;) ➞ [1, 3, 5]\n",
    "##### index_of_caps(&quot;eQuINoX&quot;) ➞ [1, 3, 4, 6]\n",
    "##### index_of_caps(&quot;determine&quot;) ➞ []\n",
    "##### index_of_caps(&quot;STRIKE&quot;) ➞ [0, 1, 2, 3, 4, 5]\n",
    "##### index_of_caps(&quot;sUn&quot;) ➞ [1]"
   ]
  },
  {
   "cell_type": "code",
   "execution_count": 25,
   "id": "4c77dec5",
   "metadata": {},
   "outputs": [
    {
     "name": "stdout",
     "output_type": "stream",
     "text": [
      "(index_of_caps('eDaBiT') -> [1, 3, 5]\n",
      "(index_of_caps('eQuLNoX') -> [1, 3, 4, 6]\n",
      "(index_of_caps('determine') -> []\n",
      "(index_of_caps('STRIKE') -> [0, 1, 2, 3, 4, 5]\n",
      "(index_of_caps('sUn') -> [1]\n"
     ]
    }
   ],
   "source": [
    "def index_of_caps(string):\n",
    "    indices=[]\n",
    "    for index,char in enumerate(string):\n",
    "        if char.isupper():\n",
    "            indices.append(index)\n",
    "    return indices\n",
    "print(f\"(index_of_caps('eDaBiT') -> {index_of_caps('eDaBiT')}\")\n",
    "print(f\"(index_of_caps('eQuLNoX') -> {index_of_caps('eQuLNoX')}\")\n",
    "print(f\"(index_of_caps('determine') -> {index_of_caps('determine')}\")\n",
    "print(f\"(index_of_caps('STRIKE') -> {index_of_caps('STRIKE')}\")\n",
    "print(f\"(index_of_caps('sUn') -> {index_of_caps('sUn')}\")"
   ]
  },
  {
   "cell_type": "markdown",
   "id": "3f7ebe03",
   "metadata": {},
   "source": [
    "### Question5\n",
    "### Using list comprehensions, create a function that finds all even numbers from 1 to the given\n",
    "### number.\n",
    "### Examples\n",
    "### find_even_nums(8) ➞ [2, 4, 6, 8]\n",
    "### find_even_nums(4) ➞ [2, 4]\n",
    "### find_even_nums(2) ➞ [2]"
   ]
  },
  {
   "cell_type": "code",
   "execution_count": 31,
   "id": "75d4c10d",
   "metadata": {},
   "outputs": [
    {
     "name": "stdout",
     "output_type": "stream",
     "text": [
      "find_even_nums(8)-> [2, 4, 6, 8]\n",
      "find_even_nums(4)-> [2, 4]\n",
      "find_even_nums(2)-> [2]\n"
     ]
    }
   ],
   "source": [
    "def find_even_nums(number):\n",
    "    list2=[num for num in range(1,number+1)if num%2==0]\n",
    "    return list2\n",
    "print(f\"find_even_nums(8)-> {find1_even_nums(8)}\")\n",
    "print(f\"find_even_nums(4)-> {find1_even_nums(4)}\")\n",
    "print(f\"find_even_nums(2)-> {find1_even_nums(2)}\")"
   ]
  }
 ],
 "metadata": {
  "kernelspec": {
   "display_name": "Python 3 (ipykernel)",
   "language": "python",
   "name": "python3"
  },
  "language_info": {
   "codemirror_mode": {
    "name": "ipython",
    "version": 3
   },
   "file_extension": ".py",
   "mimetype": "text/x-python",
   "name": "python",
   "nbconvert_exporter": "python",
   "pygments_lexer": "ipython3",
   "version": "3.10.9"
  }
 },
 "nbformat": 4,
 "nbformat_minor": 5
}
