{
 "cells": [
  {
   "cell_type": "markdown",
   "id": "d3485158",
   "metadata": {},
   "source": [
    "# 1. Write a Python Program to find sum of array?"
   ]
  },
  {
   "cell_type": "code",
   "execution_count": 4,
   "id": "c3b114d9",
   "metadata": {},
   "outputs": [
    {
     "name": "stdout",
     "output_type": "stream",
     "text": [
      "The sum of array is 15\n"
     ]
    }
   ],
   "source": [
    "def sumarry(arr):\n",
    "    sum = 0\n",
    "    for i in arr:\n",
    "        sum+=i\n",
    "    return sum\n",
    "arr = [1,2,3,4,5]\n",
    "sum_arry =sumarry(arr)\n",
    "print(f\"The sum of array is {sum_arry}\")"
   ]
  },
  {
   "cell_type": "markdown",
   "id": "54b0ede0",
   "metadata": {},
   "source": [
    "# 2. Write a Python Program to find largest element in an array?"
   ]
  },
  {
   "cell_type": "raw",
   "id": "38c5eb72",
   "metadata": {},
   "source": [
    "def largest(arr,n):\n",
    "    lar=arr[0]\n",
    "    for i in range(1,n):\n",
    "        if arr[i]>lar:\n",
    "            lar=arr[i]\n",
    "    return lar\n",
    "\n",
    "arr = []\n",
    "n = int(input(\"Enter the number of arrays\"))\n",
    "\n",
    "for i in range(0,n):\n",
    "    ele = int(input())\n",
    "    arr.append(ele)\n",
    "    \n",
    "print(arr)\n",
    "result = largest(arr,n)\n",
    "print(f\" The largest element in array is {result}\")"
   ]
  },
  {
   "cell_type": "markdown",
   "id": "dbf84eb1",
   "metadata": {},
   "source": [
    "# 3. Write a Python Program for array rotation?"
   ]
  },
  {
   "cell_type": "code",
   "execution_count": 19,
   "id": "61f2a418",
   "metadata": {},
   "outputs": [
    {
     "name": "stdout",
     "output_type": "stream",
     "text": [
      "Orginal array :[10, 20, 30, 40, 50]\n",
      "Rotated array : [40, 50, 10, 20, 30]\n"
     ]
    }
   ],
   "source": [
    "import numpy as np\n",
    "def rotate_array(arr,rotations):\n",
    "    np_array = np.array(arr)\n",
    "    rotated_array = np.roll(np_array,rotations)\n",
    "    return rotated_array.tolist()\n",
    "array = [10,20,30,40,50]\n",
    "rotated_array=rotate_array(array,2)\n",
    "print(f\"Orginal array :{array}\")\n",
    "print(f\"Rotated array : {rotated_array}\")\n"
   ]
  },
  {
   "cell_type": "markdown",
   "id": "c79eb68c",
   "metadata": {},
   "source": [
    "# 4. Write a Python Program to Split the array and add the first part to the end?"
   ]
  },
  {
   "cell_type": "code",
   "execution_count": 26,
   "id": "b8d13ea7",
   "metadata": {},
   "outputs": [
    {
     "name": "stdout",
     "output_type": "stream",
     "text": [
      "Original array: [10, 20, 30, 40, 50, 60]\n",
      "30 40 50 60 10 20 "
     ]
    }
   ],
   "source": [
    "def splitarray(arr, n, k):\n",
    "    for i in range(0, k):\n",
    "        x = arr[0]\n",
    "        for j in range(0, n-1):\n",
    "            arr[j] = arr[j+1]\n",
    "        arr[n-1] = x\n",
    "\n",
    "arr = [10, 20, 30, 40, 50, 60]\n",
    "print(\"Original array:\", arr)\n",
    "n = len(arr)\n",
    "position = 2\n",
    "splitarray(arr, n, position)\n",
    "\n",
    "for i in range(0, n):\n",
    "    print(arr[i], end=\" \")\n"
   ]
  },
  {
   "cell_type": "markdown",
   "id": "ea2329dd",
   "metadata": {},
   "source": [
    "# 5. Write a Python Program to check if given array is Monotonic?"
   ]
  },
  {
   "cell_type": "code",
   "execution_count": 37,
   "id": "66ff27bc",
   "metadata": {},
   "outputs": [
    {
     "name": "stdout",
     "output_type": "stream",
     "text": [
      "The given [1, 2, 3, 4, 5, 10] is True\n"
     ]
    }
   ],
   "source": [
    "def is_monotonic(arr):\n",
    "    increasing =True\n",
    "    decreasing =True\n",
    "    for i in range(len(arr)-1):\n",
    "        if arr[i]>arr[i+1]:\n",
    "            increasing= False\n",
    "        if arr[i]<arr[i+1]:\n",
    "            decreasing=False\n",
    "    return increasing or decreasing\n",
    "arr = [1,2,3,4,5,10]\n",
    "result = is_monotonic(arr)\n",
    "print(f\"The given {arr} is {result}\")\n"
   ]
  }
 ],
 "metadata": {
  "kernelspec": {
   "display_name": "Python 3 (ipykernel)",
   "language": "python",
   "name": "python3"
  },
  "language_info": {
   "codemirror_mode": {
    "name": "ipython",
    "version": 3
   },
   "file_extension": ".py",
   "mimetype": "text/x-python",
   "name": "python",
   "nbconvert_exporter": "python",
   "pygments_lexer": "ipython3",
   "version": "3.10.9"
  }
 },
 "nbformat": 4,
 "nbformat_minor": 5
}
