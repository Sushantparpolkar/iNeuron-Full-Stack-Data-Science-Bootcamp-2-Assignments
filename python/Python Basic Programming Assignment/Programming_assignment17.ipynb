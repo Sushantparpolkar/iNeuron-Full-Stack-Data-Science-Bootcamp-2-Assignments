{
 "cells": [
  {
   "cell_type": "markdown",
   "id": "ac4b7576",
   "metadata": {},
   "source": [
    "## Question1. Create a function that takes three arguments a, b, c and returns the sum of the numbers that are evenly divided by c from the range a, b inclusive.\n",
    "# Examples\n",
    "#### evenly_divisible(1, 10, 20) ➞ 0\n",
    "#### No number between 1 and 10 can be evenly divided by 20.\n",
    "#### evenly_divisible(1, 10, 2) ➞ 30\n",
    "#### 2 + 4 + 6 + 8 + 10 = 30\n",
    "#### evenly_divisible(1, 10, 3) ➞ 18\n",
    "#### 3 + 6 + 9 = 18"
   ]
  },
  {
   "cell_type": "code",
   "execution_count": 28,
   "id": "85517d13",
   "metadata": {},
   "outputs": [
    {
     "name": "stdout",
     "output_type": "stream",
     "text": [
      "(1, 10, 20) : 0\n",
      "(1, 10, 2) : 30\n",
      "(1, 10, 3) : 18\n"
     ]
    }
   ],
   "source": [
    "def evenly_divisible(a,b,c):\n",
    "    list=[]\n",
    "    for num in range(a,b+1):\n",
    "        if num % c==0:\n",
    "            list.append(num)\n",
    "    print(f\"{a,b,c} : {sum(list)}\")\n",
    "(evenly_divisible(1,10,20))\n",
    "(evenly_divisible(1,10,2))\n",
    "(evenly_divisible(1,10,3))"
   ]
  },
  {
   "cell_type": "markdown",
   "id": "30034b7a",
   "metadata": {},
   "source": [
    "## Question2. Create a function that returns True if a given inequality expression is correct and False otherwise.   Examples"
   ]
  },
  {
   "cell_type": "markdown",
   "id": "80202d6c",
   "metadata": {},
   "source": [
    "##### correct_signs(&quot;3 &lt; 7 &lt; 11&quot;) ➞ True\n",
    "##### correct_signs(&quot;13 &gt; 44 &gt; 33 &gt; 1&quot;) ➞ False\n",
    "##### correct_signs(&quot;1 &lt; 2 &lt; 6 &lt; 9 &gt; 3&quot;) ➞ True"
   ]
  },
  {
   "cell_type": "code",
   "execution_count": 34,
   "id": "b8c9fd1e",
   "metadata": {},
   "outputs": [
    {
     "name": "stdout",
     "output_type": "stream",
     "text": [
      "Enter the inequality: 3<7<11\n",
      "3<7<11 : True\n",
      "Enter the inequality: 13>44>33>1\n",
      "13>44>33>1 : False\n",
      "Enter the inequality: 1<2<6<9>3\n",
      "1<2<6<9>3 : True\n"
     ]
    }
   ],
   "source": [
    "def checkEquality():\n",
    "    string = input('Enter the inequality: ')\n",
    "    result = eval(string)\n",
    "    print(f'{string} : {result}')\n",
    "\n",
    "for x in range(3):\n",
    "    checkEquality()"
   ]
  },
  {
   "cell_type": "markdown",
   "id": "e3a012fe",
   "metadata": {},
   "source": [
    "## Question3. Create a function that replaces all the vowels in a string with a specified character. Examples\n",
    "#### replace_vowels(&quot;the aardvark&quot;, &quot;#&quot;) ➞ &quot;th# ##rdv#rk&quot;\n",
    "#### replace_vowels(&quot;minnie mouse&quot;, &quot;?&quot;) ➞ &quot;m?nn?? m??s?&quot;\n",
    "#### replace_vowels(&quot;shakespeare&quot;, &quot;*&quot;) ➞ &quot;sh*k*sp**r*&quot;"
   ]
  },
  {
   "cell_type": "code",
   "execution_count": 56,
   "id": "eb1bdd1a",
   "metadata": {},
   "outputs": [
    {
     "name": "stdout",
     "output_type": "stream",
     "text": [
      "Modified string: th# ##rdv#rk\n",
      "Modified string: m?nn?? m??s?\n",
      "Modified string: sh*k*sp**r*\n"
     ]
    }
   ],
   "source": [
    "def replace_vowels(string, key):\n",
    "    vowels = \"aeiou\"\n",
    "    for char in vowels:\n",
    "        if char in string:\n",
    "            string = string.replace(char, key)\n",
    "    return string\n",
    "\n",
    "print(f\"Modified string: {replace_vowels('the aardvark', '#')}\")\n",
    "print(f\"Modified string: {replace_vowels('minnie mouse', '?')}\")\n",
    "print(f\"Modified string: {replace_vowels('shakespeare', '*')}\")\n"
   ]
  },
  {
   "cell_type": "markdown",
   "id": "6d07cd93",
   "metadata": {},
   "source": [
    "## Question4. Write a function that calculates the factorial of a number recursively.\n",
    "## Examples\n",
    "#### factorial(5) ➞ 120\n",
    "#### factorial(3) ➞ 6\n",
    "#### factorial(1) ➞ 1\n",
    "#### factorial(0) ➞ 1"
   ]
  },
  {
   "cell_type": "code",
   "execution_count": 66,
   "id": "36b963ec",
   "metadata": {},
   "outputs": [
    {
     "name": "stdout",
     "output_type": "stream",
     "text": [
      "factorial(5) -> 120\n",
      "factorial(3) -> 6\n",
      "factorial(1) -> 1\n",
      "factorial(0) -> 1\n"
     ]
    }
   ],
   "source": [
    "def factorial(num):\n",
    "   \n",
    "    if num==0:\n",
    "        return 1\n",
    "    elif num==1:\n",
    "        return 1\n",
    "    else:\n",
    "        return num*factorial(num-1)\n",
    "print(f\"factorial(5) -> {factorial(5)}\")\n",
    "print(f\"factorial(3) -> {factorial(3)}\")\n",
    "print(f\"factorial(1) -> {factorial(1)}\")\n",
    "print(f\"factorial(0) -> {factorial(0)}\")"
   ]
  },
  {
   "cell_type": "markdown",
   "id": "9be24052",
   "metadata": {},
   "source": [
    "## Question 5\n",
    "## Hamming distance is the number of characters that differ between two strings.\n",
    "#### To illustrate:\n",
    "#### String1: &quot;abcbba&quot;\n",
    "#### String2: &quot;abcbda&quot;\n",
    "#### Hamming Distance: 1 - &quot;b&quot; vs. &quot;d&quot; is the only difference.\n",
    "#### Create a function that computes the hamming distance between two strings.\n",
    "#### Examples\n",
    "#### hamming_distance(&quot;abcde&quot;, &quot;bcdef&quot;) ➞ 5\n",
    "#### hamming_distance(&quot;abcde&quot;, &quot;abcde&quot;) ➞ 0\n",
    "#### hamming_distance(&quot;strong&quot;, &quot;strung&quot;) ➞ 1"
   ]
  },
  {
   "cell_type": "code",
   "execution_count": 97,
   "id": "f152c1d0",
   "metadata": {},
   "outputs": [
    {
     "name": "stdout",
     "output_type": "stream",
     "text": [
      "hamming_distance('abcde', 'bcdef') : 5\n",
      "hamming_distance('abcde', 'abcde') -> 0\n",
      "hamming_distance('strong', 'strung') -> 1\n"
     ]
    }
   ],
   "source": [
    "def hamming_distance(str1,str2):\n",
    "    if len(str1)!= len(str2):\n",
    "        raise ValueError(\"String must have same length\")\n",
    "    distance=0\n",
    "    for i in range(len(str1)):\n",
    "            if str1[i]!=str2[i]:\n",
    "                distance +=1\n",
    "    return distance\n",
    "    \n",
    "print(f\"hamming_distance('abcde', 'bcdef') : {hamming_distance('abcde', 'bcdef')}\")\n",
    "print(f\"hamming_distance('abcde', 'abcde') -> {hamming_distance('abcde', 'abcde')}\")\n",
    "print(f\"hamming_distance('strong', 'strung') -> {hamming_distance('strong', 'strung')}\")"
   ]
  }
 ],
 "metadata": {
  "kernelspec": {
   "display_name": "Python 3 (ipykernel)",
   "language": "python",
   "name": "python3"
  },
  "language_info": {
   "codemirror_mode": {
    "name": "ipython",
    "version": 3
   },
   "file_extension": ".py",
   "mimetype": "text/x-python",
   "name": "python",
   "nbconvert_exporter": "python",
   "pygments_lexer": "ipython3",
   "version": "3.10.9"
  }
 },
 "nbformat": 4,
 "nbformat_minor": 5
}
