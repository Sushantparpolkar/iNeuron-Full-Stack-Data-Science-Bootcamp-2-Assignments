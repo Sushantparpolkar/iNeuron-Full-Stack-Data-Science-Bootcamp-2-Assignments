{
 "cells": [
  {
   "cell_type": "markdown",
   "id": "77753921",
   "metadata": {},
   "source": [
    "# 1. What does an empty dictionary&#39;s code look like?"
   ]
  },
  {
   "cell_type": "code",
   "execution_count": 2,
   "id": "c0020cf8",
   "metadata": {},
   "outputs": [
    {
     "data": {
      "text/plain": [
       "dict"
      ]
     },
     "execution_count": 2,
     "metadata": {},
     "output_type": "execute_result"
    }
   ],
   "source": [
    "a ={}\n",
    "type(a)"
   ]
  },
  {
   "cell_type": "markdown",
   "id": "e1ad15d9",
   "metadata": {},
   "source": [
    "dictory is written in curly brackets\n",
    "it contains key:values\n"
   ]
  },
  {
   "cell_type": "markdown",
   "id": "5a70d419",
   "metadata": {},
   "source": [
    "# 2. What is the value of a dictionary value with the key &#39;foo&#39; and the value 42?"
   ]
  },
  {
   "cell_type": "code",
   "execution_count": 9,
   "id": "8f13a76d",
   "metadata": {},
   "outputs": [
    {
     "data": {
      "text/plain": [
       "42"
      ]
     },
     "execution_count": 9,
     "metadata": {},
     "output_type": "execute_result"
    }
   ],
   "source": [
    "a ={'foo':42} # using dictionary\n",
    "a['foo']"
   ]
  },
  {
   "cell_type": "markdown",
   "id": "ddf699de",
   "metadata": {},
   "source": [
    "# 3.  What is the most significant distinction between a dictionary and a list?"
   ]
  },
  {
   "cell_type": "markdown",
   "id": "30ed069a",
   "metadata": {},
   "source": [
    "Dictionary provide a way to map keys to efficient data retrival based on keys. Each key is unique.\n",
    "used for mapping corresponding values.It provides indentity label for each value\n",
    "while list are used to store different values and accesed by using their indexing.It doesnot\n",
    "uses keys for accessing elements."
   ]
  },
  {
   "cell_type": "markdown",
   "id": "2c6bb725",
   "metadata": {},
   "source": [
    "# 4. What happens if you try to access spam[&#39;foo&#39;] if spam is {&#39;bar&#39;: 100}?"
   ]
  },
  {
   "cell_type": "code",
   "execution_count": 10,
   "id": "6178414c",
   "metadata": {},
   "outputs": [
    {
     "name": "stdout",
     "output_type": "stream",
     "text": [
      "{'bar': 100}\n"
     ]
    }
   ],
   "source": [
    "spam = {'bar':100}\n",
    "print(spam)"
   ]
  },
  {
   "cell_type": "code",
   "execution_count": 13,
   "id": "93459446",
   "metadata": {},
   "outputs": [
    {
     "ename": "TypeError",
     "evalue": "'dict' object is not callable",
     "output_type": "error",
     "traceback": [
      "\u001b[1;31m---------------------------------------------------------------------------\u001b[0m",
      "\u001b[1;31mTypeError\u001b[0m                                 Traceback (most recent call last)",
      "Cell \u001b[1;32mIn[13], line 1\u001b[0m\n\u001b[1;32m----> 1\u001b[0m \u001b[43mspam\u001b[49m\u001b[43m(\u001b[49m\u001b[38;5;124;43m'\u001b[39;49m\u001b[38;5;124;43mfoo\u001b[39;49m\u001b[38;5;124;43m'\u001b[39;49m\u001b[43m)\u001b[49m\n",
      "\u001b[1;31mTypeError\u001b[0m: 'dict' object is not callable"
     ]
    }
   ],
   "source": [
    "spam('foo') # spam can be called  by only specific above defined key. hence it shows type error\n",
    "#that 'dict' object is not callble"
   ]
  },
  {
   "cell_type": "markdown",
   "id": "3f0a51e9",
   "metadata": {},
   "source": [
    "# 5. If a dictionary is stored in spam, what is the difference between the expressions 'cat' in spam an & 'cat' in spam.keys()?"
   ]
  },
  {
   "cell_type": "code",
   "execution_count": 7,
   "id": "6bb38bd5",
   "metadata": {},
   "outputs": [
    {
     "data": {
      "text/plain": [
       "True"
      ]
     },
     "execution_count": 7,
     "metadata": {},
     "output_type": "execute_result"
    }
   ],
   "source": [
    "# Both will  give same result i.e True. both expression are used to check \n",
    "# whether \"cat\" key is present in spam or not\n",
    "spam = {'cat':5}\n",
    "'cat'in spam"
   ]
  },
  {
   "cell_type": "code",
   "execution_count": 8,
   "id": "06321104",
   "metadata": {},
   "outputs": [
    {
     "data": {
      "text/plain": [
       "True"
      ]
     },
     "execution_count": 8,
     "metadata": {},
     "output_type": "execute_result"
    }
   ],
   "source": [
    "'cat'in spam.keys()"
   ]
  },
  {
   "cell_type": "markdown",
   "id": "e9af3c86",
   "metadata": {},
   "source": [
    "# 7. What is a shortcut for the following code?"
   ]
  },
  {
   "cell_type": "code",
   "execution_count": 10,
   "id": "82b58430",
   "metadata": {},
   "outputs": [],
   "source": [
    "spam={}\n",
    "if 'color'not in spam:\n",
    "    spam['color'] = 'black'"
   ]
  },
  {
   "cell_type": "code",
   "execution_count": 11,
   "id": "808c5d02",
   "metadata": {},
   "outputs": [
    {
     "name": "stdout",
     "output_type": "stream",
     "text": [
      "{'color': 'black'}\n"
     ]
    }
   ],
   "source": [
    "print(spam)"
   ]
  },
  {
   "cell_type": "code",
   "execution_count": 14,
   "id": "2e05f1a1",
   "metadata": {},
   "outputs": [
    {
     "data": {
      "text/plain": [
       "'black'"
      ]
     },
     "execution_count": 14,
     "metadata": {},
     "output_type": "execute_result"
    }
   ],
   "source": [
    "# shortcut method 1)\n",
    "spam ={}\n",
    "spam.setdefault('color','black')"
   ]
  },
  {
   "cell_type": "code",
   "execution_count": 17,
   "id": "096b26f3",
   "metadata": {},
   "outputs": [],
   "source": [
    "#2)\n",
    "spam['color'] = spam.get('color','black')"
   ]
  },
  {
   "cell_type": "code",
   "execution_count": 16,
   "id": "c16cf40e",
   "metadata": {},
   "outputs": [
    {
     "data": {
      "text/plain": [
       "{'color': 'black'}"
      ]
     },
     "execution_count": 16,
     "metadata": {},
     "output_type": "execute_result"
    }
   ],
   "source": [
    "spam"
   ]
  },
  {
   "cell_type": "markdown",
   "id": "d4aa22e1",
   "metadata": {},
   "source": [
    "# 8. How do you &quot;pretty print&quot; dictionary values using which module and function?"
   ]
  },
  {
   "cell_type": "code",
   "execution_count": 18,
   "id": "3eece951",
   "metadata": {},
   "outputs": [],
   "source": [
    "import pprint"
   ]
  },
  {
   "cell_type": "code",
   "execution_count": 20,
   "id": "747fbefb",
   "metadata": {},
   "outputs": [],
   "source": [
    "dict ={'name': 'sushant','sirname':'parpolkar','age':26.5,'education': \"M.sc(statistics)\"}"
   ]
  },
  {
   "cell_type": "code",
   "execution_count": 22,
   "id": "6af7ff98",
   "metadata": {},
   "outputs": [
    {
     "name": "stdout",
     "output_type": "stream",
     "text": [
      "{'age': 26.5,\n",
      " 'education': 'M.sc(statistics)',\n",
      " 'name': 'sushant',\n",
      " 'sirname': 'parpolkar'}\n"
     ]
    }
   ],
   "source": [
    "pprint.pprint(dict) # pprint used to write in well organized format with each key:value on separate line\n",
    "# making it easier to understand and in aplhabetical order"
   ]
  }
 ],
 "metadata": {
  "kernelspec": {
   "display_name": "Python 3 (ipykernel)",
   "language": "python",
   "name": "python3"
  },
  "language_info": {
   "codemirror_mode": {
    "name": "ipython",
    "version": 3
   },
   "file_extension": ".py",
   "mimetype": "text/x-python",
   "name": "python",
   "nbconvert_exporter": "python",
   "pygments_lexer": "ipython3",
   "version": "3.10.9"
  }
 },
 "nbformat": 4,
 "nbformat_minor": 5
}
