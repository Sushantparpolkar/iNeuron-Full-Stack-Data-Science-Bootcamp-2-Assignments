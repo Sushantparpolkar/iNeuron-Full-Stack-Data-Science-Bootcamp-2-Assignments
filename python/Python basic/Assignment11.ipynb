{
 "cells": [
  {
   "cell_type": "markdown",
   "id": "3bead23e",
   "metadata": {},
   "source": [
    "# 1. Create an assert statement that throws an AssertionError if the variable spam is a negative integer."
   ]
  },
  {
   "cell_type": "code",
   "execution_count": 20,
   "id": "64534184",
   "metadata": {},
   "outputs": [
    {
     "name": "stdout",
     "output_type": "stream",
     "text": [
      "Enter an integer: -10\n"
     ]
    },
    {
     "ename": "AssertionError",
     "evalue": "spam must be a non-negative integer",
     "output_type": "error",
     "traceback": [
      "\u001b[1;31m---------------------------------------------------------------------------\u001b[0m",
      "\u001b[1;31mAssertionError\u001b[0m                            Traceback (most recent call last)",
      "Cell \u001b[1;32mIn[20], line 3\u001b[0m\n\u001b[0;32m      1\u001b[0m spam \u001b[38;5;241m=\u001b[39m \u001b[38;5;28mint\u001b[39m(\u001b[38;5;28minput\u001b[39m(\u001b[38;5;124m\"\u001b[39m\u001b[38;5;124mEnter an integer: \u001b[39m\u001b[38;5;124m\"\u001b[39m))\n\u001b[1;32m----> 3\u001b[0m \u001b[38;5;28;01massert\u001b[39;00m spam \u001b[38;5;241m>\u001b[39m\u001b[38;5;241m=\u001b[39m \u001b[38;5;241m0\u001b[39m, \u001b[38;5;124m\"\u001b[39m\u001b[38;5;124mspam must be a non-negative integer\u001b[39m\u001b[38;5;124m\"\u001b[39m\n\u001b[0;32m      4\u001b[0m \u001b[38;5;28mprint\u001b[39m(spam)\n",
      "\u001b[1;31mAssertionError\u001b[0m: spam must be a non-negative integer"
     ]
    }
   ],
   "source": [
    "spam = int(input(\"Enter an integer: \"))\n",
    "\n",
    "assert spam >= 0, \"spam must be a non-negative integer\"\n",
    "print(spam)\n"
   ]
  },
  {
   "cell_type": "markdown",
   "id": "7c1dca22",
   "metadata": {},
   "source": [
    "# 2. Write an assert statement that triggers an AssertionError if the variables eggs and bacon containstrings that are the same as each other, even if their cases are different (that is, &#39;hello&#39; and &#39;hello&#39; areconsidered the same, and &#39;goodbye&#39; and &#39;GOODbye&#39; are also considered the same)."
   ]
  },
  {
   "cell_type": "code",
   "execution_count": 1,
   "id": "a418e46e",
   "metadata": {},
   "outputs": [
    {
     "ename": "AssertionError",
     "evalue": "",
     "output_type": "error",
     "traceback": [
      "\u001b[1;31m---------------------------------------------------------------------------\u001b[0m",
      "\u001b[1;31mAssertionError\u001b[0m                            Traceback (most recent call last)",
      "Cell \u001b[1;32mIn[1], line 3\u001b[0m\n\u001b[0;32m      1\u001b[0m eggs \u001b[38;5;241m=\u001b[39m \u001b[38;5;124m\"\u001b[39m\u001b[38;5;124mHello and goodbye\u001b[39m\u001b[38;5;124m\"\u001b[39m \u001b[38;5;66;03m# These world specially used during break-up Lol.\u001b[39;00m\n\u001b[0;32m      2\u001b[0m bacon \u001b[38;5;241m=\u001b[39m \u001b[38;5;124m\"\u001b[39m\u001b[38;5;124mhello and Goodbye\u001b[39m\u001b[38;5;124m\"\u001b[39m\n\u001b[1;32m----> 3\u001b[0m \u001b[38;5;28;01massert\u001b[39;00m eggs\u001b[38;5;241m.\u001b[39mlower \u001b[38;5;241m==\u001b[39m bacon\u001b[38;5;241m.\u001b[39mlower\n",
      "\u001b[1;31mAssertionError\u001b[0m: "
     ]
    }
   ],
   "source": [
    "eggs = \"Hello and goodbye\" # These world specially used during break-up Lol.\n",
    "bacon = \"hello and Goodbye\"\n",
    "assert eggs.lower == bacon.lower"
   ]
  },
  {
   "cell_type": "code",
   "execution_count": 33,
   "id": "5ca6c29e",
   "metadata": {},
   "outputs": [
    {
     "name": "stdout",
     "output_type": "stream",
     "text": [
      "eggs and bacon strings must be different\n"
     ]
    }
   ],
   "source": [
    "eggs = \"Hello and goodbye\" # These world specially used during break-up Lol.\n",
    "bacon = \"hello and Goodbye\"\n",
    "try:\n",
    "    assert eggs.lower() != bacon.lower(), \"eggs and bacon strings must be different\"\n",
    "    print(\"Strings are different\")\n",
    "except AssertionError as msg:\n",
    "    print(msg)\n"
   ]
  },
  {
   "cell_type": "markdown",
   "id": "bb9d8c06",
   "metadata": {},
   "source": [
    "# 3. Create an assert statement that throws an AssertionError every time."
   ]
  },
  {
   "cell_type": "code",
   "execution_count": 38,
   "id": "fdb49a70",
   "metadata": {},
   "outputs": [
    {
     "name": "stdout",
     "output_type": "stream",
     "text": [
      "This assert statement always triggers an AssertionError every time.\n"
     ]
    }
   ],
   "source": [
    "try:\n",
    "    assert False, \"This assert statement always triggers an AssertionError every time.\"\n",
    "except AssertionError as msg:\n",
    "    print(msg)\n"
   ]
  },
  {
   "cell_type": "markdown",
   "id": "375e5571",
   "metadata": {},
   "source": [
    "# 4. What are the two lines that must be present in your software in order to call logging.debug()?"
   ]
  },
  {
   "cell_type": "code",
   "execution_count": 2,
   "id": "3ca02f0e",
   "metadata": {},
   "outputs": [],
   "source": [
    "import logging # provides function and classes for login\n",
    "\n",
    "logging.basicConfig(filename='demo.log',level=logging.DEBUG,format='%(asctime)s - %(levelname)s - %(message)s')\n",
    "#set the basic config for login, level set the lowest level and contains all logs and format specfies logging level\n",
    "# time span, which loging has occured."
   ]
  },
  {
   "cell_type": "markdown",
   "id": "1d8304df",
   "metadata": {},
   "source": [
    "# 5. What are the two lines that your program must have in order to have logging.debug() send a logging message to a file named programLog.txt?"
   ]
  },
  {
   "cell_type": "code",
   "execution_count": 3,
   "id": "c9e7e736",
   "metadata": {},
   "outputs": [],
   "source": [
    "# 1st give filename parameter as programLog.txt and levl of logging as DEBUG level\n",
    "import logging\n",
    "logging.basicConfig(filename = 'programLog.txt',level=logging.DEBUG)# this will send debug occured to programLog.txt"
   ]
  },
  {
   "cell_type": "markdown",
   "id": "1dd82f65",
   "metadata": {},
   "source": [
    "# 6. What are the five levels of logging?"
   ]
  },
  {
   "cell_type": "markdown",
   "id": "90b2f455",
   "metadata": {},
   "source": [
    "5 logging levels in ascending order of severity as follow:\n",
    "Debug : It provides detailed information used for debugging purpose.\n",
    "\n",
    "Info : It gives General information about programme execution,highlighting the process and significant events.\n",
    "\n",
    "Warning: It gives indication of potentially harmful or unexpected situation that don't causes error but\n",
    "         but require attention of programmer.\n",
    "         \n",
    "Error : More severe issue that cause programme stuck that need to be checked.\n",
    "\n",
    "Critical Error: This level causes programe termination.  "
   ]
  },
  {
   "cell_type": "markdown",
   "id": "49655e9c",
   "metadata": {},
   "source": [
    "# 7. What line of code would you add to your software to disable all logging messages?"
   ]
  },
  {
   "cell_type": "code",
   "execution_count": 4,
   "id": "0e50ab6b",
   "metadata": {},
   "outputs": [],
   "source": [
    "import logging\n",
    "logging.disable(logging.CRITICAL)# This disable function will disable all the less sever level and finally it \n",
    "# will disable all logging message"
   ]
  },
  {
   "cell_type": "markdown",
   "id": "a112fbf6",
   "metadata": {},
   "source": [
    "# 8.Why is using logging messages better than using print() to display the same message?"
   ]
  },
  {
   "cell_type": "markdown",
   "id": "a6cd9c36",
   "metadata": {},
   "source": [
    "print() statement fails if your code doesnot has access to console.\n",
    "recording logging data inside file and sending it over internet needs\n",
    "additional work while in case of logging  is python library\n",
    "it has additional level of loging in ascending order of sevarity such as\n",
    "Debug,Info,warning,Error,CRITICAL.\n",
    "\n",
    "logging provides configuration at various aspect of logging.\n",
    "It provide more flexibility in managing and storing log information.\n",
    "\n",
    "It helps to change runtime and logging behaviour at any time.\n",
    "It integrate with existing logging infrastructure and framework."
   ]
  },
  {
   "cell_type": "markdown",
   "id": "c75e6125",
   "metadata": {},
   "source": [
    "# 9. What are the differences between the Step Over, Step In, and Step Out buttons in the debugger?"
   ]
  },
  {
   "cell_type": "markdown",
   "id": "5623a3c0",
   "metadata": {},
   "source": [
    "step Over : This function will allow you to execute next line of code without entering  function and method call.\n",
    "If current line contain method or function call then entire call will be executed as simple steps.\n",
    "\n",
    "step In : This function enter into the next function or method call encounterted in the current line.\n",
    "It is useful when you want to debug specific function and want line of code in that function.\n",
    "\n",
    "Step out: This used to execute remaining line of function and method.When you click Step Out,\n",
    "the debugger will continue execution until it reaches the line that initiated the current function \n",
    "or method call, and then it will stop there."
   ]
  },
  {
   "cell_type": "markdown",
   "id": "56f9f99c",
   "metadata": {},
   "source": [
    "# 10.After you click Continue, when will the debugger stop ?"
   ]
  },
  {
   "cell_type": "markdown",
   "id": "88505c1a",
   "metadata": {},
   "source": [
    "after clicking Continue the debgugger will start executing programme smoothly until and unless it reaches\n",
    "break point, exception error, programme complition."
   ]
  },
  {
   "cell_type": "markdown",
   "id": "ae4fa89a",
   "metadata": {},
   "source": [
    "# 11. What is the concept of a breakpoint?"
   ]
  },
  {
   "cell_type": "markdown",
   "id": "10a273e2",
   "metadata": {},
   "source": [
    "Breakpoints are specific points in the code where you want \n",
    "the debugger to pause and allow you to inspect the program's state and check the behaviour of the \n",
    "programme at specific point."
   ]
  }
 ],
 "metadata": {
  "kernelspec": {
   "display_name": "Python 3 (ipykernel)",
   "language": "python",
   "name": "python3"
  },
  "language_info": {
   "codemirror_mode": {
    "name": "ipython",
    "version": 3
   },
   "file_extension": ".py",
   "mimetype": "text/x-python",
   "name": "python",
   "nbconvert_exporter": "python",
   "pygments_lexer": "ipython3",
   "version": "3.10.9"
  }
 },
 "nbformat": 4,
 "nbformat_minor": 5
}
