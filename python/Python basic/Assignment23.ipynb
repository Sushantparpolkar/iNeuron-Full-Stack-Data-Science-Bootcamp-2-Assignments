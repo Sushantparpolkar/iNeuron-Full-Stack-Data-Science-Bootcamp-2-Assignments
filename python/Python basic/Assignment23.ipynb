{
 "cells": [
  {
   "cell_type": "markdown",
   "id": "885496bc",
   "metadata": {},
   "source": [
    "# 1. What is the result of the code, and why?\n",
    "# &gt;&gt;&gt; def func(a, b=6, c=8):\n",
    "# print(a, b, c)\n",
    "# &gt;&gt;&gt; func(1, 2)"
   ]
  },
  {
   "cell_type": "code",
   "execution_count": 1,
   "id": "1e504253",
   "metadata": {},
   "outputs": [],
   "source": [
    "def func(a,b=6,c=8):\n",
    "    print(a,b,c)"
   ]
  },
  {
   "cell_type": "code",
   "execution_count": 2,
   "id": "2b0f55f2",
   "metadata": {},
   "outputs": [
    {
     "name": "stdout",
     "output_type": "stream",
     "text": [
      "1 2 8\n"
     ]
    }
   ],
   "source": [
    "func(1,2)"
   ]
  },
  {
   "cell_type": "markdown",
   "id": "d4172cd7",
   "metadata": {},
   "source": [
    "The above function takes values of positional argument(a,b,c) where value of a is given in function\n",
    "and value of b is overwritten since c is not defined explicitly in function call it takes default value."
   ]
  },
  {
   "cell_type": "markdown",
   "id": "a1d48678",
   "metadata": {},
   "source": [
    "# 2. What is the result of this code, and why?\n",
    "# &gt;&gt;&gt; def func(a, b, c=5):\n",
    "# print(a, b, c)\n",
    "# &gt;&gt;&gt; func(1, c=3, b=2)"
   ]
  },
  {
   "cell_type": "code",
   "execution_count": 3,
   "id": "3e032235",
   "metadata": {},
   "outputs": [],
   "source": [
    "def func(a,b,c=5):\n",
    "    print(a,b,c)"
   ]
  },
  {
   "cell_type": "code",
   "execution_count": 4,
   "id": "aee89767",
   "metadata": {},
   "outputs": [
    {
     "name": "stdout",
     "output_type": "stream",
     "text": [
      "1 2 3\n"
     ]
    }
   ],
   "source": [
    "func(1,c=3,b=2)"
   ]
  },
  {
   "cell_type": "markdown",
   "id": "d2a79c57",
   "metadata": {},
   "source": [
    "here order of the name doesn't matter while calling function because it is explicitly specified with their\n",
    "respective parameter names. so here value a=1,b=2,c=3"
   ]
  },
  {
   "cell_type": "markdown",
   "id": "95634fff",
   "metadata": {},
   "source": [
    "# 3. How about this code: what is its result, and why?\n",
    "# &gt;&gt;&gt; def func(a, *pargs):\n",
    "# print(a, pargs)\n",
    "# &gt;&gt;&gt; func(1, 2, 3)"
   ]
  },
  {
   "cell_type": "code",
   "execution_count": 6,
   "id": "2981c421",
   "metadata": {},
   "outputs": [],
   "source": [
    "def func(a,*pargs):\n",
    "    print(a,pargs)"
   ]
  },
  {
   "cell_type": "code",
   "execution_count": 7,
   "id": "8acd3f8a",
   "metadata": {},
   "outputs": [
    {
     "name": "stdout",
     "output_type": "stream",
     "text": [
      "1 (2, 3)\n"
     ]
    }
   ],
   "source": [
    "func(1,2,3)"
   ]
  },
  {
   "cell_type": "markdown",
   "id": "612e195e",
   "metadata": {},
   "source": [
    "here value of a =1 and * pargs is variable length argument  used for packing.It means\n",
    "additional positional argument provided to the function after first argument will be collected as tuple"
   ]
  },
  {
   "cell_type": "markdown",
   "id": "84f2184e",
   "metadata": {},
   "source": [
    "# 4. What does this code print, and why?\n",
    "# &gt;&gt;&gt; def func(a, **kargs):\n",
    "# print(a, kargs)\n",
    "# &gt;&gt;&gt; func(a=1, c=3, b=2)"
   ]
  },
  {
   "cell_type": "code",
   "execution_count": 8,
   "id": "412f8a3b",
   "metadata": {},
   "outputs": [],
   "source": [
    "def func(a,**kargs):\n",
    "    print(a,kargs)"
   ]
  },
  {
   "cell_type": "code",
   "execution_count": 9,
   "id": "27c8bfec",
   "metadata": {},
   "outputs": [
    {
     "name": "stdout",
     "output_type": "stream",
     "text": [
      "1 {'c': 3, 'b': 2}\n"
     ]
    }
   ],
   "source": [
    "func(a=1,c=3,b=2)"
   ]
  },
  {
   "cell_type": "markdown",
   "id": "c7a42f11",
   "metadata": {},
   "source": [
    "here a will take function call value while **kargs is used for keyword packing.\n",
    "It means additional keyword argument provided to the function after first argument will be collected in dictionary."
   ]
  },
  {
   "cell_type": "markdown",
   "id": "0f8dcdc4",
   "metadata": {},
   "source": [
    "# 5. What gets printed by this, and explain?\n",
    "# &gt;&gt;&gt; def func(a, b, c=8, d=5): print(a, b, c, d)\n",
    "# &gt;&gt;&gt; func(1, *(5, 6))"
   ]
  },
  {
   "cell_type": "code",
   "execution_count": 11,
   "id": "c8f51b42",
   "metadata": {},
   "outputs": [],
   "source": [
    "def func(a,b,c=8,d=5):\n",
    "    print(a,b,c,d)"
   ]
  },
  {
   "cell_type": "code",
   "execution_count": 12,
   "id": "eb9ac9c9",
   "metadata": {},
   "outputs": [
    {
     "name": "stdout",
     "output_type": "stream",
     "text": [
      "1 5 6 5\n"
     ]
    }
   ],
   "source": [
    "func(1,*(5,6))"
   ]
  },
  {
   "cell_type": "markdown",
   "id": "4119f228",
   "metadata": {},
   "source": [
    "here a will taken value in function call and *(5,6) value unpack the tuple into individual value and assign to\n",
    "b,c respectively.value of c is overidden, d gets its default value."
   ]
  },
  {
   "cell_type": "markdown",
   "id": "3520a0cd",
   "metadata": {},
   "source": [
    "# 6. what is the result of this, and explain?\n",
    "# &gt;&gt;&gt; def func(a, b, c): a = 2; b[0] = &#39;x&#39;; c[&#39;a&#39;] = &#39;y&#39;\n",
    "# &gt;&gt;&gt; l=1; m=[1]; n={&#39;a&#39;:0}\n",
    "# &gt;&gt;&gt; func(l, m, n)\n",
    "\n",
    "# &gt;&gt;&gt; l, m, n"
   ]
  },
  {
   "cell_type": "code",
   "execution_count": 18,
   "id": "f2904351",
   "metadata": {},
   "outputs": [],
   "source": [
    "def func(a,b,c):\n",
    "    a=2\n",
    "    b[0]='x'\n",
    "    c['a']='y'\n",
    "l=1\n",
    "m=[1]\n",
    "n={'a':0}"
   ]
  },
  {
   "cell_type": "code",
   "execution_count": 20,
   "id": "025a67b5",
   "metadata": {},
   "outputs": [
    {
     "name": "stdout",
     "output_type": "stream",
     "text": [
      "1 ['x'] {'a': 'y'}\n"
     ]
    }
   ],
   "source": [
    "func(l,m,n)\n",
    "print(l,m,n)"
   ]
  },
  {
   "cell_type": "markdown",
   "id": "2dd5a8f2",
   "metadata": {},
   "source": [
    "When the func function is called with the arguments l, m, and n, it modifies the values of a, b, and c inside the function.\n",
    "However, since l is an integer, it is immutable and its value is not modified by the function.\n",
    "On the other hand, m is a list and n is a dictionary, both of which are mutable, and their values are modified by\n",
    "the func function."
   ]
  }
 ],
 "metadata": {
  "kernelspec": {
   "display_name": "Python 3 (ipykernel)",
   "language": "python",
   "name": "python3"
  },
  "language_info": {
   "codemirror_mode": {
    "name": "ipython",
    "version": 3
   },
   "file_extension": ".py",
   "mimetype": "text/x-python",
   "name": "python",
   "nbconvert_exporter": "python",
   "pygments_lexer": "ipython3",
   "version": "3.10.9"
  }
 },
 "nbformat": 4,
 "nbformat_minor": 5
}
