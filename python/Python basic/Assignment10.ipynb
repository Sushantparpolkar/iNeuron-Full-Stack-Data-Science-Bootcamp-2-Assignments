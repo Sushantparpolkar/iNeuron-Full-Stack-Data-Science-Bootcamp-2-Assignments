{
 "cells": [
  {
   "cell_type": "markdown",
   "id": "1f12f87c",
   "metadata": {},
   "source": [
    "# 1. How do you distinguish between shutil.copy() and shutil.copytree()?"
   ]
  },
  {
   "cell_type": "raw",
   "id": "84cfdf39",
   "metadata": {},
   "source": [
    "shutil.copy                                                                        shutil.copytree\n",
    "1)This function copies the file                                     1) This function recursively copies the directory\n",
    "located at src to new location provided by dst.                     located at src to new location specified by dist.\n",
    "2)If the destination location already exist,                       2) i.e It copies entire folder,every folder and file \n",
    "then the original file will be                                       contain in it.\n",
    "overwritten.                                                       3)If the destination location already exist, then\n",
    "                                                                    original directory will be merged in it."
   ]
  },
  {
   "cell_type": "code",
   "execution_count": 4,
   "id": "079e336a",
   "metadata": {},
   "outputs": [],
   "source": [
    "import shutil\n",
    "import os"
   ]
  },
  {
   "cell_type": "code",
   "execution_count": 2,
   "id": "6abafbbe",
   "metadata": {},
   "outputs": [
    {
     "data": {
      "text/plain": [
       "'text.txt'"
      ]
     },
     "execution_count": 2,
     "metadata": {},
     "output_type": "execute_result"
    }
   ],
   "source": [
    "shutil.copy(\"t1.txt\",\"text.txt\")# it copies all the containt from source file,create new file paste all contain in new file"
   ]
  },
  {
   "cell_type": "code",
   "execution_count": 8,
   "id": "b8245509",
   "metadata": {},
   "outputs": [
    {
     "data": {
      "text/plain": [
       "'H:\\\\datascience\\\\Assignment\\\\python basicnew'"
      ]
     },
     "execution_count": 8,
     "metadata": {},
     "output_type": "execute_result"
    }
   ],
   "source": [
    "shutil.copytree(\"H:\\datascience\\Assignment\\python basic\",\"H:\\datascience\\Assignment\\python basicnew\")\n",
    "# it has created new folder and copied its all files content."
   ]
  },
  {
   "cell_type": "markdown",
   "id": "3781dca0",
   "metadata": {},
   "source": [
    "# 2. What function is used to rename files??"
   ]
  },
  {
   "cell_type": "markdown",
   "id": "f778490c",
   "metadata": {},
   "source": [
    "os.rename() method in python is used to rename file or directory.This is available in os module This function\n",
    "contain src, destination parameter src is representing file system path .This src path which is\n",
    "to be renamed.destination where the file should be renamed. file system path."
   ]
  },
  {
   "cell_type": "markdown",
   "id": "abd30a8b",
   "metadata": {},
   "source": [
    "# 3. What is the difference between the delete functions in the send2trash and shutil modules?"
   ]
  },
  {
   "cell_type": "raw",
   "id": "82ed2182",
   "metadata": {},
   "source": [
    " # send2trash.send2trash()                                                  shutil.rm()                    "
   ]
  },
  {
   "cell_type": "raw",
   "id": "754ee298",
   "metadata": {},
   "source": [
    "1)This function send file or                                      1) This function allows to remove directory or its\n",
    "directory to the operating system                                   content recursively.\n",
    "trash or recycle bin instead of                                   2)This function permanently delete specified directory\n",
    "permanently deleting it.                                             files and its subdirectory.\n",
    "2) This helps to allow easy recovery of                            3)It cannot send file to recycle bin or trash files\n",
    "file or directory when needed.                                      like sen2trash function\n",
    "3) It is alternative to os.remove()function\n",
    "it avoid risk of accidently deleting important files."
   ]
  },
  {
   "cell_type": "code",
   "execution_count": 31,
   "id": "db0a10f5",
   "metadata": {},
   "outputs": [],
   "source": [
    "import send2trash"
   ]
  },
  {
   "cell_type": "code",
   "execution_count": 36,
   "id": "1109eb9a",
   "metadata": {},
   "outputs": [],
   "source": [
    "send2trash.send2trash(r'F:\\pp') # this file has send to recycle bin"
   ]
  },
  {
   "cell_type": "code",
   "execution_count": 37,
   "id": "fea9dd59",
   "metadata": {},
   "outputs": [],
   "source": [
    "shutil.rmtree(r'F:\\gp\\t') # this has deleted file permanently."
   ]
  },
  {
   "cell_type": "markdown",
   "id": "cd5874d5",
   "metadata": {},
   "source": [
    "# 4.ZipFile objects have a close() method just like File objects’ close() method. What ZipFile method is equivalent to File objects’ open() method?"
   ]
  },
  {
   "cell_type": "markdown",
   "id": "c44fd66f",
   "metadata": {},
   "source": [
    "zipfile.ZipFile() is function in zipfile module to open zipfile.\n",
    "You can specify the parameter read in zipfile function as read 'r'so it can read the content in it."
   ]
  },
  {
   "cell_type": "code",
   "execution_count": 4,
   "id": "44a7b56d",
   "metadata": {},
   "outputs": [],
   "source": [
    "import zipfile,os"
   ]
  },
  {
   "cell_type": "code",
   "execution_count": 11,
   "id": "e04b0207",
   "metadata": {},
   "outputs": [
    {
     "name": "stdout",
     "output_type": "stream",
     "text": [
      "ZIP file exists\n"
     ]
    }
   ],
   "source": [
    "import os\n",
    "\n",
    "file_path = r'G:\\FSDSmega\\FSDS_September.zip'\n",
    "if os.path.exists(file_path):\n",
    "    print(\"ZIP file exists\")\n",
    "else:\n",
    "    print(\"ZIP file does not exist\")\n"
   ]
  },
  {
   "cell_type": "code",
   "execution_count": 17,
   "id": "1beedc6c",
   "metadata": {},
   "outputs": [
    {
     "data": {
      "text/plain": [
       "<zipfile.ZipFile filename='G:\\\\FSDSmega\\\\FSDS_September.zip' mode='r'>"
      ]
     },
     "execution_count": 17,
     "metadata": {},
     "output_type": "execute_result"
    }
   ],
   "source": [
    "zipfile.ZipFile(r'G:\\FSDSmega\\FSDS_September.zip',mode ='r')"
   ]
  },
  {
   "cell_type": "markdown",
   "id": "fe393f1d",
   "metadata": {},
   "source": [
    "# 5. Create a programme that searches a folder tree for files with a certain file extension (such as .pdf  or .jpg). Copy these files from whatever location they are in to a new folder."
   ]
  },
  {
   "cell_type": "code",
   "execution_count": 28,
   "id": "b4a2f4c6",
   "metadata": {},
   "outputs": [
    {
     "name": "stdout",
     "output_type": "stream",
     "text": [
      "File copied: p.pdf.pdf\n",
      "File copied: tiger.jpg.jpg\n"
     ]
    }
   ],
   "source": [
    "import os\n",
    "import shutil\n",
    "\n",
    "def search_and_copy_files(source_folder, target_folder, *extensions):\n",
    "    for root, dirs, files in os.walk(source_folder):\n",
    "        for file in files:\n",
    "            if file.endswith(extensions):\n",
    "                source_path = os.path.join(root, file)\n",
    "                target_path = os.path.join(target_folder, file)\n",
    "                shutil.copy2(source_path, target_path)\n",
    "                print(f\"File copied: {file}\")\n",
    "\n",
    "# Example usage\n",
    "search_and_copy_files('F:\\gp', 'H:\\gp1', '.pdf', '.jpg')"
   ]
  }
 ],
 "metadata": {
  "kernelspec": {
   "display_name": "Python 3 (ipykernel)",
   "language": "python",
   "name": "python3"
  },
  "language_info": {
   "codemirror_mode": {
    "name": "ipython",
    "version": 3
   },
   "file_extension": ".py",
   "mimetype": "text/x-python",
   "name": "python",
   "nbconvert_exporter": "python",
   "pygments_lexer": "ipython3",
   "version": "3.10.9"
  }
 },
 "nbformat": 4,
 "nbformat_minor": 5
}
