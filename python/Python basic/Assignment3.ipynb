{
 "cells": [
  {
   "cell_type": "markdown",
   "id": "2bb8786c",
   "metadata": {},
   "source": [
    "# 1. What are the function advantages to have in your programms?"
   ]
  },
  {
   "cell_type": "markdown",
   "id": "1c100afb",
   "metadata": {},
   "source": [
    " Definition: Function are nothing but a block of code which perfom specific task again and again as per requirement in the code\n",
    "advantages:  \n",
    "1) It stand for DRY means do not \n",
    "    repeate again It generally shoud not contain repeated blocks of code i.e Reduce duplication of code\n",
    "2) It improves reusablity of code\n",
    "3) It writes clearer code\n",
    "4)   It helps to broken bigger problem into smaller one ."
   ]
  },
  {
   "cell_type": "markdown",
   "id": "a5d3c6bb",
   "metadata": {},
   "source": [
    " # 2. when does the code in function run: when it's specified or when it's called?"
   ]
  },
  {
   "cell_type": "markdown",
   "id": "00c25b1c",
   "metadata": {},
   "source": [
    "1) The code in function run  when it is called\n",
    "2) The code inside the function will only excuted by calling its\n",
    "3) name with proper arguments for example."
   ]
  },
  {
   "cell_type": "code",
   "execution_count": 1,
   "id": "9d53367f",
   "metadata": {},
   "outputs": [
    {
     "name": "stdout",
     "output_type": "stream",
     "text": [
      "30\n"
     ]
    }
   ],
   "source": [
    "def additon(a,b):\n",
    "    print(a+b)\n",
    "\n",
    "additon(10,20)"
   ]
  },
  {
   "cell_type": "markdown",
   "id": "3d0fe2a6",
   "metadata": {},
   "source": [
    "# 3.What statement creates function?"
   ]
  },
  {
   "cell_type": "markdown",
   "id": "e36ba07f",
   "metadata": {},
   "source": [
    "def statement  creates function followed by parenthesis() and colon : and we can also use argument and keyward arguments \n",
    "inside function to perfom different task. genearally function looks like:"
   ]
  },
  {
   "cell_type": "code",
   "execution_count": 2,
   "id": "6475bd46",
   "metadata": {},
   "outputs": [],
   "source": [
    "def function_name():\n",
    "    # function body starts\n",
    "    pass\n",
    "    # function body ends\n",
    "\n",
    "# calling function in the code -\n",
    "function_name() "
   ]
  },
  {
   "cell_type": "markdown",
   "id": "c1e5d2b6",
   "metadata": {},
   "source": [
    "\n",
    "# 4. What is the difference between a function and a function call?"
   ]
  },
  {
   "cell_type": "markdown",
   "id": "4d4b8628",
   "metadata": {},
   "source": [
    " Function is defined block of code that specifies certain specific task\n",
    "while function call is act of invoking or executing that code with specific argument to get desired result."
   ]
  },
  {
   "cell_type": "code",
   "execution_count": 2,
   "id": "a711bb19",
   "metadata": {},
   "outputs": [],
   "source": [
    "#function:\n",
    "def cal_square(num):\n",
    "    square= num**2\n",
    "    return square"
   ]
  },
  {
   "cell_type": "code",
   "execution_count": 3,
   "id": "7d71d5d1",
   "metadata": {},
   "outputs": [
    {
     "name": "stdout",
     "output_type": "stream",
     "text": [
      "100\n"
     ]
    }
   ],
   "source": [
    "# function call\n",
    "result =cal_square(10)\n",
    "print(result)"
   ]
  },
  {
   "cell_type": "markdown",
   "id": "e912d660",
   "metadata": {},
   "source": [
    "# 5. How many global scopes are there in a python program? How many local scope?"
   ]
  },
  {
   "cell_type": "markdown",
   "id": "7ee3cd0f",
   "metadata": {},
   "source": [
    "There is only one global scope in python programming. any function or \n",
    "variable defined outside the any function or class at the top level are considered\n",
    "to be in the global scope and can be accessible throught the programme.\n",
    "eg."
   ]
  },
  {
   "cell_type": "code",
   "execution_count": 5,
   "id": "cf989ec3",
   "metadata": {},
   "outputs": [
    {
     "name": "stdout",
     "output_type": "stream",
     "text": [
      "Global variable: Thanks for support\n",
      "Global variable: Thanks for support\n"
     ]
    }
   ],
   "source": [
    "\n",
    "# Global scope\n",
    "global_variable = \"Thanks for support\"\n",
    "\n",
    "def print_global_variable():\n",
    "    # Accessing the global variable within a function\n",
    "    print(\"Global variable:\", global_variable)\n",
    "\n",
    "# Accessing the global variable outside the function\n",
    "print(\"Global variable:\", global_variable)\n",
    "\n",
    "# Calling the function\n",
    "print_global_variable()"
   ]
  },
  {
   "cell_type": "raw",
   "id": "a17d8e98",
   "metadata": {},
   "source": [
    "local variable in python are those varibles which are initialized inside function and belong only to that particular function\n",
    "eg."
   ]
  },
  {
   "cell_type": "code",
   "execution_count": 6,
   "id": "a8358e68",
   "metadata": {},
   "outputs": [
    {
     "name": "stdout",
     "output_type": "stream",
     "text": [
      "my name is sushant\n"
     ]
    }
   ],
   "source": [
    "    def name():\n",
    "        name= \"my name is sushant\"\n",
    "        print(name)\n",
    "        \n",
    "\n",
    "\n",
    "    name()"
   ]
  },
  {
   "cell_type": "markdown",
   "id": "0e9ce436",
   "metadata": {},
   "source": [
    "#  6. What happens to variables in a local scope when the function call returns?"
   ]
  },
  {
   "cell_type": "markdown",
   "id": "6bee5db8",
   "metadata": {},
   "source": [
    "when function call return the local variable within the function distroyed \n",
    ".it lost its meomery outside function and shows Nameerror  .for eg"
   ]
  },
  {
   "cell_type": "code",
   "execution_count": 9,
   "id": "692bcf76",
   "metadata": {},
   "outputs": [
    {
     "name": "stdout",
     "output_type": "stream",
     "text": [
      "Hello, world!\n"
     ]
    },
    {
     "ename": "NameError",
     "evalue": "name 'message' is not defined",
     "output_type": "error",
     "traceback": [
      "\u001b[1;31m---------------------------------------------------------------------------\u001b[0m",
      "\u001b[1;31mNameError\u001b[0m                                 Traceback (most recent call last)",
      "Cell \u001b[1;32mIn[9], line 8\u001b[0m\n\u001b[0;32m      5\u001b[0m print_message()  \u001b[38;5;66;03m# Call the function\u001b[39;00m\n\u001b[0;32m      7\u001b[0m \u001b[38;5;66;03m# Attempting to access the local variable outside the function scope will result in an error\u001b[39;00m\n\u001b[1;32m----> 8\u001b[0m \u001b[38;5;28mprint\u001b[39m(\u001b[43mmessage\u001b[49m)\n",
      "\u001b[1;31mNameError\u001b[0m: name 'message' is not defined"
     ]
    }
   ],
   "source": [
    "def print_message():\n",
    "    message = \"Hello, world!\"  # Local variable within the function\n",
    "    print(message)\n",
    "\n",
    "print_message()  # Call the function\n",
    "\n",
    "# Attempting to access the local variable outside the function scope will result in an error\n",
    "print(message)  "
   ]
  },
  {
   "cell_type": "markdown",
   "id": "b2742b28",
   "metadata": {},
   "source": [
    "# 7. What is the concept of a return value? Is it possible to have a return value in an expression?"
   ]
  },
  {
   "cell_type": "markdown",
   "id": "8467281c",
   "metadata": {},
   "source": [
    "function uses return statement to send back its value to the function, \n",
    "it return the output when it is called.Yes, it is possible to have a return value in an expression. You can directly use the return value of a function call within an expression or assign it to a variable.\n",
    "for eg."
   ]
  },
  {
   "cell_type": "code",
   "execution_count": 10,
   "id": "2705265e",
   "metadata": {},
   "outputs": [],
   "source": [
    "def sum(a,b):\n",
    "    addition=a+b\n",
    "    return addition"
   ]
  },
  {
   "cell_type": "code",
   "execution_count": 11,
   "id": "0b66dd4b",
   "metadata": {},
   "outputs": [
    {
     "data": {
      "text/plain": [
       "function"
      ]
     },
     "execution_count": 11,
     "metadata": {},
     "output_type": "execute_result"
    }
   ],
   "source": [
    "sum(5,10)\n",
    "type(sum)"
   ]
  },
  {
   "cell_type": "markdown",
   "id": "afff50b6",
   "metadata": {},
   "source": [
    "# 8. If a function does not have a return statement, what is the return value of a call to that function?"
   ]
  },
  {
   "cell_type": "markdown",
   "id": "07914636",
   "metadata": {},
   "source": [
    "If a function does not have a return statement then type of function is NoneType. for eg."
   ]
  },
  {
   "cell_type": "code",
   "execution_count": 12,
   "id": "218316d0",
   "metadata": {},
   "outputs": [],
   "source": [
    "def sub(a,b):\n",
    "    print(a//b)"
   ]
  },
  {
   "cell_type": "code",
   "execution_count": 13,
   "id": "c3bed755",
   "metadata": {},
   "outputs": [
    {
     "name": "stdout",
     "output_type": "stream",
     "text": [
      "2\n"
     ]
    },
    {
     "data": {
      "text/plain": [
       "NoneType"
      ]
     },
     "execution_count": 13,
     "metadata": {},
     "output_type": "execute_result"
    }
   ],
   "source": [
    "result=sub(10,5)\n",
    "type(result)"
   ]
  },
  {
   "cell_type": "markdown",
   "id": "801820d3",
   "metadata": {},
   "source": [
    "# 9. How do you make a function variable refer to the global variable?"
   ]
  },
  {
   "cell_type": "markdown",
   "id": "5a2105fc",
   "metadata": {},
   "source": [
    "By using keyword global inside the function variable we can refer to the global variable for eg."
   ]
  },
  {
   "cell_type": "code",
   "execution_count": 14,
   "id": "f9337fa4",
   "metadata": {},
   "outputs": [
    {
     "name": "stdout",
     "output_type": "stream",
     "text": [
      "10\n",
      "40\n"
     ]
    }
   ],
   "source": [
    "g =10 # global variable\n",
    "def func():\n",
    "    global g\n",
    "    g= 40 # updating global variable\n",
    "print(g)\n",
    "func()\n",
    "print(g)\n",
    "\n",
    "    "
   ]
  },
  {
   "cell_type": "markdown",
   "id": "aaa04b44",
   "metadata": {},
   "source": [
    " # 10. What is the data type of None?"
   ]
  },
  {
   "cell_type": "markdown",
   "id": "ab6cfd73",
   "metadata": {},
   "source": [
    "None means not a value. Absence of value or lack of object specification .\n",
    "It is built in function used for undefined or missing value for eg"
   ]
  },
  {
   "cell_type": "code",
   "execution_count": 15,
   "id": "71cd0a9f",
   "metadata": {},
   "outputs": [
    {
     "name": "stdout",
     "output_type": "stream",
     "text": [
      "<class 'NoneType'>\n"
     ]
    }
   ],
   "source": [
    "print(type(None))"
   ]
  },
  {
   "cell_type": "markdown",
   "id": "b6156bef",
   "metadata": {},
   "source": [
    "# 11. What does the sentence import areallyourpetsnamederic do?"
   ]
  },
  {
   "cell_type": "markdown",
   "id": "a0fac581",
   "metadata": {},
   "source": [
    " That import statement imports a module named areallyourpetsnamederic"
   ]
  },
  {
   "cell_type": "markdown",
   "id": "6afdc417",
   "metadata": {},
   "source": [
    " # 12. If you had a bacon() feature in a spam module, what would you call it after importing spam?"
   ]
  },
  {
   "cell_type": "markdown",
   "id": "22929c70",
   "metadata": {},
   "source": [
    "After importing spam module we can call feature bacon by using command spam.bacon()"
   ]
  },
  {
   "cell_type": "markdown",
   "id": "5ecd505f",
   "metadata": {},
   "source": [
    "# 13. What can you do to save a programme from crashing if it encounters an error?"
   ]
  },
  {
   "cell_type": "markdown",
   "id": "51814eed",
   "metadata": {},
   "source": [
    "By using the try-except statement, the program can handle these exceptions gracefully and continue execution without crashing. It providing a better user experience and preventing unexpected program termination."
   ]
  },
  {
   "cell_type": "code",
   "execution_count": 16,
   "id": "fd460bb2",
   "metadata": {},
   "outputs": [
    {
     "name": "stdout",
     "output_type": "stream",
     "text": [
      "Enter a number 10\n",
      "Enter a number 1.2\n",
      "invalid input please try valid number\n"
     ]
    }
   ],
   "source": [
    "try:\n",
    "    a= int(input(\"Enter a number \"  ))\n",
    "    b= int(input(\"Enter a number \"))\n",
    "    result =a/b\n",
    "    print(result)\n",
    "except ValueError:\n",
    "    print(\"invalid input please try valid number\")\n",
    "except ZeroDivisionError:\n",
    "    print(\"numbers cannot  divided by zero\")"
   ]
  },
  {
   "cell_type": "markdown",
   "id": "02d4b9bd",
   "metadata": {},
   "source": [
    "# 14. What is the purpose of the try clause? What is the purpose of the except clause?"
   ]
  },
  {
   "cell_type": "markdown",
   "id": "55c45cb1",
   "metadata": {},
   "source": [
    "For exception handling in python we use try and except clause. \n",
    "Try helps to find when exception might occur. We use it for monitoring of our code.\n",
    "while except clause helps to check what specific exception is occuring while programming.\n",
    "It catch and handle the exception occuring during try block"
   ]
  }
 ],
 "metadata": {
  "kernelspec": {
   "display_name": "Python 3 (ipykernel)",
   "language": "python",
   "name": "python3"
  },
  "language_info": {
   "codemirror_mode": {
    "name": "ipython",
    "version": 3
   },
   "file_extension": ".py",
   "mimetype": "text/x-python",
   "name": "python",
   "nbconvert_exporter": "python",
   "pygments_lexer": "ipython3",
   "version": "3.10.9"
  }
 },
 "nbformat": 4,
 "nbformat_minor": 5
}
