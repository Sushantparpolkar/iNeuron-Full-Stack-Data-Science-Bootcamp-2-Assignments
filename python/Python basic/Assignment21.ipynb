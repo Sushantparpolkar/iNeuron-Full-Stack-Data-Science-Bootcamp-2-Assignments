{
 "cells": [
  {
   "cell_type": "markdown",
   "id": "cad0b1a0",
   "metadata": {},
   "source": [
    "# 1. Add the current date to the text file today.txt as a string."
   ]
  },
  {
   "cell_type": "code",
   "execution_count": 36,
   "id": "718810db",
   "metadata": {},
   "outputs": [
    {
     "name": "stdout",
     "output_type": "stream",
     "text": [
      "Current date added to today.txt.\n"
     ]
    }
   ],
   "source": [
    "from datetime import datetime\n",
    "current_date = datetime.now().strftime('%Y-%m-%d') # Get the current date and time\n",
    "\n",
    "with open('today.txt', 'w') as file:# Open the file in append mode and write the current date\n",
    "    file.write(str(current_date))\n",
    "\n",
    "print(\"Current date added to today.txt.\")# 2023-07-04\n"
   ]
  },
  {
   "cell_type": "markdown",
   "id": "c731e5e6",
   "metadata": {},
   "source": [
    "# 2. Read the text file today.txt into the string today_string"
   ]
  },
  {
   "cell_type": "code",
   "execution_count": 37,
   "id": "4bf4429b",
   "metadata": {},
   "outputs": [
    {
     "name": "stdout",
     "output_type": "stream",
     "text": [
      "2023-07-04\n"
     ]
    }
   ],
   "source": [
    "with open('today.txt','r')as file:\n",
    "    today_string=file.read()\n",
    "    print(today_string)"
   ]
  },
  {
   "cell_type": "markdown",
   "id": "5eb2ab63",
   "metadata": {},
   "source": [
    "# 3. Parse the date from today_string."
   ]
  },
  {
   "cell_type": "code",
   "execution_count": 43,
   "id": "1748b23f",
   "metadata": {},
   "outputs": [
    {
     "name": "stdout",
     "output_type": "stream",
     "text": [
      "2023-07-04 00:00:00\n"
     ]
    }
   ],
   "source": [
    "date=datetime.strptime(today_string,\"%Y-%m-%d\")\n",
    "print(date)"
   ]
  },
  {
   "cell_type": "markdown",
   "id": "2a40982a",
   "metadata": {},
   "source": [
    "# 4. List the files in your current directory"
   ]
  },
  {
   "cell_type": "code",
   "execution_count": 55,
   "id": "98954b02",
   "metadata": {},
   "outputs": [
    {
     "name": "stdout",
     "output_type": "stream",
     "text": [
      "['.ipynb_checkpoints', 'ancroped.jpg', 'anilcroped.jpg', 'ass7theory.ipynb', 'assignment 10.ipynb', 'assignment 11.ipynb', 'Assignment 12.ipynb', 'assignment 13.ipynb', 'Assignment 14.ipynb', 'Assignment 15.ipynb', 'Assignment 16.ipynb', 'Assignment 17.ipynb', 'Assignment 18.ipynb', 'Assignment 19.ipynb', 'Assignment 21.ipynb', 'Assignment 22.ipynb', 'assignment 4.ipynb', 'assignment 5.ipynb', 'assignment 6.ipynb', 'Assignment 9.ipynb', 'Assignment20.ipynb', 'assignment7.ipynb', 'assignment8.ipynb', 'Assignment_3.ipynb', 'book.csv', 'book.db', 'books.db', 'data.bak', 'data.dat', 'data.dir', 'demo.log', 'example.docx', 'formatted_text.docx', 'my_data.bak', 'my_data.dat', 'my_data.dir', 'output.csv', 'output1.csv', 'p.csv', 'Rec.png', 's.csv', 's1.csv', 'sample.csv', 't1', 't2.txt', 'test.txt', 'today.txt', 'today1.txt', 'Untitled1.ipynb', 'zoo.py', '__pycache__']\n"
     ]
    }
   ],
   "source": [
    "import os\n",
    "list = os.listdir()\n",
    "print(list)"
   ]
  },
  {
   "cell_type": "markdown",
   "id": "c9a9bdce",
   "metadata": {},
   "source": [
    "# 5. Create a list of all of the files in your parent directory (minimum five files should be available)."
   ]
  },
  {
   "cell_type": "code",
   "execution_count": 13,
   "id": "bc0fe355",
   "metadata": {},
   "outputs": [],
   "source": [
    "import os"
   ]
  },
  {
   "cell_type": "code",
   "execution_count": 14,
   "id": "4e6399e1",
   "metadata": {},
   "outputs": [
    {
     "name": "stdout",
     "output_type": "stream",
     "text": [
      "Current directory H:\\datascience\\Assignment\\python basic\n",
      "Parent directory H:\\datascience\\Assignment\n"
     ]
    }
   ],
   "source": [
    "from pathlib import Path\n",
    "cdir = os.getcwd()\n",
    "print(\"Current directory\",cdir)\n",
    "print(\"Parent directory\",os.path.dirname(cdir))"
   ]
  },
  {
   "cell_type": "code",
   "execution_count": 15,
   "id": "09b0a869",
   "metadata": {},
   "outputs": [
    {
     "data": {
      "text/plain": [
       "['Automate_the_boring_stuff_with_python_2nd_edition_by_Al_Sweigart.pdf',\n",
       " 'Cracking_Codes_with_Python_An_Introduction_to_Building_and_Breaking.pdf',\n",
       " 'important pdf.pdf',\n",
       " 'python basic',\n",
       " 'python basicnew']"
      ]
     },
     "execution_count": 15,
     "metadata": {},
     "output_type": "execute_result"
    }
   ],
   "source": [
    "list = os.path.dirname(cdir)\n",
    "os.listdir(list)"
   ]
  },
  {
   "cell_type": "markdown",
   "id": "b3540c61",
   "metadata": {},
   "source": [
    "# 6. Use multiprocessing to create three separate processes. Make each one wait a random number of seconds between one and five, print the current time, and then exit."
   ]
  },
  {
   "cell_type": "code",
   "execution_count": 2,
   "id": "baa65484",
   "metadata": {},
   "outputs": [
    {
     "name": "stdout",
     "output_type": "stream",
     "text": [
      "All processes have finished.\n"
     ]
    }
   ],
   "source": [
    "import multiprocessing\n",
    "import time\n",
    "import random\n",
    "from datetime import datetime\n",
    "\n",
    "def worker(process_num):\n",
    "    wait_time = random.randint(1, 5)\n",
    "    print(f\"Process {process_num} will wait for {wait_time} seconds.\")\n",
    "    time.sleep(wait_time)\n",
    "    current_time = datetime.now().strftime(\"%Y-%m-%d %H:%M:%S\")\n",
    "    print(f\"Process {process_num} woke up at {current_time} and is exiting.\")\n",
    "\n",
    "if __name__ == \"__main__\":\n",
    "    processes = []\n",
    "    for i in range(3):\n",
    "        p = multiprocessing.Process(target=worker, args=(i,))\n",
    "        processes.append(p)\n",
    "        p.start()\n",
    "\n",
    "    for p in processes:\n",
    "        p.join()\n",
    "\n",
    "    print(\"All processes have finished.\")\n"
   ]
  },
  {
   "cell_type": "markdown",
   "id": "ad698e9b",
   "metadata": {},
   "source": [
    "# 7. Create a date object of your day of birth."
   ]
  },
  {
   "cell_type": "code",
   "execution_count": 4,
   "id": "27fd5028",
   "metadata": {},
   "outputs": [
    {
     "name": "stdout",
     "output_type": "stream",
     "text": [
      "1996-12-03 00:00:00 <class 'datetime.datetime'>\n"
     ]
    }
   ],
   "source": [
    "from datetime import datetime\n",
    "my_dob = datetime.strptime('03/12/1996','%d/%m/%Y')\n",
    "print(my_dob,type(my_dob))"
   ]
  },
  {
   "cell_type": "markdown",
   "id": "56cb2fdd",
   "metadata": {},
   "source": [
    "# 8. What day of the week was your day of birth?"
   ]
  },
  {
   "cell_type": "code",
   "execution_count": 7,
   "id": "eac92175",
   "metadata": {},
   "outputs": [
    {
     "name": "stdout",
     "output_type": "stream",
     "text": [
      " The day of the week for 1996-12-03 was Tuesday.\n"
     ]
    }
   ],
   "source": [
    "from datetime import datetime\n",
    "\n",
    "birth_date = datetime.strptime('3/12/1996','%d/%m/%Y')\n",
    "day_of_week = birth_date.strftime('%A')\n",
    "\n",
    "print(f\" The day of the week for {birth_date.date()} was {day_of_week}.\")"
   ]
  },
  {
   "cell_type": "markdown",
   "id": "bb2a853b",
   "metadata": {},
   "source": [
    "# 9. When will you be (or when were you) 10,000 days old?"
   ]
  },
  {
   "cell_type": "code",
   "execution_count": 10,
   "id": "f11ee90e",
   "metadata": {},
   "outputs": [
    {
     "data": {
      "text/plain": [
       "datetime.datetime(1969, 7, 18, 0, 0)"
      ]
     },
     "execution_count": 10,
     "metadata": {},
     "output_type": "execute_result"
    }
   ],
   "source": [
    "from datetime import datetime,timedelta\n",
    "\n",
    "birth_date = datetime.strptime('3/12/1996','%d/%m/%Y')\n",
    "future_date = birth_date-timedelta(10000)\n",
    "future_date"
   ]
  }
 ],
 "metadata": {
  "kernelspec": {
   "display_name": "Python 3 (ipykernel)",
   "language": "python",
   "name": "python3"
  },
  "language_info": {
   "codemirror_mode": {
    "name": "ipython",
    "version": 3
   },
   "file_extension": ".py",
   "mimetype": "text/x-python",
   "name": "python",
   "nbconvert_exporter": "python",
   "pygments_lexer": "ipython3",
   "version": "3.10.9"
  }
 },
 "nbformat": 4,
 "nbformat_minor": 5
}
