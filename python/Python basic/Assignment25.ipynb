{
 "cells": [
  {
   "cell_type": "markdown",
   "id": "d3454e10",
   "metadata": {},
   "source": [
    "# 1) . What is the difference between enclosing a list comprehension in square brackets and parentheses?"
   ]
  },
  {
   "cell_type": "code",
   "execution_count": 5,
   "id": "b6dc3bca",
   "metadata": {},
   "outputs": [
    {
     "data": {
      "text/plain": [
       "[0, 2, 4]"
      ]
     },
     "execution_count": 5,
     "metadata": {},
     "output_type": "execute_result"
    }
   ],
   "source": [
    "list = [i for  i in range (5) if i%2==0]\n",
    "list"
   ]
  },
  {
   "cell_type": "code",
   "execution_count": 7,
   "id": "d329a2cd",
   "metadata": {},
   "outputs": [
    {
     "name": "stdout",
     "output_type": "stream",
     "text": [
      "<generator object <genexpr> at 0x000001D5BEFADAF0>\n"
     ]
    }
   ],
   "source": [
    "parenthesis= (i for i in range (10) if i%2==1)\n",
    "print(parenthesis)"
   ]
  },
  {
   "cell_type": "markdown",
   "id": "b6c86272",
   "metadata": {},
   "source": [
    "square[]: square bracket are used to cread list comprehension. It generates new list based on the iteration\n",
    "specified within comprehension.\n",
    "\n",
    "parenthesis(): It is used for generate expression.he elements are generated on-the-fly as they are needed, \n",
    "rather than being stored in memory all at once."
   ]
  },
  {
   "cell_type": "markdown",
   "id": "ac068ea8",
   "metadata": {},
   "source": [
    "# 2) What is the relationship between generators and iterators?"
   ]
  },
  {
   "cell_type": "markdown",
   "id": "49b8087a",
   "metadata": {},
   "source": [
    "TO create iterator we use iter() and to generate we use function along with yield keyward.\n",
    "Generator uses the yield keyward.It saves the local variable value.\n",
    "generators in python helps use to write fast and compact code.\n",
    "python iterator is much more memory efficient.\n",
    "for creating generator we use iterator"
   ]
  },
  {
   "cell_type": "code",
   "execution_count": 20,
   "id": "56fa8bdc",
   "metadata": {},
   "outputs": [
    {
     "name": "stdout",
     "output_type": "stream",
     "text": [
      "15\n",
      "30\n",
      "45\n",
      "60\n"
     ]
    }
   ],
   "source": [
    "l =[1,2,3,4] # iterable\n",
    "for i in l:\n",
    "    print(i*15)"
   ]
  },
  {
   "cell_type": "code",
   "execution_count": 42,
   "id": "931e5bd1",
   "metadata": {},
   "outputs": [
    {
     "name": "stdout",
     "output_type": "stream",
     "text": [
      "<list_iterator object at 0x000001D5BEC201C0>\n"
     ]
    }
   ],
   "source": [
    "iterator = iter(l)\n",
    "print(iterator)"
   ]
  },
  {
   "cell_type": "code",
   "execution_count": 22,
   "id": "178b75f8",
   "metadata": {},
   "outputs": [
    {
     "name": "stdout",
     "output_type": "stream",
     "text": [
      "1\n",
      "2\n",
      "3\n",
      "4\n"
     ]
    }
   ],
   "source": [
    "for i in iterator:\n",
    "    print(i)"
   ]
  },
  {
   "cell_type": "code",
   "execution_count": 32,
   "id": "d800fcad",
   "metadata": {},
   "outputs": [],
   "source": [
    "def gen(n):\n",
    "    for i in range(5):\n",
    "        yield i**2"
   ]
  },
  {
   "cell_type": "code",
   "execution_count": 36,
   "id": "1f498fb1",
   "metadata": {},
   "outputs": [],
   "source": [
    "a= gen(4)"
   ]
  },
  {
   "cell_type": "code",
   "execution_count": 40,
   "id": "12e25cbc",
   "metadata": {},
   "outputs": [
    {
     "data": {
      "text/plain": [
       "4"
      ]
     },
     "execution_count": 40,
     "metadata": {},
     "output_type": "execute_result"
    }
   ],
   "source": [
    "next(a)"
   ]
  },
  {
   "cell_type": "markdown",
   "id": "e86563bf",
   "metadata": {},
   "source": [
    "# 3) What are the signs that a function is a generator function?"
   ]
  },
  {
   "cell_type": "markdown",
   "id": "21a88762",
   "metadata": {},
   "source": [
    "A function with yield statements is a generator function.\n",
    "When the generator function is called, it does not execute the function body immediately. \n",
    "Instead, it returns a generator object that can be iterated over to produce the values.\n",
    "The generator object can be iterated using a for loop, or its values can be fetched using the next() function."
   ]
  },
  {
   "cell_type": "markdown",
   "id": "e3f7c40c",
   "metadata": {},
   "source": [
    "# 4) What is the purpose of a yield statement?"
   ]
  },
  {
   "cell_type": "markdown",
   "id": "d600d14b",
   "metadata": {},
   "source": [
    "yield is used  in which generator function can produce a sequence of values without calculating and storing them all \n",
    "at once. It generates values on-the-fly as they are needed, resulting in memory-efficient and lazy evaluation.\n",
    "the function's state, including local variables and execution position, is saved. When the generator is called again,\n",
    "it resumes execution from where it left off, picking up the saved state.\n",
    "The generator object can be iterated over using a for loop, or its values can be fetched using the next() function. Each iteration or next() call resumes the execution of the generator function until the next yield statement is encountered."
   ]
  },
  {
   "cell_type": "markdown",
   "id": "f35d7d34",
   "metadata": {},
   "source": [
    "# 5) What is the relationship between map calls and list comprehensions? Make a comparison and contrast between the two."
   ]
  },
  {
   "cell_type": "markdown",
   "id": "14a12043",
   "metadata": {},
   "source": [
    "Both map () calls and list[] comprehensions in Python are used to perform operations on iterable objects \n",
    "and generate new sequences.\n",
    "Syntax:  map call: The map function takes a function and one or more iterables as arguments.\n",
    " It applies the function to each element of the iterables and returns an iterator that yields the results.\n",
    " \n",
    "Output: map call: The map function returns an iterator. To obtain the actual values, it needs to be converted into a list using the list() function or iterated over using a loop.\n",
    "\n",
    "Functionality: map call: The map function is primarily used for applying a function to each element of an iterable. It is suitable for situations where you need to transform each element according to a specific function.\n",
    "Readability: map call: Using map with a lambda function can be less readable, especially for more complex transformations. It may require additional mental effort to understand the purpose of the transformation.\n",
    "\n",
    "syntax: List comprehension: A list comprehension is a concise way to create a new list by transforming or filtering elements from an existing iterable.\n",
    "\n",
    "Performance: map call: In certain cases, map calls with built-in functions can offer better performance than list comprehensions, especially when dealing with large datasets. The map function is implemented in C and can be optimized for performance.\n",
    "\n",
    "Output: List comprehension: A list comprehension directly creates a new list with the transformed or filtered elements.\n",
    "Functionality: List comprehension: List comprehensions are more versatile. They allow you to perform not only element-wise transformations but also filtering and other operations within the comprehension.\n",
    "\n",
    "Readability: List comprehension: List comprehensions often result in more readable and expressive code. The intention and logic of the transformation are directly visible.\n",
    "\n",
    "Performance: List comprehensions are generally efficient, but they may create an additional temporary list in memory. In cases where memory usage is a concern, using a generator expression instead of a list comprehension can provide memory-efficient lazy evaluation."
   ]
  }
 ],
 "metadata": {
  "kernelspec": {
   "display_name": "Python 3 (ipykernel)",
   "language": "python",
   "name": "python3"
  },
  "language_info": {
   "codemirror_mode": {
    "name": "ipython",
    "version": 3
   },
   "file_extension": ".py",
   "mimetype": "text/x-python",
   "name": "python",
   "nbconvert_exporter": "python",
   "pygments_lexer": "ipython3",
   "version": "3.10.9"
  }
 },
 "nbformat": 4,
 "nbformat_minor": 5
}
