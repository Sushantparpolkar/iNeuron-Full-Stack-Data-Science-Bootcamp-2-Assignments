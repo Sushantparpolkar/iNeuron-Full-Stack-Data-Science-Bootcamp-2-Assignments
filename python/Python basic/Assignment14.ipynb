{
 "cells": [
  {
   "cell_type": "markdown",
   "id": "7c891df9",
   "metadata": {},
   "source": [
    "# 1. What does RGBA stand for?"
   ]
  },
  {
   "cell_type": "markdown",
   "id": "45459166",
   "metadata": {},
   "source": [
    "RGBA stands for red green blue alpha which is a color model used to represent color with transparency.\n",
    "Where aplha  is opacity of color. aplha parameter stands betweeen 1 (fully transparent) and 0 not transparent.\n",
    "It is used in python libraries and framework for graphics, imageprocessing and user interface.\n"
   ]
  },
  {
   "cell_type": "markdown",
   "id": "3552c609",
   "metadata": {},
   "source": [
    "#  2. From the Pillow module, how do you get the RGBA value of any images?"
   ]
  },
  {
   "cell_type": "markdown",
   "id": "56934148",
   "metadata": {},
   "source": [
    "Pillow offers the ImageColor.getcolor() function so you don’t have to memorize RGBA values for the colors you want to use.\n",
    "This function takes a color name string as its first argument, and the string 'RGBA' as its second argument, \n",
    "and it returns an RGBA tuple."
   ]
  },
  {
   "cell_type": "code",
   "execution_count": 1,
   "id": "7fbc8d7e",
   "metadata": {},
   "outputs": [],
   "source": [
    "from PIL import ImageColor"
   ]
  },
  {
   "cell_type": "code",
   "execution_count": 2,
   "id": "81b0f0eb",
   "metadata": {},
   "outputs": [
    {
     "data": {
      "text/plain": [
       "(255, 0, 0, 255)"
      ]
     },
     "execution_count": 2,
     "metadata": {},
     "output_type": "execute_result"
    }
   ],
   "source": [
    "ImageColor.getcolor('red',\"RGBA\")"
   ]
  },
  {
   "cell_type": "code",
   "execution_count": 3,
   "id": "abf4cc2f",
   "metadata": {},
   "outputs": [
    {
     "data": {
      "text/plain": [
       "(0, 128, 0, 255)"
      ]
     },
     "execution_count": 3,
     "metadata": {},
     "output_type": "execute_result"
    }
   ],
   "source": [
    "ImageColor.getcolor('green',\"RGBA\")"
   ]
  },
  {
   "cell_type": "markdown",
   "id": "f46a8fbd",
   "metadata": {},
   "source": [
    "# 3. What is a box tuple, and how does it work?"
   ]
  },
  {
   "cell_type": "markdown",
   "id": "6d0f6ed9",
   "metadata": {},
   "source": [
    "box tuple is  expecting tuple of four integer coordinates that represent rectangular\n",
    "region in a image. The four integers are:\n",
    "left:  The x coordinate of the leftmost edge of the box.\n",
    "\n",
    "Top:  y coordinate of the topmost edge of the box.\n",
    "\n",
    "Right:  The x-coordinate of one pixel to the right of the rightmost edge of the box.\n",
    "This integer must be greater than the left integer.\n",
    "\n",
    "Bottom: The y-coordinate of one pixel lower than the bottom edge of the box.\n",
    "This integer must be greater than the top integer."
   ]
  },
  {
   "cell_type": "markdown",
   "id": "0f4472d6",
   "metadata": {},
   "source": [
    "# 4. Use your image and load in notebook then, How can you find out the width and height of an Image object?"
   ]
  },
  {
   "cell_type": "code",
   "execution_count": 4,
   "id": "cd7cb766",
   "metadata": {},
   "outputs": [],
   "source": [
    "from PIL import Image"
   ]
  },
  {
   "cell_type": "code",
   "execution_count": 5,
   "id": "92ecdb83",
   "metadata": {},
   "outputs": [],
   "source": [
    "image = Image.open(r'C:\\Users\\SUSHANT\\Desktop\\pp\\anil.jpg')"
   ]
  },
  {
   "cell_type": "code",
   "execution_count": 6,
   "id": "a5d64d99",
   "metadata": {},
   "outputs": [
    {
     "name": "stdout",
     "output_type": "stream",
     "text": [
      "Width of Image is 576\n"
     ]
    }
   ],
   "source": [
    "width =image.width\n",
    "print(f'Width of Image is {width}')\n"
   ]
  },
  {
   "cell_type": "code",
   "execution_count": 7,
   "id": "2440c21a",
   "metadata": {},
   "outputs": [
    {
     "name": "stdout",
     "output_type": "stream",
     "text": [
      "height of Image is1280\n"
     ]
    }
   ],
   "source": [
    "height = image.height\n",
    "print(f'height of Image is{height}')"
   ]
  },
  {
   "cell_type": "code",
   "execution_count": 8,
   "id": "c26c892f",
   "metadata": {},
   "outputs": [
    {
     "name": "stdout",
     "output_type": "stream",
     "text": [
      "size of Image is (576, 1280)\n"
     ]
    }
   ],
   "source": [
    "size = image.size\n",
    "size\n",
    "print(f'size of Image is {size}')"
   ]
  },
  {
   "cell_type": "markdown",
   "id": "13a8fee4",
   "metadata": {},
   "source": [
    "# 5. What method would you call to get Image object for a 100×100 image, excluding the lower-left quarter of it?"
   ]
  },
  {
   "cell_type": "code",
   "execution_count": 9,
   "id": "3c2f356d",
   "metadata": {},
   "outputs": [],
   "source": [
    "from PIL import Image\n",
    "image = Image.open(r'C:\\Users\\SUSHANT\\Desktop\\pp\\anil.jpg')\n",
    "croped_image=image.crop((0,0,100,100))\n",
    "croped_image.show()\n",
    "croped_image.save('ancroped.jpg')\n",
    "                   "
   ]
  },
  {
   "cell_type": "markdown",
   "id": "55f41225",
   "metadata": {},
   "source": [
    "# 6. After making changes to an Image object, how could you save it as an image file?"
   ]
  },
  {
   "cell_type": "markdown",
   "id": "86729e4e",
   "metadata": {},
   "source": [
    ".save() function save image object in whichever format you want to save such as 'jpg','png'."
   ]
  },
  {
   "cell_type": "code",
   "execution_count": 10,
   "id": "20b5a99c",
   "metadata": {},
   "outputs": [],
   "source": [
    "from PIL import Image\n",
    "image = Image.open(r'C:\\Users\\SUSHANT\\Desktop\\pp\\anil.jpg')\n",
    "croped_image=image.crop((0,0,100,100))\n",
    "\n",
    "croped_image.save('ancroped.jpg')"
   ]
  },
  {
   "cell_type": "markdown",
   "id": "c6b28419",
   "metadata": {},
   "source": [
    "# 7. What module contains Pillow’s shape-drawing code?"
   ]
  },
  {
   "cell_type": "markdown",
   "id": "cf9dc78a",
   "metadata": {},
   "source": [
    "Pillow’s ImageDraw module containing shape-drawing code."
   ]
  },
  {
   "cell_type": "code",
   "execution_count": 11,
   "id": "dd9d3f56",
   "metadata": {},
   "outputs": [],
   "source": [
    "from PIL import Image,ImageDraw\n",
    "image = Image.new(\"RGB\",(200,200),color =\"Blue\")\n",
    "draw = ImageDraw.Draw(image)\n",
    "draw.rectangle((50,50,150,150),fill=\"blue\")\n",
    "image.save(\"Rec.png\")\n",
    "image.show()\n"
   ]
  },
  {
   "cell_type": "markdown",
   "id": "8e51608e",
   "metadata": {},
   "source": [
    "# 8. Image objects do not have drawing methods. What kind of object does? How do you get this kind of object?"
   ]
  },
  {
   "cell_type": "markdown",
   "id": "3fc77aa2",
   "metadata": {},
   "source": [
    "The Pillow library provides a separate object called ImageDraw \n",
    "that has various drawing methods, such as rectangle(), line(), ellipse(), etc.\n",
    "We can obtain an ImageDraw object by calling the ImageDraw.Draw() function,\n",
    "passing the Image object as a parameter.\n"
   ]
  }
 ],
 "metadata": {
  "kernelspec": {
   "display_name": "Python 3 (ipykernel)",
   "language": "python",
   "name": "python3"
  },
  "language_info": {
   "codemirror_mode": {
    "name": "ipython",
    "version": 3
   },
   "file_extension": ".py",
   "mimetype": "text/x-python",
   "name": "python",
   "nbconvert_exporter": "python",
   "pygments_lexer": "ipython3",
   "version": "3.10.9"
  }
 },
 "nbformat": 4,
 "nbformat_minor": 5
}
