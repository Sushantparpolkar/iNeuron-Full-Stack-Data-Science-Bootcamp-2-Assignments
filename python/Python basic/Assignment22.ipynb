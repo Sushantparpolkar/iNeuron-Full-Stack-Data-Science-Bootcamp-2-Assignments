{
 "cells": [
  {
   "cell_type": "markdown",
   "id": "9c9aea50",
   "metadata": {},
   "source": [
    "# 1. What is the result of the code, and explain?\n",
    "# &gt;&gt;&gt; X = &#39;iNeuron&#39;\n",
    "# &gt;&gt;&gt; def func():\n",
    "# print(X)\n",
    "# &gt;&gt;&gt; func()"
   ]
  },
  {
   "cell_type": "code",
   "execution_count": 29,
   "id": "227221e7",
   "metadata": {},
   "outputs": [
    {
     "name": "stdout",
     "output_type": "stream",
     "text": [
      "iNeuron\n"
     ]
    }
   ],
   "source": [
    " X = 'iNeuron'\n",
    "def func():\n",
    "    print(X)\n",
    "func()"
   ]
  },
  {
   "cell_type": "markdown",
   "id": "6dcc9765",
   "metadata": {},
   "source": [
    "Result of the above code is 'iNeuron' The function checks the value of X  firstly in local scope. Here no local scope value\n",
    "for x is present. so Function check the value of X for global scope( i.e value outside function)here it found \"iNeuron\""
   ]
  },
  {
   "cell_type": "markdown",
   "id": "867c930b",
   "metadata": {},
   "source": [
    "# 2. What is the result of the code, and explain?\n",
    "\n",
    "# &gt;&gt;&gt; X = &#39;iNeuron&#39;\n",
    "# &gt;&gt;&gt; def func():\n",
    "# X = &#39;NI!&#39;\n",
    "# &gt;&gt;&gt; func()\n",
    "# &gt;&gt;&gt; print(X)"
   ]
  },
  {
   "cell_type": "code",
   "execution_count": 39,
   "id": "da4ab397",
   "metadata": {},
   "outputs": [
    {
     "name": "stdout",
     "output_type": "stream",
     "text": [
      "iNeuron\n"
     ]
    }
   ],
   "source": [
    "X = 'iNeuron'\n",
    "def func():\n",
    "    X = 'NI!'\n",
    "func()\n",
    "print(X)"
   ]
  },
  {
   "cell_type": "markdown",
   "id": "92ddd369",
   "metadata": {},
   "source": [
    "Even after changing the word of the parameter X in local scope and calling the parameter outside \n",
    "function result in printing global scope variable output is \"iNeuron.\""
   ]
  },
  {
   "cell_type": "markdown",
   "id": "7004525a",
   "metadata": {},
   "source": [
    "# 3. What does this code print, and why?\n",
    "\n",
    "# &gt;&gt;&gt; X = &#39;iNeuron&#39;\n",
    "# &gt;&gt;&gt; def func():\n",
    "# X = &#39;NI&#39;\n",
    "# print(X)\n",
    "# &gt;&gt;&gt; func()\n",
    "# &gt;&gt;&gt; print(X)"
   ]
  },
  {
   "cell_type": "code",
   "execution_count": 40,
   "id": "728218e5",
   "metadata": {},
   "outputs": [
    {
     "name": "stdout",
     "output_type": "stream",
     "text": [
      "NI\n",
      "iNeuron\n"
     ]
    }
   ],
   "source": [
    "X ='iNeuron'\n",
    "def func():\n",
    "    X='NI'\n",
    "    print(X)\n",
    "func()\n",
    "print(X)"
   ]
  },
  {
   "cell_type": "markdown",
   "id": "3b172a94",
   "metadata": {},
   "source": [
    "Firstly in above program it print the value of X in local scope of the function\n",
    "then function calling outside it will print  the value of global scope of the function."
   ]
  },
  {
   "cell_type": "markdown",
   "id": "a50c1a36",
   "metadata": {},
   "source": [
    "# 4. What output does this code produce? Why?\n",
    "\n",
    "# &gt;&gt;&gt; X = &#39;iNeuron&#39;\n",
    "# &gt;&gt;&gt; def func():\n",
    "# global X\n",
    "# X = &#39;NI&#39;\n",
    "\n",
    "# &gt;&gt;&gt; func()\n",
    "# &gt;&gt;&gt; print(X)"
   ]
  },
  {
   "cell_type": "code",
   "execution_count": 43,
   "id": "bc5c9525",
   "metadata": {},
   "outputs": [
    {
     "name": "stdout",
     "output_type": "stream",
     "text": [
      "NI\n"
     ]
    }
   ],
   "source": [
    "X = 'iNeuron'\n",
    "def func():\n",
    "    global X\n",
    "    X='NI'\n",
    "    #print(X)\n",
    "func()\n",
    "print(X)"
   ]
  },
  {
   "cell_type": "markdown",
   "id": "44e2ccc0",
   "metadata": {},
   "source": [
    "Here if we assign 'global keyward' inside function it modifies outer variable according to\n",
    "the variable inside function in local scope as we assign value of X = NI so it takes value inside function."
   ]
  },
  {
   "cell_type": "markdown",
   "id": "7775f6c2",
   "metadata": {},
   "source": [
    "# 5. What about this code—what’s the output, and why?\n",
    "\n",
    "# &gt;&gt;&gt; X = &#39;iNeuron&#39;\n",
    "# &gt;&gt;&gt; def func():\n",
    "# X = &#39;NI&#39;\n",
    "# def nested():\n",
    "# print(X)\n",
    "# nested()\n",
    "\n",
    "# &gt;&gt;&gt; func()\n",
    "# &gt;&gt;&gt; X"
   ]
  },
  {
   "cell_type": "code",
   "execution_count": 47,
   "id": "b1bb2088",
   "metadata": {},
   "outputs": [
    {
     "name": "stdout",
     "output_type": "stream",
     "text": [
      "NI\n",
      "iNeuron\n"
     ]
    }
   ],
   "source": [
    "X = \"iNeuron\"\n",
    "def func():\n",
    "    X =\"NI\" #global variable for nested function.\n",
    "    def nested():\n",
    "        print(X)\n",
    "    nested()\n",
    "func()\n",
    "print(X)"
   ]
  },
  {
   "cell_type": "markdown",
   "id": "dbdf9cb8",
   "metadata": {},
   "source": [
    "first inner function nested is called as it has taken global variable NI because variable X is not\n",
    "present in local varialble. Then outer func() is called it has taken global variable X (iNeuron)"
   ]
  },
  {
   "cell_type": "markdown",
   "id": "1408a7ec",
   "metadata": {},
   "source": [
    "# 6. How about this code: what is its output in Python 3, and explain?\n",
    "\n",
    "# &gt;&gt;&gt; def func():\n",
    "# X = &#39;NI&#39;\n",
    "# def nested():\n",
    "# nonlocal X\n",
    "# X = &#39;Spam&#39;\n",
    "# nested()\n",
    "# print(X)\n",
    "\n",
    "# &gt;&gt;&gt; func()"
   ]
  },
  {
   "cell_type": "code",
   "execution_count": 51,
   "id": "0a1b5aed",
   "metadata": {},
   "outputs": [
    {
     "name": "stdout",
     "output_type": "stream",
     "text": [
      "Spam\n"
     ]
    }
   ],
   "source": [
    "def func():\n",
    "    x ='NI'\n",
    "    def nested():\n",
    "        nonlocal x\n",
    "        x='Spam'\n",
    "    nested()\n",
    "    print(x)\n",
    "    \n",
    "func()"
   ]
  },
  {
   "cell_type": "markdown",
   "id": "f80f0231",
   "metadata": {},
   "source": [
    "In this example, the nonlocal keyword is used inside the nested() to indicate that x refers to the variable in \n",
    "the nearest enclosing scope, which is the x defined in the func(). \n",
    "So, when x is modified within nested(), it changes the value of x in the outer scope as well.\n",
    "The final print statement within func() outputs the modified value of x, which is Spam."
   ]
  }
 ],
 "metadata": {
  "kernelspec": {
   "display_name": "Python 3 (ipykernel)",
   "language": "python",
   "name": "python3"
  },
  "language_info": {
   "codemirror_mode": {
    "name": "ipython",
    "version": 3
   },
   "file_extension": ".py",
   "mimetype": "text/x-python",
   "name": "python",
   "nbconvert_exporter": "python",
   "pygments_lexer": "ipython3",
   "version": "3.10.9"
  }
 },
 "nbformat": 4,
 "nbformat_minor": 5
}
