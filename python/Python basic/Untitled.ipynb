{
 "cells": [
  {
   "cell_type": "markdown",
   "id": "1db933b6",
   "metadata": {},
   "source": [
    "# 1. What is the result of the code, and why?\n",
    "# &gt;&gt;&gt; def func(a, b=6, c=8):\n",
    "# print(a, b, c)\n",
    "# &gt;&gt;&gt; func(1, 2)"
   ]
  },
  {
   "cell_type": "code",
   "execution_count": 1,
   "id": "67e394af",
   "metadata": {},
   "outputs": [],
   "source": [
    "def func(a,b=6,c=8):\n",
    "    print(a,b,c)"
   ]
  },
  {
   "cell_type": "code",
   "execution_count": 2,
   "id": "77ebcba6",
   "metadata": {},
   "outputs": [
    {
     "name": "stdout",
     "output_type": "stream",
     "text": [
      "1 2 8\n"
     ]
    }
   ],
   "source": [
    "func(1,2)"
   ]
  },
  {
   "cell_type": "raw",
   "id": "2e1d9800",
   "metadata": {},
   "source": [
    "For value of variable a  it takes value of the function when called and value present in function,for b even if the value\n",
    "for b is given in function it has overwritten the value of b when called in new function.for c it has given the\n",
    "default value in function while calling the function."
   ]
  },
  {
   "cell_type": "markdown",
   "id": "b68a62ac",
   "metadata": {},
   "source": [
    "# 2. What is the result of this code, and why?\n",
    "# &gt;&gt;&gt; def func(a, b, c=5):\n",
    "# print(a, b, c)\n",
    "# &gt;&gt;&gt; func(1, c=3, b=2)"
   ]
  },
  {
   "cell_type": "code",
   "execution_count": 4,
   "id": "ab7c2369",
   "metadata": {},
   "outputs": [],
   "source": [
    "def func(a,b,c=5):\n",
    "    print(a,b,c)"
   ]
  },
  {
   "cell_type": "code",
   "execution_count": 5,
   "id": "bdce20ee",
   "metadata": {},
   "outputs": [
    {
     "name": "stdout",
     "output_type": "stream",
     "text": [
      "1 2 3\n"
     ]
    }
   ],
   "source": [
    "func(1,c=3,b=2)"
   ]
  },
  {
   "cell_type": "raw",
   "id": "21283553",
   "metadata": {},
   "source": [
    "In above example some positional argument has overwritten by keyward agrument & while calling function they called in\n",
    "order in which they have named in function."
   ]
  },
  {
   "cell_type": "markdown",
   "id": "4a031cb0",
   "metadata": {},
   "source": [
    "# 3. How about this code: what is its result, and why?\n",
    "# &gt;&gt;&gt; def func(a, *pargs):\n",
    "# print(a, pargs)\n",
    "# &gt;&gt;&gt; func(1, 2, 3)"
   ]
  },
  {
   "cell_type": "code",
   "execution_count": 6,
   "id": "5a506798",
   "metadata": {},
   "outputs": [],
   "source": [
    "def func(a,*pargs):\n",
    "    print(a,pargs)  "
   ]
  },
  {
   "cell_type": "code",
   "execution_count": 7,
   "id": "4fd0bd47",
   "metadata": {},
   "outputs": [
    {
     "name": "stdout",
     "output_type": "stream",
     "text": [
      "1 (2, 3)\n"
     ]
    }
   ],
   "source": [
    "func(1,2,3)"
   ]
  },
  {
   "cell_type": "raw",
   "id": "0d611ba9",
   "metadata": {},
   "source": [
    "here a has written positional argument as mentioned in function while syntax *pargs is packing.\n",
    "It means any additional positional argument provided after the first argument will be considered as tuple\n",
    "named *pargs"
   ]
  },
  {
   "cell_type": "markdown",
   "id": "f7292c4f",
   "metadata": {},
   "source": [
    "# 4. What does this code print, and why?\n",
    "# &gt;&gt;&gt; def func(a, **kargs):\n",
    "# print(a, kargs)\n",
    "# &gt;&gt;&gt; func(a=1, c=3, b=2)"
   ]
  },
  {
   "cell_type": "code",
   "execution_count": 10,
   "id": "2c99ce2b",
   "metadata": {},
   "outputs": [],
   "source": [
    "def func(a,**kargs):\n",
    "    print(a,kargs)"
   ]
  },
  {
   "cell_type": "code",
   "execution_count": 11,
   "id": "465f6346",
   "metadata": {},
   "outputs": [
    {
     "name": "stdout",
     "output_type": "stream",
     "text": [
      "1 {'c': 3, 'b': 2}\n"
     ]
    }
   ],
   "source": [
    "func(a=1,c=3,b=2)"
   ]
  },
  {
   "cell_type": "raw",
   "id": "5b0a1609",
   "metadata": {},
   "source": [
    "function  value takes positional argument while syntax **kargs is variable length keyward argument.\n",
    "It means that any additional keyword arguments provided to the function after the first argument will be\n",
    "collected into a dictionary called kargs."
   ]
  },
  {
   "cell_type": "markdown",
   "id": "565bab44",
   "metadata": {},
   "source": [
    "# 5. What gets printed by this, and explain?\n",
    "# &gt;&gt;&gt; def func(a, b, c=8, d=5): print(a, b, c, d)\n",
    "# &gt;&gt;&gt; func(1, *(5, 6))"
   ]
  },
  {
   "cell_type": "code",
   "execution_count": 12,
   "id": "0517f4db",
   "metadata": {},
   "outputs": [],
   "source": [
    "def func(a,b,c=8,d=5):\n",
    "    print(a,b,c,d)"
   ]
  },
  {
   "cell_type": "code",
   "execution_count": 13,
   "id": "87598141",
   "metadata": {},
   "outputs": [
    {
     "name": "stdout",
     "output_type": "stream",
     "text": [
      "1 5 6 5\n"
     ]
    }
   ],
   "source": [
    "func(1,*(5,6))"
   ]
  },
  {
   "cell_type": "raw",
   "id": "7f000508",
   "metadata": {},
   "source": [
    "The syntax *(5,6) has unpacked the tuple argument and assigned value 5,6 for b an c respectively. value of c has overriden\n",
    "during function call and no specific value for d has assigned in function call it has taken default value for it."
   ]
  },
  {
   "cell_type": "markdown",
   "id": "4934e8ad",
   "metadata": {},
   "source": [
    "# 6. what is the result of this, and explain?\n",
    "# &gt;&gt;&gt; def func(a, b, c): a = 2; b[0] = &#39;x&#39;; c[&#39;a&#39;] = &#39;y&#39;\n",
    "# &gt;&gt;&gt; l=1; m=[1]; n={&#39;a&#39;:0}\n",
    "# &gt;&gt;&gt; func(l, m, n)\n",
    "\n",
    "# &gt;&gt;&gt; l, m, n"
   ]
  },
  {
   "cell_type": "code",
   "execution_count": 19,
   "id": "977b4017",
   "metadata": {},
   "outputs": [],
   "source": [
    "def func(a,b,c):\n",
    "    a=2\n",
    "    \n",
    "    b[0]='x'\n",
    "    \n",
    "    c['a']='y'\n",
    "    \n",
    "l=1\n",
    "m=[1]\n",
    "n={'a':0}"
   ]
  },
  {
   "cell_type": "code",
   "execution_count": 21,
   "id": "a79e3b97",
   "metadata": {},
   "outputs": [
    {
     "name": "stdout",
     "output_type": "stream",
     "text": [
      "1 ['x'] {'a': 'y'}\n"
     ]
    }
   ],
   "source": [
    "func(l,m,n)\n",
    "print(l,m,n)"
   ]
  },
  {
   "cell_type": "code",
   "execution_count": null,
   "id": "952fcd63",
   "metadata": {},
   "outputs": [],
   "source": [
    "here integer is immutable while calling inside function a takes value of l which is 1.\n",
    " m is a list and n is a dictionary, both of which are mutable, and their values are modified by the func function."
   ]
  }
 ],
 "metadata": {
  "kernelspec": {
   "display_name": "Python 3 (ipykernel)",
   "language": "python",
   "name": "python3"
  },
  "language_info": {
   "codemirror_mode": {
    "name": "ipython",
    "version": 3
   },
   "file_extension": ".py",
   "mimetype": "text/x-python",
   "name": "python",
   "nbconvert_exporter": "python",
   "pygments_lexer": "ipython3",
   "version": "3.10.9"
  }
 },
 "nbformat": 4,
 "nbformat_minor": 5
}
