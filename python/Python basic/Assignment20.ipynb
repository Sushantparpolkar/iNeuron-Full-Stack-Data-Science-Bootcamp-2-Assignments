{
 "cells": [
  {
   "cell_type": "markdown",
   "id": "fbb98f7e",
   "metadata": {},
   "source": [
    "# 1. Set the variable test1 to the string &#39;This is a test of the emergency text system,&#39; and save test1 to a  file named test.txt."
   ]
  },
  {
   "cell_type": "code",
   "execution_count": 1,
   "id": "aef1985c",
   "metadata": {},
   "outputs": [],
   "source": [
    "test1 = 'This is a test of the emergency text system'\n",
    "\n",
    "with open('test.txt', 'w') as file:\n",
    "    file.write(test1)\n"
   ]
  },
  {
   "cell_type": "code",
   "execution_count": 2,
   "id": "ee7107b5",
   "metadata": {},
   "outputs": [
    {
     "name": "stderr",
     "output_type": "stream",
     "text": [
      "The system cannot find the file specified.\n",
      "Error occurred while processing: text.txt.\n",
      "The system cannot find the file specified.\n",
      "Error occurred while processing: #.\n",
      "The system cannot find the file specified.\n",
      "Error occurred while processing: reading.\n",
      "The system cannot find the file specified.\n",
      "Error occurred while processing: content.\n",
      "The system cannot find the file specified.\n",
      "Error occurred while processing: from.\n",
      "The system cannot find the file specified.\n",
      "Error occurred while processing: file.\n"
     ]
    }
   ],
   "source": [
    "! type text.txt  # reading content from file"
   ]
  },
  {
   "cell_type": "markdown",
   "id": "8c124a5d",
   "metadata": {},
   "source": [
    "# 2. Read the contents of the file test.txt into the variable test2. Is there a difference between test 1 and test 2?"
   ]
  },
  {
   "cell_type": "code",
   "execution_count": 3,
   "id": "6aac60c9",
   "metadata": {},
   "outputs": [
    {
     "ename": "FileNotFoundError",
     "evalue": "[Errno 2] No such file or directory: 'text.txt'",
     "output_type": "error",
     "traceback": [
      "\u001b[1;31m---------------------------------------------------------------------------\u001b[0m",
      "\u001b[1;31mFileNotFoundError\u001b[0m                         Traceback (most recent call last)",
      "Cell \u001b[1;32mIn[3], line 1\u001b[0m\n\u001b[1;32m----> 1\u001b[0m \u001b[38;5;28;01mwith\u001b[39;00m \u001b[38;5;28;43mopen\u001b[39;49m\u001b[43m(\u001b[49m\u001b[38;5;124;43m'\u001b[39;49m\u001b[38;5;124;43mtext.txt\u001b[39;49m\u001b[38;5;124;43m'\u001b[39;49m\u001b[43m,\u001b[49m\u001b[38;5;124;43m'\u001b[39;49m\u001b[38;5;124;43mr\u001b[39;49m\u001b[38;5;124;43m'\u001b[39;49m\u001b[43m)\u001b[49m\u001b[38;5;28;01mas\u001b[39;00m file:\n\u001b[0;32m      2\u001b[0m     test2 \u001b[38;5;241m=\u001b[39mfile\u001b[38;5;241m.\u001b[39mread()\n\u001b[0;32m      3\u001b[0m \u001b[38;5;28mprint\u001b[39m(test2)\n",
      "File \u001b[1;32m~\\anaconda3\\lib\\site-packages\\IPython\\core\\interactiveshell.py:282\u001b[0m, in \u001b[0;36m_modified_open\u001b[1;34m(file, *args, **kwargs)\u001b[0m\n\u001b[0;32m    275\u001b[0m \u001b[38;5;28;01mif\u001b[39;00m file \u001b[38;5;129;01min\u001b[39;00m {\u001b[38;5;241m0\u001b[39m, \u001b[38;5;241m1\u001b[39m, \u001b[38;5;241m2\u001b[39m}:\n\u001b[0;32m    276\u001b[0m     \u001b[38;5;28;01mraise\u001b[39;00m \u001b[38;5;167;01mValueError\u001b[39;00m(\n\u001b[0;32m    277\u001b[0m         \u001b[38;5;124mf\u001b[39m\u001b[38;5;124m\"\u001b[39m\u001b[38;5;124mIPython won\u001b[39m\u001b[38;5;124m'\u001b[39m\u001b[38;5;124mt let you open fd=\u001b[39m\u001b[38;5;132;01m{\u001b[39;00mfile\u001b[38;5;132;01m}\u001b[39;00m\u001b[38;5;124m by default \u001b[39m\u001b[38;5;124m\"\u001b[39m\n\u001b[0;32m    278\u001b[0m         \u001b[38;5;124m\"\u001b[39m\u001b[38;5;124mas it is likely to crash IPython. If you know what you are doing, \u001b[39m\u001b[38;5;124m\"\u001b[39m\n\u001b[0;32m    279\u001b[0m         \u001b[38;5;124m\"\u001b[39m\u001b[38;5;124myou can use builtins\u001b[39m\u001b[38;5;124m'\u001b[39m\u001b[38;5;124m open.\u001b[39m\u001b[38;5;124m\"\u001b[39m\n\u001b[0;32m    280\u001b[0m     )\n\u001b[1;32m--> 282\u001b[0m \u001b[38;5;28;01mreturn\u001b[39;00m io_open(file, \u001b[38;5;241m*\u001b[39margs, \u001b[38;5;241m*\u001b[39m\u001b[38;5;241m*\u001b[39mkwargs)\n",
      "\u001b[1;31mFileNotFoundError\u001b[0m: [Errno 2] No such file or directory: 'text.txt'"
     ]
    }
   ],
   "source": [
    "with open('text.txt','r')as file:\n",
    "    test2 =file.read()\n",
    "print(test2) # There is no difference between test1 and test2"
   ]
  },
  {
   "cell_type": "markdown",
   "id": "bd6b7bd7",
   "metadata": {},
   "source": [
    "# 3. Create a CSV file called books.csv by using these lines:"
   ]
  },
  {
   "cell_type": "raw",
   "id": "06b986a7",
   "metadata": {},
   "source": [
    "title,author,year\n",
    "The Weirdstone of Brisingamen,Alan Garner,1960\n",
    "Perdido Street Station,China Miéville,2000\n",
    "Thud!,Terry Pratchett,2005\n",
    "The Spellman Files,Lisa Lutz,2007\n",
    "Small Gods,Terry Pratchett,1992"
   ]
  },
  {
   "cell_type": "code",
   "execution_count": null,
   "id": "7e9c64d7",
   "metadata": {},
   "outputs": [],
   "source": [
    "import csv"
   ]
  },
  {
   "cell_type": "code",
   "execution_count": 4,
   "id": "fb0a3514",
   "metadata": {},
   "outputs": [],
   "source": [
    "data ='''title,author,year\n",
    "The Weirdstone of Brisingamen,Alan Garner,1960\n",
    "Perdido Street Station,China Miéville,2000\n",
    "Thud!,Terry Pratchett,2005\n",
    "The Spellman Files,Lisa Lutz,2007\n",
    "Small Gods,Terry Pratchett,1992'''"
   ]
  },
  {
   "cell_type": "code",
   "execution_count": 5,
   "id": "774011e7",
   "metadata": {},
   "outputs": [],
   "source": [
    "with open('book.csv','w')as file:\n",
    "    file.write(data)"
   ]
  },
  {
   "cell_type": "markdown",
   "id": "95f8d23d",
   "metadata": {},
   "source": [
    "# 4. Use the sqlite3 module to create a SQLite database called books.db, and a table called books with these fields: title (text), author (text), and year (integer)."
   ]
  },
  {
   "cell_type": "code",
   "execution_count": 6,
   "id": "38b6cf28",
   "metadata": {},
   "outputs": [
    {
     "name": "stdout",
     "output_type": "stream",
     "text": [
      "database connected\n"
     ]
    }
   ],
   "source": [
    "import sqlite3\n",
    "con =sqlite3.connect(\"books.db\")\n",
    "print(\"database connected\")"
   ]
  },
  {
   "cell_type": "code",
   "execution_count": 7,
   "id": "4c342578",
   "metadata": {},
   "outputs": [
    {
     "name": "stdout",
     "output_type": "stream",
     "text": [
      "Table Created !!!\n"
     ]
    }
   ],
   "source": [
    "try:\n",
    "    cur = con.cursor()\n",
    "    cur.execute(\"CREATE TABLE books(title TEXT,author TEXT,year INTEGER)\");\n",
    "    print(\"Table Created !!!\")\n",
    "    con.commit()\n",
    "   # con.close()\n",
    "except Exception as e:\n",
    "    print(e)"
   ]
  },
  {
   "cell_type": "markdown",
   "id": "9d102ce9",
   "metadata": {},
   "source": [
    "# 5. Read books.csv and insert its data into the book table."
   ]
  },
  {
   "cell_type": "code",
   "execution_count": 8,
   "id": "06fe4aaa",
   "metadata": {},
   "outputs": [],
   "source": [
    "import csv\n",
    "import sqlite3"
   ]
  },
  {
   "cell_type": "code",
   "execution_count": 14,
   "id": "7d609223",
   "metadata": {},
   "outputs": [
    {
     "name": "stdout",
     "output_type": "stream",
     "text": [
      "successfully inserted\n"
     ]
    }
   ],
   "source": [
    "import sqlite3\n",
    "import csv\n",
    "\n",
    "# Establish a connection to the database\n",
    "conn = sqlite3.connect('book.db')\n",
    "cursor = conn.cursor()\n",
    "\n",
    "# Create the book table if it doesn't exist\n",
    "cursor.execute('''\n",
    "    CREATE TABLE IF NOT EXISTS book (\n",
    "        id INTEGER PRIMARY KEY,\n",
    "        title TEXT,\n",
    "        author TEXT,\n",
    "        year INTEGER\n",
    "    )\n",
    "''')\n",
    "\n",
    "# Open the CSV file and read its data\n",
    "with open('book.csv', 'r') as file:\n",
    "    reader = csv.reader(file)\n",
    "    next(reader)  # Skip the header row\n",
    "\n",
    "    # Iterate over each row and insert the data into the book table\n",
    "    for row in reader:\n",
    "        title, author, year = row\n",
    "\n",
    "        # Insert the data into the book table\n",
    "        cursor.execute('''\n",
    "            INSERT INTO book (title, author, year)\n",
    "            VALUES (?, ?, ?)\n",
    "        ''', (title, author, year))\n",
    "\n",
    "# Commit the changes to the database\n",
    "conn.commit()\n",
    "\n",
    "# Close the database connection\n",
    "conn.close()\n",
    "print(\"successfully inserted\")"
   ]
  },
  {
   "cell_type": "markdown",
   "id": "0533944e",
   "metadata": {},
   "source": [
    "# 6. Select and print the title column from the book table in alphabetical order."
   ]
  },
  {
   "cell_type": "code",
   "execution_count": 18,
   "id": "622d387c",
   "metadata": {},
   "outputs": [
    {
     "name": "stdout",
     "output_type": "stream",
     "text": [
      "Perdido Street Station\n",
      "Perdido Street Station\n",
      "Perdido Street Station\n",
      "Perdido Street Station\n",
      "Small Gods\n",
      "Small Gods\n",
      "Small Gods\n",
      "Small Gods\n",
      "The Spellman Files\n",
      "The Spellman Files\n",
      "The Spellman Files\n",
      "The Spellman Files\n",
      "The Weirdstone of Brisingamen\n",
      "The Weirdstone of Brisingamen\n",
      "The Weirdstone of Brisingamen\n",
      "The Weirdstone of Brisingamen\n",
      "Thud!\n",
      "Thud!\n",
      "Thud!\n",
      "Thud!\n"
     ]
    },
    {
     "data": {
      "text/plain": [
       "<function Connection.close()>"
      ]
     },
     "execution_count": 18,
     "metadata": {},
     "output_type": "execute_result"
    }
   ],
   "source": [
    "import sqlite3\n",
    "conn = sqlite3.connect('book.db')\n",
    "cursor = conn.cursor()\n",
    "cursor.execute(\"SELECT title From book order by title asc;\")\n",
    "for i in cursor.fetchall():\n",
    "    print(i[0])\n",
    "#conn.commit()\n",
    "conn.close"
   ]
  },
  {
   "cell_type": "markdown",
   "id": "f8b603d7",
   "metadata": {},
   "source": [
    "# 7. From the book table, select and print all columns in the order of publication."
   ]
  },
  {
   "cell_type": "code",
   "execution_count": 24,
   "id": "f9c52fd9",
   "metadata": {},
   "outputs": [
    {
     "name": "stdout",
     "output_type": "stream",
     "text": [
      "database created \n",
      "1 , The Weirdstone of Brisingamen , Alan Garner , 1960\n",
      "6 , The Weirdstone of Brisingamen , Alan Garner , 1960\n",
      "11 , The Weirdstone of Brisingamen , Alan Garner , 1960\n",
      "16 , The Weirdstone of Brisingamen , Alan Garner , 1960\n",
      "5 , Small Gods , Terry Pratchett , 1992\n",
      "10 , Small Gods , Terry Pratchett , 1992\n",
      "15 , Small Gods , Terry Pratchett , 1992\n",
      "20 , Small Gods , Terry Pratchett , 1992\n",
      "2 , Perdido Street Station , China Miéville , 2000\n",
      "7 , Perdido Street Station , China Miéville , 2000\n",
      "12 , Perdido Street Station , China Miéville , 2000\n",
      "17 , Perdido Street Station , China Miéville , 2000\n",
      "3 , Thud! , Terry Pratchett , 2005\n",
      "8 , Thud! , Terry Pratchett , 2005\n",
      "13 , Thud! , Terry Pratchett , 2005\n",
      "18 , Thud! , Terry Pratchett , 2005\n",
      "4 , The Spellman Files , Lisa Lutz , 2007\n",
      "9 , The Spellman Files , Lisa Lutz , 2007\n",
      "14 , The Spellman Files , Lisa Lutz , 2007\n",
      "19 , The Spellman Files , Lisa Lutz , 2007\n"
     ]
    }
   ],
   "source": [
    "con = sqlite3.connect(\"book.db\")  # connection has been created\n",
    "print(\"database created \")\n",
    "\n",
    "query = 'SELECT * FROM book order by year ;'\n",
    "cur = con.cursor()\n",
    "cur.execute(query)\n",
    "for i in cur.fetchall():\n",
    "    print(*i,sep=' , ')\n",
    "                \n",
    "con.close()\n"
   ]
  },
  {
   "cell_type": "markdown",
   "id": "d924e4eb",
   "metadata": {},
   "source": [
    "# 8. Use the sqlalchemy module to connect to the sqlite3 database books.db that you just made in exercise 6."
   ]
  },
  {
   "cell_type": "code",
   "execution_count": 1,
   "id": "210d6b36",
   "metadata": {},
   "outputs": [
    {
     "data": {
      "text/plain": [
       "Engine(sqlite:///books.db)"
      ]
     },
     "execution_count": 1,
     "metadata": {},
     "output_type": "execute_result"
    }
   ],
   "source": [
    "import sqlalchemy\n",
    "conn= sqlalchemy.create_engine('sqlite:///books.db')\n",
    "conn"
   ]
  },
  {
   "cell_type": "markdown",
   "id": "00fc7307",
   "metadata": {},
   "source": [
    "# 9. Install the Redis server and the Python redis library (pip install redis) on your computer. Create a Redis hash called test with the fields count (1) and name (&#39;Fester Bestertester&#39;). Print all the fields for test."
   ]
  },
  {
   "cell_type": "code",
   "execution_count": 2,
   "id": "92d59913",
   "metadata": {},
   "outputs": [
    {
     "name": "stdout",
     "output_type": "stream",
     "text": [
      "Collecting redis\n",
      "  Downloading redis-4.6.0-py3-none-any.whl (241 kB)\n",
      "     ------------------------------------- 241.1/241.1 kB 52.0 kB/s eta 0:00:00\n",
      "Requirement already satisfied: async-timeout>=4.0.2 in c:\\users\\sushant\\anaconda3\\lib\\site-packages (from redis) (4.0.2)\n",
      "Installing collected packages: redis\n",
      "Successfully installed redis-4.6.0\n"
     ]
    }
   ],
   "source": [
    "! python -m pip install redis"
   ]
  },
  {
   "cell_type": "code",
   "execution_count": null,
   "id": "f37d001e",
   "metadata": {},
   "outputs": [],
   "source": [
    "import redis\n",
    "conn = redis.Redis()\n",
    "conn.hset('test',{\n",
    "    'count':1,\n",
    "    'name':'Fester Bestertester'\n",
    "})\n",
    "conn.hgetall('test')"
   ]
  },
  {
   "cell_type": "markdown",
   "id": "5fd50561",
   "metadata": {},
   "source": [
    "# 10. Increment the count field of test and print it."
   ]
  },
  {
   "cell_type": "code",
   "execution_count": null,
   "id": "0a9d734b",
   "metadata": {},
   "outputs": [],
   "source": [
    "conn.hincrby('test', 'count', 1)\n",
    "conn.hget('test', 'count')"
   ]
  }
 ],
 "metadata": {
  "kernelspec": {
   "display_name": "Python 3 (ipykernel)",
   "language": "python",
   "name": "python3"
  },
  "language_info": {
   "codemirror_mode": {
    "name": "ipython",
    "version": 3
   },
   "file_extension": ".py",
   "mimetype": "text/x-python",
   "name": "python",
   "nbconvert_exporter": "python",
   "pygments_lexer": "ipython3",
   "version": "3.10.9"
  }
 },
 "nbformat": 4,
 "nbformat_minor": 5
}
