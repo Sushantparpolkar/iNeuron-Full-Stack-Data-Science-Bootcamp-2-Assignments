{
 "cells": [
  {
   "cell_type": "markdown",
   "id": "19bdbdc2",
   "metadata": {},
   "source": [
    "# 1. To what does a relative path refer?"
   ]
  },
  {
   "cell_type": "markdown",
   "id": "d75f094e",
   "metadata": {},
   "source": [
    "Relative path in python is path that describe the location of the directory \n",
    "to the relative point where you run your python script.\n",
    "It expressed in relation to the current working directory."
   ]
  },
  {
   "cell_type": "code",
   "execution_count": 1,
   "id": "ca4c538f",
   "metadata": {},
   "outputs": [
    {
     "data": {
      "text/plain": [
       "<function ntpath.relpath(path, start=None)>"
      ]
     },
     "execution_count": 1,
     "metadata": {},
     "output_type": "execute_result"
    }
   ],
   "source": [
    "import os\n",
    "os.path.relpath"
   ]
  },
  {
   "cell_type": "markdown",
   "id": "0aaee016",
   "metadata": {},
   "source": [
    "# 2. What does an absolute path start with your operating system?\n"
   ]
  },
  {
   "cell_type": "markdown",
   "id": "b28d4758",
   "metadata": {},
   "source": [
    "absolute path refer to the complete details of the file and folder\n",
    "starting from root element and ends with subdirectories.\n",
    "In my  windows operating system this is absolute path."
   ]
  },
  {
   "cell_type": "code",
   "execution_count": 2,
   "id": "dfb2105c",
   "metadata": {},
   "outputs": [
    {
     "data": {
      "text/plain": [
       "<function ntpath.abspath(path)>"
      ]
     },
     "execution_count": 2,
     "metadata": {},
     "output_type": "execute_result"
    }
   ],
   "source": [
    "os.path.abspath"
   ]
  },
  {
   "cell_type": "markdown",
   "id": "a4ef2ddc",
   "metadata": {},
   "source": [
    "# 3. What do the functions os.getcwd() and os.chdir() do?"
   ]
  },
  {
   "cell_type": "code",
   "execution_count": 3,
   "id": "7d3f567d",
   "metadata": {},
   "outputs": [
    {
     "data": {
      "text/plain": [
       "'H:\\\\datascience\\\\Assignment\\\\python basic'"
      ]
     },
     "execution_count": 3,
     "metadata": {},
     "output_type": "execute_result"
    }
   ],
   "source": [
    "os.getcwd() # this function gives current working directory  which is now running in python script"
   ]
  },
  {
   "cell_type": "raw",
   "id": "22b58911",
   "metadata": {},
   "source": [
    "os.chdir() # This function used to change the current working directory to new directory."
   ]
  },
  {
   "cell_type": "code",
   "execution_count": 4,
   "id": "58b7c0c6",
   "metadata": {},
   "outputs": [
    {
     "data": {
      "text/plain": [
       "'H:\\\\datascience\\\\EDA'"
      ]
     },
     "execution_count": 4,
     "metadata": {},
     "output_type": "execute_result"
    }
   ],
   "source": [
    "new_dir ='H:\\\\datascience\\\\EDA'\n",
    "change_dir =os.chdir(new_dir)\n",
    "os.getcwd()"
   ]
  },
  {
   "cell_type": "code",
   "execution_count": 5,
   "id": "efca7cca",
   "metadata": {},
   "outputs": [],
   "source": [
    "default = 'H:\\\\datascience\\\\Assignment\\\\python basic'"
   ]
  },
  {
   "cell_type": "code",
   "execution_count": 6,
   "id": "52b09211",
   "metadata": {},
   "outputs": [],
   "source": [
    "os.chdir(default)"
   ]
  },
  {
   "cell_type": "code",
   "execution_count": 7,
   "id": "bd6c95e6",
   "metadata": {},
   "outputs": [
    {
     "data": {
      "text/plain": [
       "'H:\\\\datascience\\\\Assignment\\\\python basic'"
      ]
     },
     "execution_count": 7,
     "metadata": {},
     "output_type": "execute_result"
    }
   ],
   "source": [
    "os.getcwd()"
   ]
  },
  {
   "cell_type": "markdown",
   "id": "dfe9089f",
   "metadata": {},
   "source": [
    "# 4. What are the . and .. folders?"
   ]
  },
  {
   "cell_type": "markdown",
   "id": "384b6cd9",
   "metadata": {},
   "source": [
    "'.'or .folder refers to the current working directory in which python sript is running\n",
    "use to specify current directory in file path.\n",
    "'..'or ..folder refers to the parent working directory from which python script is running.\n",
    "use to specify parent directory in file path."
   ]
  },
  {
   "cell_type": "markdown",
   "id": "4f1b8c60",
   "metadata": {},
   "source": [
    "# 5. In C:\\bacon\\eggs\\spam.txt, which part is the dir name, and which part is the base name?"
   ]
  },
  {
   "cell_type": "code",
   "execution_count": 8,
   "id": "aef1cf66",
   "metadata": {},
   "outputs": [
    {
     "name": "stdout",
     "output_type": "stream",
     "text": [
      "Directory name: C:\\bacon\\eggs\n",
      "Base name: spam.txt\n"
     ]
    }
   ],
   "source": [
    "path = r'C:\\bacon\\eggs\\spam.txt'\n",
    "dirname = os.path.dirname(path)\n",
    "basename = os.path.basename(path)\n",
    "\n",
    "print(\"Directory name:\", dirname)\n",
    "print(\"Base name:\", basename)"
   ]
  },
  {
   "cell_type": "markdown",
   "id": "745e74ea",
   "metadata": {},
   "source": [
    "# 6. What are the three “mode” arguments that can be passed to the open() function?"
   ]
  },
  {
   "cell_type": "markdown",
   "id": "099f5686",
   "metadata": {},
   "source": [
    "'r' : This is the read mode if specifies file will be available for reading.\n",
    "this is the default mode while opening file.\n",
    "'w' : This mode open file for writing.It file doesn't exist it creates new file\n",
    "'a' : This mode open file for appending. i.e it add contain at the end of the file.\n",
    "'b': this mode used to open binary files\n",
    "'t' : this mode used for text file.\n",
    "'r+' : this mode is used for reading as well as writing."
   ]
  },
  {
   "cell_type": "code",
   "execution_count": 9,
   "id": "d5e8d1f3",
   "metadata": {},
   "outputs": [],
   "source": [
    "with open ('t1.txt','r+') as file:\n",
    "    content = file.read()\n",
    "    file.write(\" Looking forward to work in this datascience field\")  \n",
    "# This code has written contain in my local t1.txt file"
   ]
  },
  {
   "cell_type": "markdown",
   "id": "a3c449c6",
   "metadata": {},
   "source": [
    "output :\n",
    "Hello Ineuron team ! \n",
    "How is going course Looking forward to work in this datascience field"
   ]
  },
  {
   "cell_type": "markdown",
   "id": "29162918",
   "metadata": {},
   "source": [
    "# 7. What happens if an existing file is opened in write mode?"
   ]
  },
  {
   "cell_type": "markdown",
   "id": "59fdb21c",
   "metadata": {},
   "source": [
    "If an existing file is opened in write mode its all content will be discarded and it will treated\n",
    "as new file and will be ready to write new content."
   ]
  },
  {
   "cell_type": "markdown",
   "id": "efea8c48",
   "metadata": {},
   "source": [
    "# 8. How do you tell the difference between read() and readlines()?"
   ]
  },
  {
   "cell_type": "markdown",
   "id": "499e71b6",
   "metadata": {},
   "source": [
    "read(): It read the entire file as a single string from the initial pointer to end of file\n",
    "this did not write charcter (\\'n') present in the file.\n",
    "\n",
    "readlines(): It read the entire file as list of string.\n",
    "each string present line of file and it inclue (\\'n') character at \n",
    "the end of each line."
   ]
  },
  {
   "cell_type": "code",
   "execution_count": 10,
   "id": "7b88e513",
   "metadata": {},
   "outputs": [
    {
     "name": "stdout",
     "output_type": "stream",
     "text": [
      "This is the new content\n",
      "This is the old content\n",
      " Looking forward to work in this datascience field Looking forward to work in this datascience field\n"
     ]
    }
   ],
   "source": [
    "# using read()\n",
    "with open('t1.txt','r') as file:\n",
    "    content = file.read()\n",
    "    print(content)"
   ]
  },
  {
   "cell_type": "code",
   "execution_count": 11,
   "id": "43eb8281",
   "metadata": {},
   "outputs": [
    {
     "name": "stdout",
     "output_type": "stream",
     "text": [
      "['This is the new content\\n', 'This is the old content\\n', ' Looking forward to work in this datascience field Looking forward to work in this datascience field']\n"
     ]
    }
   ],
   "source": [
    "# using readline()\n",
    "with open('t1.txt','r') as file:\n",
    "    content = file.readlines()\n",
    "    print(content)"
   ]
  },
  {
   "cell_type": "markdown",
   "id": "e5393171",
   "metadata": {},
   "source": [
    "# 9. What data structure does a shelf value resemble?"
   ]
  },
  {
   "cell_type": "markdown",
   "id": "24ec91b0",
   "metadata": {},
   "source": [
    "shelf value resembel like dictionary in data struture.\n",
    "which allows you to store and retrive python object persistently in file.\n",
    "It provided in the built in shelv module."
   ]
  },
  {
   "cell_type": "code",
   "execution_count": 19,
   "id": "d006ad73",
   "metadata": {},
   "outputs": [],
   "source": [
    "import shelve"
   ]
  },
  {
   "cell_type": "code",
   "execution_count": 23,
   "id": "33a19d5e",
   "metadata": {},
   "outputs": [
    {
     "name": "stdout",
     "output_type": "stream",
     "text": [
      "['krish naik', 'sudhanshu kumar', 'sunny savita', 'sunny chandra']\n"
     ]
    }
   ],
   "source": [
    "my_shelf = shelve.open('data')\n",
    "\n",
    "names = ['krish naik','sudhanshu kumar','sunny savita']\n",
    "my_shelf['names'] = names\n",
    "stored_names =my_shelf['names']\n",
    "stored_names.append(\"sunny chandra\")\n",
    "my_shelf['names']=stored_names\n",
    "updated_names = my_shelf['names']\n",
    "print(updated_names)\n",
    "my_shelf.close()"
   ]
  }
 ],
 "metadata": {
  "kernelspec": {
   "display_name": "Python 3 (ipykernel)",
   "language": "python",
   "name": "python3"
  },
  "language_info": {
   "codemirror_mode": {
    "name": "ipython",
    "version": 3
   },
   "file_extension": ".py",
   "mimetype": "text/x-python",
   "name": "python",
   "nbconvert_exporter": "python",
   "pygments_lexer": "ipython3",
   "version": "3.10.9"
  }
 },
 "nbformat": 4,
 "nbformat_minor": 5
}
