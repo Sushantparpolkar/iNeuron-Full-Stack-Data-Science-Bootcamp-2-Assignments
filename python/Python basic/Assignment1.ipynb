{
 "cells": [
  {
   "cell_type": "markdown",
   "id": "0b4542e9-0cc6-4bd0-83e4-868a65b78221",
   "metadata": {},
   "source": [
    "Q1. In the below elements which of them are values or an expression? \n",
    "eg:- values can be integer or string and expressions will be mathematical operators."
   ]
  },
  {
   "cell_type": "markdown",
   "id": "d6a819b0",
   "metadata": {},
   "source": [
    " Ans :   This notation \"*\" is expression or multiplication operator. It is used to multiply ."
   ]
  },
  {
   "cell_type": "markdown",
   "id": "b0d2a5e1",
   "metadata": {},
   "source": [
    "\"hello\" this is string value."
   ]
  },
  {
   "cell_type": "markdown",
   "id": "351263c2",
   "metadata": {},
   "source": [
    "-87.8 this is integer value"
   ]
  },
  {
   "cell_type": "markdown",
   "id": "8b6ae9ef",
   "metadata": {},
   "source": [
    "This notation - is expression. which is substraction operator."
   ]
  },
  {
   "cell_type": "markdown",
   "id": "463a7177",
   "metadata": {},
   "source": [
    "This notation / is expression. It is used to divide. division operator"
   ]
  },
  {
   "cell_type": "markdown",
   "id": "59d1a7b8",
   "metadata": {},
   "source": [
    "This notation + is  expression . It is used to addition. Addition operator"
   ]
  },
  {
   "cell_type": "markdown",
   "id": "ee77382c",
   "metadata": {},
   "source": [
    "6 is integer value"
   ]
  },
  {
   "cell_type": "markdown",
   "id": "d0c30fc1-0891-41b1-a42b-7b48c26c9535",
   "metadata": {},
   "source": [
    "Q2. What is the difference between string and variable?"
   ]
  },
  {
   "cell_type": "raw",
   "id": "8095fd2f-27c8-4a33-8413-2c64a51a5de4",
   "metadata": {},
   "source": [
    "string                                                    variable"
   ]
  },
  {
   "cell_type": "markdown",
   "id": "e03cebee",
   "metadata": {},
   "source": [
    "string is a data type which is                        variable is used to store data.it is reserved meomery location\n",
    "stored in variable.string is sequence of character     variable can store different data types.\n",
    "letter and symbol.   \n",
    "\n",
    "\n",
    "string is written within \"\" or ''                      we have to assign by this notation\"=\" to store data\n",
    "  \n",
    "\n",
    "strings typically immuntable means                     variable can be assigned new value during execustion\n",
    "their content cannot be changed.\n",
    "It is generally used to store text.\n",
    "\n",
    "\n",
    "eg a = \"Hello World\"                                           b = 12\n",
    "\n"
   ]
  },
  {
   "cell_type": "markdown",
   "id": "ea0d8a65-7c85-4ced-80d1-98821bb3e44c",
   "metadata": {},
   "source": [
    "Q3 . Describe three different data types."
   ]
  },
  {
   "cell_type": "markdown",
   "id": "328f5c5e",
   "metadata": {},
   "source": [
    "i) String : string datatype is a sequence of characters which can be text or numbers.\n",
    "array of characters is typically used to denote a string data type.string is written within \"\" or ''quotes\n",
    "string is used to print result in text format for more clearity about results.\n"
   ]
  },
  {
   "cell_type": "code",
   "execution_count": 1,
   "id": "d93deb40-3298-477e-8d0b-193ec5c89b8e",
   "metadata": {},
   "outputs": [
    {
     "name": "stdout",
     "output_type": "stream",
     "text": [
      "Hi folks\n"
     ]
    }
   ],
   "source": [
    "# for example\n",
    "a = \"Hi folks\"\n",
    "print(a)"
   ]
  },
  {
   "cell_type": "markdown",
   "id": "257f019a",
   "metadata": {},
   "source": [
    "Integer : It is used to present whole numbers,positive,negative or zero.\n",
    "this data type is used to perform several mathematical operations such as addition, substraction ,\n",
    "multiplication and division.these integers are stored in variables which can be \n",
    "used later to perform mathematical operations."
   ]
  },
  {
   "cell_type": "code",
   "execution_count": 2,
   "id": "61c17806-10c2-4f61-8456-56232614671f",
   "metadata": {},
   "outputs": [],
   "source": [
    "#for example\n",
    "x = 10\n",
    "y =20\n",
    "\n",
    "a = x+y\n",
    "b = x-y\n",
    "c = x*y\n",
    "d = x/y"
   ]
  },
  {
   "cell_type": "code",
   "execution_count": 3,
   "id": "d1db1957-dcd6-4527-999e-83b489ea6cc7",
   "metadata": {},
   "outputs": [
    {
     "name": "stdout",
     "output_type": "stream",
     "text": [
      "30\n",
      "-10\n",
      "200\n",
      "0.5\n"
     ]
    }
   ],
   "source": [
    "print(a)\n",
    "print(b)\n",
    "print(c)\n",
    "print(d)"
   ]
  },
  {
   "cell_type": "markdown",
   "id": "657128ec",
   "metadata": {},
   "source": [
    "Boolean : Boolean data type is used to represent a binary value, which can be either 'True' or 'False'\n",
    "Boolean values are used in comparisons and logic operations.\n",
    "boolen value  empty string is False\n",
    "while booolen value of stored data is True"
   ]
  },
  {
   "cell_type": "code",
   "execution_count": 4,
   "id": "9aeebf5c-5de2-45f8-b776-b7e37051903e",
   "metadata": {},
   "outputs": [],
   "source": [
    "a = 10\n",
    "b = 20"
   ]
  },
  {
   "cell_type": "code",
   "execution_count": 5,
   "id": "08559bc5-0fd1-492e-bd14-e69e260b8d5f",
   "metadata": {},
   "outputs": [
    {
     "name": "stdout",
     "output_type": "stream",
     "text": [
      "False\n"
     ]
    }
   ],
   "source": [
    "print(bool(a==b))"
   ]
  },
  {
   "cell_type": "code",
   "execution_count": 6,
   "id": "92b537c0-ba39-4412-bcde-838666e46d0a",
   "metadata": {},
   "outputs": [],
   "source": [
    "c = \"\"\n",
    "d= \"sushant\""
   ]
  },
  {
   "cell_type": "code",
   "execution_count": 7,
   "id": "fec87965-94c1-4337-93ce-a1648865cec9",
   "metadata": {},
   "outputs": [
    {
     "name": "stdout",
     "output_type": "stream",
     "text": [
      "False\n"
     ]
    }
   ],
   "source": [
    "print(bool(c))"
   ]
  },
  {
   "cell_type": "code",
   "execution_count": 8,
   "id": "84196a55-c913-4f7b-90e5-24b5e7972a2f",
   "metadata": {},
   "outputs": [
    {
     "name": "stdout",
     "output_type": "stream",
     "text": [
      "True\n"
     ]
    }
   ],
   "source": [
    "print(bool(d))"
   ]
  },
  {
   "cell_type": "markdown",
   "id": "00321490-6c06-48ca-92c1-1dba78a1c620",
   "metadata": {},
   "source": [
    "4. What is an expression made up of? What do all expressions do?"
   ]
  },
  {
   "cell_type": "markdown",
   "id": "93fc525d",
   "metadata": {},
   "source": [
    "An expression is combination of operands and operators that is used to produce value which is evaluated\n",
    ". operands means on which operation is going to perform .\n",
    "and operators means through which we perform various operations. some of the operators are +,-,*,/.There are various types of expression viz.\n",
    "i) constant expression: This type of expression gives only constant value\n"
   ]
  },
  {
   "cell_type": "code",
   "execution_count": 9,
   "id": "7ad24075-c8b3-4ae6-8eb3-af94f066791e",
   "metadata": {},
   "outputs": [
    {
     "name": "stdout",
     "output_type": "stream",
     "text": [
      "30\n"
     ]
    }
   ],
   "source": [
    "# for example\n",
    "x = 10+20\n",
    "  \n",
    "print(x)"
   ]
  },
  {
   "cell_type": "markdown",
   "id": "0cf80c1e-847f-4f38-9555-027d3204624e",
   "metadata": {},
   "source": [
    "5. This assignment statements, like spam = 10. What is the difference between an\n",
    "expression and a statement?"
   ]
  },
  {
   "cell_type": "markdown",
   "id": "0258e695",
   "metadata": {},
   "source": [
    "statement is instruction to computer,it do things such as variable assignment for eg. spam = 10,\n",
    "for i in range(12),in conditional branching. every expression is statement that can be used as\n",
    "part of instrution to do something.\n",
    "\n",
    "\n",
    "on the other hand expression is combination of operators and operands, It is used to produce some values\n",
    "expression can be literal values '2', ' 5.0' or string \"Hello\" or mathematical operation such as 5+3,10/5\n",
    "If we perfom operation on statment it becomes expression and its output in the form of print is statment\n"
   ]
  },
  {
   "cell_type": "code",
   "execution_count": 10,
   "id": "9116af74-ba7d-4bab-a997-170a37d7446c",
   "metadata": {},
   "outputs": [
    {
     "name": "stdout",
     "output_type": "stream",
     "text": [
      "0.3333333333333333\n"
     ]
    }
   ],
   "source": [
    "# for example\n",
    "a = 10   # statment\n",
    "b= a/30               # expression\n",
    "print(b)             # statement"
   ]
  },
  {
   "cell_type": "markdown",
   "id": "d8e6ac05-18f2-4b87-b878-bf9c51a9a7a9",
   "metadata": {},
   "source": [
    "6. After running the following code, what does the variable bacon contain?\n",
    "bacon = 22\n",
    "bacon + 1"
   ]
  },
  {
   "cell_type": "code",
   "execution_count": 11,
   "id": "72539c00-e4a2-4788-b731-3916ddf326a0",
   "metadata": {},
   "outputs": [
    {
     "name": "stdout",
     "output_type": "stream",
     "text": [
      "22\n"
     ]
    }
   ],
   "source": [
    "bacon = 22\n",
    "bacon + 1\n",
    "print(bacon)"
   ]
  },
  {
   "cell_type": "markdown",
   "id": "fbc3281a",
   "metadata": {},
   "source": [
    "The bacon variable unable to perform addition operation. This is because \n",
    "bacon +1 is not stored in bacon or we have not assigned another varible to bacon so it is showing 22\n",
    "if we reassign the addition operation to bacon variable it will perform operation.\n"
   ]
  },
  {
   "cell_type": "code",
   "execution_count": 12,
   "id": "ca00f8b2-610a-457b-a9e4-cfc810d99721",
   "metadata": {},
   "outputs": [
    {
     "name": "stdout",
     "output_type": "stream",
     "text": [
      "23\n"
     ]
    }
   ],
   "source": [
    "bacon = 22\n",
    "bacon= bacon +1\n",
    "print(bacon)"
   ]
  },
  {
   "cell_type": "markdown",
   "id": "a8c400c4-fd66-4066-9cf5-82243f001a47",
   "metadata": {},
   "source": [
    "7. What should the values of the following two terms be?"
   ]
  },
  {
   "cell_type": "code",
   "execution_count": 13,
   "id": "e45cde12-4405-4b20-851d-dc7b270ed55a",
   "metadata": {},
   "outputs": [
    {
     "data": {
      "text/plain": [
       "'spamspamspam'"
      ]
     },
     "execution_count": 13,
     "metadata": {},
     "output_type": "execute_result"
    }
   ],
   "source": [
    "'spam'+'spamspam'# These to strings are concatenating to form single string"
   ]
  },
  {
   "cell_type": "code",
   "execution_count": 14,
   "id": "f2fd7508-900e-4f98-84d2-6443ed03dbcd",
   "metadata": {},
   "outputs": [
    {
     "data": {
      "text/plain": [
       "'spamspamspam'"
      ]
     },
     "execution_count": 14,
     "metadata": {},
     "output_type": "execute_result"
    }
   ],
   "source": [
    "'spam'*3 # This operation is multiplying spam three times"
   ]
  },
  {
   "cell_type": "markdown",
   "id": "1e6d5a41",
   "metadata": {},
   "source": [
    "Both the above operation gives same result"
   ]
  },
  {
   "cell_type": "markdown",
   "id": "a1a042a5-c1d7-4b5d-8435-2ee8e0c591b4",
   "metadata": {},
   "source": [
    "8. Why is eggs a valid variable name while 100 is invalid?"
   ]
  },
  {
   "cell_type": "markdown",
   "id": "8e25697d",
   "metadata": {},
   "source": [
    "According to python documentation, the rules of python \n",
    "1) The variable name must start with letter, or underscore then later you can\n",
    "add number,underscore to it.\n",
    "eggs is valid variable name because it starts with letter and consist only letter and underscore.\n",
    "while 100 is invalid becuase it violets the first rule . python is unable to recognize number as variable.\n"
   ]
  },
  {
   "cell_type": "code",
   "execution_count": 16,
   "id": "0d830f6f-812c-4798-902d-4959e71af25d",
   "metadata": {},
   "outputs": [
    {
     "name": "stdout",
     "output_type": "stream",
     "text": [
      "10\n"
     ]
    }
   ],
   "source": [
    "egg =10\n",
    "print(egg)"
   ]
  },
  {
   "cell_type": "code",
   "execution_count": 17,
   "id": "101de949-ec39-4289-8bbe-e16793b1f519",
   "metadata": {},
   "outputs": [
    {
     "ename": "SyntaxError",
     "evalue": "cannot assign to literal here. Maybe you meant '==' instead of '='? (3988106784.py, line 1)",
     "output_type": "error",
     "traceback": [
      "\u001b[1;36m  Cell \u001b[1;32mIn[17], line 1\u001b[1;36m\u001b[0m\n\u001b[1;33m    100 = 10\u001b[0m\n\u001b[1;37m    ^\u001b[0m\n\u001b[1;31mSyntaxError\u001b[0m\u001b[1;31m:\u001b[0m cannot assign to literal here. Maybe you meant '==' instead of '='?\n"
     ]
    }
   ],
   "source": [
    "100 = 10\n",
    "print(100)"
   ]
  },
  {
   "cell_type": "markdown",
   "id": "2885e828-08b5-430c-939a-9947b8527331",
   "metadata": {},
   "source": [
    "9. What three functions can be used to get the integer, floating-point number, or string\n",
    "version of a value?"
   ]
  },
  {
   "cell_type": "markdown",
   "id": "1b803bf2",
   "metadata": {},
   "source": [
    "int() is function used to integer value ,float() is function used for \n",
    "floating -point number and str()is function used for string version of a value"
   ]
  },
  {
   "cell_type": "code",
   "execution_count": 19,
   "id": "5cec81db-3d75-4066-990b-407c0cd1ed45",
   "metadata": {},
   "outputs": [
    {
     "name": "stdout",
     "output_type": "stream",
     "text": [
      "3\n",
      "4\n",
      "12\n"
     ]
    }
   ],
   "source": [
    "# for examples\n",
    "e = int(input( ))\n",
    "f= int(input( ))\n",
    "print(e*f)"
   ]
  },
  {
   "cell_type": "code",
   "execution_count": 20,
   "id": "68069603-5211-4f1c-8d00-cdabc5b08dd2",
   "metadata": {},
   "outputs": [
    {
     "name": "stdout",
     "output_type": "stream",
     "text": [
      "10\n",
      "2\n",
      "5.0\n"
     ]
    }
   ],
   "source": [
    "\n",
    "\n",
    "\n",
    "\n",
    "\n",
    "x = float(input( ))\n",
    "y= float(input( ))\n",
    "print(x/y)"
   ]
  },
  {
   "cell_type": "code",
   "execution_count": 21,
   "id": "95d0645d-c28a-45e5-94f5-9821688511ba",
   "metadata": {},
   "outputs": [
    {
     "name": "stdout",
     "output_type": "stream",
     "text": [
      "sushant Parpolkar\n"
     ]
    }
   ],
   "source": [
    "x = \"sushant \"\n",
    "y= \"Parpolkar\"\n",
    "print(x+y)"
   ]
  },
  {
   "cell_type": "markdown",
   "id": "dda7e325-2ac5-4744-9f01-e662f5ab8003",
   "metadata": {},
   "source": [
    "10. Why does this expression cause an error? How can you fix it?"
   ]
  },
  {
   "cell_type": "code",
   "execution_count": 22,
   "id": "56da3807-7dcc-4bb3-a54b-21ff2bcee659",
   "metadata": {},
   "outputs": [
    {
     "ename": "TypeError",
     "evalue": "can only concatenate str (not \"int\") to str",
     "output_type": "error",
     "traceback": [
      "\u001b[1;31m---------------------------------------------------------------------------\u001b[0m",
      "\u001b[1;31mTypeError\u001b[0m                                 Traceback (most recent call last)",
      "Cell \u001b[1;32mIn[22], line 1\u001b[0m\n\u001b[1;32m----> 1\u001b[0m \u001b[38;5;124;43m'\u001b[39;49m\u001b[38;5;124;43mI have eaten\u001b[39;49m\u001b[38;5;124;43m'\u001b[39;49m\u001b[43m \u001b[49m\u001b[38;5;241;43m+\u001b[39;49m\u001b[43m \u001b[49m\u001b[38;5;241;43m99\u001b[39;49m \u001b[38;5;241m+\u001b[39m \u001b[38;5;124m'\u001b[39m\u001b[38;5;124mburritos\u001b[39m\u001b[38;5;124m'\u001b[39m\n",
      "\u001b[1;31mTypeError\u001b[0m: can only concatenate str (not \"int\") to str"
     ]
    }
   ],
   "source": [
    "'I have eaten' + 99 + 'burritos'"
   ]
  },
  {
   "cell_type": "markdown",
   "id": "29e1b786",
   "metadata": {},
   "source": [
    "This is showing because string value cannot concatenate with integer form .\n",
    "All the input must be in same form this can \n",
    "be solved by putting the integer value 99 in string format \"99\"."
   ]
  },
  {
   "cell_type": "code",
   "execution_count": 23,
   "id": "e48ff8ff-07aa-4cf9-959a-4bb84bcacb3b",
   "metadata": {},
   "outputs": [
    {
     "data": {
      "text/plain": [
       "'I have eaten 99 burritos'"
      ]
     },
     "execution_count": 23,
     "metadata": {},
     "output_type": "execute_result"
    }
   ],
   "source": [
    "'I have eaten' + ' 99 ' + 'burritos'"
   ]
  }
 ],
 "metadata": {
  "kernelspec": {
   "display_name": "Python 3 (ipykernel)",
   "language": "python",
   "name": "python3"
  },
  "language_info": {
   "codemirror_mode": {
    "name": "ipython",
    "version": 3
   },
   "file_extension": ".py",
   "mimetype": "text/x-python",
   "name": "python",
   "nbconvert_exporter": "python",
   "pygments_lexer": "ipython3",
   "version": "3.10.9"
  }
 },
 "nbformat": 4,
 "nbformat_minor": 5
}
