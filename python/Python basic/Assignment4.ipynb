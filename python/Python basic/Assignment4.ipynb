{
 "cells": [
  {
   "cell_type": "markdown",
   "id": "e9c337d5",
   "metadata": {},
   "source": [
    "# 1. What exactly is []?"
   ]
  },
  {
   "cell_type": "markdown",
   "id": "c78e68c1",
   "metadata": {},
   "source": [
    "'[]' This notation is  used for list operations. this is empty list\n",
    "Used to store multiple item in single variable.\n",
    "List values can be changed. values in list are assigned indexing."
   ]
  },
  {
   "cell_type": "code",
   "execution_count": 1,
   "id": "e6d9cafe",
   "metadata": {},
   "outputs": [
    {
     "name": "stdout",
     "output_type": "stream",
     "text": [
      "<class 'list'>\n"
     ]
    }
   ],
   "source": [
    "a=[] \n",
    "print(type(a))"
   ]
  },
  {
   "cell_type": "markdown",
   "id": "c877ce34",
   "metadata": {},
   "source": [
    "# 2. In a list of values stored in a variable called spam, \n",
    "# how would you assign the value &#39;hello&#39; as the\n",
    "# third value? (Assume [2, 4, 6, 8, 10] are in spam.)\n",
    "# Lets pretend the spam includes the list ['a','b','c','d']for the next three queries."
   ]
  },
  {
   "cell_type": "code",
   "execution_count": 2,
   "id": "21fe384e",
   "metadata": {},
   "outputs": [
    {
     "name": "stdout",
     "output_type": "stream",
     "text": [
      "[2, 4, 6, 8, 10]\n"
     ]
    }
   ],
   "source": [
    "spam = [2,4,6,8,10]\n",
    "print(spam)\n"
   ]
  },
  {
   "cell_type": "code",
   "execution_count": 3,
   "id": "9dfaac06",
   "metadata": {},
   "outputs": [],
   "source": [
    "spam[2] =\"hello\""
   ]
  },
  {
   "cell_type": "code",
   "execution_count": 4,
   "id": "832174c9",
   "metadata": {},
   "outputs": [
    {
     "data": {
      "text/plain": [
       "[2, 4, 'hello', 8, 10]"
      ]
     },
     "execution_count": 4,
     "metadata": {},
     "output_type": "execute_result"
    }
   ],
   "source": [
    "spam"
   ]
  },
  {
   "cell_type": "markdown",
   "id": "a773cb42",
   "metadata": {},
   "source": [
    "# 3. What is the value of spam[int(int('3'* 2) / 11)]?"
   ]
  },
  {
   "cell_type": "code",
   "execution_count": 5,
   "id": "d9f4dde6",
   "metadata": {},
   "outputs": [
    {
     "data": {
      "text/plain": [
       "['a', 'b', 'c', 'd']"
      ]
     },
     "execution_count": 5,
     "metadata": {},
     "output_type": "execute_result"
    }
   ],
   "source": [
    "# let consider spam\n",
    "spam =['a','b','c','d']\n",
    "spam"
   ]
  },
  {
   "cell_type": "markdown",
   "id": "798d2867",
   "metadata": {},
   "source": [
    "spam[int(int('3'*2)/11)] # This is because 3 value is in string format when multiplied by 2 it becomes \n",
    "33 and the this 33 becomes integer before dividing by 11 and output is 3 which indicates indexing value\n",
    "of spam at 3rd place is 'd' (indexing starts from zero)"
   ]
  },
  {
   "cell_type": "markdown",
   "id": "efd9ed9e",
   "metadata": {},
   "source": [
    "# 4. What is the value of spam[-1]?"
   ]
  },
  {
   "cell_type": "code",
   "execution_count": 6,
   "id": "74124791",
   "metadata": {},
   "outputs": [
    {
     "data": {
      "text/plain": [
       "'d'"
      ]
     },
     "execution_count": 6,
     "metadata": {},
     "output_type": "execute_result"
    }
   ],
   "source": [
    "spam[-1] # reverse indexing  from back "
   ]
  },
  {
   "cell_type": "markdown",
   "id": "05ea13fc",
   "metadata": {},
   "source": [
    "# 5. What is the value of spam[:2]?"
   ]
  },
  {
   "cell_type": "code",
   "execution_count": 7,
   "id": "e88d4e78",
   "metadata": {},
   "outputs": [
    {
     "data": {
      "text/plain": [
       "['a', 'b']"
      ]
     },
     "execution_count": 7,
     "metadata": {},
     "output_type": "execute_result"
    }
   ],
   "source": [
    "spam[:2] # It takes values at index 0 and 1 it exclude index value at 2"
   ]
  },
  {
   "cell_type": "markdown",
   "id": "546bb7b9",
   "metadata": {},
   "source": [
    "# Let's predent bacon has the list[3.14,'cat',11,'cat',True]\n",
    "# 6. What is the value of bacon.index(&#39;cat&#39;)?"
   ]
  },
  {
   "cell_type": "code",
   "execution_count": 8,
   "id": "22632d5e",
   "metadata": {},
   "outputs": [],
   "source": [
    "bacon =[3.14,'cat',11,'cat',True]"
   ]
  },
  {
   "cell_type": "code",
   "execution_count": 9,
   "id": "7d92c5eb",
   "metadata": {},
   "outputs": [
    {
     "data": {
      "text/plain": [
       "1"
      ]
     },
     "execution_count": 9,
     "metadata": {},
     "output_type": "execute_result"
    }
   ],
   "source": [
    "bacon.index('cat') # It is showing indexing position of 'cat' in bacon list and it is consider 1st assigned value for cat"
   ]
  },
  {
   "cell_type": "markdown",
   "id": "d6464bb1",
   "metadata": {},
   "source": [
    "# 7. How does bacon.append(99) change the look of the list value in bacon?"
   ]
  },
  {
   "cell_type": "code",
   "execution_count": 10,
   "id": "581b7f44",
   "metadata": {},
   "outputs": [
    {
     "name": "stdout",
     "output_type": "stream",
     "text": [
      "[3.14, 'cat', 11, 'cat', True]\n"
     ]
    }
   ],
   "source": [
    "bacon =[3.14,'cat',11,'cat',True]\n",
    "print(bacon)\n"
   ]
  },
  {
   "cell_type": "code",
   "execution_count": 11,
   "id": "47d7b8ee",
   "metadata": {},
   "outputs": [],
   "source": [
    "bacon.append(99) # it is appending  99 value at the last index of list bacon"
   ]
  },
  {
   "cell_type": "code",
   "execution_count": 12,
   "id": "9fd53e59",
   "metadata": {},
   "outputs": [
    {
     "data": {
      "text/plain": [
       "[3.14, 'cat', 11, 'cat', True, 99]"
      ]
     },
     "execution_count": 12,
     "metadata": {},
     "output_type": "execute_result"
    }
   ],
   "source": [
    "bacon"
   ]
  },
  {
   "cell_type": "markdown",
   "id": "61a77e5b",
   "metadata": {},
   "source": [
    "# 8. How does bacon.remove('cat') change the look of the list in bacon?"
   ]
  },
  {
   "cell_type": "code",
   "execution_count": 13,
   "id": "6cc6c2ec",
   "metadata": {},
   "outputs": [
    {
     "name": "stdout",
     "output_type": "stream",
     "text": [
      "[3.14, 'cat', 11, 'cat', True]\n"
     ]
    }
   ],
   "source": [
    "bacon =[3.14,'cat',11,'cat',True]\n",
    "print(bacon)"
   ]
  },
  {
   "cell_type": "code",
   "execution_count": 14,
   "id": "d6f62f9a",
   "metadata": {},
   "outputs": [],
   "source": [
    "bacon.remove('cat') # this function remove first occuring 'cat' string from \n",
    "#bacon list and keep next occuring 'cat' from list means it does not remove all 'cat' string from list"
   ]
  },
  {
   "cell_type": "code",
   "execution_count": 15,
   "id": "01fa0e70",
   "metadata": {},
   "outputs": [
    {
     "name": "stdout",
     "output_type": "stream",
     "text": [
      "[3.14, 11, 'cat', True]\n"
     ]
    }
   ],
   "source": [
    "print(bacon)"
   ]
  },
  {
   "cell_type": "markdown",
   "id": "d151d980",
   "metadata": {},
   "source": [
    "# 9. What are the list concatenation and list replication operators?"
   ]
  },
  {
   "cell_type": "markdown",
   "id": "7a99002b",
   "metadata": {},
   "source": [
    "List concatenation operator is '+'(plus) .It combine two or more list to form single list\n",
    "and List replication operator is * (asterisk). It replicate list no of times we want and create single list"
   ]
  },
  {
   "cell_type": "code",
   "execution_count": 16,
   "id": "26958890",
   "metadata": {},
   "outputs": [
    {
     "name": "stdout",
     "output_type": "stream",
     "text": [
      "[1, 'sush', True, (4+5j), 2, False, 'parpolkar', (5+10j)]\n"
     ]
    }
   ],
   "source": [
    "# List concatenation example\n",
    "a =[1,\"sush\",True,4+5j]\n",
    "b=[2,False,\"parpolkar\",5+10j]\n",
    "concate =a+b # list concatenation operation\n",
    "print(concate)"
   ]
  },
  {
   "cell_type": "code",
   "execution_count": 17,
   "id": "c87c819c",
   "metadata": {},
   "outputs": [
    {
     "name": "stdout",
     "output_type": "stream",
     "text": [
      "[5, 10, 15, 20, 5, 10, 15, 20, 5, 10, 15, 20, 5, 10, 15, 20]\n"
     ]
    }
   ],
   "source": [
    "# List replication example\n",
    "c=[5,10,15,20]\n",
    "replicate = c*4 # list replication operation\n",
    "print(replicate)"
   ]
  },
  {
   "cell_type": "markdown",
   "id": "e17b4642",
   "metadata": {},
   "source": [
    " # 10. What is difference between the list methods append() and insert()?"
   ]
  },
  {
   "cell_type": "raw",
   "id": "e46e3f66",
   "metadata": {},
   "source": [
    " List append() method                                                         List insert() method\n",
    "1)list method append() used to add element at the last of the          insert()method used add element at specific index             string.                                                            position.\n",
    "2)It takes single argument                                                It takes two argument i) index no to which element                                                                             should be added.\n",
    "                                                                          ii) the value which is to be added."
   ]
  },
  {
   "cell_type": "code",
   "execution_count": 18,
   "id": "33519852",
   "metadata": {},
   "outputs": [],
   "source": [
    "a = [1,2,3,4,5]\n",
    "a.append(10) # append method"
   ]
  },
  {
   "cell_type": "code",
   "execution_count": 19,
   "id": "789c820c",
   "metadata": {},
   "outputs": [
    {
     "name": "stdout",
     "output_type": "stream",
     "text": [
      "[1, 2, 3, 4, 5, 10]\n"
     ]
    }
   ],
   "source": [
    "print(a)"
   ]
  },
  {
   "cell_type": "code",
   "execution_count": 20,
   "id": "570e6d8e",
   "metadata": {},
   "outputs": [],
   "source": [
    "a.insert(2,25)# insert method"
   ]
  },
  {
   "cell_type": "code",
   "execution_count": 21,
   "id": "786c3ffb",
   "metadata": {},
   "outputs": [
    {
     "data": {
      "text/plain": [
       "[1, 2, 25, 3, 4, 5, 10]"
      ]
     },
     "execution_count": 21,
     "metadata": {},
     "output_type": "execute_result"
    }
   ],
   "source": [
    "a"
   ]
  },
  {
   "cell_type": "markdown",
   "id": "0e406d23",
   "metadata": {},
   "source": [
    "# 11. What are the two methods for removing items from a list?"
   ]
  },
  {
   "cell_type": "markdown",
   "id": "a0ac4972",
   "metadata": {},
   "source": [
    "remove()and pop() method are used for removing items from a list\n",
    "remove ()method used to remove first occurence of the element from list\n",
    "It takes single argument.i.e the element which is to be removed.\n",
    "while pop() method is used to remove element from index position and not \n",
    "the actual value. If the no index position is called while removing\n",
    "it will remove last element from the list."
   ]
  },
  {
   "cell_type": "code",
   "execution_count": 22,
   "id": "dfce5283",
   "metadata": {},
   "outputs": [
    {
     "name": "stdout",
     "output_type": "stream",
     "text": [
      "['sush', 2, False, 5, (4+10j)]\n"
     ]
    }
   ],
   "source": [
    "list = [\"sush\",2,True,False,5,4+10J]\n",
    "list.remove(True) # remove method\n",
    "print(list)"
   ]
  },
  {
   "cell_type": "code",
   "execution_count": 23,
   "id": "4247de74",
   "metadata": {},
   "outputs": [
    {
     "name": "stdout",
     "output_type": "stream",
     "text": [
      "[10, 20, 30, 50]\n"
     ]
    }
   ],
   "source": [
    "l =[10,20,30,40,50]\n",
    "l.pop(3)# it removes element from index position 3  which is 40\n",
    "print(l)"
   ]
  },
  {
   "cell_type": "code",
   "execution_count": 24,
   "id": "4b5a873d",
   "metadata": {},
   "outputs": [
    {
     "name": "stdout",
     "output_type": "stream",
     "text": [
      "['I', 1000, 20000]\n"
     ]
    }
   ],
   "source": [
    "l=[\"I\",1000,20000,80]\n",
    "l.pop() # if index position is not specified it will remove last element from list\n",
    "print(l)"
   ]
  },
  {
   "cell_type": "markdown",
   "id": "025c5fa3",
   "metadata": {},
   "source": [
    "# 12. Describe how list values and string values are identical."
   ]
  },
  {
   "cell_type": "markdown",
   "id": "3d596006",
   "metadata": {},
   "source": [
    "1) List and string both posssess some similarity . Both are sequences string values are written in\n",
    "   single or double quotations.List can take any values such as string, float , number.\n",
    "2)  Both list and string has position both can be accesed using indexing.\n",
    "3) They can be sliced using slicing operation means a portion of element can be extracted.\n",
    "4) Each element from string or list can be iterable using loops."
   ]
  },
  {
   "cell_type": "markdown",
   "id": "d68fc7cd",
   "metadata": {},
   "source": [
    "#  13.What is  the difference between tuples and lists?"
   ]
  },
  {
   "cell_type": "raw",
   "id": "75a09b0d",
   "metadata": {},
   "source": [
    "tuples                                                                           list\n",
    "1)tuples are immutable means                                    1) list are mutable means elemnts can\n",
    "it cannot modified.                                              be added,modified or can be removed. \n",
    "2)tuples uses parenthesis() while denoting                       2) List operation performed in square brackets[]\n",
    "3)tuples can performe method like index(),                        3) List can performe method such as append(),extend,pop,count\n",
    "and count().                                                       insert().\n",
    "4) if we don't want to modify data again                          4) if we want to modify data again and again we go for list\n",
    "and again we can used tuples.                                      operation.\n"
   ]
  },
  {
   "cell_type": "markdown",
   "id": "261b33d8",
   "metadata": {},
   "source": [
    " # 14. How do you type a tuple value that only contains the integer 42?"
   ]
  },
  {
   "cell_type": "code",
   "execution_count": 25,
   "id": "37cdbe1b",
   "metadata": {},
   "outputs": [
    {
     "name": "stdout",
     "output_type": "stream",
     "text": [
      "<class 'int'>\n",
      "<class 'tuple'>\n"
     ]
    }
   ],
   "source": [
    "tuple =(42)\n",
    "print(type(tuple))\n",
    "tuple=(42,) # comma after value is necessary to be consider it as tuple value otherwise it shows class integer\n",
    "print(type(tuple))"
   ]
  },
  {
   "cell_type": "markdown",
   "id": "d1e4b288",
   "metadata": {},
   "source": [
    "# 15. How do you get a list values tuple form? How do you get a tuple values list form?"
   ]
  },
  {
   "cell_type": "code",
   "execution_count": 26,
   "id": "6bead5f2",
   "metadata": {},
   "outputs": [
    {
     "name": "stdout",
     "output_type": "stream",
     "text": [
      "(1, 2, 3, 4)\n"
     ]
    }
   ],
   "source": [
    "\n",
    "# Function to convert a list to a tuple\n",
    "def convert_list_to_tuple(lst):\n",
    "    tuple_result = ()  # Empty tuple to store the converted elements\n",
    "    for i in lst:\n",
    "        tuple_result += (i,)  # Append each element to the tuple\n",
    "    return tuple_result\n",
    " \n",
    "# Example usage\n",
    "my_list = [1, 2, 3, 4]\n",
    "my_tuple = convert_list_to_tuple(my_list)\n",
    "print(my_tuple)"
   ]
  },
  {
   "cell_type": "code",
   "execution_count": 27,
   "id": "d487feec",
   "metadata": {},
   "outputs": [
    {
     "name": "stdout",
     "output_type": "stream",
     "text": [
      "['atish', 'kumar', 1000, 500]\n"
     ]
    }
   ],
   "source": [
    "# tuple to list\n",
    "l1=(\"atish\",\"kumar\",1000,500)\n",
    "my_list=[i for i in l1] # conversion of tuple to list\n",
    "print(my_list)\n"
   ]
  },
  {
   "cell_type": "markdown",
   "id": "728be92e",
   "metadata": {},
   "source": [
    "# 16. Variables that \"contain\"list values are not necessarily lists themselves. Instead, what do they contain?"
   ]
  },
  {
   "cell_type": "code",
   "execution_count": 28,
   "id": "709f6038",
   "metadata": {},
   "outputs": [
    {
     "name": "stdout",
     "output_type": "stream",
     "text": [
      "1867466770112\n"
     ]
    }
   ],
   "source": [
    "#variable containg list value contain references to the list values.\n",
    "a =[3,4,5]\n",
    "print(id(a))"
   ]
  },
  {
   "cell_type": "markdown",
   "id": "fa59836f",
   "metadata": {},
   "source": [
    "# 17. How do you distinguish between copy.copy() and copy.deepcopy()?"
   ]
  },
  {
   "cell_type": "markdown",
   "id": "803ce0c8",
   "metadata": {},
   "source": [
    " copy.copy :It creates shallow copy of object.It means that changes made to the original object \n",
    "reflected into the copied object and vice versa only if the elements are mutable. however object\n",
    "is different from original one.It creates independent copies of same object. It helps to rectify changes\n",
    "in original copy.\n",
    "\n",
    "copy.deepcopy: It is deep copy of object. changes made in this copy doesnot affect original copy and vice versa.\n",
    "It is useful to create independent object of complex object .\n",
    "   "
   ]
  }
 ],
 "metadata": {
  "kernelspec": {
   "display_name": "Python 3 (ipykernel)",
   "language": "python",
   "name": "python3"
  },
  "language_info": {
   "codemirror_mode": {
    "name": "ipython",
    "version": 3
   },
   "file_extension": ".py",
   "mimetype": "text/x-python",
   "name": "python",
   "nbconvert_exporter": "python",
   "pygments_lexer": "ipython3",
   "version": "3.10.9"
  }
 },
 "nbformat": 4,
 "nbformat_minor": 5
}
