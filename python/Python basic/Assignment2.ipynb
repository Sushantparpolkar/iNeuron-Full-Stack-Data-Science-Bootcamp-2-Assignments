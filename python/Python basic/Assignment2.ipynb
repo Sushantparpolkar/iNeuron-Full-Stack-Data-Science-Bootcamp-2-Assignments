{
 "cells": [
  {
   "cell_type": "markdown",
   "id": "bef366a5-f119-4537-9b7d-fc486e8d5a7c",
   "metadata": {},
   "source": [
    "1.What are the two values of the Boolean data type? How do you write them?"
   ]
  },
  {
   "cell_type": "markdown",
   "id": "c96c9f2f",
   "metadata": {},
   "source": [
    "There are two values of boolean data type viz true and false and rewritten as 'True','False'.\n",
    "Boolean expression uses logical and relational operator\n"
   ]
  },
  {
   "cell_type": "code",
   "execution_count": 1,
   "id": "ce9284c9-4a11-4b46-bb6c-56e8d49e80f3",
   "metadata": {},
   "outputs": [
    {
     "name": "stdout",
     "output_type": "stream",
     "text": [
      "False\n"
     ]
    },
    {
     "data": {
      "text/plain": [
       "bool"
      ]
     },
     "execution_count": 1,
     "metadata": {},
     "output_type": "execute_result"
    }
   ],
   "source": [
    "#eg\n",
    "a=10\n",
    "b=5\n",
    "print(a==b)\n",
    "type(a==b)"
   ]
  },
  {
   "cell_type": "code",
   "execution_count": 2,
   "id": "e9041f65-816d-442f-9b4a-8ececffd93fc",
   "metadata": {},
   "outputs": [
    {
     "name": "stdout",
     "output_type": "stream",
     "text": [
      "False\n"
     ]
    }
   ],
   "source": [
    "c= [2,4,6,8,10]\n",
    "for i in c:\n",
    "    if i/2==0:\n",
    "        print(\"True\")\n",
    "else:\n",
    "    print(\"False\")"
   ]
  },
  {
   "cell_type": "markdown",
   "id": "a8c38b69-bbb4-4dd2-b97f-b0145745557c",
   "metadata": {},
   "source": [
    "2. What are the three different types of Boolean operators?"
   ]
  },
  {
   "cell_type": "markdown",
   "id": "a32004fd",
   "metadata": {},
   "source": [
    "Three boolean operators are AND,OR,NOT . AND(conjuction): It provides result that containing both or all keywords.\n",
    "OR(disjuction) :It provides result that contain either keyword or at least one keyword.\n",
    "NoT(negation) : It provides the first of your keyword."
   ]
  },
  {
   "cell_type": "markdown",
   "id": "3ce3ad64-cbe3-48e0-9063-ee37cca92e90",
   "metadata": {},
   "source": [
    "3. Make a list of each Boolean operator&#39;s truth tables (i.e. every possible combination of Boolean\n",
    "values for the operator and what it evaluate )."
   ]
  },
  {
   "cell_type": "raw",
   "id": "0e75f521-720a-4e16-878a-0e47fc607771",
   "metadata": {},
   "source": [
    "# And operator: This boolean operator returns false if any one of the value is false\n",
    "\n",
    " A           B                       A and B\n",
    "\n",
    "True       True                      True\n",
    "True       False                     False\n",
    "False      True                      False\n",
    "False      False                     False"
   ]
  },
  {
   "cell_type": "raw",
   "id": "8b11243b-954b-46bb-8572-e21febaa281c",
   "metadata": {},
   "source": [
    "# OR operator : This boolean operator returns True for at least one result otherwise return False.\n",
    "\n",
    "A           B                        A or B\n",
    "True        False                     True\n",
    "True        True                      True\n",
    "False        True                      True\n",
    "False        False                     False"
   ]
  },
  {
   "cell_type": "raw",
   "id": "24982fef-991b-4e83-95e3-e20814926f2f",
   "metadata": {},
   "source": [
    "# Not : This boolean operation require onle one argument and return the negation of it.\n",
    "\n",
    "\n",
    " A      Not A\n",
    "True    False\n",
    "False   True"
   ]
  },
  {
   "cell_type": "markdown",
   "id": "f27e490c-6dff-4633-be23-9d1521497a58",
   "metadata": {},
   "source": [
    "4. What are the values of the following expressions?"
   ]
  },
  {
   "cell_type": "code",
   "execution_count": 3,
   "id": "e30f77ea-1746-40c7-bb7f-3bdaf0546c59",
   "metadata": {},
   "outputs": [
    {
     "data": {
      "text/plain": [
       "False"
      ]
     },
     "execution_count": 3,
     "metadata": {},
     "output_type": "execute_result"
    }
   ],
   "source": [
    "(5>4) and (3==5) # And operators returns false if any one of the value is false"
   ]
  },
  {
   "cell_type": "code",
   "execution_count": 4,
   "id": "eb1b72f3-539e-41ce-96f5-74b0b6383de6",
   "metadata": {},
   "outputs": [
    {
     "data": {
      "text/plain": [
       "False"
      ]
     },
     "execution_count": 4,
     "metadata": {},
     "output_type": "execute_result"
    }
   ],
   "source": [
    "not(5>4) # it return opposite of what actually"
   ]
  },
  {
   "cell_type": "code",
   "execution_count": 5,
   "id": "32b8bf36-1447-4f2e-8709-94d6c2557385",
   "metadata": {},
   "outputs": [
    {
     "data": {
      "text/plain": [
       "True"
      ]
     },
     "execution_count": 5,
     "metadata": {},
     "output_type": "execute_result"
    }
   ],
   "source": [
    "(5>4)or(3==5)# Or operator returns True for  at least one of the value is True"
   ]
  },
  {
   "cell_type": "markdown",
   "id": "c448acdf",
   "metadata": {},
   "source": [
    "# 5. What are the six comparison operators?"
   ]
  },
  {
   "cell_type": "markdown",
   "id": "8ef00aa0",
   "metadata": {},
   "source": [
    "The Six comparision operators available in python are:\n",
    " == , != , < , > , <= , =>"
   ]
  },
  {
   "cell_type": "markdown",
   "id": "0c5573ad",
   "metadata": {},
   "source": [
    "# 6. How do you tell the difference between the equal to and assignment operators?Describe a condition and when you would use one."
   ]
  },
  {
   "cell_type": "markdown",
   "id": "03c6a32e",
   "metadata": {},
   "source": [
    "== is the equal to operator that compares two values and evaluates to a Boolean, while = is that assignment operator that stores a value in a variable."
   ]
  },
  {
   "cell_type": "markdown",
   "id": "4ee0668f",
   "metadata": {},
   "source": [
    "# 7. Identify the three blocks in this code:"
   ]
  },
  {
   "cell_type": "raw",
   "id": "2a1b967a",
   "metadata": {},
   "source": [
    " spam = 0\n",
    "if spam == 10:\n",
    "print('eggs')\n",
    "if spam > 5:\n",
    "print('bacon')\n",
    "else:\n",
    "print('ham')\n",
    "print('spam')\n",
    "print('spam')"
   ]
  },
  {
   "cell_type": "code",
   "execution_count": 19,
   "id": "2d81f5b4",
   "metadata": {},
   "outputs": [
    {
     "name": "stdout",
     "output_type": "stream",
     "text": [
      "ham\n",
      "spam\n",
      "spam\n"
     ]
    }
   ],
   "source": [
    "spam = 0\n",
    "if spam==10:\n",
    "    print('eggs')\n",
    "elif spam>5:\n",
    "    print('bacon')\n",
    "else:\n",
    "    print('ham')\n",
    "    print('spam')\n",
    "    print('spam')"
   ]
  },
  {
   "cell_type": "markdown",
   "id": "e4ecd001",
   "metadata": {},
   "source": [
    "# 8. Write code that prints Hello if 1 is stored in spam, prints Howdy if 2 is stored in spam, and prints Greetings! if anything else is stored in spam."
   ]
  },
  {
   "cell_type": "code",
   "execution_count": 22,
   "id": "c473dd9a",
   "metadata": {},
   "outputs": [
    {
     "name": "stdout",
     "output_type": "stream",
     "text": [
      "Hello\n",
      "Howdy\n",
      "Greetings\n"
     ]
    }
   ],
   "source": [
    "def spamcode(spam):\n",
    "    if spam==1:\n",
    "        print(\"Hello\")\n",
    "    elif spam==2:\n",
    "        print(\"Howdy\")\n",
    "    else:\n",
    "        print(\"Greetings\")\n",
    "    \n",
    "spamcode(1)    \n",
    "spamcode(2)\n",
    "spamcode(3)"
   ]
  },
  {
   "cell_type": "markdown",
   "id": "cc55cfca",
   "metadata": {},
   "source": [
    "# 9.If your programme is stuck in an endless loop, what keys you’ll press?"
   ]
  },
  {
   "cell_type": "markdown",
   "id": "f89352e0",
   "metadata": {},
   "source": [
    " Press Ctrl-c to stop a program stuck in an infinite loop."
   ]
  },
  {
   "cell_type": "markdown",
   "id": "33eaabd7",
   "metadata": {},
   "source": [
    "# 10. How can you tell the difference between break and continue?"
   ]
  },
  {
   "cell_type": "markdown",
   "id": "7ae0e359",
   "metadata": {},
   "source": [
    " The break statement will move the execution outside the loop if break condtion is satisfied. Whereas the continue statement will move the execution to the start of the loop."
   ]
  },
  {
   "cell_type": "markdown",
   "id": "8547d5b9",
   "metadata": {},
   "source": [
    "# 11. In a for loop, what is the difference between range(10), range(0, 10), and range(0, 10, 1)?"
   ]
  },
  {
   "cell_type": "code",
   "execution_count": 26,
   "id": "aa490eba",
   "metadata": {},
   "outputs": [
    {
     "name": "stdout",
     "output_type": "stream",
     "text": [
      "0 1 2 3 4 5 6 7 8 9 "
     ]
    }
   ],
   "source": [
    "for i in range(10):\n",
    "    print(i, end=' ') # starts from zero excluding end number"
   ]
  },
  {
   "cell_type": "code",
   "execution_count": 28,
   "id": "6bb13bf8",
   "metadata": {},
   "outputs": [
    {
     "name": "stdout",
     "output_type": "stream",
     "text": [
      "0 1 2 3 4 5 6 7 8 9 "
     ]
    }
   ],
   "source": [
    "for i in range(0,10): # starts from zeror excluding end number\n",
    "    print(i , end=' ')"
   ]
  },
  {
   "cell_type": "code",
   "execution_count": 29,
   "id": "57e37d06",
   "metadata": {},
   "outputs": [
    {
     "name": "stdout",
     "output_type": "stream",
     "text": [
      "0 1 2 3 4 5 6 7 8 9 "
     ]
    }
   ],
   "source": [
    "for i in range(0,10,1): # starts from zero , excluding end number , step =1 means increase element by 1 in each iteration.\n",
    "    print(i ,end = \" \")"
   ]
  },
  {
   "cell_type": "markdown",
   "id": "626d05b0",
   "metadata": {},
   "source": [
    "# 12. Write a short program that prints the numbers 1 to 10 using a for loop. Then write an equivalent program that prints the numbers 1 to 10 using a while loop."
   ]
  },
  {
   "cell_type": "code",
   "execution_count": 32,
   "id": "7d55ac78",
   "metadata": {},
   "outputs": [
    {
     "name": "stdout",
     "output_type": "stream",
     "text": [
      "1 2 3 4 5 6 7 8 9 10 "
     ]
    }
   ],
   "source": [
    "# using for loop\n",
    "for i in range(1,11):\n",
    "    print(i,end=' ')"
   ]
  },
  {
   "cell_type": "code",
   "execution_count": 33,
   "id": "d068fc45",
   "metadata": {},
   "outputs": [
    {
     "name": "stdout",
     "output_type": "stream",
     "text": [
      "1 2 3 4 5 6 7 8 9 10 "
     ]
    }
   ],
   "source": [
    "i=1\n",
    "while i<=10:\n",
    "    print(i ,end= \" \")\n",
    "    i+=1"
   ]
  },
  {
   "cell_type": "markdown",
   "id": "3d65f26d",
   "metadata": {},
   "source": [
    "# 13. If you had a function named bacon() inside a module named spam, how would you call it after importing spam?"
   ]
  },
  {
   "cell_type": "markdown",
   "id": "e9ccb456",
   "metadata": {},
   "source": [
    " This function can be called with spam.bacon()."
   ]
  }
 ],
 "metadata": {
  "kernelspec": {
   "display_name": "Python 3 (ipykernel)",
   "language": "python",
   "name": "python3"
  },
  "language_info": {
   "codemirror_mode": {
    "name": "ipython",
    "version": 3
   },
   "file_extension": ".py",
   "mimetype": "text/x-python",
   "name": "python",
   "nbconvert_exporter": "python",
   "pygments_lexer": "ipython3",
   "version": "3.10.9"
  }
 },
 "nbformat": 4,
 "nbformat_minor": 5
}
