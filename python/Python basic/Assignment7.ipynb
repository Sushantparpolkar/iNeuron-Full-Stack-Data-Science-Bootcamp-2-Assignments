{
 "cells": [
  {
   "cell_type": "markdown",
   "id": "5a2811de",
   "metadata": {},
   "source": [
    "# 1. What is the name of the feature responsible for generating Regex objects?"
   ]
  },
  {
   "cell_type": "markdown",
   "id": "6f60c945",
   "metadata": {},
   "source": [
    "re.compile() module is function responsible for generating Regex objects or regular expression.\n",
    "It is sequence of character that forms search pattern.\n",
    "Regex objects used to match and manipulate strings based on patterns defined by regular expressions."
   ]
  },
  {
   "cell_type": "code",
   "execution_count": 30,
   "id": "358547eb",
   "metadata": {},
   "outputs": [],
   "source": [
    "import re\n",
    "\n",
    "my_str = '''An essay is, generally, a piece of writing that gives the author's own argument,\n",
    "but the definition is vague, overlapping with those of a letter, a paper,\n",
    "an article, a pamphlet, and a short story. Essays have been sub-classified as formal and informal: \n",
    "formal essays are characterized by \"serious purpose, dignity, logical organization, \n",
    "length,\" whereas the informal essay is characterized by \"the personal element (self-revelation,\n",
    "individual tastes and experiences, confidential manner), humor, graceful style,\n",
    "rambling structure, unconventionality or novelty of theme,\" etc.[1]'''\n",
    "patt =re.compile(r'story*')\n",
    "#matches = patt.findall(my_str)\n",
    "#matches = patt.finditer(my_str)\n",
    "#matches =patt.split(my_str)\n",
    "matches =patt.finditer(my_str)"
   ]
  },
  {
   "cell_type": "code",
   "execution_count": 31,
   "id": "8b49f733",
   "metadata": {},
   "outputs": [
    {
     "name": "stdout",
     "output_type": "stream",
     "text": [
      "<re.Match object; span=(191, 196), match='story'>\n"
     ]
    }
   ],
   "source": [
    "for i in matches:\n",
    "    print(i)\n",
    "   "
   ]
  },
  {
   "cell_type": "code",
   "execution_count": 32,
   "id": "bc5fb061",
   "metadata": {},
   "outputs": [
    {
     "name": "stdout",
     "output_type": "stream",
     "text": [
      "story\n"
     ]
    }
   ],
   "source": [
    " print(my_str[191:196])"
   ]
  },
  {
   "cell_type": "markdown",
   "id": "4e0fc85e",
   "metadata": {},
   "source": [
    "# 2. Why do raw strings often appear in Regex objects?"
   ]
  },
  {
   "cell_type": "markdown",
   "id": "c378eb6c",
   "metadata": {},
   "source": [
    "raw string prefixt with 'r'is often in Regex object to prevent backslash('\\') from being treated\n",
    "as escape character. In python string ('\\')is  used as to escape special character\n",
    "such as ('\\n') for new line (\\t ) for tab.\n",
    "raw string in Regex objects are treated as literal character and no special character is escaped."
   ]
  },
  {
   "cell_type": "markdown",
   "id": "6f8ee506",
   "metadata": {},
   "source": [
    "# 3. What is the return value of the search() method?\n"
   ]
  },
  {
   "cell_type": "markdown",
   "id": "0239e656",
   "metadata": {},
   "source": [
    "re.search(sub,string) method in regular expression search the object mentioned in substring of the string.\n",
    "and it returns the match object,if not it returns none"
   ]
  },
  {
   "cell_type": "code",
   "execution_count": 46,
   "id": "24140c8f",
   "metadata": {},
   "outputs": [
    {
     "name": "stdout",
     "output_type": "stream",
     "text": [
      "<re.Match object; span=(11, 15), match='data'>\n"
     ]
    }
   ],
   "source": [
    "import re\n",
    "\n",
    "string = \"Full stack data science master \"\n",
    "sub ='data'\n",
    "print(re.search(sub,string))"
   ]
  },
  {
   "cell_type": "markdown",
   "id": "079c359a",
   "metadata": {},
   "source": [
    "# 4. From a Match item, how do you get the actual strings that match the pattern?"
   ]
  },
  {
   "cell_type": "raw",
   "id": "a979ade4",
   "metadata": {},
   "source": [
    " Match object have group() method that will return the actual matched object from searched string."
   ]
  },
  {
   "cell_type": "code",
   "execution_count": 58,
   "id": "f5368d77",
   "metadata": {},
   "outputs": [],
   "source": [
    "import re\n",
    "string = \" I have own 2 gold medal. 1 at college level and other at post graduation level\"\n",
    "pattern = r'\\d+'\n",
    "matchs = re.finditer(pattern,string)"
   ]
  },
  {
   "cell_type": "code",
   "execution_count": 59,
   "id": "801143a5",
   "metadata": {},
   "outputs": [
    {
     "name": "stdout",
     "output_type": "stream",
     "text": [
      "match found: 2\n",
      "match found: 1\n"
     ]
    }
   ],
   "source": [
    "for match in matchs:\n",
    "    print('match found:',match.group())"
   ]
  },
  {
   "cell_type": "markdown",
   "id": "08e3407a",
   "metadata": {},
   "source": [
    "# 5. In the regex which created from the r&#39;(\\d\\d\\d)-(\\d\\d\\d-\\d\\d\\d\\d)&#39;, what does group zero cover? Group 2? Group 1?"
   ]
  },
  {
   "cell_type": "markdown",
   "id": "a3b9b8ca",
   "metadata": {},
   "source": [
    " In the regex r'(\\d\\d\\d)-(\\d\\d\\d-\\d\\d\\d\\d)'  group 0 convers entire match ie.(\\d\\d\\d)-(\\d\\d\\d-\\d\\d\\d\\d)'  ,group 1 cover first 3 digits (\\d\\d\\d) group 2 covers last 6 digits '(\\d\\d\\d)-(\\d\\d\\d-\\d\\d\\d\\d)' "
   ]
  },
  {
   "cell_type": "code",
   "execution_count": 68,
   "id": "4cf09337",
   "metadata": {},
   "outputs": [
    {
     "name": "stdout",
     "output_type": "stream",
     "text": [
      "group: 726-200-9929\n",
      "group 0: 726-200-9929\n",
      "group 1: 726\n",
      "group 2: 200-9929\n"
     ]
    }
   ],
   "source": [
    "import re\n",
    "patter =  re.compile(r'(\\d\\d\\d)-(\\d\\d\\d-\\d\\d\\d\\d)')\n",
    "no = \"my phone no is :726-200-9929\"\n",
    "match = re.search(patter,no)\n",
    "\n",
    "print(\"group:\",match.group)\n",
    "print(\"group 0:\" ,match.group(0))\n",
    "print(\"group 1:\" ,match.group(1))\n",
    "print(\"group 2:\" ,match.group(2))"
   ]
  },
  {
   "cell_type": "markdown",
   "id": "e69d891e",
   "metadata": {},
   "source": [
    "# 6. In standard expression syntax, parentheses and intervals have distinct meanings.  How can you tell a regex that you want it to fit real parentheses and periods?"
   ]
  },
  {
   "cell_type": "markdown",
   "id": "dfc73686",
   "metadata": {},
   "source": [
    "To fit real parentheses and period in regex in re.compile use '\\' backslash,\\(and\\)\\ character to escape them."
   ]
  },
  {
   "cell_type": "code",
   "execution_count": 76,
   "id": "ee9ae821",
   "metadata": {},
   "outputs": [],
   "source": [
    "import re\n",
    "\n",
    "pattern = re.compile(r'\\(\\d+\\)\\s+percentage\\.')\n",
    "text ='(99) percentage.'\n",
    "\n",
    "match = re.search(pattern,text)\n",
    "\n",
    "\n",
    "            "
   ]
  },
  {
   "cell_type": "code",
   "execution_count": 77,
   "id": "bed17857",
   "metadata": {},
   "outputs": [
    {
     "name": "stdout",
     "output_type": "stream",
     "text": [
      "match found: (99) percentage.\n"
     ]
    }
   ],
   "source": [
    "if match:\n",
    "    print(\"match found:\",match.group())\n",
    "else:\n",
    "    print(\"no match found\")"
   ]
  },
  {
   "cell_type": "markdown",
   "id": "c6ef0dd6",
   "metadata": {},
   "source": [
    "# 7. The findall() method returns a string list or a list of string tuples. What causes it to return one of the two options?"
   ]
  },
  {
   "cell_type": "markdown",
   "id": "bfe1e67e",
   "metadata": {},
   "source": [
    "re.findall() method gives result which depend on no of capturing groups in the pattern\n",
    "if there is no group return a list of string, that matches the group.\n",
    "If multiple groups are present,return a list of tuple of string matches the group."
   ]
  },
  {
   "cell_type": "code",
   "execution_count": 10,
   "id": "56194b4d",
   "metadata": {},
   "outputs": [
    {
     "name": "stdout",
     "output_type": "stream",
     "text": [
      "match found: ['intelligence', 'is', 'is']\n"
     ]
    }
   ],
   "source": [
    "import re\n",
    "\n",
    "pattern = re.compile(r'\\bi[a-z]*')\n",
    "text   =  \"Artificial intelligence is going to change job market scenario.This is happening right now\"\n",
    "match = re.findall(pattern,text)\n",
    "\n",
    "if match:\n",
    "    print(\"match found:\",match)\n",
    "else:\n",
    "    print(\"match not found\")\n",
    "    "
   ]
  },
  {
   "cell_type": "code",
   "execution_count": 13,
   "id": "a259504d",
   "metadata": {},
   "outputs": [
    {
     "name": "stdout",
     "output_type": "stream",
     "text": [
      "match found: [('width', '5'), ('height', '10')]\n"
     ]
    }
   ],
   "source": [
    "import re\n",
    "\n",
    "pattern = re.compile(r'(\\w+)=(\\d+)')\n",
    "string = \"set width=5 and height=10\"\n",
    "match =re.findall(pattern,string)\n",
    "\n",
    "if match:\n",
    "    print(\"match found:\",match)\n",
    "else:\n",
    "    print(\"match not found\")\n",
    "    "
   ]
  },
  {
   "cell_type": "markdown",
   "id": "90e836cb",
   "metadata": {},
   "source": [
    "# 8. In standard expressions, what does the | character mean?"
   ]
  },
  {
   "cell_type": "markdown",
   "id": "ec250d1c",
   "metadata": {},
   "source": [
    "vertical bar(|)matches any one element separated by it.when one pattern completely matches the brach is accepted.\n",
    "'|' is never greedy.It uses the logical OR operator."
   ]
  },
  {
   "cell_type": "code",
   "execution_count": 16,
   "id": "4a3f5ece",
   "metadata": {},
   "outputs": [
    {
     "name": "stdout",
     "output_type": "stream",
     "text": [
      "['team']\n"
     ]
    }
   ],
   "source": [
    "pattern = re.compile(r'team|members')\n",
    "text =\"Thanks Ineuron team  for providing such affordable course\"\n",
    "match = re.findall(pattern,text)\n",
    "\n",
    "print(match)\n",
    "                     "
   ]
  },
  {
   "cell_type": "markdown",
   "id": "7dbdf2bc",
   "metadata": {},
   "source": [
    "# 9. In regular expressions, what does the character ? stand for?"
   ]
  },
  {
   "cell_type": "markdown",
   "id": "f71d52bb",
   "metadata": {},
   "source": [
    "'?' It indicate preceding element in the pattern can occure at zero or  one time.\n",
    "It makes preceding element optional."
   ]
  },
  {
   "cell_type": "code",
   "execution_count": 42,
   "id": "3c096b10",
   "metadata": {},
   "outputs": [],
   "source": [
    "patt =re.compile(r'code?')\n",
    "text = \"cat,code ,coat,\"\n",
    "match = re.findall(patt,text)\n"
   ]
  },
  {
   "cell_type": "code",
   "execution_count": 43,
   "id": "0f83f8d2",
   "metadata": {},
   "outputs": [
    {
     "name": "stdout",
     "output_type": "stream",
     "text": [
      "match found: ['code']\n"
     ]
    }
   ],
   "source": [
    "if match:\n",
    "    print(\"match found:\", match)\n",
    "else:\n",
    "    print(\"No match found\")"
   ]
  },
  {
   "cell_type": "markdown",
   "id": "7a685f3f",
   "metadata": {},
   "source": [
    " # 10.In regular expressions, what is the difference between the + and * characters?"
   ]
  },
  {
   "cell_type": "raw",
   "id": "ac84e93c",
   "metadata": {},
   "source": [
    "'+'  character                                                                       '*' character"
   ]
  },
  {
   "cell_type": "raw",
   "id": "51c30b16",
   "metadata": {},
   "source": [
    "1) One or more occurences of the preceding element            1) Zero or more occurences of the preceding element\n",
    "2) ab+ will match ‘a’ followed by any non-zero                 2) ab* will match ‘a’, ‘ab’, or ‘a’ followed by any\n",
    "number of ‘b’s; it will not match just ‘a’.                       number of ‘b’s.                                                                 "
   ]
  },
  {
   "cell_type": "code",
   "execution_count": 44,
   "id": "371dca5f",
   "metadata": {},
   "outputs": [],
   "source": [
    "# example + character and * charcter"
   ]
  },
  {
   "cell_type": "code",
   "execution_count": 57,
   "id": "2941fa97",
   "metadata": {},
   "outputs": [],
   "source": [
    "import re\n",
    "\n",
    "patt_plus = re.compile(r'ab+c')\n",
    "patt_star =re.compile(r'ab*c')\n",
    "\n",
    "text = \"ac abc abbc abbbc\"\n",
    "\n",
    "match1 = re.findall(patt_plus,text)\n",
    "match2 = re.findall(patt_star,text)\n",
    "\n"
   ]
  },
  {
   "cell_type": "code",
   "execution_count": 58,
   "id": "3328a0cc",
   "metadata": {},
   "outputs": [
    {
     "name": "stdout",
     "output_type": "stream",
     "text": [
      "match1: ['abc', 'abbc', 'abbbc']\n",
      "match2 ['ac', 'abc', 'abbc', 'abbbc']\n"
     ]
    }
   ],
   "source": [
    "print(\"match1:\", match1)\n",
    "print(\"match2\",match2)"
   ]
  },
  {
   "cell_type": "markdown",
   "id": "f14ec054",
   "metadata": {},
   "source": [
    "# 11. What is the difference between {4} and {4,5} in regular expression?"
   ]
  },
  {
   "cell_type": "markdown",
   "id": "53e9098e",
   "metadata": {},
   "source": [
    "{4} defines the exact copies of the regular expression matched and fewer matches\n",
    "cause the entire regular expression not match if a{4} will specify exact 4 character of a\n",
    "not less not more.\n",
    "\n",
    "{4,5} it resulting in from 4 to 5 preceding repetition of the regular expression.\n",
    "It attempt to match as many repetition as possible.\n"
   ]
  },
  {
   "cell_type": "code",
   "execution_count": 60,
   "id": "6363c918",
   "metadata": {},
   "outputs": [],
   "source": [
    "import re\n",
    "\n",
    "pattern_4 = re.compile(r'a{4}')\n",
    "pattern_4_5 = re.compile(r'a{3,5}')\n",
    "\n",
    "text = \"aaaa aaa aaaaa\"\n",
    "\n",
    "matches_4 = re.findall(pattern_4, text)\n",
    "matches_4_5 = re.findall(pattern_4_5, text)\n",
    "\n",
    "print(\"Matches with {4}:\", matches_4)\n",
    "print(\"Matches with {,5}:\", matches_4_5)\n"
   ]
  },
  {
   "cell_type": "code",
   "execution_count": 61,
   "id": "b0061ed4",
   "metadata": {},
   "outputs": [],
   "source": [
    "import re\n",
    "patt4 =re.compile(r's{4}')\n",
    "patt4_5 =re.compile(r's{4,5}')\n",
    "\n",
    "string = \"sss,ssssss,ssss,sssss\"\n",
    "\n",
    "match4 =re.findall(patt4,string)\n",
    "match4_5=re.findall(patt4_5,string)"
   ]
  },
  {
   "cell_type": "code",
   "execution_count": 64,
   "id": "6363a57e",
   "metadata": {},
   "outputs": [
    {
     "name": "stdout",
     "output_type": "stream",
     "text": [
      "match4: ['ssss', 'ssss', 'ssss']\n",
      "match4_5: ['sssss', 'ssss', 'sssss']\n"
     ]
    }
   ],
   "source": [
    "print('match4:',match4)\n",
    "print(\"match4_5:\", match4_5)"
   ]
  },
  {
   "cell_type": "markdown",
   "id": "d469270b",
   "metadata": {},
   "source": [
    "# 12. What do you mean by the \\d, \\w, and \\s shorthand character classes signify in regular expressions?"
   ]
  },
  {
   "cell_type": "markdown",
   "id": "cf168961",
   "metadata": {},
   "source": [
    "'\\d' matches for unicode string pattern any unicode decimal digit and also many other digit character.\n",
    "this include digit [0-9]\n",
    "\n",
    "'\\w' matches for unicode string pattern this include alphanumerical character as well as underscore(_)and\n",
    "class is [a-zA-Z0-9_]\n",
    "\n",
    "'\\s' for unicode string pattern it matches whitespace character including space,tab and newline\n",
    "character."
   ]
  },
  {
   "cell_type": "code",
   "execution_count": 67,
   "id": "eb71f0bc",
   "metadata": {},
   "outputs": [
    {
     "name": "stdout",
     "output_type": "stream",
     "text": [
      "Digits: ['2', '0', '0', '0', '0']\n",
      "Alphanumeric: ['T', 'h', 'e', 'f', 'e', 'e', 's', 'f', 'o', 'r', 'I', 'n', 'e', 'u', 'r', 'o', 'n', 'd', 'a', 't', 'a', 's', 'c', 'i', 'e', 'n', 'c', 'e', 'm', 'a', 's', 't', 'e', 'r', 'b', 'a', 't', 'c', 'h', 'i', 's', '2', '0', '0', '0', '0', 'r', 's']\n",
      "Whitespace: [' ', ' ', ' ', ' ', ' ', ' ', ' ', ' ']\n"
     ]
    }
   ],
   "source": [
    "import re\n",
    "\n",
    "text = \"The fees for Ineuron datascience master batch is 20,000rs.\"\n",
    "\n",
    "digits = re.findall(r'\\d', text)\n",
    "alphanumeric = re.findall(r'\\w', text)\n",
    "whitespace = re.findall(r'\\s', text)\n",
    "\n",
    "print(\"Digits:\", digits)\n",
    "print(\"Alphanumeric:\", alphanumeric)\n",
    "print(\"Whitespace:\", whitespace)\n"
   ]
  },
  {
   "cell_type": "markdown",
   "id": "de2b6c29",
   "metadata": {},
   "source": [
    "# 13. What do means by \\D, \\W, and \\S shorthand character classes signify in regular expressions?"
   ]
  },
  {
   "cell_type": "markdown",
   "id": "c6acfc2a",
   "metadata": {},
   "source": [
    "'\\D' matches any character which is not in decimal digit.It is opposite of \\d\n",
    "\n",
    "'\\W'matches any character which is not  a word character.This is opposite of \\w\n",
    "\n",
    "'\\S' matches any character which is not a whitespace character. This is opposite of \\s\n"
   ]
  },
  {
   "cell_type": "code",
   "execution_count": 70,
   "id": "87d1777d",
   "metadata": {},
   "outputs": [
    {
     "name": "stdout",
     "output_type": "stream",
     "text": [
      " No-Digits: ['T', 'h', 'e', ' ', 'p', 'r', 'i', 'c', 'e', ' ', 'o', 'f', ' ', 't', 'h', 'i', 's', ' ', 'I', 'p', 'h', 'o', 'e', 'n', ' ', 'i', 's', ' ', ',', ' ', 'r', 's']\n",
      " NO-Alphanumeric: [' ', ' ', ' ', ' ', ' ', ' ', ',', ' ']\n",
      "No-Whitespace: ['T', 'h', 'e', 'p', 'r', 'i', 'c', 'e', 'o', 'f', 't', 'h', 'i', 's', 'I', 'p', 'h', 'o', 'e', 'n', 'i', 's', '8', '5', ',', '0', '0', '0', 'r', 's']\n"
     ]
    }
   ],
   "source": [
    "import re\n",
    "\n",
    "text = \"The price of this Iphoen is 85,000 rs\"\n",
    "\n",
    "digits = re.findall(r'\\D', text)\n",
    "alphanumeric = re.findall(r'\\W', text)\n",
    "whitespace = re.findall(r'\\S', text)\n",
    "\n",
    "print(\" No-Digits:\", digits)\n",
    "print(\" NO-Alphanumeric:\", alphanumeric)\n",
    "print(\"No-Whitespace:\", whitespace)"
   ]
  },
  {
   "cell_type": "markdown",
   "id": "c5abf019",
   "metadata": {},
   "source": [
    " # 14. What is the difference between .*? and .*?"
   ]
  },
  {
   "cell_type": "code",
   "execution_count": null,
   "id": "6a6bef55",
   "metadata": {},
   "outputs": [],
   "source": [
    ".*?                                                                                   .*"
   ]
  },
  {
   "cell_type": "raw",
   "id": "116beac5",
   "metadata": {},
   "source": [
    "1)'.*?' is   non greedy match or lazy match.                            1) .* is greedy match\n",
    "2)It matches few character as possible of string to satisfy the         2) It matches all the possible charcter of string\n",
    "pattern and will stop matching if the match character satisfy.             to satisfy the pattern  and it will continue\n",
    "3) It is useful when  you want to extract                                   matching until the entire pattern matches.\n",
    "smallest possible match.                                              3) It is useful when you want to extract the largest\n",
    "                                                                          possible match."
   ]
  },
  {
   "cell_type": "code",
   "execution_count": 16,
   "id": "bed7821f",
   "metadata": {},
   "outputs": [
    {
     "name": "stdout",
     "output_type": "stream",
     "text": [
      "Non-greedy match: Hello\n",
      "Greedy match: Hello, Wo\n"
     ]
    }
   ],
   "source": [
    "import re\n",
    "\n",
    "text = \"Hello, World! This is a test.\"\n",
    "\n",
    "# Non-greedy match\n",
    "match1 = re.search(r'H.*?o', text)\n",
    "print(\"Non-greedy match:\", match1.group())\n",
    "\n",
    "# Greedy match\n",
    "match2 = re.search(r'H.*o', text)\n",
    "print(\"Greedy match:\", match2.group())\n"
   ]
  },
  {
   "cell_type": "markdown",
   "id": "82c4514d",
   "metadata": {},
   "source": [
    "# 15. What is the syntax for matching both numbers and lowercase letters with a character class?"
   ]
  },
  {
   "cell_type": "markdown",
   "id": "be06c351",
   "metadata": {},
   "source": [
    "[0-9a-z] is the syntax for matching both numbers and lowercas letters with a character class.\n",
    "this will match any single character from 0 to 9 and letter a-z."
   ]
  },
  {
   "cell_type": "code",
   "execution_count": 19,
   "id": "9452178a",
   "metadata": {},
   "outputs": [
    {
     "name": "stdout",
     "output_type": "stream",
     "text": [
      "['a', 'b', 'c', 'd', '1', '2', '3', '4', 'e']\n"
     ]
    }
   ],
   "source": [
    "import re\n",
    "string = \"abcd1234DFe#$\"\n",
    "match = re.findall(r'[0-9a-z]',string)\n",
    "print(match)"
   ]
  },
  {
   "cell_type": "markdown",
   "id": "d5e1b4b2",
   "metadata": {},
   "source": [
    "# 16. What is the procedure for making a normal expression in regax case insensitive?"
   ]
  },
  {
   "cell_type": "markdown",
   "id": "fe5356d4",
   "metadata": {},
   "source": [
    "By using  re.IGNORECASE in  regax expression make it case insensitive.\n",
    "\n",
    "It passes optional arguments to re.compile.\n",
    "\n",
    "ie. expression like [A-Z]matches lowercase  character too."
   ]
  },
  {
   "cell_type": "code",
   "execution_count": 4,
   "id": "fa863def",
   "metadata": {},
   "outputs": [],
   "source": [
    "import re"
   ]
  },
  {
   "cell_type": "code",
   "execution_count": 7,
   "id": "39da54db",
   "metadata": {},
   "outputs": [
    {
     "name": "stdout",
     "output_type": "stream",
     "text": [
      "['cat', 'CAt']\n"
     ]
    }
   ],
   "source": [
    "patter = (r\"(cat)s?\")\n",
    "string = \"My cat,your CAts and his dog play in the backyard.\"\n",
    "\n",
    "match1 = re.findall(patter,string,flags= re.IGNORECASE)\n",
    "print(match1)"
   ]
  },
  {
   "cell_type": "markdown",
   "id": "77a052ba",
   "metadata": {},
   "source": [
    "# 17. What does the . character normally match? What does it match if re.DOTALL is passed as 2nd argument in re.compile()?"
   ]
  },
  {
   "cell_type": "markdown",
   "id": "aa83a79d",
   "metadata": {},
   "source": [
    ". (DOT)charcter this is in the default mode matches any character except new line charcter(\\n)\n",
    "however if re.DOTAll is passes as 2nd argument in re.compile it matches any charcter at all including\n",
    "new line corresponding to the inline flag(?)s\n"
   ]
  },
  {
   "cell_type": "code",
   "execution_count": 19,
   "id": "d97dc059",
   "metadata": {},
   "outputs": [
    {
     "name": "stdout",
     "output_type": "stream",
     "text": [
      "['Regex expression in python is easy to understand.', ' very helpful while searching specific character']\n"
     ]
    }
   ],
   "source": [
    "patt =re.compile(r'.+')\n",
    "string = '''Regex expression in python is easy to understand.\n",
    "\\n very helpful while searching specific character'''\n",
    "match1 = re.findall(patt,string)\n",
    "print(match1)"
   ]
  },
  {
   "cell_type": "code",
   "execution_count": 18,
   "id": "40bc95c1",
   "metadata": {},
   "outputs": [
    {
     "name": "stdout",
     "output_type": "stream",
     "text": [
      "['Regex expression in python is easy to understand.\\nvery helpful while searching specific character']\n"
     ]
    }
   ],
   "source": [
    "patt =re.compile(r'.+',re.DOTALL)\n",
    "string = '''Regex expression in python is easy to understand.\n",
    "very helpful while searching specific character'''\n",
    "match1 = re.findall(patt,string)\n",
    "print(match1)"
   ]
  },
  {
   "cell_type": "markdown",
   "id": "fd9bf3a3",
   "metadata": {},
   "source": [
    "# 18. If numReg = re.compile(r&#39;\\d+&#39;), what will numRegex.sub(&#39;X&#39;, &#39;11 drummers, 10 pipers, five rings, hen&#39;) return?"
   ]
  },
  {
   "cell_type": "code",
   "execution_count": 28,
   "id": "7117f98f",
   "metadata": {},
   "outputs": [
    {
     "name": "stdout",
     "output_type": "stream",
     "text": [
      "x drummers,x pipers,five rings,hen\n"
     ]
    }
   ],
   "source": [
    "numRegex = re.compile(r'\\d+')\n",
    "replacement = numRegex.sub('x','11 drummers,10 pipers,five rings,hen') # It replaces given digit with x in sub()method\n",
    "print(replacement)"
   ]
  },
  {
   "cell_type": "markdown",
   "id": "bb70cfc7",
   "metadata": {},
   "source": [
    "# 19. What does passing re.VERBOSE as the 2nd argument to re.compile() allow to do?"
   ]
  },
  {
   "cell_type": "markdown",
   "id": "559de182",
   "metadata": {},
   "source": [
    "re.VERBOSE() allows you to write regular expression that looking nicer and more readable.\n",
    "\n",
    "this allows you to visually separate logical section of the pattern and comments and allows you to add\n",
    "\n",
    "white space.It helps to write multiline regular expreesion and ignore whitespace and comments within the pattern."
   ]
  },
  {
   "cell_type": "code",
   "execution_count": 51,
   "id": "e7c4cd27",
   "metadata": {},
   "outputs": [
    {
     "name": "stdout",
     "output_type": "stream",
     "text": [
      "12345 abc\n"
     ]
    }
   ],
   "source": [
    "patt =re.compile(r'''\n",
    "\n",
    "  \\d+\n",
    "  \\s\n",
    "  [a-zA-Z]+\n",
    "  ''',re.VERBOSE)\n",
    "string = \"12345 abc \"\n",
    "match = patt.search(string)\n",
    "print(match.group())\n"
   ]
  },
  {
   "cell_type": "markdown",
   "id": "5902e1fb",
   "metadata": {},
   "source": [
    "# 20. How would you write a regex that match a number with comma for every three digits? It must  match the given following:"
   ]
  },
  {
   "cell_type": "code",
   "execution_count": 65,
   "id": "d629a164",
   "metadata": {},
   "outputs": [
    {
     "name": "stdout",
     "output_type": "stream",
     "text": [
      "match found: 42\n",
      "match found: 1,234\n",
      "match found: 6,368,745\n",
      "match not found:12,34,567\n",
      "match not found:1234\n"
     ]
    }
   ],
   "source": [
    "import re\n",
    "pat = re.compile(r'^\\d{1,3}(,\\d{3})*$')\n",
    "nums = ['42', '1,234', '6,368,745', '12,34,567', '1234']\n",
    "for i in nums:\n",
    "    if pat.match(i):\n",
    "        print(f\"match found: {i}\")\n",
    "    else:\n",
    "        print(f\"match not found:{i}\")"
   ]
  },
  {
   "cell_type": "markdown",
   "id": "a2610bae",
   "metadata": {},
   "source": [
    "# 21. How would you write a regex that matches the full name of someone whose last name is Watanabe? You can assume that the first name that comes before it will always be one word that begins with a capital letter. The regex must match the following:"
   ]
  },
  {
   "cell_type": "code",
   "execution_count": 76,
   "id": "90a99028",
   "metadata": {},
   "outputs": [
    {
     "name": "stdout",
     "output_type": "stream",
     "text": [
      "No match found: H\n",
      "No match found: a\n",
      "No match found: r\n",
      "No match found: u\n",
      "No match found: t\n",
      "No match found: o\n",
      "No match found:  \n",
      "No match found: W\n",
      "No match found: a\n",
      "No match found: t\n",
      "No match found: a\n",
      "No match found: n\n",
      "No match found: a\n",
      "No match found: b\n",
      "No match found: e\n",
      "No match found: '\n",
      "No match found: ,\n",
      "No match found: '\n",
      "No match found: A\n",
      "No match found: l\n",
      "No match found: i\n",
      "No match found: c\n",
      "No match found: e\n",
      "No match found:  \n",
      "No match found: W\n",
      "No match found: a\n",
      "No match found: t\n",
      "No match found: a\n",
      "No match found: n\n",
      "No match found: a\n",
      "No match found: b\n",
      "No match found: e\n",
      "No match found: '\n",
      "No match found: ,\n",
      "No match found: '\n",
      "No match found: R\n",
      "No match found: o\n",
      "No match found: b\n",
      "No match found: o\n",
      "No match found: C\n",
      "No match found: o\n",
      "No match found: p\n",
      "No match found:  \n",
      "No match found: W\n",
      "No match found: a\n",
      "No match found: t\n",
      "No match found: a\n",
      "No match found: n\n",
      "No match found: a\n",
      "No match found: b\n",
      "No match found: e\n",
      "No match found: '\n",
      "No match found: ,\n",
      "No match found: \n",
      "\n",
      "No match found: '\n",
      "No match found: h\n",
      "No match found: a\n",
      "No match found: r\n",
      "No match found: u\n",
      "No match found: t\n",
      "No match found: o\n",
      "No match found:  \n",
      "No match found: W\n",
      "No match found: a\n",
      "No match found: t\n",
      "No match found: a\n",
      "No match found: n\n",
      "No match found: a\n",
      "No match found: b\n",
      "No match found: e\n",
      "No match found: '\n",
      "No match found: ,\n",
      "No match found: '\n",
      "No match found: M\n",
      "No match found: r\n",
      "No match found: .\n",
      "No match found:  \n",
      "No match found: W\n",
      "No match found: a\n",
      "No match found: t\n",
      "No match found: a\n",
      "No match found: n\n",
      "No match found: a\n",
      "No match found: b\n",
      "No match found: e\n",
      "No match found: '\n",
      "No match found: ,\n",
      "No match found: '\n",
      "No match found: W\n",
      "No match found: a\n",
      "No match found: t\n",
      "No match found: a\n",
      "No match found: n\n",
      "No match found: a\n",
      "No match found: b\n",
      "No match found: e\n",
      "No match found: '\n",
      "No match found: ,\n",
      "No match found: '\n",
      "No match found: H\n",
      "No match found: a\n",
      "No match found: r\n",
      "No match found: u\n",
      "No match found: t\n",
      "No match found: o\n",
      "No match found:  \n",
      "No match found: w\n",
      "No match found: a\n",
      "No match found: t\n",
      "No match found: a\n",
      "No match found: n\n",
      "No match found: a\n",
      "No match found: b\n",
      "No match found: e\n"
     ]
    }
   ],
   "source": [
    "patt = re.compile(r'^')\n",
    "\n",
    "text = '''Haruto Watanabe','Alice Watanabe','RoboCop Watanabe',\n",
    "'haruto Watanabe','Mr. Watanabe','Watanabe','Haruto watanabe'''\n",
    "for i in text:\n",
    "    if patt.match(i):\n",
    "        print(f\"match found: {i}\")\n",
    "    else:\n",
    "        print(f\"No match found: {i}\")"
   ]
  },
  {
   "cell_type": "markdown",
   "id": "1e0466be",
   "metadata": {},
   "source": [
    "# 22. How would you write a regex that matches a sentence where the first word is either Alice, Bob,or Carol; the second word is either eats, pets, or throws; the third word is apples, cats, or baseballs; and the sentence ends with a period? This regex should be case-insensitive. It must match the following:"
   ]
  },
  {
   "cell_type": "markdown",
   "id": "5d8b49e7",
   "metadata": {},
   "source": [
    "'Alice eats apples.'\n",
    "\n",
    "'Bob pets cats.'\n",
    "\n",
    "'Carol throws baseballs.'\n",
    "\n",
    "'Alice throws Apples.'\n",
    "\n",
    "'BOB EATS CATS.'"
   ]
  },
  {
   "cell_type": "markdown",
   "id": "8f94bf52",
   "metadata": {},
   "source": [
    "but not the following:\n",
    "\n",
    "'RoboCop eats apples.'\n",
    " \n",
    "'ALICE THROWS FOOTBALLS.' \n",
    "\n",
    "'Carol eats 7 cats.'"
   ]
  },
  {
   "cell_type": "code",
   "execution_count": 1,
   "id": "f445a8ab",
   "metadata": {},
   "outputs": [
    {
     "name": "stdout",
     "output_type": "stream",
     "text": [
      "Output:  Alice eats apples. -> <re.Match object; span=(0, 18), match='Alice eats apples.'>\n",
      "Output:  Bob pets cats. -> <re.Match object; span=(0, 14), match='Bob pets cats.'>\n",
      "Output:  Carol throws baseballs. -> <re.Match object; span=(0, 23), match='Carol throws baseballs.'>\n",
      "Output:  Alice throws Apples. -> <re.Match object; span=(0, 20), match='Alice throws Apples.'>\n",
      "Output:  BOB EATS CATS. -> <re.Match object; span=(0, 14), match='BOB EATS CATS.'>\n",
      "Output:  RoboCop eats apples. -> None\n",
      "Output:  ALICE THROWS FOOTBALLS. -> None\n",
      "Output:  Carol eats 7 cats. -> None\n"
     ]
    }
   ],
   "source": [
    "import re\n",
    "pattern = r'(Alice|Bob|Carol)\\s(eats|pets|throws)\\s(apples|cats|baseballs)\\.'\n",
    "casex = re.compile(pattern,re.IGNORECASE)\n",
    "for ele in ['Alice eats apples.','Bob pets cats.','Carol throws baseballs.','Alice throws Apples.','BOB EATS CATS.','RoboCop eats apples.'\n",
    ",'ALICE THROWS FOOTBALLS.','Carol eats 7 cats.']:\n",
    "    print('Output: ',ele,'->',casex.search(ele))"
   ]
  }
 ],
 "metadata": {
  "kernelspec": {
   "display_name": "Python 3 (ipykernel)",
   "language": "python",
   "name": "python3"
  },
  "language_info": {
   "codemirror_mode": {
    "name": "ipython",
    "version": 3
   },
   "file_extension": ".py",
   "mimetype": "text/x-python",
   "name": "python",
   "nbconvert_exporter": "python",
   "pygments_lexer": "ipython3",
   "version": "3.10.9"
  }
 },
 "nbformat": 4,
 "nbformat_minor": 5
}
