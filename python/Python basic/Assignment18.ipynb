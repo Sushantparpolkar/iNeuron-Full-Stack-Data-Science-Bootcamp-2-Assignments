{
 "cells": [
  {
   "cell_type": "markdown",
   "id": "dc27707b",
   "metadata": {},
   "source": [
    "# 1. Create a zoo.py file first. Define the hours() function, which prints the string &#39;Open 9-5 daily&#39;. Then, use the interactive interpreter to import the zoo module and call its hours() function."
   ]
  },
  {
   "cell_type": "code",
   "execution_count": 1,
   "id": "96e15f66",
   "metadata": {},
   "outputs": [],
   "source": [
    "# first i have created zoo.py file i defined hours()function in it as\n",
    "# def hours():\n",
    "#    print(\"Open 9-5\")\n",
    "# I saved this file in current working directory."
   ]
  },
  {
   "cell_type": "code",
   "execution_count": 2,
   "id": "2e9eccd1",
   "metadata": {},
   "outputs": [],
   "source": [
    "import zoo"
   ]
  },
  {
   "cell_type": "code",
   "execution_count": 3,
   "id": "388456d2",
   "metadata": {},
   "outputs": [
    {
     "name": "stdout",
     "output_type": "stream",
     "text": [
      "Open 9-5 daily\n"
     ]
    }
   ],
   "source": [
    "zoo.hours()"
   ]
  },
  {
   "cell_type": "markdown",
   "id": "33f88286",
   "metadata": {},
   "source": [
    "# 2. In the interactive interpreter, import the zoo module as menagerie and call its hours() function."
   ]
  },
  {
   "cell_type": "code",
   "execution_count": 4,
   "id": "0cdd564e",
   "metadata": {},
   "outputs": [],
   "source": [
    "import zoo as menagerie"
   ]
  },
  {
   "cell_type": "code",
   "execution_count": 5,
   "id": "bf8ce706",
   "metadata": {},
   "outputs": [
    {
     "name": "stdout",
     "output_type": "stream",
     "text": [
      "Open 9-5 daily\n"
     ]
    }
   ],
   "source": [
    "menagerie.hours()"
   ]
  },
  {
   "cell_type": "markdown",
   "id": "cd7dc8d1",
   "metadata": {},
   "source": [
    "# 3. Using the interpreter, explicitly import and call the hours() function from zoo."
   ]
  },
  {
   "cell_type": "code",
   "execution_count": 6,
   "id": "0ee7c445",
   "metadata": {},
   "outputs": [],
   "source": [
    "from zoo import hours"
   ]
  },
  {
   "cell_type": "code",
   "execution_count": 7,
   "id": "96d12c73",
   "metadata": {},
   "outputs": [
    {
     "name": "stdout",
     "output_type": "stream",
     "text": [
      "Open 9-5 daily\n"
     ]
    }
   ],
   "source": [
    "hours()"
   ]
  },
  {
   "cell_type": "markdown",
   "id": "146cf9d3",
   "metadata": {},
   "source": [
    "# 4. Import the hours() function as info and call it."
   ]
  },
  {
   "cell_type": "code",
   "execution_count": 8,
   "id": "ec8012d2",
   "metadata": {},
   "outputs": [],
   "source": [
    "from zoo import hours as info"
   ]
  },
  {
   "cell_type": "code",
   "execution_count": 9,
   "id": "f6a4a65e",
   "metadata": {},
   "outputs": [
    {
     "name": "stdout",
     "output_type": "stream",
     "text": [
      "Open 9-5 daily\n"
     ]
    }
   ],
   "source": [
    "info()"
   ]
  },
  {
   "cell_type": "markdown",
   "id": "40f5d20b",
   "metadata": {},
   "source": [
    "# 5. Create a plain dictionary with the key-value pairs &#39;a&#39;: 1, &#39;b&#39;: 2, and &#39;c&#39;: 3, and print it out."
   ]
  },
  {
   "cell_type": "code",
   "execution_count": 10,
   "id": "cfdbf523",
   "metadata": {},
   "outputs": [
    {
     "data": {
      "text/plain": [
       "{'a': 1, 'b': 2, 'c': 3}"
      ]
     },
     "execution_count": 10,
     "metadata": {},
     "output_type": "execute_result"
    }
   ],
   "source": [
    "plain = { 'a':1,'b':2,'c':3}\n",
    "plain"
   ]
  },
  {
   "cell_type": "markdown",
   "id": "1fd71963",
   "metadata": {},
   "source": [
    "# 6.Make an OrderedDict called fancy from the same pairs listed in 5 and print it. Did it print in the same order as plain?"
   ]
  },
  {
   "cell_type": "code",
   "execution_count": 11,
   "id": "703b481b",
   "metadata": {},
   "outputs": [],
   "source": [
    "from collections import OrderedDict"
   ]
  },
  {
   "cell_type": "code",
   "execution_count": 12,
   "id": "7ca95690",
   "metadata": {},
   "outputs": [
    {
     "data": {
      "text/plain": [
       "OrderedDict([('a', 1), ('b', 2), ('c', 3)])"
      ]
     },
     "execution_count": 12,
     "metadata": {},
     "output_type": "execute_result"
    }
   ],
   "source": [
    "fancy = OrderedDict({ 'a':1,'b':2,'c':3}) #  Yes ,OrderedDict keeps the same order of  as plain\n",
    "fancy   "
   ]
  },
  {
   "cell_type": "markdown",
   "id": "d3c5dcf2",
   "metadata": {},
   "source": [
    "# 7. Make a default dictionary called dict_of_lists and pass it the argument list. Make the list dict_of_lists[&#39;a&#39;] and append the value &#39;something for a&#39; to it in one assignment. Print dict_of_lists[&#39;a&#39;]."
   ]
  },
  {
   "cell_type": "code",
   "execution_count": 13,
   "id": "ede322bf",
   "metadata": {},
   "outputs": [
    {
     "data": {
      "text/plain": [
       "defaultdict(list, {'a': ['something for a']})"
      ]
     },
     "execution_count": 13,
     "metadata": {},
     "output_type": "execute_result"
    }
   ],
   "source": [
    "from collections import defaultdict\n",
    "dict_of_lists = defaultdict(list)\n",
    "dict_of_lists['a'].append('something for a')\n",
    "dict_of_lists"
   ]
  }
 ],
 "metadata": {
  "kernelspec": {
   "display_name": "Python 3 (ipykernel)",
   "language": "python",
   "name": "python3"
  },
  "language_info": {
   "codemirror_mode": {
    "name": "ipython",
    "version": 3
   },
   "file_extension": ".py",
   "mimetype": "text/x-python",
   "name": "python",
   "nbconvert_exporter": "python",
   "pygments_lexer": "ipython3",
   "version": "3.10.9"
  }
 },
 "nbformat": 4,
 "nbformat_minor": 5
}
