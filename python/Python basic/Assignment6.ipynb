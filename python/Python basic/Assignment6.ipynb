{
 "cells": [
  {
   "cell_type": "markdown",
   "id": "50152a49",
   "metadata": {},
   "source": [
    "# 1. What are escape characters, and how do you use them?"
   ]
  },
  {
   "cell_type": "markdown",
   "id": "78d2fcf9",
   "metadata": {},
   "source": [
    "An escape character is \\ (backslash) followed by the character you want to insert.\n",
    "e.g \\n new line , \\t tab, \\b backspace,\\' single quote,\\\\backslash."
   ]
  },
  {
   "cell_type": "code",
   "execution_count": 3,
   "id": "9d6fe5b6",
   "metadata": {},
   "outputs": [
    {
     "name": "stdout",
     "output_type": "stream",
     "text": [
      "hello \n",
      "world\n"
     ]
    }
   ],
   "source": [
    "print(\"hello \\nworld\") # print to new line"
   ]
  },
  {
   "cell_type": "code",
   "execution_count": 8,
   "id": "a01e9b88",
   "metadata": {},
   "outputs": [
    {
     "name": "stdout",
     "output_type": "stream",
     "text": [
      "Hi \"ineuron\" team\n"
     ]
    }
   ],
   "source": [
    "print('Hi \"ineuron\\\" team') # single quote"
   ]
  },
  {
   "cell_type": "code",
   "execution_count": 13,
   "id": "7fd672e0",
   "metadata": {},
   "outputs": [
    {
     "name": "stdout",
     "output_type": "stream",
     "text": [
      "Name:\tsushant\n"
     ]
    }
   ],
   "source": [
    "print( 'Name:\\tsushant')# gives space between lines"
   ]
  },
  {
   "cell_type": "code",
   "execution_count": 15,
   "id": "92fe553f",
   "metadata": {},
   "outputs": [
    {
     "name": "stdout",
     "output_type": "stream",
     "text": [
      "country:  \bIndia\n"
     ]
    }
   ],
   "source": [
    "print('country:  \\bIndia') # gives backwardslash"
   ]
  },
  {
   "cell_type": "markdown",
   "id": "60b295f1",
   "metadata": {},
   "source": [
    "# 2. What do the escape characters n and t stand for?"
   ]
  },
  {
   "cell_type": "markdown",
   "id": "7c8806b0",
   "metadata": {},
   "source": [
    " escape charact \\n stands for printing the code on new line and \\t stands for giving space with the line\n",
    "while running code. for example"
   ]
  },
  {
   "cell_type": "code",
   "execution_count": 19,
   "id": "d0407d84",
   "metadata": {},
   "outputs": [
    {
     "name": "stdout",
     "output_type": "stream",
     "text": [
      "Hi ,\n",
      "how are you\n"
     ]
    }
   ],
   "source": [
    "a = \"Hi ,\\nhow are you\"\n",
    "print(a)"
   ]
  },
  {
   "cell_type": "code",
   "execution_count": 24,
   "id": "71c8922a",
   "metadata": {},
   "outputs": [
    {
     "name": "stdout",
     "output_type": "stream",
     "text": [
      "education qualification:\tM.sc(statistics)\n"
     ]
    }
   ],
   "source": [
    "b ='education qualification:\\tM.sc(statistics)'\n",
    "print(b)"
   ]
  },
  {
   "cell_type": "markdown",
   "id": "6ba2e057",
   "metadata": {},
   "source": [
    "# 3. What is the way to include backslash characters in a string?"
   ]
  },
  {
   "cell_type": "markdown",
   "id": "2572d387",
   "metadata": {},
   "source": [
    "\\\\ (baclslash) it is used to add special character to string.\n",
    "To represent specific character or squence we use backslash\n",
    "or to highlight the importance of world.\n",
    "for example"
   ]
  },
  {
   "cell_type": "code",
   "execution_count": 44,
   "id": "56f5fe0d",
   "metadata": {},
   "outputs": [
    {
     "name": "stdout",
     "output_type": "stream",
     "text": [
      "python is \" higher \" programming language\n"
     ]
    }
   ],
   "source": [
    "l = \"python is \\\" higher \\\" programming language\"\n",
    "print(l)"
   ]
  },
  {
   "cell_type": "markdown",
   "id": "c9a12b81",
   "metadata": {},
   "source": [
    "# 4. The string &quot;Howl&#39;s Moving Castle&quot; is a correct value. Why isn&#39;t the single quote character in theword Howl&#39;s not escaped a problem?"
   ]
  },
  {
   "cell_type": "markdown",
   "id": "08b6900f",
   "metadata": {},
   "source": [
    "python uses single quote or double quote character to define string.\n",
    "python treats this single quote character within double quote character as regular character."
   ]
  },
  {
   "cell_type": "code",
   "execution_count": 2,
   "id": "6a0b0768",
   "metadata": {},
   "outputs": [
    {
     "name": "stdout",
     "output_type": "stream",
     "text": [
      "Howl's Moving Castle\n"
     ]
    }
   ],
   "source": [
    "string = \"Howl's Moving Castle\"\n",
    "print(string)"
   ]
  },
  {
   "cell_type": "markdown",
   "id": "6b2ceb4b",
   "metadata": {},
   "source": [
    "# 5. How do you write a string of newlines if you don&#39;t want to use the n character?"
   ]
  },
  {
   "cell_type": "markdown",
   "id": "a82525d2",
   "metadata": {},
   "source": [
    "multiline string allow you to write string on newline without using \\n character."
   ]
  },
  {
   "cell_type": "code",
   "execution_count": 60,
   "id": "3645fde6",
   "metadata": {},
   "outputs": [
    {
     "name": "stdout",
     "output_type": "stream",
     "text": [
      "I like to play football. \n",
      "I used to play football during school days\n"
     ]
    }
   ],
   "source": [
    "text = \"\"\"I like to play football. \n",
    "I used to play football during school days\"\"\"\n",
    "print(text)"
   ]
  },
  {
   "cell_type": "markdown",
   "id": "4fecc259",
   "metadata": {},
   "source": [
    "# 6. What are the values of the given expressions?"
   ]
  },
  {
   "cell_type": "code",
   "execution_count": 61,
   "id": "03099b5e",
   "metadata": {},
   "outputs": [
    {
     "data": {
      "text/plain": [
       "'e'"
      ]
     },
     "execution_count": 61,
     "metadata": {},
     "output_type": "execute_result"
    }
   ],
   "source": [
    "'Hello, world!'[1] # It gives index position 1 of the given string which is e"
   ]
  },
  {
   "cell_type": "code",
   "execution_count": 62,
   "id": "c09aa8e9",
   "metadata": {},
   "outputs": [
    {
     "data": {
      "text/plain": [
       "'Hello'"
      ]
     },
     "execution_count": 62,
     "metadata": {},
     "output_type": "execute_result"
    }
   ],
   "source": [
    "'Hello, world!'[0:5] # It gives indexing value from 0 to 4 which is Hello and exclude 5th index"
   ]
  },
  {
   "cell_type": "code",
   "execution_count": 63,
   "id": "266c4be4",
   "metadata": {},
   "outputs": [
    {
     "data": {
      "text/plain": [
       "'Hello'"
      ]
     },
     "execution_count": 63,
     "metadata": {},
     "output_type": "execute_result"
    }
   ],
   "source": [
    "i'Hello, world!'[:5]# It gives same output as above because indexing always start from zero\n",
    "# it need not to mention it always "
   ]
  },
  {
   "cell_type": "code",
   "execution_count": 64,
   "id": "3c4acf3a",
   "metadata": {},
   "outputs": [
    {
     "data": {
      "text/plain": [
       "'lo, world!'"
      ]
     },
     "execution_count": 64,
     "metadata": {},
     "output_type": "execute_result"
    }
   ],
   "source": [
    "'Hello, world!'[3:] # It indexing start from 3rd index up to end of the string.\n",
    "# because we have not mentioned stop index value"
   ]
  },
  {
   "cell_type": "markdown",
   "id": "273f5b5e",
   "metadata": {},
   "source": [
    "# 7. What are the values of the following expressions?"
   ]
  },
  {
   "cell_type": "code",
   "execution_count": 66,
   "id": "8a5e7995",
   "metadata": {},
   "outputs": [
    {
     "data": {
      "text/plain": [
       "'HELLO'"
      ]
     },
     "execution_count": 66,
     "metadata": {},
     "output_type": "execute_result"
    }
   ],
   "source": [
    "'Hello'.upper() # It writes  all the values of string in uppercase or in block letters"
   ]
  },
  {
   "cell_type": "code",
   "execution_count": 68,
   "id": "e1d78f34",
   "metadata": {},
   "outputs": [
    {
     "data": {
      "text/plain": [
       "True"
      ]
     },
     "execution_count": 68,
     "metadata": {},
     "output_type": "execute_result"
    }
   ],
   "source": [
    "'Hello'.upper().isupper() # It is checking the first letter of the string is in upper case or not\n",
    "# writes the boolen value based on it"
   ]
  },
  {
   "cell_type": "code",
   "execution_count": 70,
   "id": "4f1779dd",
   "metadata": {},
   "outputs": [
    {
     "data": {
      "text/plain": [
       "'hello'"
      ]
     },
     "execution_count": 70,
     "metadata": {},
     "output_type": "execute_result"
    }
   ],
   "source": [
    "'Hello'.upper().lower()# It converts all upper letter to lower letter or small aplhabets in string"
   ]
  },
  {
   "cell_type": "markdown",
   "id": "f9b330bf",
   "metadata": {},
   "source": [
    "# 8. What are the values of the following expressions?"
   ]
  },
  {
   "cell_type": "code",
   "execution_count": 71,
   "id": "7d1aa662",
   "metadata": {},
   "outputs": [
    {
     "data": {
      "text/plain": [
       "['Remember,', 'remember,', 'the', 'fifth', 'of', 'July.']"
      ]
     },
     "execution_count": 71,
     "metadata": {},
     "output_type": "execute_result"
    }
   ],
   "source": [
    "'Remember, remember, the fifth of July.'.split() # It split every string object in single quotes and write it in list "
   ]
  },
  {
   "cell_type": "code",
   "execution_count": 72,
   "id": "23f52019",
   "metadata": {},
   "outputs": [
    {
     "data": {
      "text/plain": [
       "'There-can-only-one.'"
      ]
     },
     "execution_count": 72,
     "metadata": {},
     "output_type": "execute_result"
    }
   ],
   "source": [
    "'-'.join('There can only one.'.split())# It assign '-'notation after every string object."
   ]
  },
  {
   "cell_type": "markdown",
   "id": "42d85694",
   "metadata": {},
   "source": [
    "# 9. What are the methods for right-justifying, left-justifying, and centering a string?"
   ]
  },
  {
   "cell_type": "markdown",
   "id": "45223054",
   "metadata": {},
   "source": [
    "right-justifying is written by this notation str.rjust(width, fillchar=' ') it add spaces to the left of\n",
    "the string until it reaches specified width.\n",
    "\n",
    "left-justifying is written by this notation str.ljust(width, fillchar=' ') it add spaces to the left of\n",
    "the string until it reaches specified width.\n",
    "\n",
    "center-justifying is written by this notation str.center(width, fillchar=' ') it add spaces to the both side of\n",
    "the string until it reaches specified width.\n"
   ]
  },
  {
   "cell_type": "code",
   "execution_count": 82,
   "id": "0579baa7",
   "metadata": {},
   "outputs": [],
   "source": [
    "str = \"Full_stack_datascience_master \""
   ]
  },
  {
   "cell_type": "code",
   "execution_count": 84,
   "id": "326df398",
   "metadata": {},
   "outputs": [
    {
     "ename": "TypeError",
     "evalue": "str.rjust() takes no keyword arguments",
     "output_type": "error",
     "traceback": [
      "\u001b[1;31m---------------------------------------------------------------------------\u001b[0m",
      "\u001b[1;31mTypeError\u001b[0m                                 Traceback (most recent call last)",
      "Cell \u001b[1;32mIn[84], line 1\u001b[0m\n\u001b[1;32m----> 1\u001b[0m \u001b[38;5;28;43mstr\u001b[39;49m\u001b[38;5;241;43m.\u001b[39;49m\u001b[43mrjust\u001b[49m\u001b[43m(\u001b[49m\u001b[38;5;241;43m10\u001b[39;49m\u001b[43m,\u001b[49m\u001b[43mend\u001b[49m\u001b[38;5;241;43m=\u001b[39;49m\u001b[38;5;124;43m\"\u001b[39;49m\u001b[38;5;124;43m-\u001b[39;49m\u001b[38;5;124;43m\"\u001b[39;49m\u001b[43m)\u001b[49m\n",
      "\u001b[1;31mTypeError\u001b[0m: str.rjust() takes no keyword arguments"
     ]
    }
   ],
   "source": [
    "str.rjust(10,end=\"-\")"
   ]
  },
  {
   "cell_type": "code",
   "execution_count": null,
   "id": "8db3491c",
   "metadata": {},
   "outputs": [],
   "source": [
    "str"
   ]
  },
  {
   "cell_type": "raw",
   "id": "ff0b1319",
   "metadata": {},
   "source": [
    "rstrip(),lstrip(),strip()methods are used for removing whitspace from start and end.\n"
   ]
  },
  {
   "cell_type": "code",
   "execution_count": 73,
   "id": "cab1ebdf",
   "metadata": {},
   "outputs": [
    {
     "data": {
      "text/plain": [
       "'sushant'"
      ]
     },
     "execution_count": 73,
     "metadata": {},
     "output_type": "execute_result"
    }
   ],
   "source": [
    "s = \"sushant  \"\n",
    "s.rstrip() # removing space from the right side\n"
   ]
  },
  {
   "cell_type": "code",
   "execution_count": 76,
   "id": "2443d076",
   "metadata": {},
   "outputs": [
    {
     "data": {
      "text/plain": [
       "'Ineuron'"
      ]
     },
     "execution_count": 76,
     "metadata": {},
     "output_type": "execute_result"
    }
   ],
   "source": [
    "s = \"  Ineuron\"\n",
    "s.lstrip() # removing space from left side\n",
    "\n"
   ]
  },
  {
   "cell_type": "code",
   "execution_count": 75,
   "id": "f1b568a1",
   "metadata": {},
   "outputs": [
    {
     "data": {
      "text/plain": [
       "'DataScience'"
      ]
     },
     "execution_count": 75,
     "metadata": {},
     "output_type": "execute_result"
    }
   ],
   "source": [
    "s = \" DataScience  \" \n",
    "s.strip()# removing space from both sides"
   ]
  },
  {
   "cell_type": "markdown",
   "id": "bb65c980",
   "metadata": {},
   "source": [
    "# 10. What is the best way to remove whitespace characters from the start or end?"
   ]
  },
  {
   "cell_type": "markdown",
   "id": "7bf264c5",
   "metadata": {},
   "source": [
    "The lstrip() and rstrip() methods remove whitesapce characters from the left and right ends of a string respectively"
   ]
  }
 ],
 "metadata": {
  "kernelspec": {
   "display_name": "Python 3 (ipykernel)",
   "language": "python",
   "name": "python3"
  },
  "language_info": {
   "codemirror_mode": {
    "name": "ipython",
    "version": 3
   },
   "file_extension": ".py",
   "mimetype": "text/x-python",
   "name": "python",
   "nbconvert_exporter": "python",
   "pygments_lexer": "ipython3",
   "version": "3.10.9"
  }
 },
 "nbformat": 4,
 "nbformat_minor": 5
}
