{
 "cells": [
  {
   "cell_type": "markdown",
   "id": "ceeaad64",
   "metadata": {},
   "source": [
    "# 1. Is the Python Standard Library included with PyInputPlus?"
   ]
  },
  {
   "cell_type": "markdown",
   "id": "6b6d2465",
   "metadata": {},
   "source": [
    "No PyinputPlus is third party module doesn't comes with Python Standard Library.\n",
    "\n",
    "It can be installed using \"pip install Pyinputplus\"\n",
    "\n",
    "It keep asking for text until user inter valid input"
   ]
  },
  {
   "cell_type": "markdown",
   "id": "23f6fa2f",
   "metadata": {},
   "source": [
    "# 2. Why is PyInputPlus commonly imported with import pyinputplus as pypi?"
   ]
  },
  {
   "cell_type": "markdown",
   "id": "0ae60727",
   "metadata": {},
   "source": [
    "It is recommended to import pyinputplus  with shortname pyip so that you can enter the short name\n",
    "while calling the module functions"
   ]
  },
  {
   "cell_type": "markdown",
   "id": "f95952da",
   "metadata": {},
   "source": [
    "# 3. How do you distinguish between inputInt() and inputFloat()?"
   ]
  },
  {
   "cell_type": "raw",
   "id": "6f4f5c3f",
   "metadata": {},
   "source": [
    "inputInt()                                                                       inputFloat()\n",
    "1) This function accept integer value                                   1) This function accept float value\n",
    "2)It takes additional parameter min,max                                 2) It also takes additional parameter\n",
    "greaterThan, lessThan ,limit                                                min,max,greaterThan,lessThan.\n",
    ",time outfor bounds                                                    3) It  return float      \n",
    "3) It return integer"
   ]
  },
  {
   "cell_type": "code",
   "execution_count": 2,
   "id": "595a80de",
   "metadata": {},
   "outputs": [
    {
     "name": "stdout",
     "output_type": "stream",
     "text": [
      "Requirement already satisfied: pyinputplus in c:\\users\\sushant\\anaconda3\\lib\\site-packages (0.2.12)\n",
      "Requirement already satisfied: stdiomask>=0.0.3 in c:\\users\\sushant\\anaconda3\\lib\\site-packages (from pyinputplus) (0.0.6)\n",
      "Requirement already satisfied: pysimplevalidate>=0.2.7 in c:\\users\\sushant\\anaconda3\\lib\\site-packages (from pyinputplus) (0.2.12)\n",
      "Note: you may need to restart the kernel to use updated packages.\n"
     ]
    }
   ],
   "source": [
    "pip install pyinputplus"
   ]
  },
  {
   "cell_type": "code",
   "execution_count": 3,
   "id": "7420b968",
   "metadata": {},
   "outputs": [],
   "source": [
    "import pyinputplus as pyip"
   ]
  },
  {
   "cell_type": "code",
   "execution_count": 13,
   "id": "7a7e63b4",
   "metadata": {},
   "outputs": [
    {
     "name": "stdout",
     "output_type": "stream",
     "text": [
      "Enter a valid keyword:sush\n",
      "'sush' is not an integer.\n",
      "Enter a valid keyword:10\n",
      "Number must be less than 9.\n",
      "Enter a valid keyword:8\n",
      "8\n"
     ]
    }
   ],
   "source": [
    "integer = pyip.inputInt(prompt = \"Enter a valid keyword:\",limit = 3,min =4,lessThan=9 )\n",
    "print(integer)"
   ]
  },
  {
   "cell_type": "code",
   "execution_count": 21,
   "id": "7fac6e4a",
   "metadata": {},
   "outputs": [
    {
     "name": "stdout",
     "output_type": "stream",
     "text": [
      "Enter a valid float number:5\n",
      "Entered float number: 5.0\n"
     ]
    }
   ],
   "source": [
    "import pyinputplus as pyip\n",
    "\n",
    "num_float = pyip.inputFloat(prompt=\"Enter a valid float number:\", limit=2, greaterThan=4)\n",
    "print(\"Entered float number:\", num_float)\n"
   ]
  },
  {
   "cell_type": "markdown",
   "id": "9fed990f",
   "metadata": {},
   "source": [
    "# 4. Using PyInputPlus, how do you ensure that the user enters a whole number between 0 and 99?"
   ]
  },
  {
   "cell_type": "markdown",
   "id": "cc39e674",
   "metadata": {},
   "source": [
    "In PyInputPlus module  using function like inputNum() and inputInt()and in these\n",
    "function adding additional parameter like min and max  we can get whole number between 0 to 99"
   ]
  },
  {
   "cell_type": "code",
   "execution_count": 25,
   "id": "1ecf104a",
   "metadata": {},
   "outputs": [],
   "source": [
    "import pyinputplus as pyip"
   ]
  },
  {
   "cell_type": "code",
   "execution_count": 23,
   "id": "e57f53fd",
   "metadata": {},
   "outputs": [
    {
     "name": "stdout",
     "output_type": "stream",
     "text": [
      " Enter whole number between 0 to 99:102\n",
      "Number must be at maximum 100.\n",
      " Enter whole number between 0 to 99:0\n",
      "Number must be at minimum 1.\n",
      " Enter whole number between 0 to 99:25\n",
      "Entered whole number: 25\n"
     ]
    }
   ],
   "source": [
    "whole_num =pyip.inputNum(prompt=\" Enter whole number between 0 to 99:\",min =1,max=100)\n",
    "print(\"Entered whole number:\",whole_num)"
   ]
  },
  {
   "cell_type": "markdown",
   "id": "69264930",
   "metadata": {},
   "source": [
    "# 5. What is transferred to the keyword arguments allowRegexes and blockRegexes?"
   ]
  },
  {
   "cell_type": "markdown",
   "id": "37708642",
   "metadata": {},
   "source": [
    "allowRegexes and blcokRegexes are keyword arguments in inputStr()function \n",
    "allowRegexes this argument suggest which input are allowed\n",
    "any input string matches any expression in allowRegexes parameter they\n",
    "consider it as valid and accept the input.\n",
    "blockRegexes this argument suggest which input should be blocked.\n",
    " this reject the any input string  matches the\n",
    "blockRegexes it considet as invalid and reject."
   ]
  },
  {
   "cell_type": "markdown",
   "id": "2fba3edf",
   "metadata": {},
   "source": [
    "email = pyip.inputStr(prompt=\"Enter your email address: \", allowRegexes=[r'^\\w+@\\w+\\.\\w+$'])\n",
    "print(\"Email:\", email)"
   ]
  },
  {
   "cell_type": "code",
   "execution_count": 30,
   "id": "9a4e0d43",
   "metadata": {},
   "outputs": [
    {
     "name": "stdout",
     "output_type": "stream",
     "text": [
      "Create a username: Sushant\n",
      "Username created: Sushant\n"
     ]
    }
   ],
   "source": [
    "username = pyip.inputStr(prompt=\"Create a username: \", blockRegexes=[r'\\W'])\n",
    "print(\"Username created:\", username)"
   ]
  },
  {
   "cell_type": "markdown",
   "id": "d8cab627",
   "metadata": {},
   "source": [
    "# 6. If a blank input is entered three times, what does inputStr(limit=3) do?"
   ]
  },
  {
   "cell_type": "code",
   "execution_count": 39,
   "id": "e5c6f23e",
   "metadata": {},
   "outputs": [
    {
     "name": "stdout",
     "output_type": "stream",
     "text": [
      "Enter a text :\n",
      "Blank values are not allowed.\n",
      "Enter a text :\n",
      "Blank values are not allowed.\n",
      "Enter a text :\n",
      "Blank values are not allowed.\n",
      "An exception occurred: \n"
     ]
    }
   ],
   "source": [
    "# It will iterate it 3 times a if not valid keyword got it will raise which exception has occured in the code.\n",
    "try:\n",
    "    a = pyip.inputStr(prompt=\"Enter a text :\",limit=3)\n",
    "    print(a)\n",
    "except Exception as e:\n",
    "    print(\"An exception occurred:\", e)"
   ]
  },
  {
   "cell_type": "markdown",
   "id": "e8106b94",
   "metadata": {},
   "source": [
    "# 7. If blank input is entered three times, what does inputStr(limit=3, default=&#39;hello&#39;) do?"
   ]
  },
  {
   "cell_type": "code",
   "execution_count": 42,
   "id": "fdfa878f",
   "metadata": {},
   "outputs": [
    {
     "name": "stdout",
     "output_type": "stream",
     "text": [
      "Enter a text :\n",
      "Blank values are not allowed.\n",
      "Enter a text :\n",
      "Blank values are not allowed.\n",
      "Enter a text :\n",
      "Blank values are not allowed.\n",
      "hello\n"
     ]
    }
   ],
   "source": [
    "# It will iterate it up to the limit i.e 3 times and still valid input\n",
    "# is not found it will give default keyward.\n",
    "b = pyip.inputStr(prompt=\"Enter a text :\",limit=3,default=\"hello\")\n",
    "print(b)"
   ]
  }
 ],
 "metadata": {
  "kernelspec": {
   "display_name": "Python 3 (ipykernel)",
   "language": "python",
   "name": "python3"
  },
  "language_info": {
   "codemirror_mode": {
    "name": "ipython",
    "version": 3
   },
   "file_extension": ".py",
   "mimetype": "text/x-python",
   "name": "python",
   "nbconvert_exporter": "python",
   "pygments_lexer": "ipython3",
   "version": "3.10.9"
  }
 },
 "nbformat": 4,
 "nbformat_minor": 5
}
