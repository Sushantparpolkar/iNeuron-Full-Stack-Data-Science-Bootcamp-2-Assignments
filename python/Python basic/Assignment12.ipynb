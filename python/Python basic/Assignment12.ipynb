{
 "cells": [
  {
   "cell_type": "markdown",
   "id": "8fa79fb2",
   "metadata": {},
   "source": [
    "# 1. In what modes should the PdfFileReader() and PdfFileWriter() File objects will be opened?"
   ]
  },
  {
   "cell_type": "markdown",
   "id": "951a5b79",
   "metadata": {},
   "source": [
    "1)Since pdf files are binary while reading it should specify in PdfFileReader() use 'rb' mode i.e read binary\n",
    "PdfFileReader() this class is used for reading  pdf files from existing folder.\n",
    "\n",
    "2)PdfFileWrite() This class is usef for creating new pdf file  and modifying existing pdf file.\n",
    "for this mode 'wb' is used. Write in binary mode as pdf files are binary."
   ]
  },
  {
   "cell_type": "code",
   "execution_count": 13,
   "id": "87cda9cc",
   "metadata": {},
   "outputs": [
    {
     "name": "stdout",
     "output_type": "stream",
     "text": [
      "Requirement already satisfied: PyPDF2 in c:\\users\\sushant\\anaconda3\\lib\\site-packages (3.0.1)\n",
      "Note: you may need to restart the kernel to use updated packages.\n"
     ]
    }
   ],
   "source": [
    "pip install PyPDF2"
   ]
  },
  {
   "cell_type": "markdown",
   "id": "ffd92db5",
   "metadata": {},
   "source": [
    "# 2. From a PdfFileReader object, how do you get a Page object for page 5?"
   ]
  },
  {
   "cell_type": "markdown",
   "id": "8670fb87",
   "metadata": {},
   "source": [
    "calling reader.pages[page_number] method will give you Page object for page no 5 as indexing starts with 0"
   ]
  },
  {
   "cell_type": "code",
   "execution_count": 30,
   "id": "5d85c627",
   "metadata": {},
   "outputs": [
    {
     "name": "stdout",
     "output_type": "stream",
     "text": [
      "Chapter 1\n",
      "Template\n",
      "1.1 How to compilea .texﬁleto a.pdfﬁle\n",
      "1.1.1 Tools\n",
      "To processthe ﬁlesyou(may)need:\n",
      "\u000fpdflatex (for example from tetexpackage\u00150.9-6, which you can\n",
      "getfromRed Hat5.2 );\n",
      "\u000facroread (a PDFviewer,availablefrom http://www.adobe.com/ );\n",
      "\u000fghostscript\u00155.10(forexamplefrom RedHatContrib )andghostview\n",
      "orgv(fromRedHatLinux);\n",
      "\u000fefaxpackagecouldbe useful,ifyou plantofax documents.\n",
      "1.1.2 How touse the tools\n",
      "Follow thesesteps:\n",
      "1.putallsource .texﬁlesinonedirectory,thenchdirtothedirectory(orput\n",
      "someofthemin theL ATEXsearchpath—if youknowhowto dothis);\n",
      "2.run“pdflatex file.tex ”onthemainﬁleofthedocumentthreetimes\n",
      "(three—to preparevalidtable ofcontents);\n",
      "3.to see or print the result use acroread (unfortunately some versions of\n",
      "acroread mayproducePostScriptwhichistoo complex),or\n",
      "5\n"
     ]
    }
   ],
   "source": [
    "import PyPDF2\n",
    "\n",
    "with open(r'C:\\Users\\SUSHANT\\Desktop\\pp\\sample.pdf', 'rb') as file:\n",
    "    pdf_reader = PyPDF2.PdfReader(file)\n",
    "\n",
    "    page_number = 4  # Page 5 corresponds to index 4 (0-based index)\n",
    "    page = pdf_reader.pages[page_number]\n",
    "    extracted_text = page.extract_text()\n",
    "    \n",
    "    print(extracted_text)  \n"
   ]
  },
  {
   "cell_type": "code",
   "execution_count": 39,
   "id": "14f8d3ed",
   "metadata": {},
   "outputs": [
    {
     "name": "stdout",
     "output_type": "stream",
     "text": [
      "Chapter 1\n",
      "Template\n",
      "1.1 How to compilea .texﬁleto a.pdfﬁle\n",
      "1.1.1 Tools\n",
      "To processthe ﬁlesyou(may)need:\n",
      "\u000fpdflatex (for example from tetexpackage\u00150.9-6, which you can\n",
      "getfromRed Hat5.2 );\n",
      "\u000facroread (a PDFviewer,availablefrom http://www.adobe.com/ );\n",
      "\u000fghostscript\u00155.10(forexamplefrom RedHatContrib )andghostview\n",
      "orgv(fromRedHatLinux);\n",
      "\u000fefaxpackagecouldbe useful,ifyou plantofax documents.\n",
      "1.1.2 How touse the tools\n",
      "Follow thesesteps:\n",
      "1.putallsource .texﬁlesinonedirectory,thenchdirtothedirectory(orput\n",
      "someofthemin theL ATEXsearchpath—if youknowhowto dothis);\n",
      "2.run“pdflatex file.tex ”onthemainﬁleofthedocumentthreetimes\n",
      "(three—to preparevalidtable ofcontents);\n",
      "3.to see or print the result use acroread (unfortunately some versions of\n",
      "acroread mayproducePostScriptwhichistoo complex),or\n",
      "5\n"
     ]
    }
   ],
   "source": [
    "import PyPDF2\n",
    "\n",
    "with open(r'C:\\Users\\SUSHANT\\Desktop\\pp\\sample.pdf', 'rb') as file:\n",
    "    pdf_reader = PyPDF2.PdfReader(file)\n",
    "    \n",
    "    # Get Page object for page 5 (0-based index)\n",
    "   # page_number = 4  # Page 5 corresponds to index 4 (0-based index)\n",
    "    page = pdf_reader.pages[page_number]\n",
    "    print(page.extract_text())\n",
    "    \n"
   ]
  },
  {
   "cell_type": "markdown",
   "id": "71550dd2",
   "metadata": {},
   "source": [
    "# 3. What PdfFileReader variable stores the number of pages in the PDF document?"
   ]
  },
  {
   "cell_type": "code",
   "execution_count": 40,
   "id": "10809c26",
   "metadata": {},
   "outputs": [],
   "source": [
    "In PdfReader variable len( pdfReader.pages) will store the number of pages in the PDF document."
   ]
  },
  {
   "cell_type": "code",
   "execution_count": 48,
   "id": "4cfa4624",
   "metadata": {},
   "outputs": [
    {
     "name": "stdout",
     "output_type": "stream",
     "text": [
      "10\n"
     ]
    }
   ],
   "source": [
    "import PyPDF2\n",
    "file = open(r'C:\\Users\\SUSHANT\\Desktop\\pp\\sample.pdf','rb')\n",
    "pdfReader = PyPDF2.PdfReader(file)\n",
    "number_pages = pdfReader.pages\n",
    "print(len(number_pages))"
   ]
  },
  {
   "cell_type": "markdown",
   "id": "39cdf7fb",
   "metadata": {},
   "source": [
    "# 4. If a PdfFileReader object’s PDF is encrypted with the password swordfish, what must you do before you can obtain Page objects from it?"
   ]
  },
  {
   "cell_type": "raw",
   "id": "02c66e9b",
   "metadata": {},
   "source": [
    "If PdfReader object's PDF is encrypted with password 'swordfish'use  function decrypt()to obtain page objects from it."
   ]
  },
  {
   "cell_type": "code",
   "execution_count": 1,
   "id": "e8237a3d",
   "metadata": {},
   "outputs": [
    {
     "name": "stdout",
     "output_type": "stream",
     "text": [
      "Sample PDF Document\n",
      "RobertMaron\n",
      "Grzegorz Grudzi ´nski\n",
      "February20, 1999\n",
      "2\n",
      "Contents1\n",
      "Template5 1.1\n",
      "How tocompilea .texﬁleto a .pdfﬁle. . . . . . . . . . . . .5 1.1.1\n",
      "Tools. . . . . . . . . . . . . . . . . . . . . . . . . . . .5 1.1.2\n",
      "How to usethetools. . . . . . . . . . . . . . . . . . . .5 1.2\n",
      "How towritea document. . . . . . . . . . . . . . . . . . . . . .6 1.2.1\n",
      "Themaindocument. . . . . . . . . . . . . . . . . . . . .6 1.2.2\n",
      "Chapters. . . . . . . . . . . . . . . . . . . . . . . . . .6 1.2.3\n",
      "Spell-checking. . . . . . . . . . . . . . . . . . . . . . .6 1.3\n",
      "L ATEXand pdfL ATEXcapabilities. . . . . . . . . . . . . . . . . . .7 1.3.1\n",
      "Overview. . . . . . . . . . . . . . . . . . . . . . . . . .7 1.3.2\n",
      "L ATEX. . . . . . . . . . . . . . . . . . . . . . . . . . . .7 1.3.3\n",
      "pdfL ATEX. . . . . . . . . . . . . . . . . . . . . . . . . .7 1.3.4\n",
      "Examples. . . . . . . . . . . . . . . . . . . . . . . . . .7 3\n",
      "\n",
      "4 CONTENTS\n",
      "Chapter 1\n",
      "Template\n",
      "1.1 How to compilea .texﬁleto a.pdfﬁle\n",
      "1.1.1 Tools\n",
      "To processthe ﬁlesyou(may)need:\u000f\n",
      "pdflatex (for example from tetexpackage\u00150.9-6, which you can\n",
      "getfromRed Hat5.2); \u000f\n",
      "acroread (a PDFviewer,availablefromhttp://www .adobe.com/); \u000f\n",
      "ghostscript\u00155.10(forexamplefromRed HatContrib) andghostview\n",
      "orgv(fromRedHatLinux);\u000f\n",
      "efaxpackagecouldbe useful,ifyou plantofax documents.\n",
      "1.1.2 How touse the tools\n",
      "Follow thesesteps:1.\n",
      "putallsource .texﬁlesinonedirectory,thenchdirtothedirectory(orput\n",
      "someofthemin theL ATEXsearchpath—if youknowhowto dothis);2.\n",
      "run“pdflatex file.tex ”onthemainﬁleofthedocumentthreetimes\n",
      "(three—to preparevalidtable ofcontents);3.\n",
      "to see or print the result use acroread (unfortunately some versions of\n",
      "acroread mayproducePostScriptwhichistoo complex),or5\n",
      "\n",
      "6 CHAPTER1. TEMPLATE4.\n",
      "runghostscript : “gv file.pdf ” todisplayor:\n",
      "“gs -dNOPAUSE -sDEVICE=pswrite -q -dBATCH -sOutputFile=ﬁle.ps ﬁle.pdf”\n",
      "to produce a PostScriptﬁle;5.\n",
      "run“fax send phone-number file.ps ”asroottosendafax,or—ifyou\n",
      "knowhowtodothis—modifythe faxscripttobeabletofax .pdfﬁlesdirectly\n",
      "(you have to insert“ |%PDF*” somewhere...).\n",
      "1.2 How towrite adocument\n",
      "1.2.1 Themain document\n",
      "Choose the name of the document, say document . Copy template.tex to\n",
      "document.tex , then edit it, change the title, the authors and set proper in-\n",
      "clude(s)for allthechapters.\n",
      "1.2.2 Chapters\n",
      "Eachchaptershouldbeincludedinthemaindocumentasaseparateﬁle. Youcan\n",
      "choose any name for the ﬁle, but we suggest adding a sufﬁx to the name of the\n",
      "mainﬁle. Forour examplewe usetheﬁle name document_chapter1.tex .\n",
      "First, copy template_chapter.tex todocument_chapter1.tex\n",
      "andaddthe line\\include{document_chapter1}\n",
      "inthedocument.tex ,thenedit document_chapter1.tex ,changethe\n",
      "chaptertitleand editthebody ofthechapterappropriately.\n",
      "1.2.3 Spell-checking\n",
      "Douse aspell-checker, please!\n",
      "You may also want to check grammar, style and so on. Actually you should\n",
      "doit (ifyou have enoughsparetime). But you mustcheckspelling!\n",
      "You can use the ispell package for this, from within emacs, or from the\n",
      "commandline:ispell\n",
      "-t document_chapter1.tex\n",
      "1.3. LATEX ANDPDFL ATEXCAPABILITIES 71.3\n",
      "LATEX andpdfLATEX capabilities\n",
      "1.3.1 Overview\n",
      "First you edit your source .texﬁle. In L ATEX you compile it using the latex\n",
      "command to a .dviﬁle (which stands for device-independent). The .dviﬁle\n",
      "can be converted to any device-dependent format you like using an appropriate\n",
      "driver, forexample dvips.\n",
      "When producing .pdfﬁles you should use pdflatex , which produces di-\n",
      "rectly.pdfﬁles out of .texsources. Note that in the .texﬁle you may need\n",
      "to usesomePDFspeciﬁcpackages.\n",
      "For viewing .texﬁles use your favourite text editor, for viewing .dviﬁles\n",
      "under X Window System use xdvicommand, .psﬁles can be viewed with gv\n",
      "(orghostview ) and.pdfﬁleswith acroread ,gvorxpdf.\n",
      "1.3.2 LATEX\n",
      "A lotof examplescanbe foundinthis document.\n",
      "Youshouldalsoprint\u000f\n",
      "doc/latex/general/latex2e.dvi and\u000f\n",
      "doc/latex/general/lshort2e.dvi\n",
      "fromyour tetexdistribution(usuallyin\u000f\n",
      "/usr/share/texmf or\u000f\n",
      "/usr/lib/texmf/texmf ).\n",
      "1.3.3 pdfLATEX\n",
      "Consult doc/pdftex/manual.pdf from your tetexdistribution for more\n",
      "details. Veryusefulinformationscanbefoundinthe hyperref andgraphics\n",
      "packagemanuals:\u000f\n",
      "doc/latex/hyperref/manual.pdf and\u000f\n",
      "doc/latex/graphics/grfguide.dvi .\n",
      "1.3.4 Examples\n",
      "ReferencesMIMUW\n",
      "\n",
      "8 CHAPTER1. TEMPLATEHyperlinks\n",
      "Thisisa target.And\n",
      "thisis alink.Dashes,\n",
      "etc.\n",
      "Therearethreekindsof horizontaldash:\u000f\n",
      "- (useinsidewords;forexample“home-page”,“X-rated”)\u000f\n",
      "– (usethisonebetweennumbers;for example“pages2–22”)\u000f\n",
      "— (usethisoneas a sentenceseparator— like here)\n",
      "Nationalcharacters\u000f\n",
      "ó, é,í, ...\u000f\n",
      "è, à,ì, ...\u000f\n",
      "ô, ê,...\u000f\n",
      "õ, ñ,...\u000f\n",
      "ö, ë,...\u000f\n",
      "˙ z\u000f\n",
      "˛ a, ˛ e\u000f\n",
      "ł, ø,ß\n",
      "There are other ways to do this, see the documentation for inputenc pack-\n",
      "age.\n",
      "Reserved characters\n",
      "Some characters have some special meaning, thus cannot be entered in the usual\n",
      "way.\u000f\n",
      "$ &% # _{ }\u000f\n",
      "n\u000f\n",
      "˜ ˆ\n",
      "1.3. LATEX ANDPDFL ATEXCAPABILITIES 9Math\n",
      "\u000f\n",
      "12,12n, ...\u000f\n",
      "i1,i2n, ...\u000f\n",
      "12\n",
      ",2n2\n",
      "\u00003,...\u000f\n",
      "\u000b",
      ",\f",
      ",\r",
      ",\n",
      ", ...\u000f\n",
      "!,),\u0015,6=,2,?, ...\u000f\n",
      "p2\n",
      ", ...\u000f\n",
      "2 + 2, ...\n",
      "Formoreexamplesandsymbolsseechapter3of lshort2e.dvi .\n",
      "Fonts\u000f\n",
      "Roman\u000f\n",
      "Emphasis\u000f\n",
      "Mediumweight—the default\u000f\n",
      "Boldface\u000f\n",
      "Upright\u000f\n",
      "Slanted\u000f\n",
      "Sansserif\u000f\n",
      "SMALL CAPS\u000f\n",
      "Typewriter\u000f\n",
      "andsizes:–\n",
      "tiny–\n",
      "scriptsize–\n",
      "footnotesize–\n",
      "small–\n",
      "normalsize\n",
      "10 CHAPTER1. TEMPLATE–\n",
      "large–\n",
      "Large–\n",
      "LARGE–\n",
      "huge–\n",
      "Huge\n"
     ]
    }
   ],
   "source": [
    "#Example Code:\n",
    "from PyPDF2 import PdfReader\n",
    "pdf_reader = PdfReader(r'C:\\Users\\SUSHANT\\Desktop\\pp\\sample-protected.pdf')\n",
    "if pdf_reader.is_encrypted: # to check whether the pdf is encrypted or not\n",
    "    pdf_reader.decrypt(\"swordfish\")\n",
    "for page in pdf_reader.pages:\n",
    "    print(page.extract_text()) #\n"
   ]
  },
  {
   "cell_type": "markdown",
   "id": "b57f6e67",
   "metadata": {},
   "source": [
    "# 5. What methods do you use to rotate a page?\n"
   ]
  },
  {
   "cell_type": "code",
   "execution_count": 6,
   "id": "1f71d548",
   "metadata": {},
   "outputs": [],
   "source": [
    "To rotate pdf rotateClockwise()and rotateCounterClockwise()methods are used."
   ]
  },
  {
   "cell_type": "markdown",
   "id": "9d4bc101",
   "metadata": {},
   "source": [
    "# 6. What is the difference between a Run object and a Paragraph object?"
   ]
  },
  {
   "cell_type": "raw",
   "id": "da507526",
   "metadata": {},
   "source": [
    "Run object                                                             Paragraph object"
   ]
  },
  {
   "cell_type": "raw",
   "id": "af22ffe1",
   "metadata": {},
   "source": [
    "Run object presents contiguous run of text                       It represent paragraph object of text within document.\n",
    "within a paragraph.It is segment of text that                    It is container that can hold multiple  run object    \n",
    "share same character of formatting properties                   or other inline element. A paragraph consist of one or more\n",
    "like font,size,color,style                                      sentence or phrase used to organize structure and content.\n",
    "A run can passes across multiple world or within                It has his own properties like alignment, indention and \n",
    "a world if there is change in the format of                     space.\n",
    "properties.\n",
    "Run allows you to apply different formatting\n",
    "to different part of the text within\n",
    "paragraph."
   ]
  },
  {
   "cell_type": "markdown",
   "id": "125adb2a",
   "metadata": {},
   "source": [
    "# 7. How do you obtain a list of Paragraph objects for a Document object that’s stored in a variable named doc?"
   ]
  },
  {
   "cell_type": "code",
   "execution_count": 15,
   "id": "2d11a804",
   "metadata": {},
   "outputs": [],
   "source": [
    "from docx import Document"
   ]
  },
  {
   "cell_type": "code",
   "execution_count": 20,
   "id": "56715a85",
   "metadata": {},
   "outputs": [
    {
     "name": "stdout",
     "output_type": "stream",
     "text": [
      "Sample PDF Document\n",
      "Robert Maron\n",
      "Grzegorz Grudzi´nski\n",
      "February 20, 1999\n",
      "2\n",
      "Contents\n",
      "1 Template 5\n",
      "1.1 How to compile a .tex file to a .pdf file . . . . . . . . . . . . . 5\n",
      "1.1.1 Tools . . . . . . . . . . . . . . . . . . . . . . . . . . . . 5\n",
      "1.1.2 How to use the tools . . . . . . . . . . . . . . . . . . . . 5\n",
      "1.2 How to write a document . . . . . . . . . . . . . . . . . . . . . . 6\n",
      "1.2.1 The main document . . . . . . . . . . . . . . . . . . . . . 6\n",
      "1.2.2 Chapters . . . . . . . . . . . . . . . . . . . . . . . . . . 6\n",
      "1.2.3 Spell-checking . . . . . . . . . . . . . . . . . . . . . . . 6\n",
      "1.3 LATEX and pdfLATEX capabilities . . . . . . . . . . . . . . . . . . . 7\n",
      "1.3.1 Overview . . . . . . . . . . . . . . . . . . . . . . . . . . 7\n",
      "1.3.2 LATEX . . . . . . . . . . . . . . . . . . . . . . . . . . . . 7\n",
      "1.3.3 pdfLATEX . . . . . . . . . . . . . . . . . . . . . . . . . . 7\n",
      "1.3.4 Examples . . . . . . . . . . . . . . . . . . . . . . . . . . 7\n",
      "3\n",
      "4 CONTENTS\n",
      "Chapter 1\n",
      "Template\n",
      "1.1 How to compile a .tex file to a .pdf file\n",
      "1.1.1 Tools\n",
      "To process the files you (may) need:\n",
      "_ pdflatex (for example from tetex package _ 0.9-6, which you can\n",
      "get from Red Hat 5.2);\n",
      "_ acroread (a PDF viewer, available from http://www.adobe.com/);\n",
      "_ ghostscript_5.10 (for example from Red Hat Contrib) and ghostview\n",
      "or gv (from RedHat Linux);\n",
      "_ efax package could be useful, if you plan to fax documents.\n",
      "1.1.2 How to use the tools\n",
      "Follow these steps:\n",
      "1. put all source .tex files in one directory, then chdir to the directory (or put\n",
      "some of them in the LATEXsearch path—if you know how to do this);\n",
      "2. run “pdflatex file.tex” on the main file of the document three times\n",
      "(three—to prepare valid table of contents);\n",
      "3. to see or print the result use acroread (unfortunately some versions of\n",
      "acroread may produce PostScript which is too complex), or\n",
      "5\n",
      "6 CHAPTER 1. TEMPLATE\n",
      "4. run ghostscript: “gv file.pdf” to display or:\n",
      "“gs -dNOPAUSE -sDEVICE=pswrite -q -dBATCH -sOutputFile=file.ps file.pdf”\n",
      "to produce a PostScript file;\n",
      "5. run “fax send phone-number file.ps” as root to send a fax, or—if you\n",
      "know how to do this—modify the fax script to be able to fax .pdf files directly\n",
      "(you have to insert “|%PDF*” somewhere. . . ).\n",
      "1.2 How to write a document\n",
      "1.2.1 The main document\n",
      "Choose the name of the document, say document. Copy template.tex to\n",
      "document.tex, then edit it, change the title, the authors and set proper include(\n",
      "s) for all the chapters.\n",
      "1.2.2 Chapters\n",
      "Each chapter should be included in the main document as a separate file. You can\n",
      "choose any name for the file, but we suggest adding a suffix to the name of the\n",
      "main file. For our example we use the file name document_chapter1.tex.\n",
      "First, copy template_chapter.tex to document_chapter1.tex\n",
      "and add the line\n",
      "\\include{document_chapter1}\n",
      "in the document.tex, then edit document_chapter1.tex, change the\n",
      "chapter title and edit the body of the chapter appropriately.\n",
      "1.2.3 Spell-checking\n",
      "Do use a spell-checker, please!\n",
      "You may also want to check grammar, style and so on. Actually you should\n",
      "do it (if you have enough spare time). But you must check spelling!\n",
      "You can use the ispell package for this, from within emacs, or from the\n",
      "command line:\n",
      "ispell -t document_chapter1.tex\n",
      "1.3. LATEX AND PDFLATEX CAPABILITIES 7\n",
      "1.3 LATEX and pdfLATEX capabilities\n",
      "1.3.1 Overview\n",
      "First you edit your source .tex file. In LATEX you compile it using the latex\n",
      "command to a .dvi file (which stands for device-independent). The .dvi file\n",
      "can be converted to any device-dependent format you like using an appropriate\n",
      "driver, for example dvips.\n",
      "When producing .pdf files you should use pdflatex, which produces directly\n",
      ".pdf files out of .tex sources. Note that in the .tex file you may need\n",
      "to use some PDF specific packages.\n",
      "For viewing .tex files use your favourite text editor, for viewing .dvi files\n",
      "under X Window System use xdvi command, .ps files can be viewed with gv\n",
      "(or ghostview) and .pdf files with acroread, gv or xpdf.\n",
      "1.3.2 LATEX\n",
      "A lot of examples can be found in this document.\n",
      "You should also print\n",
      "_ doc/latex/general/latex2e.dvi and\n",
      "_ doc/latex/general/lshort2e.dvi\n",
      "from your tetex distribution (usually in\n",
      "_ /usr/share/texmf or\n",
      "_ /usr/lib/texmf/texmf).\n",
      "1.3.3 pdfLATEX\n",
      "Consult doc/pdftex/manual.pdf from your tetex distribution for more\n",
      "details. Very useful informations can be found in the hyperref and graphics\n",
      "package manuals:\n",
      "_ doc/latex/hyperref/manual.pdf and\n",
      "_ doc/latex/graphics/grfguide.dvi.\n",
      "1.3.4 Examples\n",
      "References\n",
      "MIMUW\n",
      "8 CHAPTER 1. TEMPLATE\n",
      "Hyperlinks\n",
      "This is a target.\n",
      "And this is a link.\n",
      "Dashes, etc.\n",
      "There are three kinds of horizontal dash:\n",
      "_ - (use inside words; for example “home-page”, “X-rated”)\n",
      "_ – (use this one between numbers; for example “pages 2–22”)\n",
      "_ — (use this one as a sentence separator—like here)\n",
      "National characters\n",
      "_ ó, é, í, . . .\n",
      "_ è, à, ì, . . .\n",
      "_ ô, ê, . . .\n",
      "_ õ, ñ, . . .\n",
      "_ ö, ë, . . .\n",
      "_ ˙z\n",
      "_ a˛, e˛\n",
      "_ ł, ø, ß\n",
      "There are other ways to do this, see the documentation for inputenc package.\n",
      "Reserved characters\n",
      "Some characters have some special meaning, thus cannot be entered in the usual\n",
      "way.\n",
      "_ $ & % # _ { }\n",
      "_ n\n",
      "_ ˜ ˆ\n",
      "1.3. LATEX AND PDFLATEX CAPABILITIES 9\n",
      "Math\n",
      "_ 12, 12n, . . .\n",
      "_ i1, i2n, . . .\n",
      "_ 1\n",
      "2 , 2n\n",
      "2􀀀3 , . . .\n",
      "_ _, _, , , . . .\n",
      "_ !,), _, 6=, 2, ?, . . .\n",
      "_\n",
      "p\n",
      "2, . . .\n",
      "_ 2 + 2, . . .\n",
      "For more examples and symbols see chapter 3 of lshort2e.dvi.\n",
      "Fonts\n",
      "_ Roman\n",
      "_ Emphasis\n",
      "_ Medium weight—the default\n",
      "_ Boldface\n",
      "_ Upright\n",
      "_ Slanted\n",
      "_ Sans serif\n",
      "_ SMALL CAPS\n",
      "_ Typewriter\n",
      "_ and sizes:\n",
      "– tiny\n",
      "– scriptsize\n",
      "– footnotesize\n",
      "– small\n",
      "– normalsize\n",
      "10 CHAPTER 1. TEMPLATE\n",
      "– large\n",
      "– Large\n",
      "– LARGE\n",
      "– huge\n",
      "– Huge\n"
     ]
    }
   ],
   "source": [
    "doc = Document(r'C:\\Users\\SUSHANT\\Desktop\\pp\\pre.docx')\n",
    "paragraphs = doc.paragraphs\n",
    "for paragraph in paragraphs:\n",
    "    print(paragraph.text)"
   ]
  },
  {
   "cell_type": "markdown",
   "id": "5ae25036",
   "metadata": {},
   "source": [
    "# 8. What type of object has bold, underline, italic, strike, and outline variables?"
   ]
  },
  {
   "cell_type": "markdown",
   "id": "6a71ffdb",
   "metadata": {},
   "source": [
    "The run object in python library has bold,underline ,italic, strike, outline variables for formatting text."
   ]
  },
  {
   "cell_type": "markdown",
   "id": "3424b020",
   "metadata": {},
   "source": [
    "# 9. What is the difference between False, True, and None for the bold variable?"
   ]
  },
  {
   "cell_type": "code",
   "execution_count": 29,
   "id": "3a701e81",
   "metadata": {},
   "outputs": [],
   "source": [
    "Bold = True # This set text in bold format\n",
    "Bold = False # text not in bold format\n",
    "Bold = None # Default text format"
   ]
  },
  {
   "cell_type": "code",
   "execution_count": 37,
   "id": "1f102479",
   "metadata": {},
   "outputs": [],
   "source": [
    "from docx import Document\n",
    "\n",
    "# Create a new document\n",
    "doc = Document()\n",
    "\n",
    "paragraph = doc.add_paragraph()\n",
    "paragraph.add_run(\"This is normal text.\").bold=None\n",
    "paragraph.add_run(\" This is bold text.\").bold = True\n",
    "paragraph.add_run(\" This is not bold text.\")\n",
    "paragraph.add_run(\" This text inherits bold formatting from style.\")\n",
    "\n",
    "# Save the document\n",
    "doc.save(r\"C:\\Users\\SUSHANT\\Desktop\\pp\\example2.docx\")\n",
    "\n"
   ]
  },
  {
   "cell_type": "markdown",
   "id": "b629e1e4",
   "metadata": {},
   "source": [
    "# 10. How do you create a Document object for a new Word document?"
   ]
  },
  {
   "cell_type": "code",
   "execution_count": 39,
   "id": "6b4008ec",
   "metadata": {},
   "outputs": [],
   "source": [
    "# using python-docx library we can create a documet object for a new world document.\n",
    "from docx import Document\n",
    "doc = Document()\n",
    "doc.add_heading(\"This is assignment no 12\")\n",
    "doc.save(r'C:\\Users\\SUSHANT\\Desktop\\pp\\prie.docx') # this has created word document name prie in the given directory."
   ]
  },
  {
   "cell_type": "markdown",
   "id": "90c47643",
   "metadata": {},
   "source": [
    "# 11. How do you add a paragraph with the text &#39;Hello, there!&#39; to a Document object stored in a  variable named doc?"
   ]
  },
  {
   "cell_type": "code",
   "execution_count": 41,
   "id": "dcdb66f7",
   "metadata": {},
   "outputs": [],
   "source": [
    "# using python-doc library\n",
    "from docx import Document\n",
    "doc = Document()\n",
    "doc.add_paragraph(\"Hello,there!\")\n",
    "doc.save(r'C:\\Users\\SUSHANT\\Desktop\\pp\\sush.docx')# this has created word document name sush in the given directory."
   ]
  },
  {
   "cell_type": "markdown",
   "id": "89265321",
   "metadata": {},
   "source": [
    "# 12. What integers represent the levels of headings available in Word documents?"
   ]
  },
  {
   "cell_type": "markdown",
   "id": "0bd6356b",
   "metadata": {},
   "source": [
    "The arguments to add_heading() are a string of the heading text and an integer from 0 to 4. \n",
    "The integer 0 makes the heading the Title style, which is used for the top of the document.\n",
    "Integers 1 to 4 are for various heading levels, with 1 being the main heading and 4 the lowest subheading. \n",
    "The add_heading() function returns a Paragraph object to save you the step of extracting it from \n",
    "the Document object as a separate step."
   ]
  }
 ],
 "metadata": {
  "kernelspec": {
   "display_name": "Python 3 (ipykernel)",
   "language": "python",
   "name": "python3"
  },
  "language_info": {
   "codemirror_mode": {
    "name": "ipython",
    "version": 3
   },
   "file_extension": ".py",
   "mimetype": "text/x-python",
   "name": "python",
   "nbconvert_exporter": "python",
   "pygments_lexer": "ipython3",
   "version": "3.10.9"
  }
 },
 "nbformat": 4,
 "nbformat_minor": 5
}
