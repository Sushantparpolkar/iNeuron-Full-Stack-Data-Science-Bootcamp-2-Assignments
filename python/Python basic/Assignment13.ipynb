{
 "cells": [
  {
   "cell_type": "markdown",
   "id": "7b4d0281",
   "metadata": {},
   "source": [
    "# 1. What advantages do Excel spreadsheets have over CSV spreadsheets?"
   ]
  },
  {
   "cell_type": "markdown",
   "id": "06900836",
   "metadata": {},
   "source": [
    "Advantages of Excel over CSV file\n",
    "1) Excel allows you perform various formatting and style to your data such as border,style,color,cell,conditonal  formatting.\n",
    "2) Excel provide complex calculation,built in function ,formulas for data analysis\n",
    "   and automation,statistical analysis,and lookup operations.\n",
    "3) Excel gives data validation so that you can restrict rule to certain specific cells.\n",
    "4) You can set validation criteria, such as numeric ranges, date formats, custom lists, and formulas,\n",
    "   to ensure data integrity and accuracy.\n",
    "5) Excel provides visualization of your data through various charts,graphs.\n",
    "   so that you can generate bar chart,pie chart,line charts.\n",
    "6) Excel provide multiple sheets within one workbook.and allos you to link data between sheets.\n",
    "7) It provides advance data analysis tools like PivotalTable,Power Query,PowerPivot.\n",
    "8) Excel allows you to automate repetitive tasks using macros and Visual Basic for Applications (VBA)."
   ]
  },
  {
   "cell_type": "markdown",
   "id": "f5fd8533",
   "metadata": {},
   "source": [
    "# 2.What do you pass to csv.reader() and csv.writer() to create reader and writer objects?"
   ]
  },
  {
   "cell_type": "code",
   "execution_count": 1,
   "id": "76137070",
   "metadata": {},
   "outputs": [],
   "source": [
    "import csv"
   ]
  },
  {
   "cell_type": "code",
   "execution_count": 2,
   "id": "4a00cd54",
   "metadata": {
    "scrolled": true
   },
   "outputs": [],
   "source": [
    "with open('sample.csv', 'r',) as file:\n",
    "    reader = csv.reader(file)\n",
    "    for ele in reader:\n",
    "        print(ele)"
   ]
  },
  {
   "cell_type": "code",
   "execution_count": 3,
   "id": "49ae0888",
   "metadata": {},
   "outputs": [],
   "source": [
    "import csv\n",
    "data = [\n",
    "    ['Name', 'Age', 'City'],\n",
    "    ['sushant', '25', 'New York'],\n",
    "    ['Vinayak', '24', 'London'],\n",
    "    ['Rohit', '28', 'Paris']\n",
    "]\n",
    "with open('output1.csv', 'w', newline='') as file:\n",
    "    writer = csv.writer(file, delimiter=',')\n",
    "    writer.writerows(data)\n"
   ]
  },
  {
   "cell_type": "markdown",
   "id": "0c4d1418",
   "metadata": {},
   "source": [
    "# 3. What modes do File objects for reader and writer objects need to be opened in?"
   ]
  },
  {
   "cell_type": "raw",
   "id": "5a0c9ad8",
   "metadata": {},
   "source": [
    "for csv.reader()method mode  = 'r' i.e read mode also encoding is  required if any.\n",
    "for csv.writer()method mode = 'w' i.e.write mode also encoding is  required if any."
   ]
  },
  {
   "cell_type": "markdown",
   "id": "271d88e9",
   "metadata": {},
   "source": [
    "# 4. What method takes a list argument and writes it to a CSV file?"
   ]
  },
  {
   "cell_type": "raw",
   "id": "229bc948",
   "metadata": {},
   "source": [
    "writerow() method takes a list argument and writes it to a csv file in single line\n",
    "whiel writerows() method take a list arguments and writes it to a csv file every list on new line"
   ]
  },
  {
   "cell_type": "code",
   "execution_count": 4,
   "id": "19c6e947",
   "metadata": {},
   "outputs": [],
   "source": [
    "data =[['name','place','education'],\n",
    "['sushant','kolhapur','m.sc'],\n",
    "['vinayak','Ajara','MBA']\n",
    "]\n",
    "\n",
    "with open('s.csv','w',newline = '',encoding='utf-8')as file:\n",
    "    writer = csv.writer(file)\n",
    "    writer.writerow(data)"
   ]
  },
  {
   "cell_type": "code",
   "execution_count": 5,
   "id": "bdfda466",
   "metadata": {},
   "outputs": [],
   "source": [
    "data =[['name','place','education'],\n",
    "['sushant','kolhapur','m.sc'],\n",
    "['vinayak','Ajara','MBA']\n",
    "]\n",
    "\n",
    "with open('s1.csv','w',newline = '',encoding='utf-8')as file:\n",
    "    writer = csv.writer(file)\n",
    "    writer.writerows(data)"
   ]
  },
  {
   "cell_type": "markdown",
   "id": "77bee9d0",
   "metadata": {},
   "source": [
    "# 5. What do the keyword arguments deliminiter and line terminator do?"
   ]
  },
  {
   "cell_type": "markdown",
   "id": "1a2db92d",
   "metadata": {},
   "source": [
    "(,)deliminiter is used to separate the field in CSV file by default (,)deliminator is comma you can change as\n",
    "per your need.It is used in csv.writer() method.\n",
    "\n",
    "line terminator is used to terminate each line in CSV file.by default it is(\\n) in CSV file.\n",
    "These keywards control the format of CSV file."
   ]
  },
  {
   "cell_type": "markdown",
   "id": "f0f33dd6",
   "metadata": {},
   "source": [
    "# 6. What function takes a string of JSON data and returns a Python data structure?"
   ]
  },
  {
   "cell_type": "markdown",
   "id": "1cb39a9b",
   "metadata": {},
   "source": [
    "json.loads() this function  takes a string of JSON data and convert it into python data structure."
   ]
  },
  {
   "cell_type": "code",
   "execution_count": 6,
   "id": "2248531c",
   "metadata": {},
   "outputs": [],
   "source": [
    "import json"
   ]
  },
  {
   "cell_type": "code",
   "execution_count": 7,
   "id": "52bad7e8",
   "metadata": {},
   "outputs": [
    {
     "name": "stdout",
     "output_type": "stream",
     "text": [
      "{'name': 'Sushant', 'sirname': 'Parpolkar', 'age': 27, 'city': 'Kolhapur'}\n"
     ]
    }
   ],
   "source": [
    "x = '''{\"name\": \"Sushant\",\n",
    "     \"sirname\": \"Parpolkar\",\n",
    "     \"age\":27,\n",
    "     \"city\":\"Kolhapur\"\n",
    "}'''\n",
    "y = json.loads(x)\n",
    "\n",
    "print(y) # python structure data"
   ]
  },
  {
   "cell_type": "markdown",
   "id": "762dc090",
   "metadata": {},
   "source": [
    "# 7. What function takes a Python data structure and returns a string of JSON data?"
   ]
  },
  {
   "cell_type": "markdown",
   "id": "2719d1cf",
   "metadata": {},
   "source": [
    "json.dumps()function takes a python data structure and return a string of JSON data "
   ]
  },
  {
   "cell_type": "code",
   "execution_count": 8,
   "id": "6fa7269e",
   "metadata": {},
   "outputs": [],
   "source": [
    "import json"
   ]
  },
  {
   "cell_type": "code",
   "execution_count": 9,
   "id": "21bf26f5",
   "metadata": {},
   "outputs": [
    {
     "name": "stdout",
     "output_type": "stream",
     "text": [
      "{\"Year\": 2023, \"Month\": \"July\", \"Day\": \"Thrusday\"}\n"
     ]
    }
   ],
   "source": [
    "python_data = { \"Year\" : 2023,\n",
    "         \"Month\" : \"July\",\n",
    "         \"Day\"   : \"Thrusday\"\n",
    "     \n",
    "}\n",
    "json_data = json.dumps(python_data)\n",
    "\n",
    "print(json_data)"
   ]
  }
 ],
 "metadata": {
  "kernelspec": {
   "display_name": "Python 3 (ipykernel)",
   "language": "python",
   "name": "python3"
  },
  "language_info": {
   "codemirror_mode": {
    "name": "ipython",
    "version": 3
   },
   "file_extension": ".py",
   "mimetype": "text/x-python",
   "name": "python",
   "nbconvert_exporter": "python",
   "pygments_lexer": "ipython3",
   "version": "3.10.9"
  }
 },
 "nbformat": 4,
 "nbformat_minor": 5
}
