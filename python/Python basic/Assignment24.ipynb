{
 "cells": [
  {
   "cell_type": "markdown",
   "id": "d33e8b89",
   "metadata": {},
   "source": [
    "# 1. What is the relationship between def statements and lambda expressions ?"
   ]
  },
  {
   "cell_type": "markdown",
   "id": "e0768491",
   "metadata": {},
   "source": [
    "Lambda functions: It is anonymous function i.e function without name.Lambda are operator can have any number of arguments, \n",
    "but it can have only one expression. \n",
    "It cannot contain any statements and it returns a function object which can be assigned to any variable.\n",
    "They can be used in the block they were created.\n",
    "Defined using the keyword lambda and does not compulsorily hold a function name in the local namespace.\n",
    "\n",
    "\n",
    "def functions: Functions help break our program into smaller and modular chunks. \n",
    "As our program grows larger and larger, functions make it more organised and manageable.\n",
    "They can be called and used anywhere we want.\n",
    "Defined using the keyword def and holds a function name in the local namespace"
   ]
  },
  {
   "cell_type": "code",
   "execution_count": 6,
   "id": "d86fc3fe",
   "metadata": {},
   "outputs": [],
   "source": [
    "def add(a,b):\n",
    "    return a+b"
   ]
  },
  {
   "cell_type": "code",
   "execution_count": 7,
   "id": "37908bea",
   "metadata": {},
   "outputs": [
    {
     "data": {
      "text/plain": [
       "9"
      ]
     },
     "execution_count": 7,
     "metadata": {},
     "output_type": "execute_result"
    }
   ],
   "source": [
    "add(4,5)"
   ]
  },
  {
   "cell_type": "code",
   "execution_count": 8,
   "id": "548a5332",
   "metadata": {},
   "outputs": [],
   "source": [
    "add = lambda a,b :a+b"
   ]
  },
  {
   "cell_type": "code",
   "execution_count": 9,
   "id": "ea26023f",
   "metadata": {},
   "outputs": [
    {
     "data": {
      "text/plain": [
       "9"
      ]
     },
     "execution_count": 9,
     "metadata": {},
     "output_type": "execute_result"
    }
   ],
   "source": [
    "add(4,5)"
   ]
  },
  {
   "cell_type": "markdown",
   "id": "625f8660",
   "metadata": {},
   "source": [
    "# 2. What is the benefit of lambda?"
   ]
  },
  {
   "cell_type": "markdown",
   "id": "d5481efe",
   "metadata": {},
   "source": [
    "Being anonymous, lambda functions can be easily passed without being assigned to a variable.\n",
    "Lambda functions are inline functions and thus execute comparatively faster.\n",
    "Many times lambda functions make code much more readable by avoiding the logical jumps caused by function calls.\n",
    "They are generally used when a function is needed temporarily for a short period of time, \n",
    "often to be used inside another function such as filter, map and reduce."
   ]
  },
  {
   "cell_type": "code",
   "execution_count": 20,
   "id": "ae3282d9",
   "metadata": {},
   "outputs": [
    {
     "name": "stdout",
     "output_type": "stream",
     "text": [
      "[0, 1, 4, 9, 16, 25, 36]\n",
      "[0, 2, 4, 6]\n"
     ]
    }
   ],
   "source": [
    "nums =[0,1,2,3,4,5,6]\n",
    "maped = map(lambda x:x**2,nums)\n",
    "filtered= filter(lambda x:x%2==0,nums)\n",
    "print(list(maped))\n",
    "print(list(filtered))"
   ]
  },
  {
   "cell_type": "markdown",
   "id": "516b9e61",
   "metadata": {},
   "source": [
    "# 3. Compare and contrast map, filter, and reduce."
   ]
  },
  {
   "cell_type": "markdown",
   "id": "426cd405",
   "metadata": {},
   "source": [
    "map : It transforms each element individually and returns a new list,It preserve original list\n",
    "\n",
    "filter: selects elements based on a condition and returns a new list.\n",
    "\n",
    "reduce :combines elements into a single result.has to be imported from functools "
   ]
  },
  {
   "cell_type": "code",
   "execution_count": 22,
   "id": "fd608088",
   "metadata": {},
   "outputs": [
    {
     "name": "stdout",
     "output_type": "stream",
     "text": [
      "[111, 112, 113, 114, 115, 116]\n"
     ]
    }
   ],
   "source": [
    "# map\n",
    "l = [11,12,13,14,15,16]\n",
    "maped =map(lambda a:a+100,l)\n",
    "print(list(maped))"
   ]
  },
  {
   "cell_type": "code",
   "execution_count": 31,
   "id": "d0d27868",
   "metadata": {},
   "outputs": [
    {
     "name": "stdout",
     "output_type": "stream",
     "text": [
      "[115]\n"
     ]
    }
   ],
   "source": [
    "# filter\n",
    "a =[111, 112, 113, 114, 115, 116]\n",
    "filtered= filter(lambda x:x%5==0,a)\n",
    "print(list(filtered))"
   ]
  },
  {
   "cell_type": "code",
   "execution_count": 32,
   "id": "88efb61f",
   "metadata": {},
   "outputs": [],
   "source": [
    "# reduce\n",
    "from functools import reduce"
   ]
  },
  {
   "cell_type": "code",
   "execution_count": 33,
   "id": "506550ae",
   "metadata": {},
   "outputs": [
    {
     "data": {
      "text/plain": [
       "5765760"
      ]
     },
     "execution_count": 33,
     "metadata": {},
     "output_type": "execute_result"
    }
   ],
   "source": [
    "reduce(lambda a,b:a*b,l)"
   ]
  },
  {
   "cell_type": "markdown",
   "id": "e2d248f7",
   "metadata": {},
   "source": [
    "# 4. What are function annotations, and how are they used?"
   ]
  },
  {
   "cell_type": "markdown",
   "id": "2e632254",
   "metadata": {},
   "source": [
    "function annotations are type of hint are feature in python  that allows you to associate types\n",
    "or metadata with the parameter and return the value of function.They give\n",
    "information of expected types can be used static type checkers or IDE for better code analysis.\n",
    "They are optional and doesn't affect the runtime behaviour the code.\n",
    "It improves code readability.\n"
   ]
  },
  {
   "cell_type": "code",
   "execution_count": 44,
   "id": "4b56d239",
   "metadata": {},
   "outputs": [],
   "source": [
    "def cv_info(name:str,age:int,education:str,experience:int)-> str:\n",
    "    return f\"Name:{name} age:{age} Education:{education},Experience:{experience}\""
   ]
  },
  {
   "cell_type": "code",
   "execution_count": 45,
   "id": "25a76908",
   "metadata": {},
   "outputs": [
    {
     "data": {
      "text/plain": [
       "'Name:sushant_parpolkar age:27 Education:M.sc_statistics,Experience:0'"
      ]
     },
     "execution_count": 45,
     "metadata": {},
     "output_type": "execute_result"
    }
   ],
   "source": [
    "cv_info(\"sushant_parpolkar\",27,\"M.sc_statistics\",0)"
   ]
  },
  {
   "cell_type": "markdown",
   "id": "82c24bb8",
   "metadata": {},
   "source": [
    "# 5. What are recursive functions, and how are they used?"
   ]
  },
  {
   "cell_type": "markdown",
   "id": "843a9818",
   "metadata": {},
   "source": [
    "Recursion is process of defining something in terms of itself.\n",
    "In python we know that function can call other function.\n",
    "Even it is possible to call function within itself.\n",
    "This type of function called recursive functions."
   ]
  },
  {
   "cell_type": "code",
   "execution_count": 1,
   "id": "60a6362a",
   "metadata": {},
   "outputs": [],
   "source": [
    "def factorial(n):\n",
    "    if (n==0 or n==1):\n",
    "        return 1\n",
    "    else:\n",
    "        return n*factorial(n-1)"
   ]
  },
  {
   "cell_type": "code",
   "execution_count": 4,
   "id": "35d2cacb",
   "metadata": {},
   "outputs": [
    {
     "data": {
      "text/plain": [
       "6"
      ]
     },
     "execution_count": 4,
     "metadata": {},
     "output_type": "execute_result"
    }
   ],
   "source": [
    "factorial(3)"
   ]
  },
  {
   "cell_type": "markdown",
   "id": "a47534ca",
   "metadata": {},
   "source": [
    "# 6. What are some general design guidelines for coding functions?"
   ]
  },
  {
   "cell_type": "markdown",
   "id": "75e4ba6e",
   "metadata": {},
   "source": [
    "1) Functions should have a single, well-defined responsibility,avoid chosing digit while assigning name\n",
    "2) Use of docstring inside function in string format so the reader can understand the purpose of the function.\n",
    "3) breaking down complex logic into smaller, well-named functions can enhance code comprehension and maintainability.\n",
    "4) Function should cleary define input parameter and return values. Also use commenting while denoting specific action.\n",
    "5) error and exception should be handled properly, proper indentation should be maintained.\n",
    "6) design function that can be tested under different condition and it can run in isolation i.e without dependencies.\n",
    "7)  avoid deep nested function as it becomes more complex to reader to understand.\n"
   ]
  },
  {
   "cell_type": "markdown",
   "id": "59bd06bb",
   "metadata": {},
   "source": [
    "# 7. Name three or more ways that functions can communicate results to a caller."
   ]
  },
  {
   "cell_type": "markdown",
   "id": "4c573154",
   "metadata": {},
   "source": [
    "Return : function uses return statement to send value back to call the function.It may be in terms of list,string,\n",
    "integer,dictionary value\n",
    "\n",
    "print :\n",
    "Global variable: functions can communicate with the caller by reading or modifying global variables.\n",
    "\n",
    "Print:It is used to print output in terminal or console.\n",
    "\n",
    "yield:It is returns a generator object to the one who calls the function which contains yield,\n",
    "instead of simply returning a value."
   ]
  }
 ],
 "metadata": {
  "kernelspec": {
   "display_name": "Python 3 (ipykernel)",
   "language": "python",
   "name": "python3"
  },
  "language_info": {
   "codemirror_mode": {
    "name": "ipython",
    "version": 3
   },
   "file_extension": ".py",
   "mimetype": "text/x-python",
   "name": "python",
   "nbconvert_exporter": "python",
   "pygments_lexer": "ipython3",
   "version": "3.10.9"
  }
 },
 "nbformat": 4,
 "nbformat_minor": 5
}
